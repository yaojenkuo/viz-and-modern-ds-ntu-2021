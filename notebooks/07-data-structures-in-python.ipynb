{
 "cells": [
  {
   "cell_type": "markdown",
   "metadata": {
    "slideshow": {
     "slide_type": "slide"
    }
   },
   "source": [
    "# Visualization and Modern Data Science\n",
    "\n",
    "> Data Structures in Python\n",
    "\n",
    "Kuo, Yao-Jen <yaojenkuo@ntu.edu.tw> from [DATAINPOINT](https://www.datainpoint.com/)"
   ]
  },
  {
   "cell_type": "code",
   "execution_count": 1,
   "metadata": {
    "slideshow": {
     "slide_type": "subslide"
    }
   },
   "outputs": [],
   "source": [
    "import json\n",
    "import pandas as pd"
   ]
  },
  {
   "cell_type": "markdown",
   "metadata": {
    "slideshow": {
     "slide_type": "slide"
    }
   },
   "source": [
    "## The What and Why"
   ]
  },
  {
   "cell_type": "markdown",
   "metadata": {
    "slideshow": {
     "slide_type": "subslide"
    }
   },
   "source": [
    "## What is a data structure?\n",
    "\n",
    "> In computer science, a data structure is a data organization, management, and storage format that enables efficient access and modification. More precisely, a data structure is a collection of data values, the relationships among them, and the functions or operations that can be applied to the data.\n",
    "\n",
    "Source: <https://en.wikipedia.org/wiki/Data_structure>"
   ]
  },
  {
   "cell_type": "markdown",
   "metadata": {
    "slideshow": {
     "slide_type": "subslide"
    }
   },
   "source": [
    "## Why data structure?\n",
    "\n",
    "As a software engineer, the main job is to perform operations on data, we can simplify that operation into: \n",
    "\n",
    "1. Take some input\n",
    "2. Process it\n",
    "3. Return the output\n",
    "\n",
    "Quite similar to what we've got from the definition of a function."
   ]
  },
  {
   "cell_type": "markdown",
   "metadata": {
    "slideshow": {
     "slide_type": "subslide"
    }
   },
   "source": [
    "## To make the process efficient, we need to optimize it via data structure\n",
    "\n",
    "Data structure decides how and where we put the data to be processed. A good choice of data structure can enhance our efficiency."
   ]
  },
  {
   "cell_type": "markdown",
   "metadata": {
    "slideshow": {
     "slide_type": "subslide"
    }
   },
   "source": [
    "## We will talk about 4 built-in data structures in Python\n",
    "\n",
    "- `list`\n",
    "- `tuple`\n",
    "- `dict` as in dictionary\n",
    "- `set`"
   ]
  },
  {
   "cell_type": "markdown",
   "metadata": {
    "slideshow": {
     "slide_type": "subslide"
    }
   },
   "source": [
    "## Built-in data structures refer to those need no self-definition or importing\n",
    "\n",
    "Quite similar to the comparison of built-in functions vs. self-defined/third party functions."
   ]
  },
  {
   "cell_type": "markdown",
   "metadata": {
    "slideshow": {
     "slide_type": "slide"
    }
   },
   "source": [
    "## Built-in Data Structure: `list`"
   ]
  },
  {
   "cell_type": "markdown",
   "metadata": {
    "slideshow": {
     "slide_type": "subslide"
    }
   },
   "source": [
    "## Lists\n",
    "\n",
    "Lists are the basic ordered and mutable data collection type in Python. They can be defined with comma-separated values between square brackets."
   ]
  },
  {
   "cell_type": "code",
   "execution_count": 2,
   "metadata": {},
   "outputs": [
    {
     "name": "stdout",
     "output_type": "stream",
     "text": [
      "<class 'list'>\n",
      "5\n"
     ]
    }
   ],
   "source": [
    "primes = [2, 3, 5, 7, 11]\n",
    "print(type(primes)) # use type() to check type\n",
    "print(len(primes))  # use len() to check how many elements are stored in the list"
   ]
  },
  {
   "cell_type": "markdown",
   "metadata": {
    "slideshow": {
     "slide_type": "subslide"
    }
   },
   "source": [
    "## Lists have a number of useful methods\n",
    "\n",
    "- `.append()`\n",
    "- `.pop()`\n",
    "- `.remove()`\n",
    "- `.insert()`\n",
    "- `.sort()`\n",
    "- ...etc.\n",
    "\n",
    "We can use `TAB` and `SHIFT - TAB` for documentation prompts in a notebook environment."
   ]
  },
  {
   "cell_type": "code",
   "execution_count": 3,
   "metadata": {
    "slideshow": {
     "slide_type": "subslide"
    }
   },
   "outputs": [
    {
     "name": "stdout",
     "output_type": "stream",
     "text": [
      "[2, 3, 5, 7, 11, 13]\n",
      "[2, 3, 5, 7, 11]\n",
      "[3, 5, 7, 11]\n",
      "[2, 3, 5, 7, 11]\n",
      "[11, 7, 5, 3, 2]\n"
     ]
    }
   ],
   "source": [
    "primes.append(13) # appending an element to the end of a list\n",
    "print(primes)\n",
    "primes.pop() # popping out the last element of a list\n",
    "print(primes)\n",
    "primes.remove(2) # removing the first occurance of an element within a list\n",
    "print(primes)\n",
    "primes.insert(0, 2) # inserting certain element at a specific index\n",
    "print(primes)\n",
    "primes.sort(reverse=True) # sorting a list, reverse=False => ascending order; reverse=True => descending order\n",
    "print(primes)"
   ]
  },
  {
   "cell_type": "markdown",
   "metadata": {
    "slideshow": {
     "slide_type": "subslide"
    }
   },
   "source": [
    "## Python provides access to elements in compound types through\n",
    "\n",
    "- **indexing** for a single element\n",
    "- **slicing** for multiple elements"
   ]
  },
  {
   "cell_type": "markdown",
   "metadata": {
    "slideshow": {
     "slide_type": "subslide"
    }
   },
   "source": [
    "## Python uses zero-based indexing"
   ]
  },
  {
   "cell_type": "code",
   "execution_count": 4,
   "metadata": {},
   "outputs": [
    {
     "name": "stdout",
     "output_type": "stream",
     "text": [
      "2\n",
      "3\n"
     ]
    }
   ],
   "source": [
    "primes.sort()\n",
    "print(primes[0]) # the first element\n",
    "print(primes[1]) # the second element"
   ]
  },
  {
   "cell_type": "markdown",
   "metadata": {
    "slideshow": {
     "slide_type": "subslide"
    }
   },
   "source": [
    "## Elements at the end of the list can be accessed with negative numbers, starting from -1"
   ]
  },
  {
   "cell_type": "code",
   "execution_count": 5,
   "metadata": {},
   "outputs": [
    {
     "name": "stdout",
     "output_type": "stream",
     "text": [
      "11\n",
      "7\n"
     ]
    }
   ],
   "source": [
    "print(primes[-1]) # the last element\n",
    "print(primes[-2]) # the second last element"
   ]
  },
  {
   "cell_type": "markdown",
   "metadata": {
    "slideshow": {
     "slide_type": "subslide"
    }
   },
   "source": [
    "## While indexing means fetching a single value from the list, slicing means accessing multiple values in sub-lists\n",
    "\n",
    "- start(inclusive)\n",
    "- stop(non-inclusive)\n",
    "- step\n",
    "\n",
    "```python\n",
    "# slicing syntax\n",
    "OUR_LIST[start:stop:step]\n",
    "```"
   ]
  },
  {
   "cell_type": "code",
   "execution_count": 6,
   "metadata": {
    "slideshow": {
     "slide_type": "subslide"
    }
   },
   "outputs": [
    {
     "name": "stdout",
     "output_type": "stream",
     "text": [
      "[2, 3, 5]\n",
      "[5, 7, 11]\n",
      "[2, 5, 11]\n"
     ]
    }
   ],
   "source": [
    "print(primes[0:3:1]) # slicing the first 3 elements\n",
    "print(primes[-3:len(primes):1]) # slicing the last 3 elements \n",
    "print(primes[0:len(primes):2]) # slicing every second element"
   ]
  },
  {
   "cell_type": "markdown",
   "metadata": {
    "slideshow": {
     "slide_type": "subslide"
    }
   },
   "source": [
    "## If leaving out, it defaults to\n",
    "\n",
    "- start: 0\n",
    "- stop: -1\n",
    "- step: 1\n",
    "\n",
    "So we can do the same slicing with defaults"
   ]
  },
  {
   "cell_type": "code",
   "execution_count": 7,
   "metadata": {
    "slideshow": {
     "slide_type": "subslide"
    }
   },
   "outputs": [
    {
     "name": "stdout",
     "output_type": "stream",
     "text": [
      "[2, 3, 5]\n",
      "[5, 7, 11]\n",
      "[2, 5, 11]\n",
      "[11, 7, 5, 3, 2]\n"
     ]
    }
   ],
   "source": [
    "print(primes[:3]) # slicing the first 3 elements\n",
    "print(primes[-3:]) # slicing the last 3 elements \n",
    "print(primes[::2]) # slicing every second element\n",
    "print(primes[::-1]) # a particularly useful tip is to specify a negative step"
   ]
  },
  {
   "cell_type": "markdown",
   "metadata": {
    "slideshow": {
     "slide_type": "slide"
    }
   },
   "source": [
    "## Built-in Data Structure: `tuple`"
   ]
  },
  {
   "cell_type": "markdown",
   "metadata": {
    "slideshow": {
     "slide_type": "subslide"
    }
   },
   "source": [
    "## Tuples\n",
    "\n",
    "Tuples are in many ways similar to lists, but they are defined with parentheses rather than square brackets."
   ]
  },
  {
   "cell_type": "code",
   "execution_count": 8,
   "metadata": {},
   "outputs": [
    {
     "name": "stdout",
     "output_type": "stream",
     "text": [
      "<class 'tuple'>\n",
      "5\n"
     ]
    }
   ],
   "source": [
    "primes = (2, 3, 5, 7, 11)\n",
    "print(type(primes)) # use type() to check type\n",
    "print(len(primes))  # use len() to check how many elements are stored in the list"
   ]
  },
  {
   "cell_type": "markdown",
   "metadata": {
    "slideshow": {
     "slide_type": "subslide"
    }
   },
   "source": [
    "## The main distinguishing feature of tuples is that they are immutable\n",
    "\n",
    "Once they are created, their size and contents cannot be changed."
   ]
  },
  {
   "cell_type": "code",
   "execution_count": 9,
   "metadata": {},
   "outputs": [
    {
     "name": "stdout",
     "output_type": "stream",
     "text": [
      "[2, 3, 5, 7, 13]\n"
     ]
    },
    {
     "ename": "TypeError",
     "evalue": "'tuple' object does not support item assignment",
     "output_type": "error",
     "traceback": [
      "\u001b[0;31m---------------------------------------------------------------------------\u001b[0m",
      "\u001b[0;31mTypeError\u001b[0m                                 Traceback (most recent call last)",
      "\u001b[0;32m<ipython-input-9-878e61bc04b4>\u001b[0m in \u001b[0;36m<module>\u001b[0;34m\u001b[0m\n\u001b[1;32m      3\u001b[0m \u001b[0mprint\u001b[0m\u001b[0;34m(\u001b[0m\u001b[0mprimes\u001b[0m\u001b[0;34m)\u001b[0m\u001b[0;34m\u001b[0m\u001b[0;34m\u001b[0m\u001b[0m\n\u001b[1;32m      4\u001b[0m \u001b[0mprimes\u001b[0m \u001b[0;34m=\u001b[0m \u001b[0mtuple\u001b[0m\u001b[0;34m(\u001b[0m\u001b[0mprimes\u001b[0m\u001b[0;34m)\u001b[0m\u001b[0;34m\u001b[0m\u001b[0;34m\u001b[0m\u001b[0m\n\u001b[0;32m----> 5\u001b[0;31m \u001b[0mprimes\u001b[0m\u001b[0;34m[\u001b[0m\u001b[0;34m-\u001b[0m\u001b[0;36m1\u001b[0m\u001b[0;34m]\u001b[0m \u001b[0;34m=\u001b[0m \u001b[0;36m11\u001b[0m\u001b[0;34m\u001b[0m\u001b[0;34m\u001b[0m\u001b[0m\n\u001b[0m",
      "\u001b[0;31mTypeError\u001b[0m: 'tuple' object does not support item assignment"
     ]
    }
   ],
   "source": [
    "primes = [2, 3, 5, 7, 11]\n",
    "primes[-1] = 13\n",
    "print(primes)\n",
    "primes = tuple(primes)\n",
    "primes[-1] = 11"
   ]
  },
  {
   "cell_type": "markdown",
   "metadata": {
    "slideshow": {
     "slide_type": "subslide"
    }
   },
   "source": [
    "## Use TAB to see if there is any mutable method for tuple\n",
    "\n",
    "```python\n",
    "primes.<TAB>\n",
    "```"
   ]
  },
  {
   "cell_type": "markdown",
   "metadata": {
    "slideshow": {
     "slide_type": "subslide"
    }
   },
   "source": [
    "## Tuples are often used in a Python program; like functions that have multiple return values"
   ]
  },
  {
   "cell_type": "code",
   "execution_count": 10,
   "metadata": {},
   "outputs": [
    {
     "name": "stdout",
     "output_type": "stream",
     "text": [
      "('Taiwan', 'Taipei')\n",
      "<class 'tuple'>\n"
     ]
    }
   ],
   "source": [
    "def get_locale(country, city):\n",
    "    return country, city\n",
    "\n",
    "print(get_locale(\"Taiwan\", \"Taipei\"))\n",
    "print(type(get_locale(\"Taiwan\", \"Taipei\")))"
   ]
  },
  {
   "cell_type": "markdown",
   "metadata": {
    "slideshow": {
     "slide_type": "subslide"
    }
   },
   "source": [
    "## Multiple return values can also be individually assigned"
   ]
  },
  {
   "cell_type": "code",
   "execution_count": 11,
   "metadata": {},
   "outputs": [
    {
     "name": "stdout",
     "output_type": "stream",
     "text": [
      "Taiwan\n",
      "Taipei\n"
     ]
    }
   ],
   "source": [
    "my_country, my_city = get_locale(\"Taiwan\", \"Taipei\")\n",
    "print(my_country)\n",
    "print(my_city)"
   ]
  },
  {
   "cell_type": "markdown",
   "metadata": {
    "slideshow": {
     "slide_type": "slide"
    }
   },
   "source": [
    "## Built-in Data Structure: `dict`"
   ]
  },
  {
   "cell_type": "markdown",
   "metadata": {
    "slideshow": {
     "slide_type": "subslide"
    }
   },
   "source": [
    "## Dictionaries\n",
    "\n",
    "Dictionaries are extremely flexible mappings of keys to values, and form the basis of much of Python's internal implementation. They can be created via a comma-separated list of `key:value` pairs within curly braces."
   ]
  },
  {
   "cell_type": "code",
   "execution_count": 12,
   "metadata": {
    "slideshow": {
     "slide_type": "subslide"
    }
   },
   "outputs": [
    {
     "name": "stdout",
     "output_type": "stream",
     "text": [
      "<class 'dict'>\n",
      "8\n"
     ]
    }
   ],
   "source": [
    "the_celtics = {\n",
    "    'isNBAFranchise': True,\n",
    "    'city': \"Boston\",\n",
    "    'fullName': \"Boston Celtics\",\n",
    "    'tricode': \"BOS\",\n",
    "    'teamId': 1610612738,\n",
    "    'nickname': \"Celtics\",\n",
    "    'confName': \"East\",\n",
    "    'divName': \"Atlantic\"\n",
    "}\n",
    "\n",
    "print(type(the_celtics))\n",
    "print(len(the_celtics))"
   ]
  },
  {
   "cell_type": "markdown",
   "metadata": {
    "slideshow": {
     "slide_type": "subslide"
    }
   },
   "source": [
    "## Elements are accessed through valid key rather than zero-based order"
   ]
  },
  {
   "cell_type": "code",
   "execution_count": 13,
   "metadata": {},
   "outputs": [
    {
     "name": "stdout",
     "output_type": "stream",
     "text": [
      "Boston\n",
      "East\n",
      "Atlantic\n"
     ]
    }
   ],
   "source": [
    "print(the_celtics['city'])\n",
    "print(the_celtics['confName'])\n",
    "print(the_celtics['divName'])"
   ]
  },
  {
   "cell_type": "markdown",
   "metadata": {
    "slideshow": {
     "slide_type": "subslide"
    }
   },
   "source": [
    "## New key:value pair can be set smoothly"
   ]
  },
  {
   "cell_type": "code",
   "execution_count": 14,
   "metadata": {},
   "outputs": [
    {
     "name": "stdout",
     "output_type": "stream",
     "text": [
      "{'isNBAFranchise': True, 'city': 'Boston', 'fullName': 'Boston Celtics', 'tricode': 'BOS', 'teamId': 1610612738, 'nickname': 'Celtics', 'confName': 'East', 'divName': 'Atlantic', 'isMyFavorite': True}\n"
     ]
    }
   ],
   "source": [
    "the_celtics['isMyFavorite'] = True\n",
    "print(the_celtics)"
   ]
  },
  {
   "cell_type": "markdown",
   "metadata": {
    "slideshow": {
     "slide_type": "subslide"
    }
   },
   "source": [
    "## Use `del` to remove a key:value pair from a dictionary"
   ]
  },
  {
   "cell_type": "code",
   "execution_count": 15,
   "metadata": {},
   "outputs": [
    {
     "name": "stdout",
     "output_type": "stream",
     "text": [
      "{'isNBAFranchise': True, 'city': 'Boston', 'fullName': 'Boston Celtics', 'tricode': 'BOS', 'teamId': 1610612738, 'nickname': 'Celtics', 'confName': 'East', 'divName': 'Atlantic'}\n"
     ]
    }
   ],
   "source": [
    "del the_celtics['isMyFavorite']\n",
    "print(the_celtics)"
   ]
  },
  {
   "cell_type": "markdown",
   "metadata": {
    "slideshow": {
     "slide_type": "subslide"
    }
   },
   "source": [
    "## Common mehtods called on dictionaries\n",
    "\n",
    "- `.keys()`\n",
    "- `.values()`\n",
    "- `.items()`"
   ]
  },
  {
   "cell_type": "code",
   "execution_count": 16,
   "metadata": {
    "slideshow": {
     "slide_type": "subslide"
    }
   },
   "outputs": [
    {
     "name": "stdout",
     "output_type": "stream",
     "text": [
      "dict_keys(['isNBAFranchise', 'city', 'fullName', 'tricode', 'teamId', 'nickname', 'confName', 'divName'])\n",
      "dict_values([True, 'Boston', 'Boston Celtics', 'BOS', 1610612738, 'Celtics', 'East', 'Atlantic'])\n",
      "dict_items([('isNBAFranchise', True), ('city', 'Boston'), ('fullName', 'Boston Celtics'), ('tricode', 'BOS'), ('teamId', 1610612738), ('nickname', 'Celtics'), ('confName', 'East'), ('divName', 'Atlantic')])\n"
     ]
    }
   ],
   "source": [
    "print(the_celtics.keys())\n",
    "print(the_celtics.values())\n",
    "print(the_celtics.items())"
   ]
  },
  {
   "cell_type": "markdown",
   "metadata": {
    "slideshow": {
     "slide_type": "slide"
    }
   },
   "source": [
    "## Built-in Data Structure: `set`"
   ]
  },
  {
   "cell_type": "markdown",
   "metadata": {
    "slideshow": {
     "slide_type": "subslide"
    }
   },
   "source": [
    "## Sets\n",
    "\n",
    "The fourth basic collection is the set, which contains unordered collections of unique items. They are defined much like lists and tuples, except they use the curly brackets."
   ]
  },
  {
   "cell_type": "code",
   "execution_count": 17,
   "metadata": {},
   "outputs": [
    {
     "name": "stdout",
     "output_type": "stream",
     "text": [
      "<class 'set'>\n",
      "5\n"
     ]
    }
   ],
   "source": [
    "primes = {2, 3, 5, 7, 11}\n",
    "odds = {1, 3, 5, 7, 9}\n",
    "print(type(primes))\n",
    "print(len(odds))"
   ]
  },
  {
   "cell_type": "markdown",
   "metadata": {
    "slideshow": {
     "slide_type": "subslide"
    }
   },
   "source": [
    "## Python's sets have all of the operations like union, intersection, difference, and symmetric difference"
   ]
  },
  {
   "cell_type": "markdown",
   "metadata": {
    "slideshow": {
     "slide_type": "subslide"
    }
   },
   "source": [
    "## Union: elements appearing in either sets"
   ]
  },
  {
   "cell_type": "code",
   "execution_count": 18,
   "metadata": {
    "slideshow": {
     "slide_type": "-"
    }
   },
   "outputs": [
    {
     "name": "stdout",
     "output_type": "stream",
     "text": [
      "{1, 2, 3, 5, 7, 9, 11}\n",
      "{1, 2, 3, 5, 7, 9, 11}\n"
     ]
    }
   ],
   "source": [
    "print(primes | odds)      # with an operator\n",
    "print(primes.union(odds)) # equivalently with a method"
   ]
  },
  {
   "cell_type": "markdown",
   "metadata": {
    "slideshow": {
     "slide_type": "subslide"
    }
   },
   "source": [
    "## Intersection: elements appearing in both"
   ]
  },
  {
   "cell_type": "code",
   "execution_count": 19,
   "metadata": {
    "slideshow": {
     "slide_type": "-"
    }
   },
   "outputs": [
    {
     "name": "stdout",
     "output_type": "stream",
     "text": [
      "{3, 5, 7}\n",
      "{3, 5, 7}\n"
     ]
    }
   ],
   "source": [
    "print(primes & odds)             # with an operator\n",
    "print(primes.intersection(odds)) # equivalently with a method"
   ]
  },
  {
   "cell_type": "markdown",
   "metadata": {
    "slideshow": {
     "slide_type": "subslide"
    }
   },
   "source": [
    "## Difference: elements in primes but not in odds"
   ]
  },
  {
   "cell_type": "code",
   "execution_count": 20,
   "metadata": {
    "slideshow": {
     "slide_type": "-"
    }
   },
   "outputs": [
    {
     "name": "stdout",
     "output_type": "stream",
     "text": [
      "{2, 11}\n",
      "{2, 11}\n"
     ]
    }
   ],
   "source": [
    "print(primes - odds)           # with an operator\n",
    "print(primes.difference(odds)) # equivalently with a method"
   ]
  },
  {
   "cell_type": "markdown",
   "metadata": {
    "slideshow": {
     "slide_type": "subslide"
    }
   },
   "source": [
    "## Symmetric difference: items appearing in only one set"
   ]
  },
  {
   "cell_type": "code",
   "execution_count": 21,
   "metadata": {
    "slideshow": {
     "slide_type": "-"
    }
   },
   "outputs": [
    {
     "name": "stdout",
     "output_type": "stream",
     "text": [
      "[1, 2, 9, 11]\n",
      "{1, 2, 9, 11}\n",
      "{1, 2, 9, 11}\n"
     ]
    }
   ],
   "source": [
    "print(sorted((primes - odds) | (odds - primes))) # union two differences\n",
    "print(primes ^ odds)                             # with an operator\n",
    "print(primes.symmetric_difference(odds))         # equivalently with a method"
   ]
  },
  {
   "cell_type": "markdown",
   "metadata": {
    "slideshow": {
     "slide_type": "subslide"
    }
   },
   "source": [
    "##  One of the powerful features of Python's compound objects is that they can contain objects of any type, or even a mix of types"
   ]
  },
  {
   "cell_type": "markdown",
   "metadata": {
    "slideshow": {
     "slide_type": "subslide"
    }
   },
   "source": [
    "## Take data.nba.net for example\n",
    "\n",
    "The [/10s/prod/v1/today.json](https://data.nba.net/10s/prod/v1/today.json) is a compound dictionary contained other dictionary as values."
   ]
  },
  {
   "cell_type": "markdown",
   "metadata": {
    "slideshow": {
     "slide_type": "slide"
    }
   },
   "source": [
    "## Importing Data with Standard Libraries"
   ]
  },
  {
   "cell_type": "markdown",
   "metadata": {
    "slideshow": {
     "slide_type": "subslide"
    }
   },
   "source": [
    "## Two common data formats\n",
    "\n",
    "- CSV, as in comma separated values.\n",
    "- JSON, as in JavaScript Object Notations."
   ]
  },
  {
   "cell_type": "markdown",
   "metadata": {
    "slideshow": {
     "slide_type": "subslide"
    }
   },
   "source": [
    "## What is a CSV file?\n",
    "\n",
    "> A comma-separated values (CSV) file is a delimited text file that uses a comma to separate values. Each line of the file is a data record. Each record consists of one or more fields, separated by commas.\n",
    "\n",
    "Source: <https://en.wikipedia.org/wiki/Comma-separated_values>"
   ]
  },
  {
   "cell_type": "markdown",
   "metadata": {
    "slideshow": {
     "slide_type": "subslide"
    }
   },
   "source": [
    "## What is a JSON file?\n",
    "\n",
    "> JSON (JavaScript Object Notation) is a lightweight data-interchange format. JSON is built on two structures:\n",
    "> 1. A collection of name/value pairs. In various languages, this is realized as an object, record, struct, **dictionary**, hash table, keyed list, or associative array.\n",
    "> 2. An ordered list of values. In most languages, this is realized as an array, vector, **list**, or sequence.\n",
    "\n",
    "Source: <https://www.json.org/json-en.html>"
   ]
  },
  {
   "cell_type": "markdown",
   "metadata": {
    "slideshow": {
     "slide_type": "subslide"
    }
   },
   "source": [
    "## Importing CSV/JSON files via libraries\n",
    "\n",
    "- CSV: Third-party library `pandas`, we will dig deeper in near future.\n",
    "- JSON: Standard libaray `json` and built-in function `open`."
   ]
  },
  {
   "cell_type": "markdown",
   "metadata": {
    "slideshow": {
     "slide_type": "subslide"
    }
   },
   "source": [
    "## Importing CSV file with `read_csv` function from `pandas`\n",
    "\n",
    "```\n",
    "id,title,release_year,rating,director,runtime\n",
    "1,The Shawshank Redemption,1994,9.3,Frank Darabont,142\n",
    "2,The Godfather,1972,9.2,Francis Ford Coppola,175\n",
    "3,The Godfather: Part II,1974,9,Francis Ford Coppola,202\n",
    "4,The Dark Knight,2008,9,Christopher Nolan,152\n",
    "5,12 Angry Men,1957,9,Sidney Lumet,96\n",
    "```"
   ]
  },
  {
   "cell_type": "code",
   "execution_count": 22,
   "metadata": {
    "slideshow": {
     "slide_type": "subslide"
    }
   },
   "outputs": [
    {
     "data": {
      "text/html": [
       "<div>\n",
       "<style scoped>\n",
       "    .dataframe tbody tr th:only-of-type {\n",
       "        vertical-align: middle;\n",
       "    }\n",
       "\n",
       "    .dataframe tbody tr th {\n",
       "        vertical-align: top;\n",
       "    }\n",
       "\n",
       "    .dataframe thead th {\n",
       "        text-align: right;\n",
       "    }\n",
       "</style>\n",
       "<table border=\"1\" class=\"dataframe\">\n",
       "  <thead>\n",
       "    <tr style=\"text-align: right;\">\n",
       "      <th></th>\n",
       "      <th>id</th>\n",
       "      <th>title</th>\n",
       "      <th>release_year</th>\n",
       "      <th>rating</th>\n",
       "      <th>director</th>\n",
       "      <th>runtime</th>\n",
       "    </tr>\n",
       "  </thead>\n",
       "  <tbody>\n",
       "    <tr>\n",
       "      <th>0</th>\n",
       "      <td>1</td>\n",
       "      <td>The Shawshank Redemption</td>\n",
       "      <td>1994</td>\n",
       "      <td>9.3</td>\n",
       "      <td>Frank Darabont</td>\n",
       "      <td>142</td>\n",
       "    </tr>\n",
       "    <tr>\n",
       "      <th>1</th>\n",
       "      <td>2</td>\n",
       "      <td>The Godfather</td>\n",
       "      <td>1972</td>\n",
       "      <td>9.2</td>\n",
       "      <td>Francis Ford Coppola</td>\n",
       "      <td>175</td>\n",
       "    </tr>\n",
       "    <tr>\n",
       "      <th>2</th>\n",
       "      <td>3</td>\n",
       "      <td>The Godfather: Part II</td>\n",
       "      <td>1974</td>\n",
       "      <td>9.0</td>\n",
       "      <td>Francis Ford Coppola</td>\n",
       "      <td>202</td>\n",
       "    </tr>\n",
       "    <tr>\n",
       "      <th>3</th>\n",
       "      <td>4</td>\n",
       "      <td>The Dark Knight</td>\n",
       "      <td>2008</td>\n",
       "      <td>9.0</td>\n",
       "      <td>Christopher Nolan</td>\n",
       "      <td>152</td>\n",
       "    </tr>\n",
       "    <tr>\n",
       "      <th>4</th>\n",
       "      <td>5</td>\n",
       "      <td>12 Angry Men</td>\n",
       "      <td>1957</td>\n",
       "      <td>9.0</td>\n",
       "      <td>Sidney Lumet</td>\n",
       "      <td>96</td>\n",
       "    </tr>\n",
       "  </tbody>\n",
       "</table>\n",
       "</div>"
      ],
      "text/plain": [
       "   id                     title  release_year  rating              director  \\\n",
       "0   1  The Shawshank Redemption          1994     9.3        Frank Darabont   \n",
       "1   2             The Godfather          1972     9.2  Francis Ford Coppola   \n",
       "2   3    The Godfather: Part II          1974     9.0  Francis Ford Coppola   \n",
       "3   4           The Dark Knight          2008     9.0     Christopher Nolan   \n",
       "4   5              12 Angry Men          1957     9.0          Sidney Lumet   \n",
       "\n",
       "   runtime  \n",
       "0      142  \n",
       "1      175  \n",
       "2      202  \n",
       "3      152  \n",
       "4       96  "
      ]
     },
     "execution_count": 22,
     "metadata": {},
     "output_type": "execute_result"
    }
   ],
   "source": [
    "movies_df = pd.read_csv('movies.csv')\n",
    "movies_df"
   ]
  },
  {
   "cell_type": "markdown",
   "metadata": {
    "slideshow": {
     "slide_type": "subslide"
    }
   },
   "source": [
    "## Importing JSON file with `load` function from `json` and `open` function\n",
    "\n",
    "```\n",
    "[\n",
    "    {\"id\":1, \"title\":\"The Shawshank Redemption\", \"release_year\":1994, \"rating\":9.3, \"director\":\"Frank Darabont\", \"runtime\":142},\n",
    "    {\"id\":2, \"title\":\"The Godfather\", \"release_year\":1972, \"rating\":9.2, \"director\":\"Francis Ford Coppola\", \"runtime\":175},\n",
    "    {\"id\":3, \"title\":\"The Godfather: Part II\", \"release_year\":1974, \"rating\":9.0, \"director\":\"Francis Ford Coppola\", \"runtime\":202},\n",
    "    {\"id\":4, \"title\":\"The Dark Knight\", \"release_year\":2008, \"rating\":9.0, \"director\":\"Christopher Nolan\", \"runtime\":152},\n",
    "    {\"id\":5, \"title\":\"12 Angry Men\", \"release_year\":1957, \"rating\":9.0, \"director\":\"Sidney Lumet\", \"runtime\":96}\n",
    "]\n",
    "```"
   ]
  },
  {
   "cell_type": "code",
   "execution_count": 23,
   "metadata": {
    "slideshow": {
     "slide_type": "subslide"
    }
   },
   "outputs": [
    {
     "name": "stdout",
     "output_type": "stream",
     "text": [
      "[{'id': 1, 'title': 'The Shawshank Redemption', 'release_year': 1994, 'rating': 9.3, 'director': 'Frank Darabont', 'runtime': 142}, {'id': 2, 'title': 'The Godfather', 'release_year': 1972, 'rating': 9.2, 'director': 'Francis Ford Coppola', 'runtime': 175}, {'id': 3, 'title': 'The Godfather: Part II', 'release_year': 1974, 'rating': 9.0, 'director': 'Francis Ford Coppola', 'runtime': 202}, {'id': 4, 'title': 'The Dark Knight', 'release_year': 2008, 'rating': 9.0, 'director': 'Christopher Nolan', 'runtime': 152}, {'id': 5, 'title': '12 Angry Men', 'release_year': 1957, 'rating': 9.0, 'director': 'Sidney Lumet', 'runtime': 96}]\n"
     ]
    }
   ],
   "source": [
    "file_obj = open('movies.json')\n",
    "movies_list = json.load(file_obj)\n",
    "file_obj.close()\n",
    "print(movies_list)"
   ]
  },
  {
   "cell_type": "markdown",
   "metadata": {
    "slideshow": {
     "slide_type": "subslide"
    }
   },
   "source": [
    "## Use `with` keyword if you don't want to explicitly close the file object\n",
    "\n",
    "Using `with` keyword can restrict the scope of `file_obj` within the indented block."
   ]
  },
  {
   "cell_type": "code",
   "execution_count": 24,
   "metadata": {
    "slideshow": {
     "slide_type": "-"
    }
   },
   "outputs": [
    {
     "name": "stdout",
     "output_type": "stream",
     "text": [
      "[{'id': 1, 'title': 'The Shawshank Redemption', 'release_year': 1994, 'rating': 9.3, 'director': 'Frank Darabont', 'runtime': 142}, {'id': 2, 'title': 'The Godfather', 'release_year': 1972, 'rating': 9.2, 'director': 'Francis Ford Coppola', 'runtime': 175}, {'id': 3, 'title': 'The Godfather: Part II', 'release_year': 1974, 'rating': 9.0, 'director': 'Francis Ford Coppola', 'runtime': 202}, {'id': 4, 'title': 'The Dark Knight', 'release_year': 2008, 'rating': 9.0, 'director': 'Christopher Nolan', 'runtime': 152}, {'id': 5, 'title': '12 Angry Men', 'release_year': 1957, 'rating': 9.0, 'director': 'Sidney Lumet', 'runtime': 96}]\n"
     ]
    }
   ],
   "source": [
    "with open('movies.json') as file_obj:\n",
    "    movies_list = json.load(file_obj)\n",
    "print(movies_list)"
   ]
  }
 ],
 "metadata": {
  "celltoolbar": "Slideshow",
  "kernelspec": {
   "display_name": "Python Data Analysis",
   "language": "python",
   "name": "pyda"
  },
  "language_info": {
   "codemirror_mode": {
    "name": "ipython",
    "version": 3
   },
   "file_extension": ".py",
   "mimetype": "text/x-python",
   "name": "python",
   "nbconvert_exporter": "python",
   "pygments_lexer": "ipython3",
   "version": "3.6.8"
  }
 },
 "nbformat": 4,
 "nbformat_minor": 4
}
