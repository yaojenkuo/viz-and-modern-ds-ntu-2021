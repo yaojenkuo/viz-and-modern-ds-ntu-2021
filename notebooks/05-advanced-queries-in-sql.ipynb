{
 "cells": [
  {
   "cell_type": "markdown",
   "metadata": {
    "slideshow": {
     "slide_type": "slide"
    }
   },
   "source": [
    "# Visualization and Modern Data Science\n",
    "\n",
    "> Advanced Queries in SQL\n",
    "\n",
    "Kuo, Yao-Jen <yaojenkuo@ntu.edu.tw> from [DATAINPOINT](https://www.datainpoint.com)"
   ]
  },
  {
   "cell_type": "code",
   "execution_count": 1,
   "metadata": {
    "slideshow": {
     "slide_type": "skip"
    }
   },
   "outputs": [],
   "source": [
    "%LOAD sqlite3 db=../datasets/nba.db timeout=2 shared_cache=true"
   ]
  },
  {
   "cell_type": "markdown",
   "metadata": {
    "slideshow": {
     "slide_type": "slide"
    }
   },
   "source": [
    "## Reclassifying Values with `CASE`"
   ]
  },
  {
   "cell_type": "markdown",
   "metadata": {
    "slideshow": {
     "slide_type": "subslide"
    }
   },
   "source": [
    "## The `CASE` statement is a conditional expression\n",
    "\n",
    "Meaning it lets we add some \"if this, then that...\" logic to a query.\n",
    "\n",
    "```sql\n",
    "CASE WHEN condition_1 THEN result_1\n",
    "     WHEN condition_2 THEN result_2\n",
    "     ELSE result_else END AS variable_name\n",
    "```"
   ]
  },
  {
   "cell_type": "markdown",
   "metadata": {
    "slideshow": {
     "slide_type": "subslide"
    }
   },
   "source": [
    "## We can use `CASE` in multiple ways\n",
    "\n",
    "- Turning values into categories\n",
    "- Turning existed categories into new categories"
   ]
  },
  {
   "cell_type": "markdown",
   "metadata": {
    "slideshow": {
     "slide_type": "subslide"
    }
   },
   "source": [
    "## Turning values into categories: heightMeters -> heightCategory\n",
    "\n",
    "- Players taller than (or equal to) 2.0m\n",
    "- Players shorter than 2.0m"
   ]
  },
  {
   "cell_type": "code",
   "execution_count": 2,
   "metadata": {
    "slideshow": {
     "slide_type": "subslide"
    }
   },
   "outputs": [
    {
     "data": {
      "text/html": [
       "<table>\n",
       "<tr>\n",
       "<th>firstName</th>\n",
       "<th>lastName</th>\n",
       "<th>heightMeters</th>\n",
       "<th>heightCategory</th>\n",
       "</tr>\n",
       "<tr>\n",
       "<td>LeBron</td>\n",
       "<td>James</td>\n",
       "<td>2.06</td>\n",
       "<td>Taller than 2 m</td>\n",
       "</tr>\n",
       "<tr>\n",
       "<td>Carmelo</td>\n",
       "<td>Anthony</td>\n",
       "<td>2.01</td>\n",
       "<td>Taller than 2 m</td>\n",
       "</tr>\n",
       "<tr>\n",
       "<td>Udonis</td>\n",
       "<td>Haslem</td>\n",
       "<td>2.03</td>\n",
       "<td>Taller than 2 m</td>\n",
       "</tr>\n",
       "<tr>\n",
       "<td>Dwight</td>\n",
       "<td>Howard</td>\n",
       "<td>2.08</td>\n",
       "<td>Taller than 2 m</td>\n",
       "</tr>\n",
       "<tr>\n",
       "<td>Andre</td>\n",
       "<td>Iguodala</td>\n",
       "<td>1.98</td>\n",
       "<td>Shorter than 2 m</td>\n",
       "</tr>\n",
       "</table>\n",
       "5 rows in set (0.00 sec)"
      ],
      "text/plain": [
       "+-----------+----------+--------------+------------------+\n",
       "| firstName | lastName | heightMeters | heightCategory   |\n",
       "+-----------+----------+--------------+------------------+\n",
       "| LeBron    | James    | 2.06         | Taller than 2 m  |\n",
       "+-----------+----------+--------------+------------------+\n",
       "| Carmelo   | Anthony  | 2.01         | Taller than 2 m  |\n",
       "+-----------+----------+--------------+------------------+\n",
       "| Udonis    | Haslem   | 2.03         | Taller than 2 m  |\n",
       "+-----------+----------+--------------+------------------+\n",
       "| Dwight    | Howard   | 2.08         | Taller than 2 m  |\n",
       "+-----------+----------+--------------+------------------+\n",
       "| Andre     | Iguodala | 1.98         | Shorter than 2 m |\n",
       "+-----------+----------+--------------+------------------+\n",
       "5 rows in set (0.00 sec)"
      ]
     },
     "execution_count": 2,
     "metadata": {},
     "output_type": "execute_result"
    }
   ],
   "source": [
    "SELECT firstName,\n",
    "       lastName,\n",
    "       heightMeters,\n",
    "       CASE WHEN heightMeters >= 2 THEN 'Taller than 2 m'\n",
    "            ELSE 'Shorter than 2 m' END AS heightCategory\n",
    "  FROM players\n",
    " LIMIT 5;"
   ]
  },
  {
   "cell_type": "markdown",
   "metadata": {
    "slideshow": {
     "slide_type": "subslide"
    }
   },
   "source": [
    "## Turning existing categories into new categories: pos -> posNew\n",
    "\n",
    "The mapping rule for new positions:\n",
    "\n",
    "```python\n",
    "{\n",
    "    'G-F': 'G',\n",
    "    'G': 'G',\n",
    "    'F-G': 'F',\n",
    "    'F-C': 'F',\n",
    "    'F': 'F',\n",
    "    'C-F': 'C',\n",
    "    'C': 'C'\n",
    "}\n",
    "```"
   ]
  },
  {
   "cell_type": "code",
   "execution_count": 3,
   "metadata": {
    "slideshow": {
     "slide_type": "subslide"
    }
   },
   "outputs": [
    {
     "data": {
      "text/html": [
       "<table>\n",
       "<tr>\n",
       "<th>firstName</th>\n",
       "<th>lastName</th>\n",
       "<th>pos</th>\n",
       "<th>posNew</th>\n",
       "</tr>\n",
       "<tr>\n",
       "<td>LeBron</td>\n",
       "<td>James</td>\n",
       "<td>F</td>\n",
       "<td>F</td>\n",
       "</tr>\n",
       "<tr>\n",
       "<td>Carmelo</td>\n",
       "<td>Anthony</td>\n",
       "<td>F</td>\n",
       "<td>F</td>\n",
       "</tr>\n",
       "<tr>\n",
       "<td>Udonis</td>\n",
       "<td>Haslem</td>\n",
       "<td>F</td>\n",
       "<td>F</td>\n",
       "</tr>\n",
       "<tr>\n",
       "<td>Dwight</td>\n",
       "<td>Howard</td>\n",
       "<td>C-F</td>\n",
       "<td>C</td>\n",
       "</tr>\n",
       "<tr>\n",
       "<td>Andre</td>\n",
       "<td>Iguodala</td>\n",
       "<td>G-F</td>\n",
       "<td>G</td>\n",
       "</tr>\n",
       "</table>\n",
       "5 rows in set (0.00 sec)"
      ],
      "text/plain": [
       "+-----------+----------+-----+--------+\n",
       "| firstName | lastName | pos | posNew |\n",
       "+-----------+----------+-----+--------+\n",
       "| LeBron    | James    | F   | F      |\n",
       "+-----------+----------+-----+--------+\n",
       "| Carmelo   | Anthony  | F   | F      |\n",
       "+-----------+----------+-----+--------+\n",
       "| Udonis    | Haslem   | F   | F      |\n",
       "+-----------+----------+-----+--------+\n",
       "| Dwight    | Howard   | C-F | C      |\n",
       "+-----------+----------+-----+--------+\n",
       "| Andre     | Iguodala | G-F | G      |\n",
       "+-----------+----------+-----+--------+\n",
       "5 rows in set (0.00 sec)"
      ]
     },
     "execution_count": 3,
     "metadata": {},
     "output_type": "execute_result"
    }
   ],
   "source": [
    "SELECT firstName,\n",
    "       lastName,\n",
    "       pos,\n",
    "       CASE WHEN pos IN ('G-F', 'G') THEN 'G'\n",
    "            WHEN pos IN ('C-F', 'C') THEN 'C'\n",
    "            ELSE 'F' END AS posNew\n",
    "  FROM players\n",
    " LIMIT 5;"
   ]
  },
  {
   "cell_type": "markdown",
   "metadata": {
    "slideshow": {
     "slide_type": "slide"
    }
   },
   "source": [
    "## Using Subqueries"
   ]
  },
  {
   "cell_type": "markdown",
   "metadata": {
    "slideshow": {
     "slide_type": "subslide"
    }
   },
   "source": [
    "## What is a sub-query?\n",
    "\n",
    "A sub-query is nested inside another query, we just enclose the sub-query in parentheses and use it where needed."
   ]
  },
  {
   "cell_type": "markdown",
   "metadata": {
    "slideshow": {
     "slide_type": "subslide"
    }
   },
   "source": [
    "## Filtering with subqueries in a `WHERE` clause\n",
    "\n",
    "- Who is the top scorer in NBA?\n",
    "- Who are the Lakers?"
   ]
  },
  {
   "cell_type": "markdown",
   "metadata": {
    "slideshow": {
     "slide_type": "subslide"
    }
   },
   "source": [
    "## Who is the top scorer in NBA?\n",
    "\n",
    "- The first query selects from `career_summaries`\n",
    "- The second query uses `MAX(points)` from previous query filtering `career_summaries`\n",
    "- The third query uses `personId` from previous query filtering `players`"
   ]
  },
  {
   "cell_type": "markdown",
   "metadata": {
    "slideshow": {
     "slide_type": "subslide"
    }
   },
   "source": [
    "## The first query selects from `career_summaries`"
   ]
  },
  {
   "cell_type": "code",
   "execution_count": 4,
   "metadata": {
    "slideshow": {
     "slide_type": "-"
    }
   },
   "outputs": [
    {
     "data": {
      "text/html": [
       "<table>\n",
       "<tr>\n",
       "<th>MAX(points)</th>\n",
       "</tr>\n",
       "<tr>\n",
       "<td>35236</td>\n",
       "</tr>\n",
       "</table>\n",
       "1 row in set (0.00 sec)"
      ],
      "text/plain": [
       "+-------------+\n",
       "| MAX(points) |\n",
       "+-------------+\n",
       "| 35236       |\n",
       "+-------------+\n",
       "1 row in set (0.00 sec)"
      ]
     },
     "execution_count": 4,
     "metadata": {},
     "output_type": "execute_result"
    }
   ],
   "source": [
    "SELECT MAX(points)\n",
    "  FROM career_summaries;"
   ]
  },
  {
   "cell_type": "markdown",
   "metadata": {
    "slideshow": {
     "slide_type": "subslide"
    }
   },
   "source": [
    "## The second query uses `MAX(points)` from previous query filtering `career_summaries`"
   ]
  },
  {
   "cell_type": "code",
   "execution_count": 5,
   "metadata": {
    "slideshow": {
     "slide_type": "-"
    }
   },
   "outputs": [
    {
     "data": {
      "text/html": [
       "<table>\n",
       "<tr>\n",
       "<th>personId</th>\n",
       "</tr>\n",
       "<tr>\n",
       "<td>2544</td>\n",
       "</tr>\n",
       "</table>\n",
       "1 row in set (0.00 sec)"
      ],
      "text/plain": [
       "+----------+\n",
       "| personId |\n",
       "+----------+\n",
       "| 2544     |\n",
       "+----------+\n",
       "1 row in set (0.00 sec)"
      ]
     },
     "execution_count": 5,
     "metadata": {},
     "output_type": "execute_result"
    }
   ],
   "source": [
    "SELECT personId\n",
    "  FROM career_summaries\n",
    " WHERE points = 35236;"
   ]
  },
  {
   "cell_type": "markdown",
   "metadata": {
    "slideshow": {
     "slide_type": "subslide"
    }
   },
   "source": [
    "## The third query uses `personId` from previous query filtering `players`"
   ]
  },
  {
   "cell_type": "code",
   "execution_count": 6,
   "metadata": {
    "slideshow": {
     "slide_type": "-"
    }
   },
   "outputs": [
    {
     "data": {
      "text/html": [
       "<table>\n",
       "<tr>\n",
       "<th>firstName</th>\n",
       "<th>lastName</th>\n",
       "</tr>\n",
       "<tr>\n",
       "<td>LeBron</td>\n",
       "<td>James</td>\n",
       "</tr>\n",
       "</table>\n",
       "1 row in set (0.00 sec)"
      ],
      "text/plain": [
       "+-----------+----------+\n",
       "| firstName | lastName |\n",
       "+-----------+----------+\n",
       "| LeBron    | James    |\n",
       "+-----------+----------+\n",
       "1 row in set (0.00 sec)"
      ]
     },
     "execution_count": 6,
     "metadata": {},
     "output_type": "execute_result"
    }
   ],
   "source": [
    "SELECT firstName,\n",
    "       lastName\n",
    "  FROM players\n",
    " WHERE personId = 2544;"
   ]
  },
  {
   "cell_type": "markdown",
   "metadata": {
    "slideshow": {
     "slide_type": "subslide"
    }
   },
   "source": [
    "## Combining 3 queries into one to find out who the top scorer is"
   ]
  },
  {
   "cell_type": "code",
   "execution_count": 7,
   "metadata": {},
   "outputs": [
    {
     "data": {
      "text/html": [
       "<table>\n",
       "<tr>\n",
       "<th>firstName</th>\n",
       "<th>lastName</th>\n",
       "</tr>\n",
       "<tr>\n",
       "<td>LeBron</td>\n",
       "<td>James</td>\n",
       "</tr>\n",
       "</table>\n",
       "1 row in set (0.00 sec)"
      ],
      "text/plain": [
       "+-----------+----------+\n",
       "| firstName | lastName |\n",
       "+-----------+----------+\n",
       "| LeBron    | James    |\n",
       "+-----------+----------+\n",
       "1 row in set (0.00 sec)"
      ]
     },
     "execution_count": 7,
     "metadata": {},
     "output_type": "execute_result"
    }
   ],
   "source": [
    "SELECT firstName,\n",
    "       lastName\n",
    "  FROM players\n",
    " WHERE personId = (\n",
    "           SELECT personId\n",
    "             FROM career_summaries\n",
    "            WHERE points = (\n",
    "                SELECT MAX(points)\n",
    "                  FROM career_summaries\n",
    "            )\n",
    "       );"
   ]
  },
  {
   "cell_type": "markdown",
   "metadata": {
    "slideshow": {
     "slide_type": "subslide"
    }
   },
   "source": [
    "## Who are the Lakers?\n",
    "\n",
    "- The first query selects from `teams`\n",
    "- The second query uses `teamId` from previous query filtering `players`"
   ]
  },
  {
   "cell_type": "markdown",
   "metadata": {
    "slideshow": {
     "slide_type": "subslide"
    }
   },
   "source": [
    "## The first query selects from `teams`"
   ]
  },
  {
   "cell_type": "code",
   "execution_count": 8,
   "metadata": {
    "slideshow": {
     "slide_type": "-"
    }
   },
   "outputs": [
    {
     "data": {
      "text/html": [
       "<table>\n",
       "<tr>\n",
       "<th>teamId</th>\n",
       "</tr>\n",
       "<tr>\n",
       "<td>1610612747</td>\n",
       "</tr>\n",
       "</table>\n",
       "1 row in set (0.00 sec)"
      ],
      "text/plain": [
       "+------------+\n",
       "| teamId     |\n",
       "+------------+\n",
       "| 1610612747 |\n",
       "+------------+\n",
       "1 row in set (0.00 sec)"
      ]
     },
     "execution_count": 8,
     "metadata": {},
     "output_type": "execute_result"
    }
   ],
   "source": [
    "SELECT teamId\n",
    "  FROM teams\n",
    " WHERE fullName = 'Los Angeles Lakers';"
   ]
  },
  {
   "cell_type": "markdown",
   "metadata": {
    "slideshow": {
     "slide_type": "subslide"
    }
   },
   "source": [
    "## The second query uses `teamId` from previous query filtering `players`"
   ]
  },
  {
   "cell_type": "code",
   "execution_count": 9,
   "metadata": {
    "slideshow": {
     "slide_type": "-"
    }
   },
   "outputs": [
    {
     "data": {
      "text/html": [
       "<table>\n",
       "<tr>\n",
       "<th>firstName</th>\n",
       "<th>lastName</th>\n",
       "</tr>\n",
       "<tr>\n",
       "<td>LeBron</td>\n",
       "<td>James</td>\n",
       "</tr>\n",
       "<tr>\n",
       "<td>Jared</td>\n",
       "<td>Dudley</td>\n",
       "</tr>\n",
       "<tr>\n",
       "<td>Marc</td>\n",
       "<td>Gasol</td>\n",
       "</tr>\n",
       "<tr>\n",
       "<td>Wesley</td>\n",
       "<td>Matthews</td>\n",
       "</tr>\n",
       "<tr>\n",
       "<td>Markieff</td>\n",
       "<td>Morris</td>\n",
       "</tr>\n",
       "<tr>\n",
       "<td>Anthony</td>\n",
       "<td>Davis</td>\n",
       "</tr>\n",
       "<tr>\n",
       "<td>Dennis</td>\n",
       "<td>Schroder</td>\n",
       "</tr>\n",
       "<tr>\n",
       "<td>Kentavious</td>\n",
       "<td>Caldwell-Pope</td>\n",
       "</tr>\n",
       "<tr>\n",
       "<td>Montrezl</td>\n",
       "<td>Harrell</td>\n",
       "</tr>\n",
       "<tr>\n",
       "<td>Damian</td>\n",
       "<td>Jones</td>\n",
       "</tr>\n",
       "<tr>\n",
       "<td>Alex</td>\n",
       "<td>Caruso</td>\n",
       "</tr>\n",
       "<tr>\n",
       "<td>Alfonzo</td>\n",
       "<td>McKinnie</td>\n",
       "</tr>\n",
       "<tr>\n",
       "<td>Kyle</td>\n",
       "<td>Kuzma</td>\n",
       "</tr>\n",
       "<tr>\n",
       "<td>Kostas</td>\n",
       "<td>Antetokounmpo</td>\n",
       "</tr>\n",
       "<tr>\n",
       "<td>Talen</td>\n",
       "<td>Horton-Tucker</td>\n",
       "</tr>\n",
       "<tr>\n",
       "<td>Devontae</td>\n",
       "<td>Cacok</td>\n",
       "</tr>\n",
       "</table>\n",
       "16 rows in set (0.00 sec)"
      ],
      "text/plain": [
       "+------------+---------------+\n",
       "| firstName  | lastName      |\n",
       "+------------+---------------+\n",
       "| LeBron     | James         |\n",
       "+------------+---------------+\n",
       "| Jared      | Dudley        |\n",
       "+------------+---------------+\n",
       "| Marc       | Gasol         |\n",
       "+------------+---------------+\n",
       "| Wesley     | Matthews      |\n",
       "+------------+---------------+\n",
       "| Markieff   | Morris        |\n",
       "+------------+---------------+\n",
       "| Anthony    | Davis         |\n",
       "+------------+---------------+\n",
       "| Dennis     | Schroder      |\n",
       "+------------+---------------+\n",
       "| Kentavious | Caldwell-Pope |\n",
       "+------------+---------------+\n",
       "| Montrezl   | Harrell       |\n",
       "+------------+---------------+\n",
       "| Damian     | Jones         |\n",
       "+------------+---------------+\n",
       "| Alex       | Caruso        |\n",
       "+------------+---------------+\n",
       "| Alfonzo    | McKinnie      |\n",
       "+------------+---------------+\n",
       "| Kyle       | Kuzma         |\n",
       "+------------+---------------+\n",
       "| Kostas     | Antetokounmpo |\n",
       "+------------+---------------+\n",
       "| Talen      | Horton-Tucker |\n",
       "+------------+---------------+\n",
       "| Devontae   | Cacok         |\n",
       "+------------+---------------+\n",
       "16 rows in set (0.00 sec)"
      ]
     },
     "execution_count": 9,
     "metadata": {},
     "output_type": "execute_result"
    }
   ],
   "source": [
    "SELECT firstName,\n",
    "       lastName\n",
    "  FROM players\n",
    " WHERE teamId = 1610612747;"
   ]
  },
  {
   "cell_type": "markdown",
   "metadata": {
    "slideshow": {
     "slide_type": "subslide"
    }
   },
   "source": [
    "## Combining 3 queries into one to find out who the Lakers are"
   ]
  },
  {
   "cell_type": "code",
   "execution_count": 10,
   "metadata": {
    "slideshow": {
     "slide_type": "-"
    }
   },
   "outputs": [
    {
     "data": {
      "text/html": [
       "<table>\n",
       "<tr>\n",
       "<th>firstName</th>\n",
       "<th>lastName</th>\n",
       "</tr>\n",
       "<tr>\n",
       "<td>LeBron</td>\n",
       "<td>James</td>\n",
       "</tr>\n",
       "<tr>\n",
       "<td>Jared</td>\n",
       "<td>Dudley</td>\n",
       "</tr>\n",
       "<tr>\n",
       "<td>Marc</td>\n",
       "<td>Gasol</td>\n",
       "</tr>\n",
       "<tr>\n",
       "<td>Wesley</td>\n",
       "<td>Matthews</td>\n",
       "</tr>\n",
       "<tr>\n",
       "<td>Markieff</td>\n",
       "<td>Morris</td>\n",
       "</tr>\n",
       "<tr>\n",
       "<td>Anthony</td>\n",
       "<td>Davis</td>\n",
       "</tr>\n",
       "<tr>\n",
       "<td>Dennis</td>\n",
       "<td>Schroder</td>\n",
       "</tr>\n",
       "<tr>\n",
       "<td>Kentavious</td>\n",
       "<td>Caldwell-Pope</td>\n",
       "</tr>\n",
       "<tr>\n",
       "<td>Montrezl</td>\n",
       "<td>Harrell</td>\n",
       "</tr>\n",
       "<tr>\n",
       "<td>Damian</td>\n",
       "<td>Jones</td>\n",
       "</tr>\n",
       "<tr>\n",
       "<td>Alex</td>\n",
       "<td>Caruso</td>\n",
       "</tr>\n",
       "<tr>\n",
       "<td>Alfonzo</td>\n",
       "<td>McKinnie</td>\n",
       "</tr>\n",
       "<tr>\n",
       "<td>Kyle</td>\n",
       "<td>Kuzma</td>\n",
       "</tr>\n",
       "<tr>\n",
       "<td>Kostas</td>\n",
       "<td>Antetokounmpo</td>\n",
       "</tr>\n",
       "<tr>\n",
       "<td>Talen</td>\n",
       "<td>Horton-Tucker</td>\n",
       "</tr>\n",
       "<tr>\n",
       "<td>Devontae</td>\n",
       "<td>Cacok</td>\n",
       "</tr>\n",
       "</table>\n",
       "16 rows in set (0.00 sec)"
      ],
      "text/plain": [
       "+------------+---------------+\n",
       "| firstName  | lastName      |\n",
       "+------------+---------------+\n",
       "| LeBron     | James         |\n",
       "+------------+---------------+\n",
       "| Jared      | Dudley        |\n",
       "+------------+---------------+\n",
       "| Marc       | Gasol         |\n",
       "+------------+---------------+\n",
       "| Wesley     | Matthews      |\n",
       "+------------+---------------+\n",
       "| Markieff   | Morris        |\n",
       "+------------+---------------+\n",
       "| Anthony    | Davis         |\n",
       "+------------+---------------+\n",
       "| Dennis     | Schroder      |\n",
       "+------------+---------------+\n",
       "| Kentavious | Caldwell-Pope |\n",
       "+------------+---------------+\n",
       "| Montrezl   | Harrell       |\n",
       "+------------+---------------+\n",
       "| Damian     | Jones         |\n",
       "+------------+---------------+\n",
       "| Alex       | Caruso        |\n",
       "+------------+---------------+\n",
       "| Alfonzo    | McKinnie      |\n",
       "+------------+---------------+\n",
       "| Kyle       | Kuzma         |\n",
       "+------------+---------------+\n",
       "| Kostas     | Antetokounmpo |\n",
       "+------------+---------------+\n",
       "| Talen      | Horton-Tucker |\n",
       "+------------+---------------+\n",
       "| Devontae   | Cacok         |\n",
       "+------------+---------------+\n",
       "16 rows in set (0.00 sec)"
      ]
     },
     "execution_count": 10,
     "metadata": {},
     "output_type": "execute_result"
    }
   ],
   "source": [
    "SELECT firstName,\n",
    "       lastName\n",
    "  FROM players\n",
    " WHERE teamId = (SELECT teamId\n",
    "                   FROM teams\n",
    "                  WHERE nickname = 'Lakers');"
   ]
  },
  {
   "cell_type": "markdown",
   "metadata": {
    "slideshow": {
     "slide_type": "subslide"
    }
   },
   "source": [
    "## Generating columns with subqueries\n",
    "\n",
    "Decomposing the NBA players based on their positions."
   ]
  },
  {
   "cell_type": "markdown",
   "metadata": {
    "slideshow": {
     "slide_type": "subslide"
    }
   },
   "source": [
    "## Decomposing NBA players based on their positions\n",
    "\n",
    "- The first query counts from `players`\n",
    "- The second query summarizes and groups from `players`\n",
    "- The third query derives percentage from `players`"
   ]
  },
  {
   "cell_type": "markdown",
   "metadata": {
    "slideshow": {
     "slide_type": "subslide"
    }
   },
   "source": [
    "## The first query counts from `players`"
   ]
  },
  {
   "cell_type": "code",
   "execution_count": 11,
   "metadata": {
    "slideshow": {
     "slide_type": "-"
    }
   },
   "outputs": [
    {
     "data": {
      "text/html": [
       "<table>\n",
       "<tr>\n",
       "<th>COUNT(*)</th>\n",
       "</tr>\n",
       "<tr>\n",
       "<td>493</td>\n",
       "</tr>\n",
       "</table>\n",
       "1 row in set (0.00 sec)"
      ],
      "text/plain": [
       "+----------+\n",
       "| COUNT(*) |\n",
       "+----------+\n",
       "| 493      |\n",
       "+----------+\n",
       "1 row in set (0.00 sec)"
      ]
     },
     "execution_count": 11,
     "metadata": {},
     "output_type": "execute_result"
    }
   ],
   "source": [
    "SELECT COUNT(*)\n",
    "  FROM players;"
   ]
  },
  {
   "cell_type": "markdown",
   "metadata": {
    "slideshow": {
     "slide_type": "subslide"
    }
   },
   "source": [
    "## The second query summarizes and groups from `players`"
   ]
  },
  {
   "cell_type": "code",
   "execution_count": 12,
   "metadata": {
    "slideshow": {
     "slide_type": "-"
    }
   },
   "outputs": [
    {
     "data": {
      "text/html": [
       "<table>\n",
       "<tr>\n",
       "<th>pos</th>\n",
       "<th>player_count</th>\n",
       "<th>ttl_player</th>\n",
       "</tr>\n",
       "<tr>\n",
       "<td>C</td>\n",
       "<td>34</td>\n",
       "<td>493</td>\n",
       "</tr>\n",
       "<tr>\n",
       "<td>C-F</td>\n",
       "<td>27</td>\n",
       "<td>493</td>\n",
       "</tr>\n",
       "<tr>\n",
       "<td>F</td>\n",
       "<td>131</td>\n",
       "<td>493</td>\n",
       "</tr>\n",
       "<tr>\n",
       "<td>F-C</td>\n",
       "<td>43</td>\n",
       "<td>493</td>\n",
       "</tr>\n",
       "<tr>\n",
       "<td>F-G</td>\n",
       "<td>23</td>\n",
       "<td>493</td>\n",
       "</tr>\n",
       "<tr>\n",
       "<td>G</td>\n",
       "<td>182</td>\n",
       "<td>493</td>\n",
       "</tr>\n",
       "<tr>\n",
       "<td>G-F</td>\n",
       "<td>53</td>\n",
       "<td>493</td>\n",
       "</tr>\n",
       "</table>\n",
       "7 rows in set (0.00 sec)"
      ],
      "text/plain": [
       "+-----+--------------+------------+\n",
       "| pos | player_count | ttl_player |\n",
       "+-----+--------------+------------+\n",
       "| C   | 34           | 493        |\n",
       "+-----+--------------+------------+\n",
       "| C-F | 27           | 493        |\n",
       "+-----+--------------+------------+\n",
       "| F   | 131          | 493        |\n",
       "+-----+--------------+------------+\n",
       "| F-C | 43           | 493        |\n",
       "+-----+--------------+------------+\n",
       "| F-G | 23           | 493        |\n",
       "+-----+--------------+------------+\n",
       "| G   | 182          | 493        |\n",
       "+-----+--------------+------------+\n",
       "| G-F | 53           | 493        |\n",
       "+-----+--------------+------------+\n",
       "7 rows in set (0.00 sec)"
      ]
     },
     "execution_count": 12,
     "metadata": {},
     "output_type": "execute_result"
    }
   ],
   "source": [
    "SELECT pos,\n",
    "       COUNT(*) player_count,\n",
    "       493 AS ttl_player\n",
    "  FROM players\n",
    " GROUP BY pos;"
   ]
  },
  {
   "cell_type": "markdown",
   "metadata": {
    "slideshow": {
     "slide_type": "subslide"
    }
   },
   "source": [
    "## The third query derives percentage from `players`"
   ]
  },
  {
   "cell_type": "code",
   "execution_count": 13,
   "metadata": {
    "slideshow": {
     "slide_type": "-"
    }
   },
   "outputs": [
    {
     "data": {
      "text/html": [
       "<table>\n",
       "<tr>\n",
       "<th>pos</th>\n",
       "<th>player_count</th>\n",
       "<th>ttl_player</th>\n",
       "<th>percentage</th>\n",
       "</tr>\n",
       "<tr>\n",
       "<td>C</td>\n",
       "<td>34</td>\n",
       "<td>493</td>\n",
       "<td>0.0689655172413793</td>\n",
       "</tr>\n",
       "<tr>\n",
       "<td>C-F</td>\n",
       "<td>27</td>\n",
       "<td>493</td>\n",
       "<td>0.0547667342799189</td>\n",
       "</tr>\n",
       "<tr>\n",
       "<td>F</td>\n",
       "<td>131</td>\n",
       "<td>493</td>\n",
       "<td>0.265720081135903</td>\n",
       "</tr>\n",
       "<tr>\n",
       "<td>F-C</td>\n",
       "<td>43</td>\n",
       "<td>493</td>\n",
       "<td>0.0872210953346856</td>\n",
       "</tr>\n",
       "<tr>\n",
       "<td>F-G</td>\n",
       "<td>23</td>\n",
       "<td>493</td>\n",
       "<td>0.0466531440162272</td>\n",
       "</tr>\n",
       "<tr>\n",
       "<td>G</td>\n",
       "<td>182</td>\n",
       "<td>493</td>\n",
       "<td>0.369168356997972</td>\n",
       "</tr>\n",
       "<tr>\n",
       "<td>G-F</td>\n",
       "<td>53</td>\n",
       "<td>493</td>\n",
       "<td>0.107505070993915</td>\n",
       "</tr>\n",
       "</table>\n",
       "7 rows in set (0.00 sec)"
      ],
      "text/plain": [
       "+-----+--------------+------------+--------------------+\n",
       "| pos | player_count | ttl_player | percentage         |\n",
       "+-----+--------------+------------+--------------------+\n",
       "| C   | 34           | 493        | 0.0689655172413793 |\n",
       "+-----+--------------+------------+--------------------+\n",
       "| C-F | 27           | 493        | 0.0547667342799189 |\n",
       "+-----+--------------+------------+--------------------+\n",
       "| F   | 131          | 493        | 0.265720081135903  |\n",
       "+-----+--------------+------------+--------------------+\n",
       "| F-C | 43           | 493        | 0.0872210953346856 |\n",
       "+-----+--------------+------------+--------------------+\n",
       "| F-G | 23           | 493        | 0.0466531440162272 |\n",
       "+-----+--------------+------------+--------------------+\n",
       "| G   | 182          | 493        | 0.369168356997972  |\n",
       "+-----+--------------+------------+--------------------+\n",
       "| G-F | 53           | 493        | 0.107505070993915  |\n",
       "+-----+--------------+------------+--------------------+\n",
       "7 rows in set (0.00 sec)"
      ]
     },
     "execution_count": 13,
     "metadata": {},
     "output_type": "execute_result"
    }
   ],
   "source": [
    "SELECT pos,\n",
    "       COUNT(*) player_count,\n",
    "       493 AS ttl_player,\n",
    "       COUNT(*) / 493.0 AS percentage\n",
    "  FROM players\n",
    " GROUP BY pos;"
   ]
  },
  {
   "cell_type": "markdown",
   "metadata": {
    "slideshow": {
     "slide_type": "subslide"
    }
   },
   "source": [
    "## Combining 3 queries into one to decompose NBA players based on their positions"
   ]
  },
  {
   "cell_type": "code",
   "execution_count": 14,
   "metadata": {
    "slideshow": {
     "slide_type": "-"
    }
   },
   "outputs": [
    {
     "data": {
      "text/html": [
       "<table>\n",
       "<tr>\n",
       "<th>pos</th>\n",
       "<th>ratio</th>\n",
       "</tr>\n",
       "<tr>\n",
       "<td>C</td>\n",
       "<td>0.0689655172413793</td>\n",
       "</tr>\n",
       "<tr>\n",
       "<td>C-F</td>\n",
       "<td>0.0547667342799189</td>\n",
       "</tr>\n",
       "<tr>\n",
       "<td>F</td>\n",
       "<td>0.265720081135903</td>\n",
       "</tr>\n",
       "<tr>\n",
       "<td>F-C</td>\n",
       "<td>0.0872210953346856</td>\n",
       "</tr>\n",
       "<tr>\n",
       "<td>F-G</td>\n",
       "<td>0.0466531440162272</td>\n",
       "</tr>\n",
       "<tr>\n",
       "<td>G</td>\n",
       "<td>0.369168356997972</td>\n",
       "</tr>\n",
       "<tr>\n",
       "<td>G-F</td>\n",
       "<td>0.107505070993915</td>\n",
       "</tr>\n",
       "</table>\n",
       "7 rows in set (0.00 sec)"
      ],
      "text/plain": [
       "+-----+--------------------+\n",
       "| pos | ratio              |\n",
       "+-----+--------------------+\n",
       "| C   | 0.0689655172413793 |\n",
       "+-----+--------------------+\n",
       "| C-F | 0.0547667342799189 |\n",
       "+-----+--------------------+\n",
       "| F   | 0.265720081135903  |\n",
       "+-----+--------------------+\n",
       "| F-C | 0.0872210953346856 |\n",
       "+-----+--------------------+\n",
       "| F-G | 0.0466531440162272 |\n",
       "+-----+--------------------+\n",
       "| G   | 0.369168356997972  |\n",
       "+-----+--------------------+\n",
       "| G-F | 0.107505070993915  |\n",
       "+-----+--------------------+\n",
       "7 rows in set (0.00 sec)"
      ]
     },
     "execution_count": 14,
     "metadata": {},
     "output_type": "execute_result"
    }
   ],
   "source": [
    "SELECT pos,\n",
    "       CAST(COUNT(*) AS REAL) / (SELECT COUNT(*)\n",
    "                                   FROM players) AS ratio\n",
    "  FROM players\n",
    " GROUP BY pos;"
   ]
  },
  {
   "cell_type": "markdown",
   "metadata": {
    "slideshow": {
     "slide_type": "subslide"
    }
   },
   "source": [
    "## Creating Views"
   ]
  },
  {
   "cell_type": "markdown",
   "metadata": {
    "slideshow": {
     "slide_type": "subslide"
    }
   },
   "source": [
    "## What are views?\n",
    "\n",
    "> In a database, a view is the result set of a stored query on the data, which the database users can query just as they would in a persistent database collection object. This pre-established query command is kept in the database dictionary.\n",
    "\n",
    "Source: <https://en.wikipedia.org/wiki/View_(SQL)>"
   ]
  },
  {
   "cell_type": "markdown",
   "metadata": {
    "slideshow": {
     "slide_type": "subslide"
    }
   },
   "source": [
    "## Views are like\n",
    "\n",
    "- A persistent sub-query.\n",
    "- A stored `SELECT` statement that feels like a table for users.\n",
    "- A feature lies between subqueries and creating a table."
   ]
  },
  {
   "cell_type": "markdown",
   "metadata": {
    "slideshow": {
     "slide_type": "subslide"
    }
   },
   "source": [
    "## Using `CREATE VIEW` to create a view\n",
    "\n",
    "```sql\n",
    "CREATE VIEW view_name (column_names)\n",
    "    AS\n",
    "SELECT statement;\n",
    "```"
   ]
  },
  {
   "cell_type": "markdown",
   "metadata": {
    "slideshow": {
     "slide_type": "subslide"
    }
   },
   "source": [
    "## List the top 5 NBA scorers based on `points`"
   ]
  },
  {
   "cell_type": "code",
   "execution_count": 15,
   "metadata": {
    "slideshow": {
     "slide_type": "skip"
    }
   },
   "outputs": [],
   "source": [
    "DROP VIEW IF EXISTS top_five_scorers;"
   ]
  },
  {
   "cell_type": "code",
   "execution_count": 16,
   "metadata": {
    "slideshow": {
     "slide_type": "-"
    }
   },
   "outputs": [],
   "source": [
    "CREATE VIEW top_five_scorers (personId, points)\n",
    "AS\n",
    "SELECT personId,\n",
    "       points\n",
    "  FROM career_summaries\n",
    " ORDER BY points DESC\n",
    " LIMIT 5;"
   ]
  },
  {
   "cell_type": "markdown",
   "metadata": {
    "slideshow": {
     "slide_type": "subslide"
    }
   },
   "source": [
    "## Once a view is created, use it like a table"
   ]
  },
  {
   "cell_type": "code",
   "execution_count": 17,
   "metadata": {
    "slideshow": {
     "slide_type": "-"
    }
   },
   "outputs": [
    {
     "data": {
      "text/html": [
       "<table>\n",
       "<tr>\n",
       "<th>personId</th>\n",
       "<th>points</th>\n",
       "</tr>\n",
       "<tr>\n",
       "<td>2544</td>\n",
       "<td>35236</td>\n",
       "</tr>\n",
       "<tr>\n",
       "<td>2546</td>\n",
       "<td>26980</td>\n",
       "</tr>\n",
       "<tr>\n",
       "<td>201142</td>\n",
       "<td>23491</td>\n",
       "</tr>\n",
       "<tr>\n",
       "<td>201935</td>\n",
       "<td>21853</td>\n",
       "</tr>\n",
       "<tr>\n",
       "<td>201566</td>\n",
       "<td>21095</td>\n",
       "</tr>\n",
       "</table>\n",
       "5 rows in set (0.00 sec)"
      ],
      "text/plain": [
       "+----------+--------+\n",
       "| personId | points |\n",
       "+----------+--------+\n",
       "| 2544     | 35236  |\n",
       "+----------+--------+\n",
       "| 2546     | 26980  |\n",
       "+----------+--------+\n",
       "| 201142   | 23491  |\n",
       "+----------+--------+\n",
       "| 201935   | 21853  |\n",
       "+----------+--------+\n",
       "| 201566   | 21095  |\n",
       "+----------+--------+\n",
       "5 rows in set (0.00 sec)"
      ]
     },
     "execution_count": 17,
     "metadata": {},
     "output_type": "execute_result"
    }
   ],
   "source": [
    "SELECT * FROM top_five_scorers;"
   ]
  },
  {
   "cell_type": "markdown",
   "metadata": {
    "slideshow": {
     "slide_type": "subslide"
    }
   },
   "source": [
    "## Who are the top 5 NBA scorers?"
   ]
  },
  {
   "cell_type": "code",
   "execution_count": 18,
   "metadata": {
    "slideshow": {
     "slide_type": "-"
    }
   },
   "outputs": [
    {
     "data": {
      "text/html": [
       "<table>\n",
       "<tr>\n",
       "<th>fullName</th>\n",
       "</tr>\n",
       "<tr>\n",
       "<td>LeBron James</td>\n",
       "</tr>\n",
       "<tr>\n",
       "<td>Carmelo Anthony</td>\n",
       "</tr>\n",
       "<tr>\n",
       "<td>Kevin Durant</td>\n",
       "</tr>\n",
       "<tr>\n",
       "<td>Russell Westbrook</td>\n",
       "</tr>\n",
       "<tr>\n",
       "<td>James Harden</td>\n",
       "</tr>\n",
       "</table>\n",
       "5 rows in set (0.00 sec)"
      ],
      "text/plain": [
       "+-------------------+\n",
       "| fullName          |\n",
       "+-------------------+\n",
       "| LeBron James      |\n",
       "+-------------------+\n",
       "| Carmelo Anthony   |\n",
       "+-------------------+\n",
       "| Kevin Durant      |\n",
       "+-------------------+\n",
       "| Russell Westbrook |\n",
       "+-------------------+\n",
       "| James Harden      |\n",
       "+-------------------+\n",
       "5 rows in set (0.00 sec)"
      ]
     },
     "execution_count": 18,
     "metadata": {},
     "output_type": "execute_result"
    }
   ],
   "source": [
    "SELECT firstName || ' ' || lastName AS fullName\n",
    "  FROM players\n",
    " WHERE personId IN (SELECT personId\n",
    "                      FROM top_five_scorers);"
   ]
  },
  {
   "cell_type": "markdown",
   "metadata": {
    "slideshow": {
     "slide_type": "slide"
    }
   },
   "source": [
    "## Joining Tables in a Releational Database"
   ]
  },
  {
   "cell_type": "markdown",
   "metadata": {
    "slideshow": {
     "slide_type": "subslide"
    }
   },
   "source": [
    "## What is a relational database?\n",
    "\n",
    "> An application that supports data stored across multiple, related tables. In a relational model, each table typically holds data on one entity and each row in the table describes one of those entities. A process known as a table join allows us to link rows in one table to rows in other tables."
   ]
  },
  {
   "cell_type": "markdown",
   "metadata": {
    "slideshow": {
     "slide_type": "subslide"
    }
   },
   "source": [
    "## Why relational database?\n",
    "\n",
    "> Using the relational model, we can build tables that eliminate duplicate data, are easier to maintain, and provide for increased flexibility in writing queries to get just the data we want."
   ]
  },
  {
   "cell_type": "markdown",
   "metadata": {
    "slideshow": {
     "slide_type": "subslide"
    }
   },
   "source": [
    "## Linking tables using `JOIN...ON...` clause\n",
    "\n",
    "The query examines both tables and then returns columns from both tables where the values match in the columns specified in the `ON` clause.\n",
    "\n",
    "```sql\n",
    "SELECT *\n",
    "  FROM left_table \n",
    "  JOIN right_table\n",
    "    ON left_table.join_key = right_table.join_key\n",
    "```"
   ]
  },
  {
   "cell_type": "markdown",
   "metadata": {
    "slideshow": {
     "slide_type": "subslide"
    }
   },
   "source": [
    "## Linking `nba.players` with `nba.careerSummaries`\n",
    "\n",
    "```sql\n",
    "SELECT *\n",
    "  FROM nba.players\n",
    "  JOIN nba.careerSummaries\n",
    "    ON players.personId = careerSummaries.personId;\n",
    "```"
   ]
  },
  {
   "cell_type": "code",
   "execution_count": 19,
   "metadata": {
    "slideshow": {
     "slide_type": "subslide"
    }
   },
   "outputs": [
    {
     "data": {
      "text/html": [
       "<table>\n",
       "<tr>\n",
       "<th>firstName</th>\n",
       "<th>lastName</th>\n",
       "<th>temporaryDisplayName</th>\n",
       "<th>personId</th>\n",
       "<th>teamId</th>\n",
       "<th>jersey</th>\n",
       "<th>pos</th>\n",
       "<th>heightFeet</th>\n",
       "<th>heightInches</th>\n",
       "<th>heightMeters</th>\n",
       "<th>weightPounds</th>\n",
       "<th>weightKilograms</th>\n",
       "<th>dateOfBirthUTC</th>\n",
       "<th>nbaDebutYear</th>\n",
       "<th>yearsPro</th>\n",
       "<th>collegeName</th>\n",
       "<th>lastAffiliation</th>\n",
       "<th>country</th>\n",
       "<th>personId</th>\n",
       "<th>tpp</th>\n",
       "<th>ftp</th>\n",
       "<th>fgp</th>\n",
       "<th>ppg</th>\n",
       "<th>rpg</th>\n",
       "<th>apg</th>\n",
       "<th>bpg</th>\n",
       "<th>mpg</th>\n",
       "<th>spg</th>\n",
       "<th>assists</th>\n",
       "<th>blocks</th>\n",
       "<th>steals</th>\n",
       "<th>turnovers</th>\n",
       "<th>offReb</th>\n",
       "<th>defReb</th>\n",
       "<th>totReb</th>\n",
       "<th>fgm</th>\n",
       "<th>fga</th>\n",
       "<th>tpm</th>\n",
       "<th>tpa</th>\n",
       "<th>ftm</th>\n",
       "<th>fta</th>\n",
       "<th>pFouls</th>\n",
       "<th>points</th>\n",
       "<th>gamesPlayed</th>\n",
       "<th>gamesStarted</th>\n",
       "<th>plusMinus</th>\n",
       "<th>min</th>\n",
       "<th>dd2</th>\n",
       "<th>td3</th>\n",
       "</tr>\n",
       "<tr>\n",
       "<td>LeBron</td>\n",
       "<td>James</td>\n",
       "<td>James, LeBron</td>\n",
       "<td>2544</td>\n",
       "<td>1610612747</td>\n",
       "<td>23</td>\n",
       "<td>F</td>\n",
       "<td>6</td>\n",
       "<td>9</td>\n",
       "<td>2.06</td>\n",
       "<td>250</td>\n",
       "<td>113.4</td>\n",
       "<td>1984-12-30</td>\n",
       "<td>2003</td>\n",
       "<td>17</td>\n",
       "<td>St. Vincent-St. Mary HS (OH)</td>\n",
       "<td>St. Vincent-St. Mary HS (OH)/USA</td>\n",
       "<td>USA</td>\n",
       "<td>2544</td>\n",
       "<td>34.5</td>\n",
       "<td>73.4</td>\n",
       "<td>50.4</td>\n",
       "<td>27</td>\n",
       "<td>7.5</td>\n",
       "<td>7.4</td>\n",
       "<td>0.8</td>\n",
       "<td>38.3</td>\n",
       "<td>1.6</td>\n",
       "<td>9659</td>\n",
       "<td>980</td>\n",
       "<td>2057</td>\n",
       "<td>4572</td>\n",
       "<td>1532</td>\n",
       "<td>8187</td>\n",
       "<td>9719</td>\n",
       "<td>12852</td>\n",
       "<td>25508</td>\n",
       "<td>1968</td>\n",
       "<td>5708</td>\n",
       "<td>7564</td>\n",
       "<td>10312</td>\n",
       "<td>2388</td>\n",
       "<td>35236</td>\n",
       "<td>1304</td>\n",
       "<td>1303</td>\n",
       "<td>7128</td>\n",
       "<td>49890</td>\n",
       "<td>507</td>\n",
       "<td>99</td>\n",
       "</tr>\n",
       "<tr>\n",
       "<td>Carmelo</td>\n",
       "<td>Anthony</td>\n",
       "<td>Anthony, Carmelo</td>\n",
       "<td>2546</td>\n",
       "<td>1610612757</td>\n",
       "<td>0</td>\n",
       "<td>F</td>\n",
       "<td>6</td>\n",
       "<td>7</td>\n",
       "<td>2.01</td>\n",
       "<td>238</td>\n",
       "<td>108</td>\n",
       "<td>1984-05-29</td>\n",
       "<td>2003</td>\n",
       "<td>17</td>\n",
       "<td>Syracuse</td>\n",
       "<td>Syracuse/USA</td>\n",
       "<td>USA</td>\n",
       "<td>2546</td>\n",
       "<td>35</td>\n",
       "<td>81.3</td>\n",
       "<td>44.7</td>\n",
       "<td>23.3</td>\n",
       "<td>6.4</td>\n",
       "<td>2.9</td>\n",
       "<td>0.5</td>\n",
       "<td>35.4</td>\n",
       "<td>1</td>\n",
       "<td>3317</td>\n",
       "<td>584</td>\n",
       "<td>1165</td>\n",
       "<td>2973</td>\n",
       "<td>1912</td>\n",
       "<td>5522</td>\n",
       "<td>7434</td>\n",
       "<td>9661</td>\n",
       "<td>21596</td>\n",
       "<td>1516</td>\n",
       "<td>4327</td>\n",
       "<td>6142</td>\n",
       "<td>7557</td>\n",
       "<td>3317</td>\n",
       "<td>26980</td>\n",
       "<td>1160</td>\n",
       "<td>1117</td>\n",
       "<td>1545</td>\n",
       "<td>41014</td>\n",
       "<td>172</td>\n",
       "<td>2</td>\n",
       "</tr>\n",
       "<tr>\n",
       "<td>Udonis</td>\n",
       "<td>Haslem</td>\n",
       "<td>Haslem, Udonis</td>\n",
       "<td>2617</td>\n",
       "<td>1610612748</td>\n",
       "<td>40</td>\n",
       "<td>F</td>\n",
       "<td>6</td>\n",
       "<td>8</td>\n",
       "<td>2.03</td>\n",
       "<td>235</td>\n",
       "<td>106.6</td>\n",
       "<td>1980-06-09</td>\n",
       "<td>2003</td>\n",
       "<td>17</td>\n",
       "<td>Florida</td>\n",
       "<td>Florida/USA</td>\n",
       "<td>USA</td>\n",
       "<td>2617</td>\n",
       "<td>8.6</td>\n",
       "<td>75.5</td>\n",
       "<td>48.9</td>\n",
       "<td>7.6</td>\n",
       "<td>6.7</td>\n",
       "<td>0.8</td>\n",
       "<td>0.3</td>\n",
       "<td>25.1</td>\n",
       "<td>0.5</td>\n",
       "<td>729</td>\n",
       "<td>249</td>\n",
       "<td>422</td>\n",
       "<td>804</td>\n",
       "<td>1607</td>\n",
       "<td>4147</td>\n",
       "<td>5754</td>\n",
       "<td>2643</td>\n",
       "<td>5400</td>\n",
       "<td>5</td>\n",
       "<td>58</td>\n",
       "<td>1232</td>\n",
       "<td>1631</td>\n",
       "<td>2043</td>\n",
       "<td>6523</td>\n",
       "<td>858</td>\n",
       "<td>500</td>\n",
       "<td>489</td>\n",
       "<td>21563</td>\n",
       "<td>134</td>\n",
       "<td>0</td>\n",
       "</tr>\n",
       "<tr>\n",
       "<td>Dwight</td>\n",
       "<td>Howard</td>\n",
       "<td>Howard, Dwight</td>\n",
       "<td>2730</td>\n",
       "<td>1610612755</td>\n",
       "<td>39</td>\n",
       "<td>C-F</td>\n",
       "<td>6</td>\n",
       "<td>10</td>\n",
       "<td>2.08</td>\n",
       "<td>265</td>\n",
       "<td>120.2</td>\n",
       "<td>1985-12-08</td>\n",
       "<td>2004</td>\n",
       "<td>16</td>\n",
       "<td>SW Atlanta Christian Academy (GA)</td>\n",
       "<td>SW Atlanta Christian Academy (GA)/USA</td>\n",
       "<td>USA</td>\n",
       "<td>2730</td>\n",
       "<td>15.9</td>\n",
       "<td>56.5</td>\n",
       "<td>58.6</td>\n",
       "<td>16.4</td>\n",
       "<td>12.1</td>\n",
       "<td>1.4</td>\n",
       "<td>1.9</td>\n",
       "<td>32.9</td>\n",
       "<td>0.9</td>\n",
       "<td>1610</td>\n",
       "<td>2169</td>\n",
       "<td>1035</td>\n",
       "<td>3213</td>\n",
       "<td>3946</td>\n",
       "<td>10066</td>\n",
       "<td>14012</td>\n",
       "<td>6844</td>\n",
       "<td>11673</td>\n",
       "<td>13</td>\n",
       "<td>82</td>\n",
       "<td>5205</td>\n",
       "<td>9212</td>\n",
       "<td>3722</td>\n",
       "<td>18906</td>\n",
       "<td>1154</td>\n",
       "<td>1049</td>\n",
       "<td>3015</td>\n",
       "<td>37983</td>\n",
       "<td>737</td>\n",
       "<td>1</td>\n",
       "</tr>\n",
       "<tr>\n",
       "<td>Andre</td>\n",
       "<td>Iguodala</td>\n",
       "<td>Iguodala, Andre</td>\n",
       "<td>2738</td>\n",
       "<td>1610612748</td>\n",
       "<td>28</td>\n",
       "<td>G-F</td>\n",
       "<td>6</td>\n",
       "<td>6</td>\n",
       "<td>1.98</td>\n",
       "<td>215</td>\n",
       "<td>97.5</td>\n",
       "<td>1984-01-28</td>\n",
       "<td>2004</td>\n",
       "<td>16</td>\n",
       "<td>Arizona</td>\n",
       "<td>Arizona/USA</td>\n",
       "<td>USA</td>\n",
       "<td>2738</td>\n",
       "<td>33.3</td>\n",
       "<td>70.8</td>\n",
       "<td>46.4</td>\n",
       "<td>11.8</td>\n",
       "<td>5</td>\n",
       "<td>4.2</td>\n",
       "<td>0.5</td>\n",
       "<td>32.8</td>\n",
       "<td>1.5</td>\n",
       "<td>4952</td>\n",
       "<td>590</td>\n",
       "<td>1715</td>\n",
       "<td>2174</td>\n",
       "<td>1077</td>\n",
       "<td>4771</td>\n",
       "<td>5848</td>\n",
       "<td>4941</td>\n",
       "<td>10644</td>\n",
       "<td>1045</td>\n",
       "<td>3135</td>\n",
       "<td>2805</td>\n",
       "<td>3960</td>\n",
       "<td>2097</td>\n",
       "<td>13732</td>\n",
       "<td>1167</td>\n",
       "<td>781</td>\n",
       "<td>2899</td>\n",
       "<td>38267</td>\n",
       "<td>81</td>\n",
       "<td>9</td>\n",
       "</tr>\n",
       "</table>\n",
       "5 rows in set (0.00 sec)"
      ],
      "text/plain": [
       "+-----------+----------+----------------------+----------+------------+--------+-----+------------+--------------+--------------+--------------+-----------------+----------------+--------------+----------+-----------------------------------+---------------------------------------+---------+----------+------+------+------+------+------+-----+-----+------+-----+---------+--------+--------+-----------+--------+--------+--------+-------+-------+------+------+------+-------+--------+--------+-------------+--------------+-----------+-------+-----+-----+\n",
       "| firstName | lastName | temporaryDisplayName | personId | teamId     | jersey | pos | heightFeet | heightInches | heightMeters | weightPounds | weightKilograms | dateOfBirthUTC | nbaDebutYear | yearsPro | collegeName                       | lastAffiliation                       | country | personId | tpp  | ftp  | fgp  | ppg  | rpg  | apg | bpg | mpg  | spg | assists | blocks | steals | turnovers | offReb | defReb | totReb | fgm   | fga   | tpm  | tpa  | ftm  | fta   | pFouls | points | gamesPlayed | gamesStarted | plusMinus | min   | dd2 | td3 |\n",
       "+-----------+----------+----------------------+----------+------------+--------+-----+------------+--------------+--------------+--------------+-----------------+----------------+--------------+----------+-----------------------------------+---------------------------------------+---------+----------+------+------+------+------+------+-----+-----+------+-----+---------+--------+--------+-----------+--------+--------+--------+-------+-------+------+------+------+-------+--------+--------+-------------+--------------+-----------+-------+-----+-----+\n",
       "| LeBron    | James    | James, LeBron        | 2544     | 1610612747 | 23     | F   | 6          | 9            | 2.06         | 250          | 113.4           | 1984-12-30     | 2003         | 17       | St. Vincent-St. Mary HS (OH)      | St. Vincent-St. Mary HS (OH)/USA      | USA     | 2544     | 34.5 | 73.4 | 50.4 | 27   | 7.5  | 7.4 | 0.8 | 38.3 | 1.6 | 9659    | 980    | 2057   | 4572      | 1532   | 8187   | 9719   | 12852 | 25508 | 1968 | 5708 | 7564 | 10312 | 2388   | 35236  | 1304        | 1303         | 7128      | 49890 | 507 | 99  |\n",
       "+-----------+----------+----------------------+----------+------------+--------+-----+------------+--------------+--------------+--------------+-----------------+----------------+--------------+----------+-----------------------------------+---------------------------------------+---------+----------+------+------+------+------+------+-----+-----+------+-----+---------+--------+--------+-----------+--------+--------+--------+-------+-------+------+------+------+-------+--------+--------+-------------+--------------+-----------+-------+-----+-----+\n",
       "| Carmelo   | Anthony  | Anthony, Carmelo     | 2546     | 1610612757 | 0      | F   | 6          | 7            | 2.01         | 238          | 108             | 1984-05-29     | 2003         | 17       | Syracuse                          | Syracuse/USA                          | USA     | 2546     | 35   | 81.3 | 44.7 | 23.3 | 6.4  | 2.9 | 0.5 | 35.4 | 1   | 3317    | 584    | 1165   | 2973      | 1912   | 5522   | 7434   | 9661  | 21596 | 1516 | 4327 | 6142 | 7557  | 3317   | 26980  | 1160        | 1117         | 1545      | 41014 | 172 | 2   |\n",
       "+-----------+----------+----------------------+----------+------------+--------+-----+------------+--------------+--------------+--------------+-----------------+----------------+--------------+----------+-----------------------------------+---------------------------------------+---------+----------+------+------+------+------+------+-----+-----+------+-----+---------+--------+--------+-----------+--------+--------+--------+-------+-------+------+------+------+-------+--------+--------+-------------+--------------+-----------+-------+-----+-----+\n",
       "| Udonis    | Haslem   | Haslem, Udonis       | 2617     | 1610612748 | 40     | F   | 6          | 8            | 2.03         | 235          | 106.6           | 1980-06-09     | 2003         | 17       | Florida                           | Florida/USA                           | USA     | 2617     | 8.6  | 75.5 | 48.9 | 7.6  | 6.7  | 0.8 | 0.3 | 25.1 | 0.5 | 729     | 249    | 422    | 804       | 1607   | 4147   | 5754   | 2643  | 5400  | 5    | 58   | 1232 | 1631  | 2043   | 6523   | 858         | 500          | 489       | 21563 | 134 | 0   |\n",
       "+-----------+----------+----------------------+----------+------------+--------+-----+------------+--------------+--------------+--------------+-----------------+----------------+--------------+----------+-----------------------------------+---------------------------------------+---------+----------+------+------+------+------+------+-----+-----+------+-----+---------+--------+--------+-----------+--------+--------+--------+-------+-------+------+------+------+-------+--------+--------+-------------+--------------+-----------+-------+-----+-----+\n",
       "| Dwight    | Howard   | Howard, Dwight       | 2730     | 1610612755 | 39     | C-F | 6          | 10           | 2.08         | 265          | 120.2           | 1985-12-08     | 2004         | 16       | SW Atlanta Christian Academy (GA) | SW Atlanta Christian Academy (GA)/USA | USA     | 2730     | 15.9 | 56.5 | 58.6 | 16.4 | 12.1 | 1.4 | 1.9 | 32.9 | 0.9 | 1610    | 2169   | 1035   | 3213      | 3946   | 10066  | 14012  | 6844  | 11673 | 13   | 82   | 5205 | 9212  | 3722   | 18906  | 1154        | 1049         | 3015      | 37983 | 737 | 1   |\n",
       "+-----------+----------+----------------------+----------+------------+--------+-----+------------+--------------+--------------+--------------+-----------------+----------------+--------------+----------+-----------------------------------+---------------------------------------+---------+----------+------+------+------+------+------+-----+-----+------+-----+---------+--------+--------+-----------+--------+--------+--------+-------+-------+------+------+------+-------+--------+--------+-------------+--------------+-----------+-------+-----+-----+\n",
       "| Andre     | Iguodala | Iguodala, Andre      | 2738     | 1610612748 | 28     | G-F | 6          | 6            | 1.98         | 215          | 97.5            | 1984-01-28     | 2004         | 16       | Arizona                           | Arizona/USA                           | USA     | 2738     | 33.3 | 70.8 | 46.4 | 11.8 | 5    | 4.2 | 0.5 | 32.8 | 1.5 | 4952    | 590    | 1715   | 2174      | 1077   | 4771   | 5848   | 4941  | 10644 | 1045 | 3135 | 2805 | 3960  | 2097   | 13732  | 1167        | 781          | 2899      | 38267 | 81  | 9   |\n",
       "+-----------+----------+----------------------+----------+------------+--------+-----+------------+--------------+--------------+--------------+-----------------+----------------+--------------+----------+-----------------------------------+---------------------------------------+---------+----------+------+------+------+------+------+-----+-----+------+-----+---------+--------+--------+-----------+--------+--------+--------+-------+-------+------+------+------+-------+--------+--------+-------------+--------------+-----------+-------+-----+-----+\n",
       "5 rows in set (0.00 sec)"
      ]
     },
     "execution_count": 19,
     "metadata": {},
     "output_type": "execute_result"
    }
   ],
   "source": [
    "SELECT *\n",
    "  FROM players\n",
    "  JOIN career_summaries\n",
    "    ON players.personId = career_summaries.personId\n",
    " LIMIT 5;"
   ]
  },
  {
   "cell_type": "markdown",
   "metadata": {
    "slideshow": {
     "slide_type": "subslide"
    }
   },
   "source": [
    "## Relating tables with key columns: Primary key\n",
    "\n",
    "One or more columns whose values uniquely identify each row in a table.\n",
    "\n",
    "1. Each column in the key must have a unique value for each row\n",
    "2. No column in the key can have missing values"
   ]
  },
  {
   "cell_type": "markdown",
   "metadata": {
    "slideshow": {
     "slide_type": "subslide"
    }
   },
   "source": [
    "## Relating tables with key columns: Foreign key\n",
    "\n",
    "One or more columns in a table that match the primary key of another table. Foreign key ensures that we don’t end up with rows in one table that have no relation to rows in the other tables we can join them to."
   ]
  },
  {
   "cell_type": "markdown",
   "metadata": {
    "slideshow": {
     "slide_type": "subslide"
    }
   },
   "source": [
    "## We can examine key columns in metadata if any"
   ]
  },
  {
   "cell_type": "code",
   "execution_count": 20,
   "metadata": {
    "slideshow": {
     "slide_type": "subslide"
    }
   },
   "outputs": [
    {
     "data": {
      "text/html": [
       "<table>\n",
       "<tr>\n",
       "<th>cid</th>\n",
       "<th>name</th>\n",
       "<th>type</th>\n",
       "<th>notnull</th>\n",
       "<th>dflt_value</th>\n",
       "<th>pk</th>\n",
       "</tr>\n",
       "<tr>\n",
       "<td>0</td>\n",
       "<td>personId</td>\n",
       "<td>INTEGER</td>\n",
       "<td>0</td>\n",
       "<td>NULL</td>\n",
       "<td>1</td>\n",
       "</tr>\n",
       "</table>\n",
       "1 row in set (0.00 sec)"
      ],
      "text/plain": [
       "+-----+----------+---------+---------+------------+----+\n",
       "| cid | name     | type    | notnull | dflt_value | pk |\n",
       "+-----+----------+---------+---------+------------+----+\n",
       "| 0   | personId | INTEGER | 0       | NULL       | 1  |\n",
       "+-----+----------+---------+---------+------------+----+\n",
       "1 row in set (0.00 sec)"
      ]
     },
     "execution_count": 20,
     "metadata": {},
     "output_type": "execute_result"
    }
   ],
   "source": [
    "SELECT *\n",
    "  FROM PRAGMA_TABLE_INFO('career_summaries')\n",
    " WHERE pk = 1;"
   ]
  },
  {
   "cell_type": "code",
   "execution_count": 21,
   "metadata": {
    "slideshow": {
     "slide_type": "subslide"
    }
   },
   "outputs": [
    {
     "data": {
      "text/html": [
       "<table>\n",
       "<tr>\n",
       "<th>cid</th>\n",
       "<th>name</th>\n",
       "<th>type</th>\n",
       "<th>notnull</th>\n",
       "<th>dflt_value</th>\n",
       "<th>pk</th>\n",
       "</tr>\n",
       "<tr>\n",
       "<td>6</td>\n",
       "<td>teamId</td>\n",
       "<td>INTEGER</td>\n",
       "<td>0</td>\n",
       "<td>NULL</td>\n",
       "<td>1</td>\n",
       "</tr>\n",
       "</table>\n",
       "1 row in set (0.00 sec)"
      ],
      "text/plain": [
       "+-----+--------+---------+---------+------------+----+\n",
       "| cid | name   | type    | notnull | dflt_value | pk |\n",
       "+-----+--------+---------+---------+------------+----+\n",
       "| 6   | teamId | INTEGER | 0       | NULL       | 1  |\n",
       "+-----+--------+---------+---------+------------+----+\n",
       "1 row in set (0.00 sec)"
      ]
     },
     "execution_count": 21,
     "metadata": {},
     "output_type": "execute_result"
    }
   ],
   "source": [
    "SELECT *\n",
    "  FROM PRAGMA_TABLE_INFO('teams')\n",
    " WHERE pk = 1;"
   ]
  },
  {
   "cell_type": "code",
   "execution_count": 22,
   "metadata": {
    "slideshow": {
     "slide_type": "subslide"
    }
   },
   "outputs": [
    {
     "data": {
      "text/html": [
       "<table>\n",
       "<tr>\n",
       "<th>cid</th>\n",
       "<th>name</th>\n",
       "<th>type</th>\n",
       "<th>notnull</th>\n",
       "<th>dflt_value</th>\n",
       "<th>pk</th>\n",
       "</tr>\n",
       "<tr>\n",
       "<td>3</td>\n",
       "<td>personId</td>\n",
       "<td>INTEGER</td>\n",
       "<td>0</td>\n",
       "<td>NULL</td>\n",
       "<td>1</td>\n",
       "</tr>\n",
       "</table>\n",
       "1 row in set (0.00 sec)"
      ],
      "text/plain": [
       "+-----+----------+---------+---------+------------+----+\n",
       "| cid | name     | type    | notnull | dflt_value | pk |\n",
       "+-----+----------+---------+---------+------------+----+\n",
       "| 3   | personId | INTEGER | 0       | NULL       | 1  |\n",
       "+-----+----------+---------+---------+------------+----+\n",
       "1 row in set (0.00 sec)"
      ]
     },
     "execution_count": 22,
     "metadata": {},
     "output_type": "execute_result"
    }
   ],
   "source": [
    "SELECT *\n",
    "  FROM PRAGMA_TABLE_INFO('players')\n",
    " WHERE pk = 1;"
   ]
  },
  {
   "cell_type": "markdown",
   "metadata": {
    "slideshow": {
     "slide_type": "subslide"
    }
   },
   "source": [
    "## In contrast to `JOIN`, the `LEFT JOIN` keyword returns all rows from the left table and display blank rows from the other table if no matching values are found"
   ]
  },
  {
   "cell_type": "markdown",
   "metadata": {
    "slideshow": {
     "slide_type": "subslide"
    }
   },
   "source": [
    "## Creating a left table using via `CREATE VIEW`\n",
    "\n",
    "Let's called the left table as `veteran_players`."
   ]
  },
  {
   "cell_type": "code",
   "execution_count": 23,
   "metadata": {
    "slideshow": {
     "slide_type": "skip"
    }
   },
   "outputs": [],
   "source": [
    "DROP VIEW IF EXISTS veteran_players;"
   ]
  },
  {
   "cell_type": "code",
   "execution_count": 24,
   "metadata": {},
   "outputs": [],
   "source": [
    "CREATE VIEW veteran_players (personId, temporaryDisplayName)\n",
    "AS\n",
    "SELECT personId,\n",
    "       temporaryDisplayName\n",
    "  FROM players\n",
    " LIMIT 15;"
   ]
  },
  {
   "cell_type": "markdown",
   "metadata": {
    "slideshow": {
     "slide_type": "subslide"
    }
   },
   "source": [
    "## Creating a right table also via `CREATE VIEW`"
   ]
  },
  {
   "cell_type": "code",
   "execution_count": 25,
   "metadata": {
    "slideshow": {
     "slide_type": "skip"
    }
   },
   "outputs": [],
   "source": [
    "DROP VIEW IF EXISTS top_scorers;"
   ]
  },
  {
   "cell_type": "code",
   "execution_count": 26,
   "metadata": {},
   "outputs": [],
   "source": [
    "CREATE VIEW top_scorers (personId, ppg)\n",
    "    AS\n",
    "SELECT personId,\n",
    "       ppg\n",
    "  FROM career_summaries\n",
    " ORDER BY ppg DESC\n",
    " LIMIT 15;"
   ]
  },
  {
   "cell_type": "markdown",
   "metadata": {
    "slideshow": {
     "slide_type": "subslide"
    }
   },
   "source": [
    "## The default `JOIN` leaves us the top 2 rookies in 2003 draft"
   ]
  },
  {
   "cell_type": "code",
   "execution_count": 27,
   "metadata": {
    "slideshow": {
     "slide_type": "subslide"
    }
   },
   "outputs": [
    {
     "data": {
      "text/html": [
       "<table>\n",
       "<tr>\n",
       "<th>personId</th>\n",
       "<th>temporaryDisplayName</th>\n",
       "<th>personId</th>\n",
       "<th>ppg</th>\n",
       "</tr>\n",
       "<tr>\n",
       "<td>2544</td>\n",
       "<td>James, LeBron</td>\n",
       "<td>2544</td>\n",
       "<td>27</td>\n",
       "</tr>\n",
       "<tr>\n",
       "<td>2546</td>\n",
       "<td>Anthony, Carmelo</td>\n",
       "<td>2546</td>\n",
       "<td>23.3</td>\n",
       "</tr>\n",
       "</table>\n",
       "2 rows in set (0.01 sec)"
      ],
      "text/plain": [
       "+----------+----------------------+----------+------+\n",
       "| personId | temporaryDisplayName | personId | ppg  |\n",
       "+----------+----------------------+----------+------+\n",
       "| 2544     | James, LeBron        | 2544     | 27   |\n",
       "+----------+----------------------+----------+------+\n",
       "| 2546     | Anthony, Carmelo     | 2546     | 23.3 |\n",
       "+----------+----------------------+----------+------+\n",
       "2 rows in set (0.01 sec)"
      ]
     },
     "execution_count": 27,
     "metadata": {},
     "output_type": "execute_result"
    }
   ],
   "source": [
    "SELECT *\n",
    "  FROM veteran_players\n",
    "  JOIN top_scorers\n",
    "    ON veteran_players.personId = top_scorers.personId;"
   ]
  },
  {
   "cell_type": "markdown",
   "metadata": {
    "slideshow": {
     "slide_type": "subslide"
    }
   },
   "source": [
    "## The top 3 drafts in 2003\n",
    "\n",
    "![Imgur](https://i.imgur.com/kAjBFy1.jpg)\n",
    "\n",
    "Source: Google Search"
   ]
  },
  {
   "cell_type": "markdown",
   "metadata": {
    "slideshow": {
     "slide_type": "subslide"
    }
   },
   "source": [
    "## The `LEFT JOIN` leaves us all the veteran players"
   ]
  },
  {
   "cell_type": "code",
   "execution_count": 28,
   "metadata": {
    "slideshow": {
     "slide_type": "-"
    }
   },
   "outputs": [
    {
     "data": {
      "text/html": [
       "<table>\n",
       "<tr>\n",
       "<th>personId</th>\n",
       "<th>temporaryDisplayName</th>\n",
       "<th>personId</th>\n",
       "<th>ppg</th>\n",
       "</tr>\n",
       "<tr>\n",
       "<td>2544</td>\n",
       "<td>James, LeBron</td>\n",
       "<td>2544</td>\n",
       "<td>27</td>\n",
       "</tr>\n",
       "<tr>\n",
       "<td>2546</td>\n",
       "<td>Anthony, Carmelo</td>\n",
       "<td>2546</td>\n",
       "<td>23.3</td>\n",
       "</tr>\n",
       "<tr>\n",
       "<td>2617</td>\n",
       "<td>Haslem, Udonis</td>\n",
       "<td>NULL</td>\n",
       "<td>NULL</td>\n",
       "</tr>\n",
       "<tr>\n",
       "<td>2730</td>\n",
       "<td>Howard, Dwight</td>\n",
       "<td>NULL</td>\n",
       "<td>NULL</td>\n",
       "</tr>\n",
       "<tr>\n",
       "<td>2738</td>\n",
       "<td>Iguodala, Andre</td>\n",
       "<td>NULL</td>\n",
       "<td>NULL</td>\n",
       "</tr>\n",
       "<tr>\n",
       "<td>2772</td>\n",
       "<td>Ariza, Trevor</td>\n",
       "<td>NULL</td>\n",
       "<td>NULL</td>\n",
       "</tr>\n",
       "<tr>\n",
       "<td>101108</td>\n",
       "<td>Paul, Chris</td>\n",
       "<td>NULL</td>\n",
       "<td>NULL</td>\n",
       "</tr>\n",
       "<tr>\n",
       "<td>101141</td>\n",
       "<td>Ilyasova, Ersan</td>\n",
       "<td>NULL</td>\n",
       "<td>NULL</td>\n",
       "</tr>\n",
       "<tr>\n",
       "<td>101150</td>\n",
       "<td>Williams, Lou</td>\n",
       "<td>NULL</td>\n",
       "<td>NULL</td>\n",
       "</tr>\n",
       "<tr>\n",
       "<td>200746</td>\n",
       "<td>Aldridge, LaMarcus</td>\n",
       "<td>NULL</td>\n",
       "<td>NULL</td>\n",
       "</tr>\n",
       "<tr>\n",
       "<td>200752</td>\n",
       "<td>Gay, Rudy</td>\n",
       "<td>NULL</td>\n",
       "<td>NULL</td>\n",
       "</tr>\n",
       "<tr>\n",
       "<td>200755</td>\n",
       "<td>Redick, JJ</td>\n",
       "<td>NULL</td>\n",
       "<td>NULL</td>\n",
       "</tr>\n",
       "<tr>\n",
       "<td>200765</td>\n",
       "<td>Rondo, Rajon</td>\n",
       "<td>NULL</td>\n",
       "<td>NULL</td>\n",
       "</tr>\n",
       "<tr>\n",
       "<td>200768</td>\n",
       "<td>Lowry, Kyle</td>\n",
       "<td>NULL</td>\n",
       "<td>NULL</td>\n",
       "</tr>\n",
       "<tr>\n",
       "<td>200782</td>\n",
       "<td>Tucker, P.J.</td>\n",
       "<td>NULL</td>\n",
       "<td>NULL</td>\n",
       "</tr>\n",
       "</table>\n",
       "15 rows in set (0.00 sec)"
      ],
      "text/plain": [
       "+----------+----------------------+----------+------+\n",
       "| personId | temporaryDisplayName | personId | ppg  |\n",
       "+----------+----------------------+----------+------+\n",
       "| 2544     | James, LeBron        | 2544     | 27   |\n",
       "+----------+----------------------+----------+------+\n",
       "| 2546     | Anthony, Carmelo     | 2546     | 23.3 |\n",
       "+----------+----------------------+----------+------+\n",
       "| 2617     | Haslem, Udonis       | NULL     | NULL |\n",
       "+----------+----------------------+----------+------+\n",
       "| 2730     | Howard, Dwight       | NULL     | NULL |\n",
       "+----------+----------------------+----------+------+\n",
       "| 2738     | Iguodala, Andre      | NULL     | NULL |\n",
       "+----------+----------------------+----------+------+\n",
       "| 2772     | Ariza, Trevor        | NULL     | NULL |\n",
       "+----------+----------------------+----------+------+\n",
       "| 101108   | Paul, Chris          | NULL     | NULL |\n",
       "+----------+----------------------+----------+------+\n",
       "| 101141   | Ilyasova, Ersan      | NULL     | NULL |\n",
       "+----------+----------------------+----------+------+\n",
       "| 101150   | Williams, Lou        | NULL     | NULL |\n",
       "+----------+----------------------+----------+------+\n",
       "| 200746   | Aldridge, LaMarcus   | NULL     | NULL |\n",
       "+----------+----------------------+----------+------+\n",
       "| 200752   | Gay, Rudy            | NULL     | NULL |\n",
       "+----------+----------------------+----------+------+\n",
       "| 200755   | Redick, JJ           | NULL     | NULL |\n",
       "+----------+----------------------+----------+------+\n",
       "| 200765   | Rondo, Rajon         | NULL     | NULL |\n",
       "+----------+----------------------+----------+------+\n",
       "| 200768   | Lowry, Kyle          | NULL     | NULL |\n",
       "+----------+----------------------+----------+------+\n",
       "| 200782   | Tucker, P.J.         | NULL     | NULL |\n",
       "+----------+----------------------+----------+------+\n",
       "15 rows in set (0.00 sec)"
      ]
     },
     "execution_count": 28,
     "metadata": {},
     "output_type": "execute_result"
    }
   ],
   "source": [
    "SELECT *\n",
    "  FROM veteran_players\n",
    "  LEFT JOIN top_scorers\n",
    "    ON veteran_players.personId = top_scorers.personId;"
   ]
  },
  {
   "cell_type": "markdown",
   "metadata": {
    "slideshow": {
     "slide_type": "subslide"
    }
   },
   "source": [
    "## Using `IS NULL` to find rows with missing values\n",
    "\n",
    "Veterans still play, but no longer top scorers."
   ]
  },
  {
   "cell_type": "code",
   "execution_count": 29,
   "metadata": {
    "slideshow": {
     "slide_type": "subslide"
    }
   },
   "outputs": [
    {
     "data": {
      "text/html": [
       "<table>\n",
       "<tr>\n",
       "<th>personId</th>\n",
       "<th>temporaryDisplayName</th>\n",
       "</tr>\n",
       "<tr>\n",
       "<td>2617</td>\n",
       "<td>Haslem, Udonis</td>\n",
       "</tr>\n",
       "<tr>\n",
       "<td>2730</td>\n",
       "<td>Howard, Dwight</td>\n",
       "</tr>\n",
       "<tr>\n",
       "<td>2738</td>\n",
       "<td>Iguodala, Andre</td>\n",
       "</tr>\n",
       "<tr>\n",
       "<td>2772</td>\n",
       "<td>Ariza, Trevor</td>\n",
       "</tr>\n",
       "<tr>\n",
       "<td>101108</td>\n",
       "<td>Paul, Chris</td>\n",
       "</tr>\n",
       "<tr>\n",
       "<td>101141</td>\n",
       "<td>Ilyasova, Ersan</td>\n",
       "</tr>\n",
       "<tr>\n",
       "<td>101150</td>\n",
       "<td>Williams, Lou</td>\n",
       "</tr>\n",
       "<tr>\n",
       "<td>200746</td>\n",
       "<td>Aldridge, LaMarcus</td>\n",
       "</tr>\n",
       "<tr>\n",
       "<td>200752</td>\n",
       "<td>Gay, Rudy</td>\n",
       "</tr>\n",
       "<tr>\n",
       "<td>200755</td>\n",
       "<td>Redick, JJ</td>\n",
       "</tr>\n",
       "<tr>\n",
       "<td>200765</td>\n",
       "<td>Rondo, Rajon</td>\n",
       "</tr>\n",
       "<tr>\n",
       "<td>200768</td>\n",
       "<td>Lowry, Kyle</td>\n",
       "</tr>\n",
       "<tr>\n",
       "<td>200782</td>\n",
       "<td>Tucker, P.J.</td>\n",
       "</tr>\n",
       "</table>\n",
       "13 rows in set (0.00 sec)"
      ],
      "text/plain": [
       "+----------+----------------------+\n",
       "| personId | temporaryDisplayName |\n",
       "+----------+----------------------+\n",
       "| 2617     | Haslem, Udonis       |\n",
       "+----------+----------------------+\n",
       "| 2730     | Howard, Dwight       |\n",
       "+----------+----------------------+\n",
       "| 2738     | Iguodala, Andre      |\n",
       "+----------+----------------------+\n",
       "| 2772     | Ariza, Trevor        |\n",
       "+----------+----------------------+\n",
       "| 101108   | Paul, Chris          |\n",
       "+----------+----------------------+\n",
       "| 101141   | Ilyasova, Ersan      |\n",
       "+----------+----------------------+\n",
       "| 101150   | Williams, Lou        |\n",
       "+----------+----------------------+\n",
       "| 200746   | Aldridge, LaMarcus   |\n",
       "+----------+----------------------+\n",
       "| 200752   | Gay, Rudy            |\n",
       "+----------+----------------------+\n",
       "| 200755   | Redick, JJ           |\n",
       "+----------+----------------------+\n",
       "| 200765   | Rondo, Rajon         |\n",
       "+----------+----------------------+\n",
       "| 200768   | Lowry, Kyle          |\n",
       "+----------+----------------------+\n",
       "| 200782   | Tucker, P.J.         |\n",
       "+----------+----------------------+\n",
       "13 rows in set (0.00 sec)"
      ]
     },
     "execution_count": 29,
     "metadata": {},
     "output_type": "execute_result"
    }
   ],
   "source": [
    "SELECT veteran_players.personId,\n",
    "       veteran_players.temporaryDisplayName\n",
    "  FROM veteran_players\n",
    "  LEFT JOIN top_scorers\n",
    "    ON veteran_players.personId = top_scorers.personId\n",
    " WHERE top_scorers.ppg IS NULL;"
   ]
  },
  {
   "cell_type": "markdown",
   "metadata": {
    "slideshow": {
     "slide_type": "subslide"
    }
   },
   "source": [
    "## Joining tables involves understanding how the database designer intends for the tables to relate, also known as the database’s relational model"
   ]
  },
  {
   "cell_type": "markdown",
   "metadata": {
    "slideshow": {
     "slide_type": "subslide"
    }
   },
   "source": [
    "## The three types of table relationships are straight-forward\n",
    "\n",
    "- one to one\n",
    "- one to many\n",
    "- many to many"
   ]
  },
  {
   "cell_type": "markdown",
   "metadata": {
    "slideshow": {
     "slide_type": "subslide"
    }
   },
   "source": [
    "## One-to-One Relationship\n",
    "\n",
    "There is only one match for each of the two tables. In addition, there are no duplicate id values in either table, say the relationship between active players and their career summaries."
   ]
  },
  {
   "cell_type": "code",
   "execution_count": 30,
   "metadata": {
    "slideshow": {
     "slide_type": "subslide"
    }
   },
   "outputs": [
    {
     "data": {
      "text/html": [
       "<table>\n",
       "<tr>\n",
       "<th>firstName</th>\n",
       "<th>lastName</th>\n",
       "<th>temporaryDisplayName</th>\n",
       "<th>personId</th>\n",
       "<th>teamId</th>\n",
       "<th>jersey</th>\n",
       "<th>pos</th>\n",
       "<th>heightFeet</th>\n",
       "<th>heightInches</th>\n",
       "<th>heightMeters</th>\n",
       "<th>weightPounds</th>\n",
       "<th>weightKilograms</th>\n",
       "<th>dateOfBirthUTC</th>\n",
       "<th>nbaDebutYear</th>\n",
       "<th>yearsPro</th>\n",
       "<th>collegeName</th>\n",
       "<th>lastAffiliation</th>\n",
       "<th>country</th>\n",
       "<th>personId</th>\n",
       "<th>tpp</th>\n",
       "<th>ftp</th>\n",
       "<th>fgp</th>\n",
       "<th>ppg</th>\n",
       "<th>rpg</th>\n",
       "<th>apg</th>\n",
       "<th>bpg</th>\n",
       "<th>mpg</th>\n",
       "<th>spg</th>\n",
       "<th>assists</th>\n",
       "<th>blocks</th>\n",
       "<th>steals</th>\n",
       "<th>turnovers</th>\n",
       "<th>offReb</th>\n",
       "<th>defReb</th>\n",
       "<th>totReb</th>\n",
       "<th>fgm</th>\n",
       "<th>fga</th>\n",
       "<th>tpm</th>\n",
       "<th>tpa</th>\n",
       "<th>ftm</th>\n",
       "<th>fta</th>\n",
       "<th>pFouls</th>\n",
       "<th>points</th>\n",
       "<th>gamesPlayed</th>\n",
       "<th>gamesStarted</th>\n",
       "<th>plusMinus</th>\n",
       "<th>min</th>\n",
       "<th>dd2</th>\n",
       "<th>td3</th>\n",
       "</tr>\n",
       "<tr>\n",
       "<td>LeBron</td>\n",
       "<td>James</td>\n",
       "<td>James, LeBron</td>\n",
       "<td>2544</td>\n",
       "<td>1610612747</td>\n",
       "<td>23</td>\n",
       "<td>F</td>\n",
       "<td>6</td>\n",
       "<td>9</td>\n",
       "<td>2.06</td>\n",
       "<td>250</td>\n",
       "<td>113.4</td>\n",
       "<td>1984-12-30</td>\n",
       "<td>2003</td>\n",
       "<td>17</td>\n",
       "<td>St. Vincent-St. Mary HS (OH)</td>\n",
       "<td>St. Vincent-St. Mary HS (OH)/USA</td>\n",
       "<td>USA</td>\n",
       "<td>2544</td>\n",
       "<td>34.5</td>\n",
       "<td>73.4</td>\n",
       "<td>50.4</td>\n",
       "<td>27</td>\n",
       "<td>7.5</td>\n",
       "<td>7.4</td>\n",
       "<td>0.8</td>\n",
       "<td>38.3</td>\n",
       "<td>1.6</td>\n",
       "<td>9659</td>\n",
       "<td>980</td>\n",
       "<td>2057</td>\n",
       "<td>4572</td>\n",
       "<td>1532</td>\n",
       "<td>8187</td>\n",
       "<td>9719</td>\n",
       "<td>12852</td>\n",
       "<td>25508</td>\n",
       "<td>1968</td>\n",
       "<td>5708</td>\n",
       "<td>7564</td>\n",
       "<td>10312</td>\n",
       "<td>2388</td>\n",
       "<td>35236</td>\n",
       "<td>1304</td>\n",
       "<td>1303</td>\n",
       "<td>7128</td>\n",
       "<td>49890</td>\n",
       "<td>507</td>\n",
       "<td>99</td>\n",
       "</tr>\n",
       "<tr>\n",
       "<td>Carmelo</td>\n",
       "<td>Anthony</td>\n",
       "<td>Anthony, Carmelo</td>\n",
       "<td>2546</td>\n",
       "<td>1610612757</td>\n",
       "<td>0</td>\n",
       "<td>F</td>\n",
       "<td>6</td>\n",
       "<td>7</td>\n",
       "<td>2.01</td>\n",
       "<td>238</td>\n",
       "<td>108</td>\n",
       "<td>1984-05-29</td>\n",
       "<td>2003</td>\n",
       "<td>17</td>\n",
       "<td>Syracuse</td>\n",
       "<td>Syracuse/USA</td>\n",
       "<td>USA</td>\n",
       "<td>2546</td>\n",
       "<td>35</td>\n",
       "<td>81.3</td>\n",
       "<td>44.7</td>\n",
       "<td>23.3</td>\n",
       "<td>6.4</td>\n",
       "<td>2.9</td>\n",
       "<td>0.5</td>\n",
       "<td>35.4</td>\n",
       "<td>1</td>\n",
       "<td>3317</td>\n",
       "<td>584</td>\n",
       "<td>1165</td>\n",
       "<td>2973</td>\n",
       "<td>1912</td>\n",
       "<td>5522</td>\n",
       "<td>7434</td>\n",
       "<td>9661</td>\n",
       "<td>21596</td>\n",
       "<td>1516</td>\n",
       "<td>4327</td>\n",
       "<td>6142</td>\n",
       "<td>7557</td>\n",
       "<td>3317</td>\n",
       "<td>26980</td>\n",
       "<td>1160</td>\n",
       "<td>1117</td>\n",
       "<td>1545</td>\n",
       "<td>41014</td>\n",
       "<td>172</td>\n",
       "<td>2</td>\n",
       "</tr>\n",
       "<tr>\n",
       "<td>Udonis</td>\n",
       "<td>Haslem</td>\n",
       "<td>Haslem, Udonis</td>\n",
       "<td>2617</td>\n",
       "<td>1610612748</td>\n",
       "<td>40</td>\n",
       "<td>F</td>\n",
       "<td>6</td>\n",
       "<td>8</td>\n",
       "<td>2.03</td>\n",
       "<td>235</td>\n",
       "<td>106.6</td>\n",
       "<td>1980-06-09</td>\n",
       "<td>2003</td>\n",
       "<td>17</td>\n",
       "<td>Florida</td>\n",
       "<td>Florida/USA</td>\n",
       "<td>USA</td>\n",
       "<td>2617</td>\n",
       "<td>8.6</td>\n",
       "<td>75.5</td>\n",
       "<td>48.9</td>\n",
       "<td>7.6</td>\n",
       "<td>6.7</td>\n",
       "<td>0.8</td>\n",
       "<td>0.3</td>\n",
       "<td>25.1</td>\n",
       "<td>0.5</td>\n",
       "<td>729</td>\n",
       "<td>249</td>\n",
       "<td>422</td>\n",
       "<td>804</td>\n",
       "<td>1607</td>\n",
       "<td>4147</td>\n",
       "<td>5754</td>\n",
       "<td>2643</td>\n",
       "<td>5400</td>\n",
       "<td>5</td>\n",
       "<td>58</td>\n",
       "<td>1232</td>\n",
       "<td>1631</td>\n",
       "<td>2043</td>\n",
       "<td>6523</td>\n",
       "<td>858</td>\n",
       "<td>500</td>\n",
       "<td>489</td>\n",
       "<td>21563</td>\n",
       "<td>134</td>\n",
       "<td>0</td>\n",
       "</tr>\n",
       "<tr>\n",
       "<td>Dwight</td>\n",
       "<td>Howard</td>\n",
       "<td>Howard, Dwight</td>\n",
       "<td>2730</td>\n",
       "<td>1610612755</td>\n",
       "<td>39</td>\n",
       "<td>C-F</td>\n",
       "<td>6</td>\n",
       "<td>10</td>\n",
       "<td>2.08</td>\n",
       "<td>265</td>\n",
       "<td>120.2</td>\n",
       "<td>1985-12-08</td>\n",
       "<td>2004</td>\n",
       "<td>16</td>\n",
       "<td>SW Atlanta Christian Academy (GA)</td>\n",
       "<td>SW Atlanta Christian Academy (GA)/USA</td>\n",
       "<td>USA</td>\n",
       "<td>2730</td>\n",
       "<td>15.9</td>\n",
       "<td>56.5</td>\n",
       "<td>58.6</td>\n",
       "<td>16.4</td>\n",
       "<td>12.1</td>\n",
       "<td>1.4</td>\n",
       "<td>1.9</td>\n",
       "<td>32.9</td>\n",
       "<td>0.9</td>\n",
       "<td>1610</td>\n",
       "<td>2169</td>\n",
       "<td>1035</td>\n",
       "<td>3213</td>\n",
       "<td>3946</td>\n",
       "<td>10066</td>\n",
       "<td>14012</td>\n",
       "<td>6844</td>\n",
       "<td>11673</td>\n",
       "<td>13</td>\n",
       "<td>82</td>\n",
       "<td>5205</td>\n",
       "<td>9212</td>\n",
       "<td>3722</td>\n",
       "<td>18906</td>\n",
       "<td>1154</td>\n",
       "<td>1049</td>\n",
       "<td>3015</td>\n",
       "<td>37983</td>\n",
       "<td>737</td>\n",
       "<td>1</td>\n",
       "</tr>\n",
       "<tr>\n",
       "<td>Andre</td>\n",
       "<td>Iguodala</td>\n",
       "<td>Iguodala, Andre</td>\n",
       "<td>2738</td>\n",
       "<td>1610612748</td>\n",
       "<td>28</td>\n",
       "<td>G-F</td>\n",
       "<td>6</td>\n",
       "<td>6</td>\n",
       "<td>1.98</td>\n",
       "<td>215</td>\n",
       "<td>97.5</td>\n",
       "<td>1984-01-28</td>\n",
       "<td>2004</td>\n",
       "<td>16</td>\n",
       "<td>Arizona</td>\n",
       "<td>Arizona/USA</td>\n",
       "<td>USA</td>\n",
       "<td>2738</td>\n",
       "<td>33.3</td>\n",
       "<td>70.8</td>\n",
       "<td>46.4</td>\n",
       "<td>11.8</td>\n",
       "<td>5</td>\n",
       "<td>4.2</td>\n",
       "<td>0.5</td>\n",
       "<td>32.8</td>\n",
       "<td>1.5</td>\n",
       "<td>4952</td>\n",
       "<td>590</td>\n",
       "<td>1715</td>\n",
       "<td>2174</td>\n",
       "<td>1077</td>\n",
       "<td>4771</td>\n",
       "<td>5848</td>\n",
       "<td>4941</td>\n",
       "<td>10644</td>\n",
       "<td>1045</td>\n",
       "<td>3135</td>\n",
       "<td>2805</td>\n",
       "<td>3960</td>\n",
       "<td>2097</td>\n",
       "<td>13732</td>\n",
       "<td>1167</td>\n",
       "<td>781</td>\n",
       "<td>2899</td>\n",
       "<td>38267</td>\n",
       "<td>81</td>\n",
       "<td>9</td>\n",
       "</tr>\n",
       "</table>\n",
       "5 rows in set (0.00 sec)"
      ],
      "text/plain": [
       "+-----------+----------+----------------------+----------+------------+--------+-----+------------+--------------+--------------+--------------+-----------------+----------------+--------------+----------+-----------------------------------+---------------------------------------+---------+----------+------+------+------+------+------+-----+-----+------+-----+---------+--------+--------+-----------+--------+--------+--------+-------+-------+------+------+------+-------+--------+--------+-------------+--------------+-----------+-------+-----+-----+\n",
       "| firstName | lastName | temporaryDisplayName | personId | teamId     | jersey | pos | heightFeet | heightInches | heightMeters | weightPounds | weightKilograms | dateOfBirthUTC | nbaDebutYear | yearsPro | collegeName                       | lastAffiliation                       | country | personId | tpp  | ftp  | fgp  | ppg  | rpg  | apg | bpg | mpg  | spg | assists | blocks | steals | turnovers | offReb | defReb | totReb | fgm   | fga   | tpm  | tpa  | ftm  | fta   | pFouls | points | gamesPlayed | gamesStarted | plusMinus | min   | dd2 | td3 |\n",
       "+-----------+----------+----------------------+----------+------------+--------+-----+------------+--------------+--------------+--------------+-----------------+----------------+--------------+----------+-----------------------------------+---------------------------------------+---------+----------+------+------+------+------+------+-----+-----+------+-----+---------+--------+--------+-----------+--------+--------+--------+-------+-------+------+------+------+-------+--------+--------+-------------+--------------+-----------+-------+-----+-----+\n",
       "| LeBron    | James    | James, LeBron        | 2544     | 1610612747 | 23     | F   | 6          | 9            | 2.06         | 250          | 113.4           | 1984-12-30     | 2003         | 17       | St. Vincent-St. Mary HS (OH)      | St. Vincent-St. Mary HS (OH)/USA      | USA     | 2544     | 34.5 | 73.4 | 50.4 | 27   | 7.5  | 7.4 | 0.8 | 38.3 | 1.6 | 9659    | 980    | 2057   | 4572      | 1532   | 8187   | 9719   | 12852 | 25508 | 1968 | 5708 | 7564 | 10312 | 2388   | 35236  | 1304        | 1303         | 7128      | 49890 | 507 | 99  |\n",
       "+-----------+----------+----------------------+----------+------------+--------+-----+------------+--------------+--------------+--------------+-----------------+----------------+--------------+----------+-----------------------------------+---------------------------------------+---------+----------+------+------+------+------+------+-----+-----+------+-----+---------+--------+--------+-----------+--------+--------+--------+-------+-------+------+------+------+-------+--------+--------+-------------+--------------+-----------+-------+-----+-----+\n",
       "| Carmelo   | Anthony  | Anthony, Carmelo     | 2546     | 1610612757 | 0      | F   | 6          | 7            | 2.01         | 238          | 108             | 1984-05-29     | 2003         | 17       | Syracuse                          | Syracuse/USA                          | USA     | 2546     | 35   | 81.3 | 44.7 | 23.3 | 6.4  | 2.9 | 0.5 | 35.4 | 1   | 3317    | 584    | 1165   | 2973      | 1912   | 5522   | 7434   | 9661  | 21596 | 1516 | 4327 | 6142 | 7557  | 3317   | 26980  | 1160        | 1117         | 1545      | 41014 | 172 | 2   |\n",
       "+-----------+----------+----------------------+----------+------------+--------+-----+------------+--------------+--------------+--------------+-----------------+----------------+--------------+----------+-----------------------------------+---------------------------------------+---------+----------+------+------+------+------+------+-----+-----+------+-----+---------+--------+--------+-----------+--------+--------+--------+-------+-------+------+------+------+-------+--------+--------+-------------+--------------+-----------+-------+-----+-----+\n",
       "| Udonis    | Haslem   | Haslem, Udonis       | 2617     | 1610612748 | 40     | F   | 6          | 8            | 2.03         | 235          | 106.6           | 1980-06-09     | 2003         | 17       | Florida                           | Florida/USA                           | USA     | 2617     | 8.6  | 75.5 | 48.9 | 7.6  | 6.7  | 0.8 | 0.3 | 25.1 | 0.5 | 729     | 249    | 422    | 804       | 1607   | 4147   | 5754   | 2643  | 5400  | 5    | 58   | 1232 | 1631  | 2043   | 6523   | 858         | 500          | 489       | 21563 | 134 | 0   |\n",
       "+-----------+----------+----------------------+----------+------------+--------+-----+------------+--------------+--------------+--------------+-----------------+----------------+--------------+----------+-----------------------------------+---------------------------------------+---------+----------+------+------+------+------+------+-----+-----+------+-----+---------+--------+--------+-----------+--------+--------+--------+-------+-------+------+------+------+-------+--------+--------+-------------+--------------+-----------+-------+-----+-----+\n",
       "| Dwight    | Howard   | Howard, Dwight       | 2730     | 1610612755 | 39     | C-F | 6          | 10           | 2.08         | 265          | 120.2           | 1985-12-08     | 2004         | 16       | SW Atlanta Christian Academy (GA) | SW Atlanta Christian Academy (GA)/USA | USA     | 2730     | 15.9 | 56.5 | 58.6 | 16.4 | 12.1 | 1.4 | 1.9 | 32.9 | 0.9 | 1610    | 2169   | 1035   | 3213      | 3946   | 10066  | 14012  | 6844  | 11673 | 13   | 82   | 5205 | 9212  | 3722   | 18906  | 1154        | 1049         | 3015      | 37983 | 737 | 1   |\n",
       "+-----------+----------+----------------------+----------+------------+--------+-----+------------+--------------+--------------+--------------+-----------------+----------------+--------------+----------+-----------------------------------+---------------------------------------+---------+----------+------+------+------+------+------+-----+-----+------+-----+---------+--------+--------+-----------+--------+--------+--------+-------+-------+------+------+------+-------+--------+--------+-------------+--------------+-----------+-------+-----+-----+\n",
       "| Andre     | Iguodala | Iguodala, Andre      | 2738     | 1610612748 | 28     | G-F | 6          | 6            | 1.98         | 215          | 97.5            | 1984-01-28     | 2004         | 16       | Arizona                           | Arizona/USA                           | USA     | 2738     | 33.3 | 70.8 | 46.4 | 11.8 | 5    | 4.2 | 0.5 | 32.8 | 1.5 | 4952    | 590    | 1715   | 2174      | 1077   | 4771   | 5848   | 4941  | 10644 | 1045 | 3135 | 2805 | 3960  | 2097   | 13732  | 1167        | 781          | 2899      | 38267 | 81  | 9   |\n",
       "+-----------+----------+----------------------+----------+------------+--------+-----+------------+--------------+--------------+--------------+-----------------+----------------+--------------+----------+-----------------------------------+---------------------------------------+---------+----------+------+------+------+------+------+-----+-----+------+-----+---------+--------+--------+-----------+--------+--------+--------+-------+-------+------+------+------+-------+--------+--------+-------------+--------------+-----------+-------+-----+-----+\n",
       "5 rows in set (0.00 sec)"
      ]
     },
     "execution_count": 30,
     "metadata": {},
     "output_type": "execute_result"
    }
   ],
   "source": [
    "SELECT *\n",
    "  FROM players\n",
    "  JOIN career_summaries\n",
    "    ON players.personId = career_summaries.personId\n",
    " LIMIT 5;"
   ]
  },
  {
   "cell_type": "markdown",
   "metadata": {
    "slideshow": {
     "slide_type": "subslide"
    }
   },
   "source": [
    "## One-to-Many Relationship\n",
    "\n",
    "A key value in the first table will have multiple matching values in the second table’s joined column, say the relationship between a team and its roster."
   ]
  },
  {
   "cell_type": "code",
   "execution_count": 31,
   "metadata": {
    "slideshow": {
     "slide_type": "subslide"
    }
   },
   "outputs": [
    {
     "data": {
      "text/html": [
       "<table>\n",
       "<tr>\n",
       "<th>isNBAFranchise</th>\n",
       "<th>isAllStar</th>\n",
       "<th>city</th>\n",
       "<th>altCityName</th>\n",
       "<th>fullName</th>\n",
       "<th>tricode</th>\n",
       "<th>teamId</th>\n",
       "<th>nickname</th>\n",
       "<th>urlName</th>\n",
       "<th>teamShortName</th>\n",
       "<th>confName</th>\n",
       "<th>divName</th>\n",
       "<th>firstName</th>\n",
       "<th>lastName</th>\n",
       "<th>temporaryDisplayName</th>\n",
       "<th>personId</th>\n",
       "<th>teamId</th>\n",
       "<th>jersey</th>\n",
       "<th>pos</th>\n",
       "<th>heightFeet</th>\n",
       "<th>heightInches</th>\n",
       "<th>heightMeters</th>\n",
       "<th>weightPounds</th>\n",
       "<th>weightKilograms</th>\n",
       "<th>dateOfBirthUTC</th>\n",
       "<th>nbaDebutYear</th>\n",
       "<th>yearsPro</th>\n",
       "<th>collegeName</th>\n",
       "<th>lastAffiliation</th>\n",
       "<th>country</th>\n",
       "</tr>\n",
       "<tr>\n",
       "<td>1</td>\n",
       "<td>0</td>\n",
       "<td>Los Angeles</td>\n",
       "<td>Los Angeles Lakers</td>\n",
       "<td>Los Angeles Lakers</td>\n",
       "<td>LAL</td>\n",
       "<td>1610612747</td>\n",
       "<td>Lakers</td>\n",
       "<td>lakers</td>\n",
       "<td>L.A. Lakers</td>\n",
       "<td>West</td>\n",
       "<td>Pacific</td>\n",
       "<td>LeBron</td>\n",
       "<td>James</td>\n",
       "<td>James, LeBron</td>\n",
       "<td>2544</td>\n",
       "<td>1610612747</td>\n",
       "<td>23</td>\n",
       "<td>F</td>\n",
       "<td>6</td>\n",
       "<td>9</td>\n",
       "<td>2.06</td>\n",
       "<td>250</td>\n",
       "<td>113.4</td>\n",
       "<td>1984-12-30</td>\n",
       "<td>2003</td>\n",
       "<td>17</td>\n",
       "<td>St. Vincent-St. Mary HS (OH)</td>\n",
       "<td>St. Vincent-St. Mary HS (OH)/USA</td>\n",
       "<td>USA</td>\n",
       "</tr>\n",
       "<tr>\n",
       "<td>1</td>\n",
       "<td>0</td>\n",
       "<td>Portland</td>\n",
       "<td>Portland</td>\n",
       "<td>Portland Trail Blazers</td>\n",
       "<td>POR</td>\n",
       "<td>1610612757</td>\n",
       "<td>Trail Blazers</td>\n",
       "<td>blazers</td>\n",
       "<td>Portland</td>\n",
       "<td>West</td>\n",
       "<td>Northwest</td>\n",
       "<td>Carmelo</td>\n",
       "<td>Anthony</td>\n",
       "<td>Anthony, Carmelo</td>\n",
       "<td>2546</td>\n",
       "<td>1610612757</td>\n",
       "<td>0</td>\n",
       "<td>F</td>\n",
       "<td>6</td>\n",
       "<td>7</td>\n",
       "<td>2.01</td>\n",
       "<td>238</td>\n",
       "<td>108</td>\n",
       "<td>1984-05-29</td>\n",
       "<td>2003</td>\n",
       "<td>17</td>\n",
       "<td>Syracuse</td>\n",
       "<td>Syracuse/USA</td>\n",
       "<td>USA</td>\n",
       "</tr>\n",
       "<tr>\n",
       "<td>1</td>\n",
       "<td>0</td>\n",
       "<td>Miami</td>\n",
       "<td>Miami</td>\n",
       "<td>Miami Heat</td>\n",
       "<td>MIA</td>\n",
       "<td>1610612748</td>\n",
       "<td>Heat</td>\n",
       "<td>heat</td>\n",
       "<td>Miami</td>\n",
       "<td>East</td>\n",
       "<td>Southeast</td>\n",
       "<td>Udonis</td>\n",
       "<td>Haslem</td>\n",
       "<td>Haslem, Udonis</td>\n",
       "<td>2617</td>\n",
       "<td>1610612748</td>\n",
       "<td>40</td>\n",
       "<td>F</td>\n",
       "<td>6</td>\n",
       "<td>8</td>\n",
       "<td>2.03</td>\n",
       "<td>235</td>\n",
       "<td>106.6</td>\n",
       "<td>1980-06-09</td>\n",
       "<td>2003</td>\n",
       "<td>17</td>\n",
       "<td>Florida</td>\n",
       "<td>Florida/USA</td>\n",
       "<td>USA</td>\n",
       "</tr>\n",
       "<tr>\n",
       "<td>1</td>\n",
       "<td>0</td>\n",
       "<td>Philadelphia</td>\n",
       "<td>Philadelphia</td>\n",
       "<td>Philadelphia 76ers</td>\n",
       "<td>PHI</td>\n",
       "<td>1610612755</td>\n",
       "<td>76ers</td>\n",
       "<td>sixers</td>\n",
       "<td>Philadelphia</td>\n",
       "<td>East</td>\n",
       "<td>Atlantic</td>\n",
       "<td>Dwight</td>\n",
       "<td>Howard</td>\n",
       "<td>Howard, Dwight</td>\n",
       "<td>2730</td>\n",
       "<td>1610612755</td>\n",
       "<td>39</td>\n",
       "<td>C-F</td>\n",
       "<td>6</td>\n",
       "<td>10</td>\n",
       "<td>2.08</td>\n",
       "<td>265</td>\n",
       "<td>120.2</td>\n",
       "<td>1985-12-08</td>\n",
       "<td>2004</td>\n",
       "<td>16</td>\n",
       "<td>SW Atlanta Christian Academy (GA)</td>\n",
       "<td>SW Atlanta Christian Academy (GA)/USA</td>\n",
       "<td>USA</td>\n",
       "</tr>\n",
       "<tr>\n",
       "<td>1</td>\n",
       "<td>0</td>\n",
       "<td>Miami</td>\n",
       "<td>Miami</td>\n",
       "<td>Miami Heat</td>\n",
       "<td>MIA</td>\n",
       "<td>1610612748</td>\n",
       "<td>Heat</td>\n",
       "<td>heat</td>\n",
       "<td>Miami</td>\n",
       "<td>East</td>\n",
       "<td>Southeast</td>\n",
       "<td>Andre</td>\n",
       "<td>Iguodala</td>\n",
       "<td>Iguodala, Andre</td>\n",
       "<td>2738</td>\n",
       "<td>1610612748</td>\n",
       "<td>28</td>\n",
       "<td>G-F</td>\n",
       "<td>6</td>\n",
       "<td>6</td>\n",
       "<td>1.98</td>\n",
       "<td>215</td>\n",
       "<td>97.5</td>\n",
       "<td>1984-01-28</td>\n",
       "<td>2004</td>\n",
       "<td>16</td>\n",
       "<td>Arizona</td>\n",
       "<td>Arizona/USA</td>\n",
       "<td>USA</td>\n",
       "</tr>\n",
       "</table>\n",
       "5 rows in set (0.00 sec)"
      ],
      "text/plain": [
       "+----------------+-----------+--------------+--------------------+------------------------+---------+------------+---------------+---------+---------------+----------+-----------+-----------+----------+----------------------+----------+------------+--------+-----+------------+--------------+--------------+--------------+-----------------+----------------+--------------+----------+-----------------------------------+---------------------------------------+---------+\n",
       "| isNBAFranchise | isAllStar | city         | altCityName        | fullName               | tricode | teamId     | nickname      | urlName | teamShortName | confName | divName   | firstName | lastName | temporaryDisplayName | personId | teamId     | jersey | pos | heightFeet | heightInches | heightMeters | weightPounds | weightKilograms | dateOfBirthUTC | nbaDebutYear | yearsPro | collegeName                       | lastAffiliation                       | country |\n",
       "+----------------+-----------+--------------+--------------------+------------------------+---------+------------+---------------+---------+---------------+----------+-----------+-----------+----------+----------------------+----------+------------+--------+-----+------------+--------------+--------------+--------------+-----------------+----------------+--------------+----------+-----------------------------------+---------------------------------------+---------+\n",
       "| 1              | 0         | Los Angeles  | Los Angeles Lakers | Los Angeles Lakers     | LAL     | 1610612747 | Lakers        | lakers  | L.A. Lakers   | West     | Pacific   | LeBron    | James    | James, LeBron        | 2544     | 1610612747 | 23     | F   | 6          | 9            | 2.06         | 250          | 113.4           | 1984-12-30     | 2003         | 17       | St. Vincent-St. Mary HS (OH)      | St. Vincent-St. Mary HS (OH)/USA      | USA     |\n",
       "+----------------+-----------+--------------+--------------------+------------------------+---------+------------+---------------+---------+---------------+----------+-----------+-----------+----------+----------------------+----------+------------+--------+-----+------------+--------------+--------------+--------------+-----------------+----------------+--------------+----------+-----------------------------------+---------------------------------------+---------+\n",
       "| 1              | 0         | Portland     | Portland           | Portland Trail Blazers | POR     | 1610612757 | Trail Blazers | blazers | Portland      | West     | Northwest | Carmelo   | Anthony  | Anthony, Carmelo     | 2546     | 1610612757 | 0      | F   | 6          | 7            | 2.01         | 238          | 108             | 1984-05-29     | 2003         | 17       | Syracuse                          | Syracuse/USA                          | USA     |\n",
       "+----------------+-----------+--------------+--------------------+------------------------+---------+------------+---------------+---------+---------------+----------+-----------+-----------+----------+----------------------+----------+------------+--------+-----+------------+--------------+--------------+--------------+-----------------+----------------+--------------+----------+-----------------------------------+---------------------------------------+---------+\n",
       "| 1              | 0         | Miami        | Miami              | Miami Heat             | MIA     | 1610612748 | Heat          | heat    | Miami         | East     | Southeast | Udonis    | Haslem   | Haslem, Udonis       | 2617     | 1610612748 | 40     | F   | 6          | 8            | 2.03         | 235          | 106.6           | 1980-06-09     | 2003         | 17       | Florida                           | Florida/USA                           | USA     |\n",
       "+----------------+-----------+--------------+--------------------+------------------------+---------+------------+---------------+---------+---------------+----------+-----------+-----------+----------+----------------------+----------+------------+--------+-----+------------+--------------+--------------+--------------+-----------------+----------------+--------------+----------+-----------------------------------+---------------------------------------+---------+\n",
       "| 1              | 0         | Philadelphia | Philadelphia       | Philadelphia 76ers     | PHI     | 1610612755 | 76ers         | sixers  | Philadelphia  | East     | Atlantic  | Dwight    | Howard   | Howard, Dwight       | 2730     | 1610612755 | 39     | C-F | 6          | 10           | 2.08         | 265          | 120.2           | 1985-12-08     | 2004         | 16       | SW Atlanta Christian Academy (GA) | SW Atlanta Christian Academy (GA)/USA | USA     |\n",
       "+----------------+-----------+--------------+--------------------+------------------------+---------+------------+---------------+---------+---------------+----------+-----------+-----------+----------+----------------------+----------+------------+--------+-----+------------+--------------+--------------+--------------+-----------------+----------------+--------------+----------+-----------------------------------+---------------------------------------+---------+\n",
       "| 1              | 0         | Miami        | Miami              | Miami Heat             | MIA     | 1610612748 | Heat          | heat    | Miami         | East     | Southeast | Andre     | Iguodala | Iguodala, Andre      | 2738     | 1610612748 | 28     | G-F | 6          | 6            | 1.98         | 215          | 97.5            | 1984-01-28     | 2004         | 16       | Arizona                           | Arizona/USA                           | USA     |\n",
       "+----------------+-----------+--------------+--------------------+------------------------+---------+------------+---------------+---------+---------------+----------+-----------+-----------+----------+----------------------+----------+------------+--------+-----+------------+--------------+--------------+--------------+-----------------+----------------+--------------+----------+-----------------------------------+---------------------------------------+---------+\n",
       "5 rows in set (0.00 sec)"
      ]
     },
     "execution_count": 31,
     "metadata": {},
     "output_type": "execute_result"
    }
   ],
   "source": [
    "SELECT *\n",
    "  FROM teams\n",
    "  JOIN players\n",
    "    ON teams.teamId = players.teamId\n",
    " LIMIT 5;"
   ]
  },
  {
   "cell_type": "markdown",
   "metadata": {
    "slideshow": {
     "slide_type": "subslide"
    }
   },
   "source": [
    "## Joining tables is like concatenating tables horizontally\n",
    "\n",
    "![Imgur](https://i.imgur.com/hq7fS67.png)\n",
    "\n",
    "Source: [Pandas User Guide](https://pandas.pydata.org/pandas-docs/stable/user_guide/merging.html)"
   ]
  },
  {
   "cell_type": "markdown",
   "metadata": {
    "slideshow": {
     "slide_type": "subslide"
    }
   },
   "source": [
    "## We can also concatenating tables vertically via `UNION` clause\n",
    "\n",
    "![Imgur](https://i.imgur.com/B7xawvp.png)\n",
    "\n",
    "Source: [Pandas User Guide](https://pandas.pydata.org/pandas-docs/stable/user_guide/merging.html)"
   ]
  },
  {
   "cell_type": "code",
   "execution_count": 32,
   "metadata": {
    "slideshow": {
     "slide_type": "subslide"
    }
   },
   "outputs": [
    {
     "data": {
      "text/html": [
       "<table>\n",
       "<tr>\n",
       "<th>firstName</th>\n",
       "<th>lastName</th>\n",
       "<th>category</th>\n",
       "<th>value</th>\n",
       "</tr>\n",
       "<tr>\n",
       "<td>LeBron</td>\n",
       "<td>James</td>\n",
       "<td>height</td>\n",
       "<td>2.06</td>\n",
       "</tr>\n",
       "<tr>\n",
       "<td>LeBron</td>\n",
       "<td>James</td>\n",
       "<td>weight</td>\n",
       "<td>113.4</td>\n",
       "</tr>\n",
       "</table>\n",
       "2 rows in set (0.00 sec)"
      ],
      "text/plain": [
       "+-----------+----------+----------+-------+\n",
       "| firstName | lastName | category | value |\n",
       "+-----------+----------+----------+-------+\n",
       "| LeBron    | James    | height   | 2.06  |\n",
       "+-----------+----------+----------+-------+\n",
       "| LeBron    | James    | weight   | 113.4 |\n",
       "+-----------+----------+----------+-------+\n",
       "2 rows in set (0.00 sec)"
      ]
     },
     "execution_count": 32,
     "metadata": {},
     "output_type": "execute_result"
    }
   ],
   "source": [
    "SELECT firstName,\n",
    "       lastName,\n",
    "       'height' AS category,\n",
    "       heightmeters AS value\n",
    "  FROM players\n",
    " WHERE firstName = 'LeBron'\n",
    " UNION\n",
    "SELECT firstName,\n",
    "       lastName,\n",
    "       'weight' AS category,\n",
    "       weightKilograms AS value\n",
    "  FROM players\n",
    " WHERE firstName = 'LeBron';"
   ]
  }
 ],
 "metadata": {
  "celltoolbar": "Slideshow",
  "kernelspec": {
   "display_name": "xsql",
   "language": "sqlite",
   "name": "xsql"
  },
  "language_info": {
   "codemirror_mode": "sql",
   "file_extension": "",
   "mimetype": "",
   "name": "mysql",
   "version": "0.0.8"
  }
 },
 "nbformat": 4,
 "nbformat_minor": 4
}
