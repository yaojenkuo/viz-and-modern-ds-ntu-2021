{
 "cells": [
  {
   "cell_type": "markdown",
   "metadata": {
    "slideshow": {
     "slide_type": "slide"
    }
   },
   "source": [
    "# Visualization and Modern Data Science\n",
    "\n",
    "> Getting Started with SQL\n",
    "\n",
    "Kuo, Yao-Jen <yaojenkuo@ntu.edu.tw> from [DATAINPOINT](https://www.datainpoint.com)"
   ]
  },
  {
   "cell_type": "code",
   "execution_count": 1,
   "metadata": {
    "slideshow": {
     "slide_type": "subslide"
    }
   },
   "outputs": [],
   "source": [
    "import sqlite3\n",
    "import pandas as pd\n",
    "from ks2020 import KaggleSurvey2020"
   ]
  },
  {
   "cell_type": "markdown",
   "metadata": {
    "slideshow": {
     "slide_type": "slide"
    }
   },
   "source": [
    "## The What and Why Part of SQL"
   ]
  },
  {
   "cell_type": "markdown",
   "metadata": {
    "slideshow": {
     "slide_type": "subslide"
    }
   },
   "source": [
    "## What is SQL?\n",
    "\n",
    "> SQL(pronounced ess-que-ell or sequel) is a language specifically designed with databases in mind. SQL enables people to create databases, add new data to them, maintain the data in them, and retrieve selected parts of the data. Developed in the 1970s at IBM, SQL has grown and advanced over the years to become the industry standard.\n",
    "\n",
    "Source: <https://www.amazon.com/SQL-Dummies-Computer-Tech/dp/1119527074/>"
   ]
  },
  {
   "cell_type": "markdown",
   "metadata": {
    "slideshow": {
     "slide_type": "subslide"
    }
   },
   "source": [
    "## Why SQL?\n",
    "\n",
    "- SQL gives us improved programmatic control over the structure of data, leading to efficiency, speed, and accuracy\n",
    "- SQL is also an excellent adjunct to programming languages used in the data sciences, such as R and Python\n",
    "- For people with no background in programming languages, SQL often serves as an easy-to-understand introduction into concepts related to data structures and programming logic"
   ]
  },
  {
   "cell_type": "markdown",
   "metadata": {
    "slideshow": {
     "slide_type": "subslide"
    }
   },
   "source": [
    "## What is a database?\n",
    "\n",
    "> A database is like a collection of data items (comic books, product orders and player profile).If we define the term more strictly, a database is a **self-describing** collection of **integrated records**. A record is a representation of some physical or conceptual object.\n",
    "\n",
    "Source: <https://www.amazon.com/SQL-Dummies-Computer-Tech/dp/1119527074/>"
   ]
  },
  {
   "cell_type": "markdown",
   "metadata": {
    "slideshow": {
     "slide_type": "subslide"
    }
   },
   "source": [
    "## Characteristics of a database\n",
    "\n",
    "- Integrated records: the observations in a database is accompanied by attributes\n",
    "- Self-describing: a database contains metadata"
   ]
  },
  {
   "cell_type": "markdown",
   "metadata": {
    "slideshow": {
     "slide_type": "subslide"
    }
   },
   "source": [
    "## What does integrated records mean?"
   ]
  },
  {
   "cell_type": "code",
   "execution_count": 2,
   "metadata": {
    "slideshow": {
     "slide_type": "skip"
    }
   },
   "outputs": [],
   "source": [
    "def show_without_attributes():\n",
    "    conn = sqlite3.connect('../datasets/nba.db')\n",
    "    df = pd.read_sql(\"\"\"SELECT * FROM players LIMIT 5;\"\"\", conn)\n",
    "    return df.loc[:, ].values"
   ]
  },
  {
   "cell_type": "code",
   "execution_count": 3,
   "metadata": {},
   "outputs": [
    {
     "data": {
      "text/plain": [
       "array([['LeBron', 'James', 'James, LeBron', 2544, 1610612747, 23, 'F', 6,\n",
       "        9, 2.06, 250.0, 113.4, '1984-12-30', 2003, 17,\n",
       "        'St. Vincent-St. Mary HS (OH)',\n",
       "        'St. Vincent-St. Mary HS (OH)/USA', 'USA'],\n",
       "       ['Carmelo', 'Anthony', 'Anthony, Carmelo', 2546, 1610612757, 0,\n",
       "        'F', 6, 7, 2.01, 238.0, 108.0, '1984-05-29', 2003, 17,\n",
       "        'Syracuse', 'Syracuse/USA', 'USA'],\n",
       "       ['Udonis', 'Haslem', 'Haslem, Udonis', 2617, 1610612748, 40, 'F',\n",
       "        6, 8, 2.03, 235.0, 106.6, '1980-06-09', 2003, 17, 'Florida',\n",
       "        'Florida/USA', 'USA'],\n",
       "       ['Dwight', 'Howard', 'Howard, Dwight', 2730, 1610612755, 39,\n",
       "        'C-F', 6, 10, 2.08, 265.0, 120.2, '1985-12-08', 2004, 16,\n",
       "        'SW Atlanta Christian Academy (GA)',\n",
       "        'SW Atlanta Christian Academy (GA)/USA', 'USA'],\n",
       "       ['Andre', 'Iguodala', 'Iguodala, Andre', 2738, 1610612748, 28,\n",
       "        'G-F', 6, 6, 1.98, 215.0, 97.5, '1984-01-28', 2004, 16,\n",
       "        'Arizona', 'Arizona/USA', 'USA']], dtype=object)"
      ]
     },
     "execution_count": 3,
     "metadata": {},
     "output_type": "execute_result"
    }
   ],
   "source": [
    "show_without_attributes()"
   ]
  },
  {
   "cell_type": "code",
   "execution_count": 4,
   "metadata": {
    "slideshow": {
     "slide_type": "skip"
    }
   },
   "outputs": [],
   "source": [
    "def show_with_attributes():\n",
    "    conn = sqlite3.connect('../datasets/nba.db')\n",
    "    df = pd.read_sql(\"\"\"SELECT * FROM players LIMIT 5;\"\"\", conn)\n",
    "    return df"
   ]
  },
  {
   "cell_type": "code",
   "execution_count": 5,
   "metadata": {
    "slideshow": {
     "slide_type": "subslide"
    }
   },
   "outputs": [
    {
     "data": {
      "text/html": [
       "<div>\n",
       "<style scoped>\n",
       "    .dataframe tbody tr th:only-of-type {\n",
       "        vertical-align: middle;\n",
       "    }\n",
       "\n",
       "    .dataframe tbody tr th {\n",
       "        vertical-align: top;\n",
       "    }\n",
       "\n",
       "    .dataframe thead th {\n",
       "        text-align: right;\n",
       "    }\n",
       "</style>\n",
       "<table border=\"1\" class=\"dataframe\">\n",
       "  <thead>\n",
       "    <tr style=\"text-align: right;\">\n",
       "      <th></th>\n",
       "      <th>firstName</th>\n",
       "      <th>lastName</th>\n",
       "      <th>temporaryDisplayName</th>\n",
       "      <th>personId</th>\n",
       "      <th>teamId</th>\n",
       "      <th>jersey</th>\n",
       "      <th>pos</th>\n",
       "      <th>heightFeet</th>\n",
       "      <th>heightInches</th>\n",
       "      <th>heightMeters</th>\n",
       "      <th>weightPounds</th>\n",
       "      <th>weightKilograms</th>\n",
       "      <th>dateOfBirthUTC</th>\n",
       "      <th>nbaDebutYear</th>\n",
       "      <th>yearsPro</th>\n",
       "      <th>collegeName</th>\n",
       "      <th>lastAffiliation</th>\n",
       "      <th>country</th>\n",
       "    </tr>\n",
       "  </thead>\n",
       "  <tbody>\n",
       "    <tr>\n",
       "      <th>0</th>\n",
       "      <td>LeBron</td>\n",
       "      <td>James</td>\n",
       "      <td>James, LeBron</td>\n",
       "      <td>2544</td>\n",
       "      <td>1610612747</td>\n",
       "      <td>23</td>\n",
       "      <td>F</td>\n",
       "      <td>6</td>\n",
       "      <td>9</td>\n",
       "      <td>2.06</td>\n",
       "      <td>250.0</td>\n",
       "      <td>113.4</td>\n",
       "      <td>1984-12-30</td>\n",
       "      <td>2003</td>\n",
       "      <td>17</td>\n",
       "      <td>St. Vincent-St. Mary HS (OH)</td>\n",
       "      <td>St. Vincent-St. Mary HS (OH)/USA</td>\n",
       "      <td>USA</td>\n",
       "    </tr>\n",
       "    <tr>\n",
       "      <th>1</th>\n",
       "      <td>Carmelo</td>\n",
       "      <td>Anthony</td>\n",
       "      <td>Anthony, Carmelo</td>\n",
       "      <td>2546</td>\n",
       "      <td>1610612757</td>\n",
       "      <td>0</td>\n",
       "      <td>F</td>\n",
       "      <td>6</td>\n",
       "      <td>7</td>\n",
       "      <td>2.01</td>\n",
       "      <td>238.0</td>\n",
       "      <td>108.0</td>\n",
       "      <td>1984-05-29</td>\n",
       "      <td>2003</td>\n",
       "      <td>17</td>\n",
       "      <td>Syracuse</td>\n",
       "      <td>Syracuse/USA</td>\n",
       "      <td>USA</td>\n",
       "    </tr>\n",
       "    <tr>\n",
       "      <th>2</th>\n",
       "      <td>Udonis</td>\n",
       "      <td>Haslem</td>\n",
       "      <td>Haslem, Udonis</td>\n",
       "      <td>2617</td>\n",
       "      <td>1610612748</td>\n",
       "      <td>40</td>\n",
       "      <td>F</td>\n",
       "      <td>6</td>\n",
       "      <td>8</td>\n",
       "      <td>2.03</td>\n",
       "      <td>235.0</td>\n",
       "      <td>106.6</td>\n",
       "      <td>1980-06-09</td>\n",
       "      <td>2003</td>\n",
       "      <td>17</td>\n",
       "      <td>Florida</td>\n",
       "      <td>Florida/USA</td>\n",
       "      <td>USA</td>\n",
       "    </tr>\n",
       "    <tr>\n",
       "      <th>3</th>\n",
       "      <td>Dwight</td>\n",
       "      <td>Howard</td>\n",
       "      <td>Howard, Dwight</td>\n",
       "      <td>2730</td>\n",
       "      <td>1610612755</td>\n",
       "      <td>39</td>\n",
       "      <td>C-F</td>\n",
       "      <td>6</td>\n",
       "      <td>10</td>\n",
       "      <td>2.08</td>\n",
       "      <td>265.0</td>\n",
       "      <td>120.2</td>\n",
       "      <td>1985-12-08</td>\n",
       "      <td>2004</td>\n",
       "      <td>16</td>\n",
       "      <td>SW Atlanta Christian Academy (GA)</td>\n",
       "      <td>SW Atlanta Christian Academy (GA)/USA</td>\n",
       "      <td>USA</td>\n",
       "    </tr>\n",
       "    <tr>\n",
       "      <th>4</th>\n",
       "      <td>Andre</td>\n",
       "      <td>Iguodala</td>\n",
       "      <td>Iguodala, Andre</td>\n",
       "      <td>2738</td>\n",
       "      <td>1610612748</td>\n",
       "      <td>28</td>\n",
       "      <td>G-F</td>\n",
       "      <td>6</td>\n",
       "      <td>6</td>\n",
       "      <td>1.98</td>\n",
       "      <td>215.0</td>\n",
       "      <td>97.5</td>\n",
       "      <td>1984-01-28</td>\n",
       "      <td>2004</td>\n",
       "      <td>16</td>\n",
       "      <td>Arizona</td>\n",
       "      <td>Arizona/USA</td>\n",
       "      <td>USA</td>\n",
       "    </tr>\n",
       "  </tbody>\n",
       "</table>\n",
       "</div>"
      ],
      "text/plain": [
       "  firstName  lastName temporaryDisplayName  personId      teamId  jersey  pos  \\\n",
       "0    LeBron     James        James, LeBron      2544  1610612747      23    F   \n",
       "1   Carmelo   Anthony     Anthony, Carmelo      2546  1610612757       0    F   \n",
       "2    Udonis    Haslem       Haslem, Udonis      2617  1610612748      40    F   \n",
       "3    Dwight    Howard       Howard, Dwight      2730  1610612755      39  C-F   \n",
       "4     Andre  Iguodala      Iguodala, Andre      2738  1610612748      28  G-F   \n",
       "\n",
       "   heightFeet  heightInches  heightMeters  weightPounds  weightKilograms  \\\n",
       "0           6             9          2.06         250.0            113.4   \n",
       "1           6             7          2.01         238.0            108.0   \n",
       "2           6             8          2.03         235.0            106.6   \n",
       "3           6            10          2.08         265.0            120.2   \n",
       "4           6             6          1.98         215.0             97.5   \n",
       "\n",
       "  dateOfBirthUTC  nbaDebutYear  yearsPro                        collegeName  \\\n",
       "0     1984-12-30          2003        17       St. Vincent-St. Mary HS (OH)   \n",
       "1     1984-05-29          2003        17                           Syracuse   \n",
       "2     1980-06-09          2003        17                            Florida   \n",
       "3     1985-12-08          2004        16  SW Atlanta Christian Academy (GA)   \n",
       "4     1984-01-28          2004        16                            Arizona   \n",
       "\n",
       "                         lastAffiliation country  \n",
       "0       St. Vincent-St. Mary HS (OH)/USA     USA  \n",
       "1                           Syracuse/USA     USA  \n",
       "2                            Florida/USA     USA  \n",
       "3  SW Atlanta Christian Academy (GA)/USA     USA  \n",
       "4                            Arizona/USA     USA  "
      ]
     },
     "execution_count": 5,
     "metadata": {},
     "output_type": "execute_result"
    }
   ],
   "source": [
    "show_with_attributes()"
   ]
  },
  {
   "cell_type": "markdown",
   "metadata": {
    "slideshow": {
     "slide_type": "subslide"
    }
   },
   "source": [
    "## What does self-describing mean?\n",
    "\n",
    "> Metadata is \"data that provides information about other data\". In other words, it is \"data about data\".\n",
    "\n",
    "Source: <https://en.wikipedia.org/wiki/Metadata>"
   ]
  },
  {
   "cell_type": "markdown",
   "metadata": {
    "slideshow": {
     "slide_type": "subslide"
    }
   },
   "source": [
    "## Seriously, what the `f***` is metadata?\n",
    "\n",
    "![](https://media.giphy.com/media/xT0xeif517lOYwnH2g/giphy.gif)\n",
    "\n",
    "Source: <https://giphy.com/>"
   ]
  },
  {
   "cell_type": "code",
   "execution_count": 6,
   "metadata": {
    "slideshow": {
     "slide_type": "skip"
    }
   },
   "outputs": [],
   "source": [
    "def show_metadata():\n",
    "    conn = sqlite3.connect('../datasets/nba.db')\n",
    "    df = pd.read_sql(\"\"\"SELECT * FROM PRAGMA_TABLE_INFO('players');\"\"\", conn)\n",
    "    return df"
   ]
  },
  {
   "cell_type": "code",
   "execution_count": 7,
   "metadata": {
    "slideshow": {
     "slide_type": "subslide"
    }
   },
   "outputs": [
    {
     "data": {
      "text/html": [
       "<div>\n",
       "<style scoped>\n",
       "    .dataframe tbody tr th:only-of-type {\n",
       "        vertical-align: middle;\n",
       "    }\n",
       "\n",
       "    .dataframe tbody tr th {\n",
       "        vertical-align: top;\n",
       "    }\n",
       "\n",
       "    .dataframe thead th {\n",
       "        text-align: right;\n",
       "    }\n",
       "</style>\n",
       "<table border=\"1\" class=\"dataframe\">\n",
       "  <thead>\n",
       "    <tr style=\"text-align: right;\">\n",
       "      <th></th>\n",
       "      <th>cid</th>\n",
       "      <th>name</th>\n",
       "      <th>type</th>\n",
       "      <th>notnull</th>\n",
       "      <th>dflt_value</th>\n",
       "      <th>pk</th>\n",
       "    </tr>\n",
       "  </thead>\n",
       "  <tbody>\n",
       "    <tr>\n",
       "      <th>0</th>\n",
       "      <td>0</td>\n",
       "      <td>firstName</td>\n",
       "      <td>TEXT</td>\n",
       "      <td>0</td>\n",
       "      <td>None</td>\n",
       "      <td>0</td>\n",
       "    </tr>\n",
       "    <tr>\n",
       "      <th>1</th>\n",
       "      <td>1</td>\n",
       "      <td>lastName</td>\n",
       "      <td>TEXT</td>\n",
       "      <td>0</td>\n",
       "      <td>None</td>\n",
       "      <td>0</td>\n",
       "    </tr>\n",
       "    <tr>\n",
       "      <th>2</th>\n",
       "      <td>2</td>\n",
       "      <td>temporaryDisplayName</td>\n",
       "      <td>TEXT</td>\n",
       "      <td>0</td>\n",
       "      <td>None</td>\n",
       "      <td>0</td>\n",
       "    </tr>\n",
       "    <tr>\n",
       "      <th>3</th>\n",
       "      <td>3</td>\n",
       "      <td>personId</td>\n",
       "      <td>INTEGER</td>\n",
       "      <td>0</td>\n",
       "      <td>None</td>\n",
       "      <td>1</td>\n",
       "    </tr>\n",
       "    <tr>\n",
       "      <th>4</th>\n",
       "      <td>4</td>\n",
       "      <td>teamId</td>\n",
       "      <td>INTEGER</td>\n",
       "      <td>0</td>\n",
       "      <td>None</td>\n",
       "      <td>0</td>\n",
       "    </tr>\n",
       "    <tr>\n",
       "      <th>5</th>\n",
       "      <td>5</td>\n",
       "      <td>jersey</td>\n",
       "      <td>INTEGER</td>\n",
       "      <td>0</td>\n",
       "      <td>None</td>\n",
       "      <td>0</td>\n",
       "    </tr>\n",
       "    <tr>\n",
       "      <th>6</th>\n",
       "      <td>6</td>\n",
       "      <td>pos</td>\n",
       "      <td>TEXT</td>\n",
       "      <td>0</td>\n",
       "      <td>None</td>\n",
       "      <td>0</td>\n",
       "    </tr>\n",
       "    <tr>\n",
       "      <th>7</th>\n",
       "      <td>7</td>\n",
       "      <td>heightFeet</td>\n",
       "      <td>INTEGER</td>\n",
       "      <td>0</td>\n",
       "      <td>None</td>\n",
       "      <td>0</td>\n",
       "    </tr>\n",
       "    <tr>\n",
       "      <th>8</th>\n",
       "      <td>8</td>\n",
       "      <td>heightInches</td>\n",
       "      <td>INTEGER</td>\n",
       "      <td>0</td>\n",
       "      <td>None</td>\n",
       "      <td>0</td>\n",
       "    </tr>\n",
       "    <tr>\n",
       "      <th>9</th>\n",
       "      <td>9</td>\n",
       "      <td>heightMeters</td>\n",
       "      <td>REAL</td>\n",
       "      <td>0</td>\n",
       "      <td>None</td>\n",
       "      <td>0</td>\n",
       "    </tr>\n",
       "    <tr>\n",
       "      <th>10</th>\n",
       "      <td>10</td>\n",
       "      <td>weightPounds</td>\n",
       "      <td>REAL</td>\n",
       "      <td>0</td>\n",
       "      <td>None</td>\n",
       "      <td>0</td>\n",
       "    </tr>\n",
       "    <tr>\n",
       "      <th>11</th>\n",
       "      <td>11</td>\n",
       "      <td>weightKilograms</td>\n",
       "      <td>REAL</td>\n",
       "      <td>0</td>\n",
       "      <td>None</td>\n",
       "      <td>0</td>\n",
       "    </tr>\n",
       "    <tr>\n",
       "      <th>12</th>\n",
       "      <td>12</td>\n",
       "      <td>dateOfBirthUTC</td>\n",
       "      <td>TEXT</td>\n",
       "      <td>0</td>\n",
       "      <td>None</td>\n",
       "      <td>0</td>\n",
       "    </tr>\n",
       "    <tr>\n",
       "      <th>13</th>\n",
       "      <td>13</td>\n",
       "      <td>nbaDebutYear</td>\n",
       "      <td>INTEGER</td>\n",
       "      <td>0</td>\n",
       "      <td>None</td>\n",
       "      <td>0</td>\n",
       "    </tr>\n",
       "    <tr>\n",
       "      <th>14</th>\n",
       "      <td>14</td>\n",
       "      <td>yearsPro</td>\n",
       "      <td>INTEGER</td>\n",
       "      <td>0</td>\n",
       "      <td>None</td>\n",
       "      <td>0</td>\n",
       "    </tr>\n",
       "    <tr>\n",
       "      <th>15</th>\n",
       "      <td>15</td>\n",
       "      <td>collegeName</td>\n",
       "      <td>TEXT</td>\n",
       "      <td>0</td>\n",
       "      <td>None</td>\n",
       "      <td>0</td>\n",
       "    </tr>\n",
       "    <tr>\n",
       "      <th>16</th>\n",
       "      <td>16</td>\n",
       "      <td>lastAffiliation</td>\n",
       "      <td>TEXT</td>\n",
       "      <td>0</td>\n",
       "      <td>None</td>\n",
       "      <td>0</td>\n",
       "    </tr>\n",
       "    <tr>\n",
       "      <th>17</th>\n",
       "      <td>17</td>\n",
       "      <td>country</td>\n",
       "      <td>TEXT</td>\n",
       "      <td>0</td>\n",
       "      <td>None</td>\n",
       "      <td>0</td>\n",
       "    </tr>\n",
       "  </tbody>\n",
       "</table>\n",
       "</div>"
      ],
      "text/plain": [
       "    cid                  name     type  notnull dflt_value  pk\n",
       "0     0             firstName     TEXT        0       None   0\n",
       "1     1              lastName     TEXT        0       None   0\n",
       "2     2  temporaryDisplayName     TEXT        0       None   0\n",
       "3     3              personId  INTEGER        0       None   1\n",
       "4     4                teamId  INTEGER        0       None   0\n",
       "5     5                jersey  INTEGER        0       None   0\n",
       "6     6                   pos     TEXT        0       None   0\n",
       "7     7            heightFeet  INTEGER        0       None   0\n",
       "8     8          heightInches  INTEGER        0       None   0\n",
       "9     9          heightMeters     REAL        0       None   0\n",
       "10   10          weightPounds     REAL        0       None   0\n",
       "11   11       weightKilograms     REAL        0       None   0\n",
       "12   12        dateOfBirthUTC     TEXT        0       None   0\n",
       "13   13          nbaDebutYear  INTEGER        0       None   0\n",
       "14   14              yearsPro  INTEGER        0       None   0\n",
       "15   15           collegeName     TEXT        0       None   0\n",
       "16   16       lastAffiliation     TEXT        0       None   0\n",
       "17   17               country     TEXT        0       None   0"
      ]
     },
     "execution_count": 7,
     "metadata": {},
     "output_type": "execute_result"
    }
   ],
   "source": [
    "show_metadata()"
   ]
  },
  {
   "cell_type": "markdown",
   "metadata": {
    "slideshow": {
     "slide_type": "subslide"
    }
   },
   "source": [
    "## What is a database management system?\n",
    "\n",
    "> The database management system (DBMS) is the software that interacts with end users, applications, and the database itself to capture and analyze the data.\n",
    "\n",
    "Source: <https://en.wikipedia.org/wiki/Database>"
   ]
  },
  {
   "cell_type": "markdown",
   "metadata": {
    "slideshow": {
     "slide_type": "subslide"
    }
   },
   "source": [
    "## What is a database management system, the less technical version\n",
    "\n",
    "> A database management system (DBMS) bridges the application program(could be a web application, programming environment, or just a client interface) and database."
   ]
  },
  {
   "cell_type": "markdown",
   "metadata": {
    "slideshow": {
     "slide_type": "subslide"
    }
   },
   "source": [
    "## A database management system is able to \n",
    "\n",
    "- **Automate** the data manipulation process\n",
    "- **Scale up** the data manipulation process"
   ]
  },
  {
   "cell_type": "markdown",
   "metadata": {
    "slideshow": {
     "slide_type": "subslide"
    }
   },
   "source": [
    "## Standard data manipulations\n",
    "\n",
    "- Create\n",
    "- Read\n",
    "- Update\n",
    "- Delete"
   ]
  },
  {
   "cell_type": "markdown",
   "metadata": {
    "slideshow": {
     "slide_type": "subslide"
    }
   },
   "source": [
    "## There are a lot of database management systems\n",
    "\n",
    "- SQL Server by Microsoft\n",
    "- MySQL by Oracle\n",
    "- DB2 by IBM\n",
    "- PostgreSQL\n",
    "- **SQLite**: We will be using SQLite in our class.\n",
    "- ...etc."
   ]
  },
  {
   "cell_type": "markdown",
   "metadata": {
    "slideshow": {
     "slide_type": "subslide"
    }
   },
   "source": [
    "## What is SQLite?\n",
    "\n",
    "> SQLite is a relational database management system (RDBMS). In contrast to many other database management systems, SQLite is not a client–server database engine. Rather, it is embedded into the end program.\n",
    "\n",
    "Source: <https://en.wikipedia.org/wiki/SQLite>"
   ]
  },
  {
   "cell_type": "markdown",
   "metadata": {
    "slideshow": {
     "slide_type": "subslide"
    }
   },
   "source": [
    "## Why SQLite?"
   ]
  },
  {
   "cell_type": "code",
   "execution_count": 8,
   "metadata": {
    "slideshow": {
     "slide_type": "skip"
    }
   },
   "outputs": [],
   "source": [
    "csv_url = \"https://kaggle-ml-ds-survey.s3-ap-northeast-1.amazonaws.com/kaggle-survey-2020/kaggle_survey_2020_responses.csv\"\n",
    "ks = KaggleSurvey2020(csv_url)"
   ]
  },
  {
   "cell_type": "code",
   "execution_count": 9,
   "metadata": {},
   "outputs": [
    {
     "name": "stdout",
     "output_type": "stream",
     "text": [
      "Which of the following big data products (relational database, data warehouse, data lake, or similar) do you use most often?\n",
      "Too many categories, only showing the top 10.\n"
     ]
    },
    {
     "data": {
      "image/png": "[encoded data removed]",
      "text/plain": [
       "<Figure size 432x288 with 1 Axes>"
      ]
     },
     "metadata": {
      "needs_background": "light"
     },
     "output_type": "display_data"
    }
   ],
   "source": [
    "ks.plot_summary('Q30', 3)"
   ]
  },
  {
   "cell_type": "markdown",
   "metadata": {
    "slideshow": {
     "slide_type": "subslide"
    }
   },
   "source": [
    "## Why SQLite, not so data-driven...\n",
    "\n",
    "- It is open-sourced\n",
    "- It is self-contained\n",
    "- It is light and portable\n",
    "- And I **personally** think it is the best way for newbies to learn SQL on local machine"
   ]
  },
  {
   "cell_type": "markdown",
   "metadata": {
    "slideshow": {
     "slide_type": "slide"
    }
   },
   "source": [
    "## Getting SQLiteStudio"
   ]
  },
  {
   "cell_type": "markdown",
   "metadata": {
    "slideshow": {
     "slide_type": "subslide"
    }
   },
   "source": [
    "## Download and install SQLiteStudio\n",
    "\n",
    "- Windows: [SQLiteStudio-3.2.1.exe](https://drive.google.com/file/d/1bK0_JskM_8r2biRnClfrrvHwjr2kqn4S/view?usp=sharing)\n",
    "- MacOS: [SQLiteStudio-3.2.1.dmg](https://drive.google.com/file/d/1EVZJucCRK49d4L7c8F9-fUAUsTYvRNpN/view?usp=sharing)"
   ]
  },
  {
   "cell_type": "markdown",
   "metadata": {
    "slideshow": {
     "slide_type": "subslide"
    }
   },
   "source": [
    "## Download our learning databases: [nba.db](https://drive.google.com/file/d/1QqQZTaGwdcUerJisOU0jxbjlaEgj-7f0/view?usp=sharing)"
   ]
  },
  {
   "cell_type": "markdown",
   "metadata": {
    "slideshow": {
     "slide_type": "subslide"
    }
   },
   "source": [
    "## Now we have a SQLite database client that is able to connect to an established database in our own local machine!"
   ]
  },
  {
   "cell_type": "markdown",
   "metadata": {
    "slideshow": {
     "slide_type": "slide"
    }
   },
   "source": [
    "## Beginning with `SELECT`"
   ]
  },
  {
   "cell_type": "markdown",
   "metadata": {
    "slideshow": {
     "slide_type": "subslide"
    }
   },
   "source": [
    "## Basic `SELECT` syntax\n",
    "\n",
    "A SELECT statement that fetches every row and column in a table called `teams`.\n",
    "\n",
    "```sql\n",
    "SELECT *\n",
    "  FROM table_name;\n",
    "```"
   ]
  },
  {
   "cell_type": "code",
   "execution_count": 10,
   "metadata": {
    "slideshow": {
     "slide_type": "subslide"
    }
   },
   "outputs": [],
   "source": [
    "conn = sqlite3.connect('../datasets/nba.db')\n",
    "sql_query = \"\"\"\n",
    "SELECT *\n",
    "  FROM teams;\n",
    "\"\"\""
   ]
  },
  {
   "cell_type": "code",
   "execution_count": 11,
   "metadata": {
    "slideshow": {
     "slide_type": "subslide"
    }
   },
   "outputs": [
    {
     "data": {
      "text/html": [
       "<div>\n",
       "<style scoped>\n",
       "    .dataframe tbody tr th:only-of-type {\n",
       "        vertical-align: middle;\n",
       "    }\n",
       "\n",
       "    .dataframe tbody tr th {\n",
       "        vertical-align: top;\n",
       "    }\n",
       "\n",
       "    .dataframe thead th {\n",
       "        text-align: right;\n",
       "    }\n",
       "</style>\n",
       "<table border=\"1\" class=\"dataframe\">\n",
       "  <thead>\n",
       "    <tr style=\"text-align: right;\">\n",
       "      <th></th>\n",
       "      <th>isNBAFranchise</th>\n",
       "      <th>isAllStar</th>\n",
       "      <th>city</th>\n",
       "      <th>altCityName</th>\n",
       "      <th>fullName</th>\n",
       "      <th>tricode</th>\n",
       "      <th>teamId</th>\n",
       "      <th>nickname</th>\n",
       "      <th>urlName</th>\n",
       "      <th>teamShortName</th>\n",
       "      <th>confName</th>\n",
       "      <th>divName</th>\n",
       "    </tr>\n",
       "  </thead>\n",
       "  <tbody>\n",
       "    <tr>\n",
       "      <th>0</th>\n",
       "      <td>1</td>\n",
       "      <td>0</td>\n",
       "      <td>Atlanta</td>\n",
       "      <td>Atlanta</td>\n",
       "      <td>Atlanta Hawks</td>\n",
       "      <td>ATL</td>\n",
       "      <td>1610612737</td>\n",
       "      <td>Hawks</td>\n",
       "      <td>hawks</td>\n",
       "      <td>Atlanta</td>\n",
       "      <td>East</td>\n",
       "      <td>Southeast</td>\n",
       "    </tr>\n",
       "    <tr>\n",
       "      <th>1</th>\n",
       "      <td>1</td>\n",
       "      <td>0</td>\n",
       "      <td>Boston</td>\n",
       "      <td>Boston</td>\n",
       "      <td>Boston Celtics</td>\n",
       "      <td>BOS</td>\n",
       "      <td>1610612738</td>\n",
       "      <td>Celtics</td>\n",
       "      <td>celtics</td>\n",
       "      <td>Boston</td>\n",
       "      <td>East</td>\n",
       "      <td>Atlantic</td>\n",
       "    </tr>\n",
       "    <tr>\n",
       "      <th>2</th>\n",
       "      <td>1</td>\n",
       "      <td>0</td>\n",
       "      <td>Cleveland</td>\n",
       "      <td>Cleveland</td>\n",
       "      <td>Cleveland Cavaliers</td>\n",
       "      <td>CLE</td>\n",
       "      <td>1610612739</td>\n",
       "      <td>Cavaliers</td>\n",
       "      <td>cavaliers</td>\n",
       "      <td>Cleveland</td>\n",
       "      <td>East</td>\n",
       "      <td>Central</td>\n",
       "    </tr>\n",
       "    <tr>\n",
       "      <th>3</th>\n",
       "      <td>1</td>\n",
       "      <td>0</td>\n",
       "      <td>New Orleans</td>\n",
       "      <td>New Orleans</td>\n",
       "      <td>New Orleans Pelicans</td>\n",
       "      <td>NOP</td>\n",
       "      <td>1610612740</td>\n",
       "      <td>Pelicans</td>\n",
       "      <td>pelicans</td>\n",
       "      <td>New Orleans</td>\n",
       "      <td>West</td>\n",
       "      <td>Southwest</td>\n",
       "    </tr>\n",
       "    <tr>\n",
       "      <th>4</th>\n",
       "      <td>1</td>\n",
       "      <td>0</td>\n",
       "      <td>Chicago</td>\n",
       "      <td>Chicago</td>\n",
       "      <td>Chicago Bulls</td>\n",
       "      <td>CHI</td>\n",
       "      <td>1610612741</td>\n",
       "      <td>Bulls</td>\n",
       "      <td>bulls</td>\n",
       "      <td>Chicago</td>\n",
       "      <td>East</td>\n",
       "      <td>Central</td>\n",
       "    </tr>\n",
       "    <tr>\n",
       "      <th>5</th>\n",
       "      <td>1</td>\n",
       "      <td>0</td>\n",
       "      <td>Dallas</td>\n",
       "      <td>Dallas</td>\n",
       "      <td>Dallas Mavericks</td>\n",
       "      <td>DAL</td>\n",
       "      <td>1610612742</td>\n",
       "      <td>Mavericks</td>\n",
       "      <td>mavericks</td>\n",
       "      <td>Dallas</td>\n",
       "      <td>West</td>\n",
       "      <td>Southwest</td>\n",
       "    </tr>\n",
       "    <tr>\n",
       "      <th>6</th>\n",
       "      <td>1</td>\n",
       "      <td>0</td>\n",
       "      <td>Denver</td>\n",
       "      <td>Denver</td>\n",
       "      <td>Denver Nuggets</td>\n",
       "      <td>DEN</td>\n",
       "      <td>1610612743</td>\n",
       "      <td>Nuggets</td>\n",
       "      <td>nuggets</td>\n",
       "      <td>Denver</td>\n",
       "      <td>West</td>\n",
       "      <td>Northwest</td>\n",
       "    </tr>\n",
       "    <tr>\n",
       "      <th>7</th>\n",
       "      <td>1</td>\n",
       "      <td>0</td>\n",
       "      <td>Golden State</td>\n",
       "      <td>Golden State</td>\n",
       "      <td>Golden State Warriors</td>\n",
       "      <td>GSW</td>\n",
       "      <td>1610612744</td>\n",
       "      <td>Warriors</td>\n",
       "      <td>warriors</td>\n",
       "      <td>Golden State</td>\n",
       "      <td>West</td>\n",
       "      <td>Pacific</td>\n",
       "    </tr>\n",
       "    <tr>\n",
       "      <th>8</th>\n",
       "      <td>1</td>\n",
       "      <td>0</td>\n",
       "      <td>Houston</td>\n",
       "      <td>Houston</td>\n",
       "      <td>Houston Rockets</td>\n",
       "      <td>HOU</td>\n",
       "      <td>1610612745</td>\n",
       "      <td>Rockets</td>\n",
       "      <td>rockets</td>\n",
       "      <td>Houston</td>\n",
       "      <td>West</td>\n",
       "      <td>Southwest</td>\n",
       "    </tr>\n",
       "    <tr>\n",
       "      <th>9</th>\n",
       "      <td>1</td>\n",
       "      <td>0</td>\n",
       "      <td>LA</td>\n",
       "      <td>LA Clippers</td>\n",
       "      <td>LA Clippers</td>\n",
       "      <td>LAC</td>\n",
       "      <td>1610612746</td>\n",
       "      <td>Clippers</td>\n",
       "      <td>clippers</td>\n",
       "      <td>LA Clippers</td>\n",
       "      <td>West</td>\n",
       "      <td>Pacific</td>\n",
       "    </tr>\n",
       "    <tr>\n",
       "      <th>10</th>\n",
       "      <td>1</td>\n",
       "      <td>0</td>\n",
       "      <td>Los Angeles</td>\n",
       "      <td>Los Angeles Lakers</td>\n",
       "      <td>Los Angeles Lakers</td>\n",
       "      <td>LAL</td>\n",
       "      <td>1610612747</td>\n",
       "      <td>Lakers</td>\n",
       "      <td>lakers</td>\n",
       "      <td>L.A. Lakers</td>\n",
       "      <td>West</td>\n",
       "      <td>Pacific</td>\n",
       "    </tr>\n",
       "    <tr>\n",
       "      <th>11</th>\n",
       "      <td>1</td>\n",
       "      <td>0</td>\n",
       "      <td>Miami</td>\n",
       "      <td>Miami</td>\n",
       "      <td>Miami Heat</td>\n",
       "      <td>MIA</td>\n",
       "      <td>1610612748</td>\n",
       "      <td>Heat</td>\n",
       "      <td>heat</td>\n",
       "      <td>Miami</td>\n",
       "      <td>East</td>\n",
       "      <td>Southeast</td>\n",
       "    </tr>\n",
       "    <tr>\n",
       "      <th>12</th>\n",
       "      <td>1</td>\n",
       "      <td>0</td>\n",
       "      <td>Milwaukee</td>\n",
       "      <td>Milwaukee</td>\n",
       "      <td>Milwaukee Bucks</td>\n",
       "      <td>MIL</td>\n",
       "      <td>1610612749</td>\n",
       "      <td>Bucks</td>\n",
       "      <td>bucks</td>\n",
       "      <td>Milwaukee</td>\n",
       "      <td>East</td>\n",
       "      <td>Central</td>\n",
       "    </tr>\n",
       "    <tr>\n",
       "      <th>13</th>\n",
       "      <td>1</td>\n",
       "      <td>0</td>\n",
       "      <td>Minnesota</td>\n",
       "      <td>Minnesota</td>\n",
       "      <td>Minnesota Timberwolves</td>\n",
       "      <td>MIN</td>\n",
       "      <td>1610612750</td>\n",
       "      <td>Timberwolves</td>\n",
       "      <td>timberwolves</td>\n",
       "      <td>Minnesota</td>\n",
       "      <td>West</td>\n",
       "      <td>Northwest</td>\n",
       "    </tr>\n",
       "    <tr>\n",
       "      <th>14</th>\n",
       "      <td>1</td>\n",
       "      <td>0</td>\n",
       "      <td>Brooklyn</td>\n",
       "      <td>Brooklyn</td>\n",
       "      <td>Brooklyn Nets</td>\n",
       "      <td>BKN</td>\n",
       "      <td>1610612751</td>\n",
       "      <td>Nets</td>\n",
       "      <td>nets</td>\n",
       "      <td>Brooklyn</td>\n",
       "      <td>East</td>\n",
       "      <td>Atlantic</td>\n",
       "    </tr>\n",
       "    <tr>\n",
       "      <th>15</th>\n",
       "      <td>1</td>\n",
       "      <td>0</td>\n",
       "      <td>New York</td>\n",
       "      <td>New York</td>\n",
       "      <td>New York Knicks</td>\n",
       "      <td>NYK</td>\n",
       "      <td>1610612752</td>\n",
       "      <td>Knicks</td>\n",
       "      <td>knicks</td>\n",
       "      <td>New York</td>\n",
       "      <td>East</td>\n",
       "      <td>Atlantic</td>\n",
       "    </tr>\n",
       "    <tr>\n",
       "      <th>16</th>\n",
       "      <td>1</td>\n",
       "      <td>0</td>\n",
       "      <td>Orlando</td>\n",
       "      <td>Orlando</td>\n",
       "      <td>Orlando Magic</td>\n",
       "      <td>ORL</td>\n",
       "      <td>1610612753</td>\n",
       "      <td>Magic</td>\n",
       "      <td>magic</td>\n",
       "      <td>Orlando</td>\n",
       "      <td>East</td>\n",
       "      <td>Southeast</td>\n",
       "    </tr>\n",
       "    <tr>\n",
       "      <th>17</th>\n",
       "      <td>1</td>\n",
       "      <td>0</td>\n",
       "      <td>Indiana</td>\n",
       "      <td>Indiana</td>\n",
       "      <td>Indiana Pacers</td>\n",
       "      <td>IND</td>\n",
       "      <td>1610612754</td>\n",
       "      <td>Pacers</td>\n",
       "      <td>pacers</td>\n",
       "      <td>Indiana</td>\n",
       "      <td>East</td>\n",
       "      <td>Central</td>\n",
       "    </tr>\n",
       "    <tr>\n",
       "      <th>18</th>\n",
       "      <td>1</td>\n",
       "      <td>0</td>\n",
       "      <td>Philadelphia</td>\n",
       "      <td>Philadelphia</td>\n",
       "      <td>Philadelphia 76ers</td>\n",
       "      <td>PHI</td>\n",
       "      <td>1610612755</td>\n",
       "      <td>76ers</td>\n",
       "      <td>sixers</td>\n",
       "      <td>Philadelphia</td>\n",
       "      <td>East</td>\n",
       "      <td>Atlantic</td>\n",
       "    </tr>\n",
       "    <tr>\n",
       "      <th>19</th>\n",
       "      <td>1</td>\n",
       "      <td>0</td>\n",
       "      <td>Phoenix</td>\n",
       "      <td>Phoenix</td>\n",
       "      <td>Phoenix Suns</td>\n",
       "      <td>PHX</td>\n",
       "      <td>1610612756</td>\n",
       "      <td>Suns</td>\n",
       "      <td>suns</td>\n",
       "      <td>Phoenix</td>\n",
       "      <td>West</td>\n",
       "      <td>Pacific</td>\n",
       "    </tr>\n",
       "    <tr>\n",
       "      <th>20</th>\n",
       "      <td>1</td>\n",
       "      <td>0</td>\n",
       "      <td>Portland</td>\n",
       "      <td>Portland</td>\n",
       "      <td>Portland Trail Blazers</td>\n",
       "      <td>POR</td>\n",
       "      <td>1610612757</td>\n",
       "      <td>Trail Blazers</td>\n",
       "      <td>blazers</td>\n",
       "      <td>Portland</td>\n",
       "      <td>West</td>\n",
       "      <td>Northwest</td>\n",
       "    </tr>\n",
       "    <tr>\n",
       "      <th>21</th>\n",
       "      <td>1</td>\n",
       "      <td>0</td>\n",
       "      <td>Sacramento</td>\n",
       "      <td>Sacramento</td>\n",
       "      <td>Sacramento Kings</td>\n",
       "      <td>SAC</td>\n",
       "      <td>1610612758</td>\n",
       "      <td>Kings</td>\n",
       "      <td>kings</td>\n",
       "      <td>Sacramento</td>\n",
       "      <td>West</td>\n",
       "      <td>Pacific</td>\n",
       "    </tr>\n",
       "    <tr>\n",
       "      <th>22</th>\n",
       "      <td>1</td>\n",
       "      <td>0</td>\n",
       "      <td>San Antonio</td>\n",
       "      <td>San Antonio</td>\n",
       "      <td>San Antonio Spurs</td>\n",
       "      <td>SAS</td>\n",
       "      <td>1610612759</td>\n",
       "      <td>Spurs</td>\n",
       "      <td>spurs</td>\n",
       "      <td>San Antonio</td>\n",
       "      <td>West</td>\n",
       "      <td>Southwest</td>\n",
       "    </tr>\n",
       "    <tr>\n",
       "      <th>23</th>\n",
       "      <td>1</td>\n",
       "      <td>0</td>\n",
       "      <td>Oklahoma City</td>\n",
       "      <td>Oklahoma City</td>\n",
       "      <td>Oklahoma City Thunder</td>\n",
       "      <td>OKC</td>\n",
       "      <td>1610612760</td>\n",
       "      <td>Thunder</td>\n",
       "      <td>thunder</td>\n",
       "      <td>Oklahoma City</td>\n",
       "      <td>West</td>\n",
       "      <td>Northwest</td>\n",
       "    </tr>\n",
       "    <tr>\n",
       "      <th>24</th>\n",
       "      <td>1</td>\n",
       "      <td>0</td>\n",
       "      <td>Toronto</td>\n",
       "      <td>Toronto</td>\n",
       "      <td>Toronto Raptors</td>\n",
       "      <td>TOR</td>\n",
       "      <td>1610612761</td>\n",
       "      <td>Raptors</td>\n",
       "      <td>raptors</td>\n",
       "      <td>Toronto</td>\n",
       "      <td>East</td>\n",
       "      <td>Atlantic</td>\n",
       "    </tr>\n",
       "    <tr>\n",
       "      <th>25</th>\n",
       "      <td>1</td>\n",
       "      <td>0</td>\n",
       "      <td>Utah</td>\n",
       "      <td>Utah</td>\n",
       "      <td>Utah Jazz</td>\n",
       "      <td>UTA</td>\n",
       "      <td>1610612762</td>\n",
       "      <td>Jazz</td>\n",
       "      <td>jazz</td>\n",
       "      <td>Utah</td>\n",
       "      <td>West</td>\n",
       "      <td>Northwest</td>\n",
       "    </tr>\n",
       "    <tr>\n",
       "      <th>26</th>\n",
       "      <td>1</td>\n",
       "      <td>0</td>\n",
       "      <td>Memphis</td>\n",
       "      <td>Memphis</td>\n",
       "      <td>Memphis Grizzlies</td>\n",
       "      <td>MEM</td>\n",
       "      <td>1610612763</td>\n",
       "      <td>Grizzlies</td>\n",
       "      <td>grizzlies</td>\n",
       "      <td>Memphis</td>\n",
       "      <td>West</td>\n",
       "      <td>Southwest</td>\n",
       "    </tr>\n",
       "    <tr>\n",
       "      <th>27</th>\n",
       "      <td>1</td>\n",
       "      <td>0</td>\n",
       "      <td>Washington</td>\n",
       "      <td>Washington</td>\n",
       "      <td>Washington Wizards</td>\n",
       "      <td>WAS</td>\n",
       "      <td>1610612764</td>\n",
       "      <td>Wizards</td>\n",
       "      <td>wizards</td>\n",
       "      <td>Washington</td>\n",
       "      <td>East</td>\n",
       "      <td>Southeast</td>\n",
       "    </tr>\n",
       "    <tr>\n",
       "      <th>28</th>\n",
       "      <td>1</td>\n",
       "      <td>0</td>\n",
       "      <td>Detroit</td>\n",
       "      <td>Detroit</td>\n",
       "      <td>Detroit Pistons</td>\n",
       "      <td>DET</td>\n",
       "      <td>1610612765</td>\n",
       "      <td>Pistons</td>\n",
       "      <td>pistons</td>\n",
       "      <td>Detroit</td>\n",
       "      <td>East</td>\n",
       "      <td>Central</td>\n",
       "    </tr>\n",
       "    <tr>\n",
       "      <th>29</th>\n",
       "      <td>1</td>\n",
       "      <td>0</td>\n",
       "      <td>Charlotte</td>\n",
       "      <td>Charlotte</td>\n",
       "      <td>Charlotte Hornets</td>\n",
       "      <td>CHA</td>\n",
       "      <td>1610612766</td>\n",
       "      <td>Hornets</td>\n",
       "      <td>hornets</td>\n",
       "      <td>Charlotte</td>\n",
       "      <td>East</td>\n",
       "      <td>Southeast</td>\n",
       "    </tr>\n",
       "  </tbody>\n",
       "</table>\n",
       "</div>"
      ],
      "text/plain": [
       "    isNBAFranchise  isAllStar           city         altCityName  \\\n",
       "0                1          0        Atlanta             Atlanta   \n",
       "1                1          0         Boston              Boston   \n",
       "2                1          0      Cleveland           Cleveland   \n",
       "3                1          0    New Orleans         New Orleans   \n",
       "4                1          0        Chicago             Chicago   \n",
       "5                1          0         Dallas              Dallas   \n",
       "6                1          0         Denver              Denver   \n",
       "7                1          0   Golden State        Golden State   \n",
       "8                1          0        Houston             Houston   \n",
       "9                1          0             LA         LA Clippers   \n",
       "10               1          0    Los Angeles  Los Angeles Lakers   \n",
       "11               1          0          Miami               Miami   \n",
       "12               1          0      Milwaukee           Milwaukee   \n",
       "13               1          0      Minnesota           Minnesota   \n",
       "14               1          0       Brooklyn            Brooklyn   \n",
       "15               1          0       New York            New York   \n",
       "16               1          0        Orlando             Orlando   \n",
       "17               1          0        Indiana             Indiana   \n",
       "18               1          0   Philadelphia        Philadelphia   \n",
       "19               1          0        Phoenix             Phoenix   \n",
       "20               1          0       Portland            Portland   \n",
       "21               1          0     Sacramento          Sacramento   \n",
       "22               1          0    San Antonio         San Antonio   \n",
       "23               1          0  Oklahoma City       Oklahoma City   \n",
       "24               1          0        Toronto             Toronto   \n",
       "25               1          0           Utah                Utah   \n",
       "26               1          0        Memphis             Memphis   \n",
       "27               1          0     Washington          Washington   \n",
       "28               1          0        Detroit             Detroit   \n",
       "29               1          0      Charlotte           Charlotte   \n",
       "\n",
       "                  fullName tricode      teamId       nickname       urlName  \\\n",
       "0            Atlanta Hawks     ATL  1610612737          Hawks         hawks   \n",
       "1           Boston Celtics     BOS  1610612738        Celtics       celtics   \n",
       "2      Cleveland Cavaliers     CLE  1610612739      Cavaliers     cavaliers   \n",
       "3     New Orleans Pelicans     NOP  1610612740       Pelicans      pelicans   \n",
       "4            Chicago Bulls     CHI  1610612741          Bulls         bulls   \n",
       "5         Dallas Mavericks     DAL  1610612742      Mavericks     mavericks   \n",
       "6           Denver Nuggets     DEN  1610612743        Nuggets       nuggets   \n",
       "7    Golden State Warriors     GSW  1610612744       Warriors      warriors   \n",
       "8          Houston Rockets     HOU  1610612745        Rockets       rockets   \n",
       "9              LA Clippers     LAC  1610612746       Clippers      clippers   \n",
       "10      Los Angeles Lakers     LAL  1610612747         Lakers        lakers   \n",
       "11              Miami Heat     MIA  1610612748           Heat          heat   \n",
       "12         Milwaukee Bucks     MIL  1610612749          Bucks         bucks   \n",
       "13  Minnesota Timberwolves     MIN  1610612750   Timberwolves  timberwolves   \n",
       "14           Brooklyn Nets     BKN  1610612751           Nets          nets   \n",
       "15         New York Knicks     NYK  1610612752         Knicks        knicks   \n",
       "16           Orlando Magic     ORL  1610612753          Magic         magic   \n",
       "17          Indiana Pacers     IND  1610612754         Pacers        pacers   \n",
       "18      Philadelphia 76ers     PHI  1610612755          76ers        sixers   \n",
       "19            Phoenix Suns     PHX  1610612756           Suns          suns   \n",
       "20  Portland Trail Blazers     POR  1610612757  Trail Blazers       blazers   \n",
       "21        Sacramento Kings     SAC  1610612758          Kings         kings   \n",
       "22       San Antonio Spurs     SAS  1610612759          Spurs         spurs   \n",
       "23   Oklahoma City Thunder     OKC  1610612760        Thunder       thunder   \n",
       "24         Toronto Raptors     TOR  1610612761        Raptors       raptors   \n",
       "25               Utah Jazz     UTA  1610612762           Jazz          jazz   \n",
       "26       Memphis Grizzlies     MEM  1610612763      Grizzlies     grizzlies   \n",
       "27      Washington Wizards     WAS  1610612764        Wizards       wizards   \n",
       "28         Detroit Pistons     DET  1610612765        Pistons       pistons   \n",
       "29       Charlotte Hornets     CHA  1610612766        Hornets       hornets   \n",
       "\n",
       "    teamShortName confName    divName  \n",
       "0         Atlanta     East  Southeast  \n",
       "1          Boston     East   Atlantic  \n",
       "2       Cleveland     East    Central  \n",
       "3     New Orleans     West  Southwest  \n",
       "4         Chicago     East    Central  \n",
       "5          Dallas     West  Southwest  \n",
       "6          Denver     West  Northwest  \n",
       "7    Golden State     West    Pacific  \n",
       "8         Houston     West  Southwest  \n",
       "9     LA Clippers     West    Pacific  \n",
       "10    L.A. Lakers     West    Pacific  \n",
       "11          Miami     East  Southeast  \n",
       "12      Milwaukee     East    Central  \n",
       "13      Minnesota     West  Northwest  \n",
       "14       Brooklyn     East   Atlantic  \n",
       "15       New York     East   Atlantic  \n",
       "16        Orlando     East  Southeast  \n",
       "17        Indiana     East    Central  \n",
       "18   Philadelphia     East   Atlantic  \n",
       "19        Phoenix     West    Pacific  \n",
       "20       Portland     West  Northwest  \n",
       "21     Sacramento     West    Pacific  \n",
       "22    San Antonio     West  Southwest  \n",
       "23  Oklahoma City     West  Northwest  \n",
       "24        Toronto     East   Atlantic  \n",
       "25           Utah     West  Northwest  \n",
       "26        Memphis     West  Southwest  \n",
       "27     Washington     East  Southeast  \n",
       "28        Detroit     East    Central  \n",
       "29      Charlotte     East  Southeast  "
      ]
     },
     "execution_count": 11,
     "metadata": {},
     "output_type": "execute_result"
    }
   ],
   "source": [
    "pd.read_sql(sql_query, conn)"
   ]
  },
  {
   "cell_type": "markdown",
   "metadata": {
    "slideshow": {
     "slide_type": "subslide"
    }
   },
   "source": [
    "## The above single line of code shows the most basic form of a SQL query\n",
    "\n",
    "- The asterisk following the `SELECT` keyword is a wildcard. Here, it’s shorthand for \"select all columns\"\n",
    "- The `FROM` keyword indicates we want the query to return data from a particular table. The semicolon after the table name tells SQLite it’s the end of the query statement"
   ]
  },
  {
   "cell_type": "markdown",
   "metadata": {
    "slideshow": {
     "slide_type": "subslide"
    }
   },
   "source": [
    "## Let's move on querying a subset of columns\n",
    "\n",
    "It’s more practical to limit the columns the query retrieves, especially with large tables\n",
    "\n",
    "```sql\n",
    "SELECT column_name\n",
    "  FROM table_name;\n",
    "```"
   ]
  },
  {
   "cell_type": "code",
   "execution_count": 12,
   "metadata": {
    "slideshow": {
     "slide_type": "subslide"
    }
   },
   "outputs": [],
   "source": [
    "sql_query = \"\"\"\n",
    "SELECT firstName, \n",
    "       lastName,\n",
    "       dateOfBirthUTC\n",
    "  FROM players;\n",
    "\"\"\""
   ]
  },
  {
   "cell_type": "code",
   "execution_count": 13,
   "metadata": {
    "slideshow": {
     "slide_type": "subslide"
    }
   },
   "outputs": [
    {
     "data": {
      "text/html": [
       "<div>\n",
       "<style scoped>\n",
       "    .dataframe tbody tr th:only-of-type {\n",
       "        vertical-align: middle;\n",
       "    }\n",
       "\n",
       "    .dataframe tbody tr th {\n",
       "        vertical-align: top;\n",
       "    }\n",
       "\n",
       "    .dataframe thead th {\n",
       "        text-align: right;\n",
       "    }\n",
       "</style>\n",
       "<table border=\"1\" class=\"dataframe\">\n",
       "  <thead>\n",
       "    <tr style=\"text-align: right;\">\n",
       "      <th></th>\n",
       "      <th>firstName</th>\n",
       "      <th>lastName</th>\n",
       "      <th>dateOfBirthUTC</th>\n",
       "    </tr>\n",
       "  </thead>\n",
       "  <tbody>\n",
       "    <tr>\n",
       "      <th>0</th>\n",
       "      <td>LeBron</td>\n",
       "      <td>James</td>\n",
       "      <td>1984-12-30</td>\n",
       "    </tr>\n",
       "    <tr>\n",
       "      <th>1</th>\n",
       "      <td>Carmelo</td>\n",
       "      <td>Anthony</td>\n",
       "      <td>1984-05-29</td>\n",
       "    </tr>\n",
       "    <tr>\n",
       "      <th>2</th>\n",
       "      <td>Udonis</td>\n",
       "      <td>Haslem</td>\n",
       "      <td>1980-06-09</td>\n",
       "    </tr>\n",
       "    <tr>\n",
       "      <th>3</th>\n",
       "      <td>Dwight</td>\n",
       "      <td>Howard</td>\n",
       "      <td>1985-12-08</td>\n",
       "    </tr>\n",
       "    <tr>\n",
       "      <th>4</th>\n",
       "      <td>Andre</td>\n",
       "      <td>Iguodala</td>\n",
       "      <td>1984-01-28</td>\n",
       "    </tr>\n",
       "    <tr>\n",
       "      <th>...</th>\n",
       "      <td>...</td>\n",
       "      <td>...</td>\n",
       "      <td>...</td>\n",
       "    </tr>\n",
       "    <tr>\n",
       "      <th>488</th>\n",
       "      <td>Anthony</td>\n",
       "      <td>Gill</td>\n",
       "      <td>1992-10-17</td>\n",
       "    </tr>\n",
       "    <tr>\n",
       "      <th>489</th>\n",
       "      <td>Will</td>\n",
       "      <td>Magnay</td>\n",
       "      <td>1998-06-10</td>\n",
       "    </tr>\n",
       "    <tr>\n",
       "      <th>490</th>\n",
       "      <td>Facundo</td>\n",
       "      <td>Campazzo</td>\n",
       "      <td>1991-03-23</td>\n",
       "    </tr>\n",
       "    <tr>\n",
       "      <th>491</th>\n",
       "      <td>Nate</td>\n",
       "      <td>Darling</td>\n",
       "      <td>1998-08-30</td>\n",
       "    </tr>\n",
       "    <tr>\n",
       "      <th>492</th>\n",
       "      <td>Brodric</td>\n",
       "      <td>Thomas</td>\n",
       "      <td>1997-01-28</td>\n",
       "    </tr>\n",
       "  </tbody>\n",
       "</table>\n",
       "<p>493 rows × 3 columns</p>\n",
       "</div>"
      ],
      "text/plain": [
       "    firstName  lastName dateOfBirthUTC\n",
       "0      LeBron     James     1984-12-30\n",
       "1     Carmelo   Anthony     1984-05-29\n",
       "2      Udonis    Haslem     1980-06-09\n",
       "3      Dwight    Howard     1985-12-08\n",
       "4       Andre  Iguodala     1984-01-28\n",
       "..        ...       ...            ...\n",
       "488   Anthony      Gill     1992-10-17\n",
       "489      Will    Magnay     1998-06-10\n",
       "490   Facundo  Campazzo     1991-03-23\n",
       "491      Nate   Darling     1998-08-30\n",
       "492   Brodric    Thomas     1997-01-28\n",
       "\n",
       "[493 rows x 3 columns]"
      ]
     },
     "execution_count": 13,
     "metadata": {},
     "output_type": "execute_result"
    }
   ],
   "source": [
    "pd.read_sql(sql_query, conn)"
   ]
  },
  {
   "cell_type": "markdown",
   "metadata": {
    "slideshow": {
     "slide_type": "subslide"
    }
   },
   "source": [
    "## Using `DISTINCT` to find unique values\n",
    "\n",
    "- It is common for a column to contain rows with duplicates\n",
    "- To understand the range of values in a column, we can use the `DISTINCT` keyword\n",
    "\n",
    "```sql\n",
    "SELECT DISTINCT column_name\n",
    "  FROM table_name;\n",
    "```"
   ]
  },
  {
   "cell_type": "code",
   "execution_count": 14,
   "metadata": {
    "slideshow": {
     "slide_type": "subslide"
    }
   },
   "outputs": [],
   "source": [
    "sql_query = \"\"\"\n",
    "SELECT DISTINCT confName,\n",
    "       divName\n",
    "  FROM teams;\n",
    "\"\"\""
   ]
  },
  {
   "cell_type": "code",
   "execution_count": 15,
   "metadata": {
    "slideshow": {
     "slide_type": "subslide"
    }
   },
   "outputs": [
    {
     "data": {
      "text/html": [
       "<div>\n",
       "<style scoped>\n",
       "    .dataframe tbody tr th:only-of-type {\n",
       "        vertical-align: middle;\n",
       "    }\n",
       "\n",
       "    .dataframe tbody tr th {\n",
       "        vertical-align: top;\n",
       "    }\n",
       "\n",
       "    .dataframe thead th {\n",
       "        text-align: right;\n",
       "    }\n",
       "</style>\n",
       "<table border=\"1\" class=\"dataframe\">\n",
       "  <thead>\n",
       "    <tr style=\"text-align: right;\">\n",
       "      <th></th>\n",
       "      <th>confName</th>\n",
       "      <th>divName</th>\n",
       "    </tr>\n",
       "  </thead>\n",
       "  <tbody>\n",
       "    <tr>\n",
       "      <th>0</th>\n",
       "      <td>East</td>\n",
       "      <td>Southeast</td>\n",
       "    </tr>\n",
       "    <tr>\n",
       "      <th>1</th>\n",
       "      <td>East</td>\n",
       "      <td>Atlantic</td>\n",
       "    </tr>\n",
       "    <tr>\n",
       "      <th>2</th>\n",
       "      <td>East</td>\n",
       "      <td>Central</td>\n",
       "    </tr>\n",
       "    <tr>\n",
       "      <th>3</th>\n",
       "      <td>West</td>\n",
       "      <td>Southwest</td>\n",
       "    </tr>\n",
       "    <tr>\n",
       "      <th>4</th>\n",
       "      <td>West</td>\n",
       "      <td>Northwest</td>\n",
       "    </tr>\n",
       "    <tr>\n",
       "      <th>5</th>\n",
       "      <td>West</td>\n",
       "      <td>Pacific</td>\n",
       "    </tr>\n",
       "  </tbody>\n",
       "</table>\n",
       "</div>"
      ],
      "text/plain": [
       "  confName    divName\n",
       "0     East  Southeast\n",
       "1     East   Atlantic\n",
       "2     East    Central\n",
       "3     West  Southwest\n",
       "4     West  Northwest\n",
       "5     West    Pacific"
      ]
     },
     "execution_count": 15,
     "metadata": {},
     "output_type": "execute_result"
    }
   ],
   "source": [
    "pd.read_sql(sql_query, conn)"
   ]
  },
  {
   "cell_type": "markdown",
   "metadata": {
    "slideshow": {
     "slide_type": "subslide"
    }
   },
   "source": [
    "## Sorting data with `ORDER BY`\n",
    "\n",
    "We order the results of a query using the keywords `ORDER BY` followed by the name of the column(s) to sort.\n",
    "\n",
    "```sql\n",
    "SELECT colum_name\n",
    "  FROM table_name\n",
    " ORDER BY column_name;\n",
    "```"
   ]
  },
  {
   "cell_type": "code",
   "execution_count": 16,
   "metadata": {
    "slideshow": {
     "slide_type": "subslide"
    }
   },
   "outputs": [],
   "source": [
    "sql_query = \"\"\"\n",
    "SELECT personId,\n",
    "       points\n",
    "  FROM career_summaries\n",
    " ORDER BY points;\n",
    "\"\"\""
   ]
  },
  {
   "cell_type": "code",
   "execution_count": 17,
   "metadata": {
    "slideshow": {
     "slide_type": "subslide"
    }
   },
   "outputs": [
    {
     "data": {
      "text/html": [
       "<div>\n",
       "<style scoped>\n",
       "    .dataframe tbody tr th:only-of-type {\n",
       "        vertical-align: middle;\n",
       "    }\n",
       "\n",
       "    .dataframe tbody tr th {\n",
       "        vertical-align: top;\n",
       "    }\n",
       "\n",
       "    .dataframe thead th {\n",
       "        text-align: right;\n",
       "    }\n",
       "</style>\n",
       "<table border=\"1\" class=\"dataframe\">\n",
       "  <thead>\n",
       "    <tr style=\"text-align: right;\">\n",
       "      <th></th>\n",
       "      <th>personId</th>\n",
       "      <th>points</th>\n",
       "    </tr>\n",
       "  </thead>\n",
       "  <tbody>\n",
       "    <tr>\n",
       "      <th>0</th>\n",
       "      <td>1630203</td>\n",
       "      <td>NaN</td>\n",
       "    </tr>\n",
       "    <tr>\n",
       "      <th>1</th>\n",
       "      <td>1630206</td>\n",
       "      <td>NaN</td>\n",
       "    </tr>\n",
       "    <tr>\n",
       "      <th>2</th>\n",
       "      <td>1630266</td>\n",
       "      <td>NaN</td>\n",
       "    </tr>\n",
       "    <tr>\n",
       "      <th>3</th>\n",
       "      <td>204222</td>\n",
       "      <td>0.0</td>\n",
       "    </tr>\n",
       "    <tr>\n",
       "      <th>4</th>\n",
       "      <td>1629007</td>\n",
       "      <td>0.0</td>\n",
       "    </tr>\n",
       "    <tr>\n",
       "      <th>...</th>\n",
       "      <td>...</td>\n",
       "      <td>...</td>\n",
       "    </tr>\n",
       "    <tr>\n",
       "      <th>488</th>\n",
       "      <td>201566</td>\n",
       "      <td>21095.0</td>\n",
       "    </tr>\n",
       "    <tr>\n",
       "      <th>489</th>\n",
       "      <td>201935</td>\n",
       "      <td>21853.0</td>\n",
       "    </tr>\n",
       "    <tr>\n",
       "      <th>490</th>\n",
       "      <td>201142</td>\n",
       "      <td>23491.0</td>\n",
       "    </tr>\n",
       "    <tr>\n",
       "      <th>491</th>\n",
       "      <td>2546</td>\n",
       "      <td>26980.0</td>\n",
       "    </tr>\n",
       "    <tr>\n",
       "      <th>492</th>\n",
       "      <td>2544</td>\n",
       "      <td>35236.0</td>\n",
       "    </tr>\n",
       "  </tbody>\n",
       "</table>\n",
       "<p>493 rows × 2 columns</p>\n",
       "</div>"
      ],
      "text/plain": [
       "     personId   points\n",
       "0     1630203      NaN\n",
       "1     1630206      NaN\n",
       "2     1630266      NaN\n",
       "3      204222      0.0\n",
       "4     1629007      0.0\n",
       "..        ...      ...\n",
       "488    201566  21095.0\n",
       "489    201935  21853.0\n",
       "490    201142  23491.0\n",
       "491      2546  26980.0\n",
       "492      2544  35236.0\n",
       "\n",
       "[493 rows x 2 columns]"
      ]
     },
     "execution_count": 17,
     "metadata": {},
     "output_type": "execute_result"
    }
   ],
   "source": [
    "pd.read_sql(sql_query, conn)"
   ]
  },
  {
   "cell_type": "markdown",
   "metadata": {
    "slideshow": {
     "slide_type": "subslide"
    }
   },
   "source": [
    "## By default, `ORDER BY` sorts values in ascending order\n",
    "\n",
    "If we want to sort in descending order, add the `DESC` keyword.\n",
    "\n",
    "```sql\n",
    "SELECT column_name\n",
    "  FROM table_name\n",
    " ORDER BY column_name DESC;\n",
    "```"
   ]
  },
  {
   "cell_type": "code",
   "execution_count": 18,
   "metadata": {
    "slideshow": {
     "slide_type": "subslide"
    }
   },
   "outputs": [],
   "source": [
    "sql_query = \"\"\"\n",
    "SELECT personId,\n",
    "       points\n",
    "  FROM career_summaries\n",
    " ORDER BY points DESC;\n",
    "\"\"\""
   ]
  },
  {
   "cell_type": "code",
   "execution_count": 19,
   "metadata": {
    "slideshow": {
     "slide_type": "subslide"
    }
   },
   "outputs": [
    {
     "data": {
      "text/html": [
       "<div>\n",
       "<style scoped>\n",
       "    .dataframe tbody tr th:only-of-type {\n",
       "        vertical-align: middle;\n",
       "    }\n",
       "\n",
       "    .dataframe tbody tr th {\n",
       "        vertical-align: top;\n",
       "    }\n",
       "\n",
       "    .dataframe thead th {\n",
       "        text-align: right;\n",
       "    }\n",
       "</style>\n",
       "<table border=\"1\" class=\"dataframe\">\n",
       "  <thead>\n",
       "    <tr style=\"text-align: right;\">\n",
       "      <th></th>\n",
       "      <th>personId</th>\n",
       "      <th>points</th>\n",
       "    </tr>\n",
       "  </thead>\n",
       "  <tbody>\n",
       "    <tr>\n",
       "      <th>0</th>\n",
       "      <td>2544</td>\n",
       "      <td>35236.0</td>\n",
       "    </tr>\n",
       "    <tr>\n",
       "      <th>1</th>\n",
       "      <td>2546</td>\n",
       "      <td>26980.0</td>\n",
       "    </tr>\n",
       "    <tr>\n",
       "      <th>2</th>\n",
       "      <td>201142</td>\n",
       "      <td>23491.0</td>\n",
       "    </tr>\n",
       "    <tr>\n",
       "      <th>3</th>\n",
       "      <td>201935</td>\n",
       "      <td>21853.0</td>\n",
       "    </tr>\n",
       "    <tr>\n",
       "      <th>4</th>\n",
       "      <td>201566</td>\n",
       "      <td>21095.0</td>\n",
       "    </tr>\n",
       "    <tr>\n",
       "      <th>...</th>\n",
       "      <td>...</td>\n",
       "      <td>...</td>\n",
       "    </tr>\n",
       "    <tr>\n",
       "      <th>488</th>\n",
       "      <td>1630234</td>\n",
       "      <td>0.0</td>\n",
       "    </tr>\n",
       "    <tr>\n",
       "      <th>489</th>\n",
       "      <td>1630268</td>\n",
       "      <td>0.0</td>\n",
       "    </tr>\n",
       "    <tr>\n",
       "      <th>490</th>\n",
       "      <td>1630203</td>\n",
       "      <td>NaN</td>\n",
       "    </tr>\n",
       "    <tr>\n",
       "      <th>491</th>\n",
       "      <td>1630206</td>\n",
       "      <td>NaN</td>\n",
       "    </tr>\n",
       "    <tr>\n",
       "      <th>492</th>\n",
       "      <td>1630266</td>\n",
       "      <td>NaN</td>\n",
       "    </tr>\n",
       "  </tbody>\n",
       "</table>\n",
       "<p>493 rows × 2 columns</p>\n",
       "</div>"
      ],
      "text/plain": [
       "     personId   points\n",
       "0        2544  35236.0\n",
       "1        2546  26980.0\n",
       "2      201142  23491.0\n",
       "3      201935  21853.0\n",
       "4      201566  21095.0\n",
       "..        ...      ...\n",
       "488   1630234      0.0\n",
       "489   1630268      0.0\n",
       "490   1630203      NaN\n",
       "491   1630206      NaN\n",
       "492   1630266      NaN\n",
       "\n",
       "[493 rows x 2 columns]"
      ]
     },
     "execution_count": 19,
     "metadata": {},
     "output_type": "execute_result"
    }
   ],
   "source": [
    "pd.read_sql(sql_query, conn)"
   ]
  },
  {
   "cell_type": "markdown",
   "metadata": {
    "slideshow": {
     "slide_type": "subslide"
    }
   },
   "source": [
    "## We are not limited to sorting on just one column\n",
    "\n",
    "```sql\n",
    "SELECT column_name\n",
    "  FROM table_name\n",
    " ORDER BY column_name,\n",
    "          column_name;\n",
    "```"
   ]
  },
  {
   "cell_type": "code",
   "execution_count": 20,
   "metadata": {
    "slideshow": {
     "slide_type": "subslide"
    }
   },
   "outputs": [],
   "source": [
    "sql_query = \"\"\"\n",
    "SELECT firstName,\n",
    "       lastName,\n",
    "       dateOfBirthUTC\n",
    "  FROM players\n",
    " ORDER BY firstName,\n",
    "          dateOfBirthUTC DESC;\n",
    "\"\"\""
   ]
  },
  {
   "cell_type": "code",
   "execution_count": 21,
   "metadata": {
    "slideshow": {
     "slide_type": "subslide"
    }
   },
   "outputs": [
    {
     "data": {
      "text/html": [
       "<div>\n",
       "<style scoped>\n",
       "    .dataframe tbody tr th:only-of-type {\n",
       "        vertical-align: middle;\n",
       "    }\n",
       "\n",
       "    .dataframe tbody tr th {\n",
       "        vertical-align: top;\n",
       "    }\n",
       "\n",
       "    .dataframe thead th {\n",
       "        text-align: right;\n",
       "    }\n",
       "</style>\n",
       "<table border=\"1\" class=\"dataframe\">\n",
       "  <thead>\n",
       "    <tr style=\"text-align: right;\">\n",
       "      <th></th>\n",
       "      <th>firstName</th>\n",
       "      <th>lastName</th>\n",
       "      <th>dateOfBirthUTC</th>\n",
       "    </tr>\n",
       "  </thead>\n",
       "  <tbody>\n",
       "    <tr>\n",
       "      <th>0</th>\n",
       "      <td>Aaron</td>\n",
       "      <td>Nesmith</td>\n",
       "      <td>1999-10-16</td>\n",
       "    </tr>\n",
       "    <tr>\n",
       "      <th>1</th>\n",
       "      <td>Aaron</td>\n",
       "      <td>Holiday</td>\n",
       "      <td>1996-09-30</td>\n",
       "    </tr>\n",
       "    <tr>\n",
       "      <th>2</th>\n",
       "      <td>Aaron</td>\n",
       "      <td>Gordon</td>\n",
       "      <td>1995-09-16</td>\n",
       "    </tr>\n",
       "    <tr>\n",
       "      <th>3</th>\n",
       "      <td>Abdel</td>\n",
       "      <td>Nader</td>\n",
       "      <td>1993-09-25</td>\n",
       "    </tr>\n",
       "    <tr>\n",
       "      <th>4</th>\n",
       "      <td>Adam</td>\n",
       "      <td>Mokoka</td>\n",
       "      <td>1998-07-18</td>\n",
       "    </tr>\n",
       "    <tr>\n",
       "      <th>...</th>\n",
       "      <td>...</td>\n",
       "      <td>...</td>\n",
       "      <td>...</td>\n",
       "    </tr>\n",
       "    <tr>\n",
       "      <th>488</th>\n",
       "      <td>Yuta</td>\n",
       "      <td>Watanabe</td>\n",
       "      <td>1994-10-13</td>\n",
       "    </tr>\n",
       "    <tr>\n",
       "      <th>489</th>\n",
       "      <td>Zach</td>\n",
       "      <td>Collins</td>\n",
       "      <td>1997-11-19</td>\n",
       "    </tr>\n",
       "    <tr>\n",
       "      <th>490</th>\n",
       "      <td>Zach</td>\n",
       "      <td>LaVine</td>\n",
       "      <td>1995-03-10</td>\n",
       "    </tr>\n",
       "    <tr>\n",
       "      <th>491</th>\n",
       "      <td>Zeke</td>\n",
       "      <td>Nnaji</td>\n",
       "      <td>2001-01-09</td>\n",
       "    </tr>\n",
       "    <tr>\n",
       "      <th>492</th>\n",
       "      <td>Zion</td>\n",
       "      <td>Williamson</td>\n",
       "      <td>2000-07-06</td>\n",
       "    </tr>\n",
       "  </tbody>\n",
       "</table>\n",
       "<p>493 rows × 3 columns</p>\n",
       "</div>"
      ],
      "text/plain": [
       "    firstName    lastName dateOfBirthUTC\n",
       "0       Aaron     Nesmith     1999-10-16\n",
       "1       Aaron     Holiday     1996-09-30\n",
       "2       Aaron      Gordon     1995-09-16\n",
       "3       Abdel       Nader     1993-09-25\n",
       "4        Adam      Mokoka     1998-07-18\n",
       "..        ...         ...            ...\n",
       "488      Yuta    Watanabe     1994-10-13\n",
       "489      Zach     Collins     1997-11-19\n",
       "490      Zach      LaVine     1995-03-10\n",
       "491      Zeke       Nnaji     2001-01-09\n",
       "492      Zion  Williamson     2000-07-06\n",
       "\n",
       "[493 rows x 3 columns]"
      ]
     },
     "execution_count": 21,
     "metadata": {},
     "output_type": "execute_result"
    }
   ],
   "source": [
    "pd.read_sql(sql_query, conn)"
   ]
  },
  {
   "cell_type": "markdown",
   "metadata": {
    "slideshow": {
     "slide_type": "subslide"
    }
   },
   "source": [
    "## Filtering rows with `WHERE`\n",
    "\n",
    "The `WHERE` keyword allows us to find rows that match a specific value, a range of values, or multiple values.\n",
    "\n",
    "```sql\n",
    "SELECT column_name\n",
    "  FROM table_name\n",
    " WHERE condition;\n",
    "```"
   ]
  },
  {
   "cell_type": "code",
   "execution_count": 22,
   "metadata": {
    "slideshow": {
     "slide_type": "subslide"
    }
   },
   "outputs": [],
   "source": [
    "sql_query = \"\"\"\n",
    "SELECT personId,\n",
    "       firstName,\n",
    "       lastName\n",
    "  FROM players\n",
    " WHERE lastName = 'James';\n",
    "\"\"\""
   ]
  },
  {
   "cell_type": "code",
   "execution_count": 23,
   "metadata": {
    "slideshow": {
     "slide_type": "subslide"
    }
   },
   "outputs": [
    {
     "data": {
      "text/html": [
       "<div>\n",
       "<style scoped>\n",
       "    .dataframe tbody tr th:only-of-type {\n",
       "        vertical-align: middle;\n",
       "    }\n",
       "\n",
       "    .dataframe tbody tr th {\n",
       "        vertical-align: top;\n",
       "    }\n",
       "\n",
       "    .dataframe thead th {\n",
       "        text-align: right;\n",
       "    }\n",
       "</style>\n",
       "<table border=\"1\" class=\"dataframe\">\n",
       "  <thead>\n",
       "    <tr style=\"text-align: right;\">\n",
       "      <th></th>\n",
       "      <th>personId</th>\n",
       "      <th>firstName</th>\n",
       "      <th>lastName</th>\n",
       "    </tr>\n",
       "  </thead>\n",
       "  <tbody>\n",
       "    <tr>\n",
       "      <th>0</th>\n",
       "      <td>2544</td>\n",
       "      <td>LeBron</td>\n",
       "      <td>James</td>\n",
       "    </tr>\n",
       "    <tr>\n",
       "      <th>1</th>\n",
       "      <td>1629713</td>\n",
       "      <td>Justin</td>\n",
       "      <td>James</td>\n",
       "    </tr>\n",
       "  </tbody>\n",
       "</table>\n",
       "</div>"
      ],
      "text/plain": [
       "   personId firstName lastName\n",
       "0      2544    LeBron    James\n",
       "1   1629713    Justin    James"
      ]
     },
     "execution_count": 23,
     "metadata": {},
     "output_type": "execute_result"
    }
   ],
   "source": [
    "pd.read_sql(sql_query, conn)"
   ]
  },
  {
   "cell_type": "markdown",
   "metadata": {
    "slideshow": {
     "slide_type": "subslide"
    }
   },
   "source": [
    "## The above query uses equals comparison operator `=` to find rows that exactly match, but we can use other operators"
   ]
  },
  {
   "cell_type": "markdown",
   "metadata": {
    "slideshow": {
     "slide_type": "subslide"
    }
   },
   "source": [
    "## Comparison and matching operators\n",
    "\n",
    "- `=`: Equal to\n",
    "- `!=`: Not equal to\n",
    "- `>`, `>=`: Greater than; Greater than or equal to\n",
    "- `<`, `<=`: Less than; Less than or equal to\n",
    "- `BETWEEN`: Within a range\n",
    "- `IN`: Match one of a set of values\n",
    "- `LIKE`: Match a pattern\n",
    "- `NOT`: Negates a condition"
   ]
  },
  {
   "cell_type": "markdown",
   "metadata": {
    "slideshow": {
     "slide_type": "subslide"
    }
   },
   "source": [
    "## Using the `BETWEEN` operator"
   ]
  },
  {
   "cell_type": "code",
   "execution_count": 24,
   "metadata": {
    "slideshow": {
     "slide_type": "-"
    }
   },
   "outputs": [],
   "source": [
    "sql_query = \"\"\"\n",
    "SELECT personId,\n",
    "       ppg\n",
    "  FROM career_summaries\n",
    " WHERE ppg BETWEEN 20 AND 25;\n",
    "\"\"\""
   ]
  },
  {
   "cell_type": "code",
   "execution_count": 25,
   "metadata": {
    "slideshow": {
     "slide_type": "subslide"
    }
   },
   "outputs": [
    {
     "data": {
      "text/html": [
       "<div>\n",
       "<style scoped>\n",
       "    .dataframe tbody tr th:only-of-type {\n",
       "        vertical-align: middle;\n",
       "    }\n",
       "\n",
       "    .dataframe tbody tr th {\n",
       "        vertical-align: top;\n",
       "    }\n",
       "\n",
       "    .dataframe thead th {\n",
       "        text-align: right;\n",
       "    }\n",
       "</style>\n",
       "<table border=\"1\" class=\"dataframe\">\n",
       "  <thead>\n",
       "    <tr style=\"text-align: right;\">\n",
       "      <th></th>\n",
       "      <th>personId</th>\n",
       "      <th>ppg</th>\n",
       "    </tr>\n",
       "  </thead>\n",
       "  <tbody>\n",
       "    <tr>\n",
       "      <th>0</th>\n",
       "      <td>2546</td>\n",
       "      <td>23.3</td>\n",
       "    </tr>\n",
       "    <tr>\n",
       "      <th>1</th>\n",
       "      <td>201566</td>\n",
       "      <td>23.2</td>\n",
       "    </tr>\n",
       "    <tr>\n",
       "      <th>2</th>\n",
       "      <td>201933</td>\n",
       "      <td>21.4</td>\n",
       "    </tr>\n",
       "    <tr>\n",
       "      <th>3</th>\n",
       "      <td>201939</td>\n",
       "      <td>23.8</td>\n",
       "    </tr>\n",
       "    <tr>\n",
       "      <th>4</th>\n",
       "      <td>201942</td>\n",
       "      <td>20.1</td>\n",
       "    </tr>\n",
       "    <tr>\n",
       "      <th>5</th>\n",
       "      <td>202331</td>\n",
       "      <td>20.1</td>\n",
       "    </tr>\n",
       "    <tr>\n",
       "      <th>6</th>\n",
       "      <td>202681</td>\n",
       "      <td>22.7</td>\n",
       "    </tr>\n",
       "    <tr>\n",
       "      <th>7</th>\n",
       "      <td>203076</td>\n",
       "      <td>23.9</td>\n",
       "    </tr>\n",
       "    <tr>\n",
       "      <th>8</th>\n",
       "      <td>203078</td>\n",
       "      <td>21.7</td>\n",
       "    </tr>\n",
       "    <tr>\n",
       "      <th>9</th>\n",
       "      <td>203081</td>\n",
       "      <td>24.6</td>\n",
       "    </tr>\n",
       "    <tr>\n",
       "      <th>10</th>\n",
       "      <td>203507</td>\n",
       "      <td>20.7</td>\n",
       "    </tr>\n",
       "    <tr>\n",
       "      <th>11</th>\n",
       "      <td>203954</td>\n",
       "      <td>24.7</td>\n",
       "    </tr>\n",
       "    <tr>\n",
       "      <th>12</th>\n",
       "      <td>1626157</td>\n",
       "      <td>22.6</td>\n",
       "    </tr>\n",
       "    <tr>\n",
       "      <th>13</th>\n",
       "      <td>1626164</td>\n",
       "      <td>22.7</td>\n",
       "    </tr>\n",
       "    <tr>\n",
       "      <th>14</th>\n",
       "      <td>1628378</td>\n",
       "      <td>22.9</td>\n",
       "    </tr>\n",
       "    <tr>\n",
       "      <th>15</th>\n",
       "      <td>1629027</td>\n",
       "      <td>24.1</td>\n",
       "    </tr>\n",
       "    <tr>\n",
       "      <th>16</th>\n",
       "      <td>1629627</td>\n",
       "      <td>24.4</td>\n",
       "    </tr>\n",
       "  </tbody>\n",
       "</table>\n",
       "</div>"
      ],
      "text/plain": [
       "    personId   ppg\n",
       "0       2546  23.3\n",
       "1     201566  23.2\n",
       "2     201933  21.4\n",
       "3     201939  23.8\n",
       "4     201942  20.1\n",
       "5     202331  20.1\n",
       "6     202681  22.7\n",
       "7     203076  23.9\n",
       "8     203078  21.7\n",
       "9     203081  24.6\n",
       "10    203507  20.7\n",
       "11    203954  24.7\n",
       "12   1626157  22.6\n",
       "13   1626164  22.7\n",
       "14   1628378  22.9\n",
       "15   1629027  24.1\n",
       "16   1629627  24.4"
      ]
     },
     "execution_count": 25,
     "metadata": {},
     "output_type": "execute_result"
    }
   ],
   "source": [
    "pd.read_sql(sql_query, conn)"
   ]
  },
  {
   "cell_type": "markdown",
   "metadata": {
    "slideshow": {
     "slide_type": "subslide"
    }
   },
   "source": [
    "## Using `LIKE` with `WHERE`\n",
    "\n",
    "Comparison operators are fairly straightforward, but `LIKE` deserves additional explanation."
   ]
  },
  {
   "cell_type": "markdown",
   "metadata": {
    "slideshow": {
     "slide_type": "subslide"
    }
   },
   "source": [
    "## `LIKE` lets us search for patterns in strings by using two special characters\n",
    "\n",
    "- Percent sign `%`: A wildcard matching one or more characters\n",
    "- Underscore `_`: A wildcard matching just one character"
   ]
  },
  {
   "cell_type": "markdown",
   "metadata": {
    "slideshow": {
     "slide_type": "subslide"
    }
   },
   "source": [
    "## Using `LIKE` with `WHERE` and `%`"
   ]
  },
  {
   "cell_type": "code",
   "execution_count": 26,
   "metadata": {
    "slideshow": {
     "slide_type": "-"
    }
   },
   "outputs": [],
   "source": [
    "sql_query = \"\"\"\n",
    "SELECT firstName,\n",
    "       lastName\n",
    "  FROM players\n",
    " WHERE firstName LIKE 'K%';\n",
    "\"\"\""
   ]
  },
  {
   "cell_type": "code",
   "execution_count": 27,
   "metadata": {
    "slideshow": {
     "slide_type": "subslide"
    }
   },
   "outputs": [
    {
     "data": {
      "text/html": [
       "<div>\n",
       "<style scoped>\n",
       "    .dataframe tbody tr th:only-of-type {\n",
       "        vertical-align: middle;\n",
       "    }\n",
       "\n",
       "    .dataframe tbody tr th {\n",
       "        vertical-align: top;\n",
       "    }\n",
       "\n",
       "    .dataframe thead th {\n",
       "        text-align: right;\n",
       "    }\n",
       "</style>\n",
       "<table border=\"1\" class=\"dataframe\">\n",
       "  <thead>\n",
       "    <tr style=\"text-align: right;\">\n",
       "      <th></th>\n",
       "      <th>firstName</th>\n",
       "      <th>lastName</th>\n",
       "    </tr>\n",
       "  </thead>\n",
       "  <tbody>\n",
       "    <tr>\n",
       "      <th>0</th>\n",
       "      <td>Kyle</td>\n",
       "      <td>Lowry</td>\n",
       "    </tr>\n",
       "    <tr>\n",
       "      <th>1</th>\n",
       "      <td>Kevin</td>\n",
       "      <td>Durant</td>\n",
       "    </tr>\n",
       "    <tr>\n",
       "      <th>2</th>\n",
       "      <td>Kevin</td>\n",
       "      <td>Love</td>\n",
       "    </tr>\n",
       "    <tr>\n",
       "      <th>3</th>\n",
       "      <td>Kyrie</td>\n",
       "      <td>Irving</td>\n",
       "    </tr>\n",
       "    <tr>\n",
       "      <th>4</th>\n",
       "      <td>Kemba</td>\n",
       "      <td>Walker</td>\n",
       "    </tr>\n",
       "    <tr>\n",
       "      <th>5</th>\n",
       "      <td>Klay</td>\n",
       "      <td>Thompson</td>\n",
       "    </tr>\n",
       "    <tr>\n",
       "      <th>6</th>\n",
       "      <td>Kawhi</td>\n",
       "      <td>Leonard</td>\n",
       "    </tr>\n",
       "    <tr>\n",
       "      <th>7</th>\n",
       "      <td>Khris</td>\n",
       "      <td>Middleton</td>\n",
       "    </tr>\n",
       "    <tr>\n",
       "      <th>8</th>\n",
       "      <td>Kent</td>\n",
       "      <td>Bazemore</td>\n",
       "    </tr>\n",
       "    <tr>\n",
       "      <th>9</th>\n",
       "      <td>Kelly</td>\n",
       "      <td>Olynyk</td>\n",
       "    </tr>\n",
       "    <tr>\n",
       "      <th>10</th>\n",
       "      <td>Kentavious</td>\n",
       "      <td>Caldwell-Pope</td>\n",
       "    </tr>\n",
       "    <tr>\n",
       "      <th>11</th>\n",
       "      <td>Khem</td>\n",
       "      <td>Birch</td>\n",
       "    </tr>\n",
       "    <tr>\n",
       "      <th>12</th>\n",
       "      <td>Kyle</td>\n",
       "      <td>Anderson</td>\n",
       "    </tr>\n",
       "    <tr>\n",
       "      <th>13</th>\n",
       "      <td>Kristaps</td>\n",
       "      <td>Porzingis</td>\n",
       "    </tr>\n",
       "    <tr>\n",
       "      <th>14</th>\n",
       "      <td>Karl-Anthony</td>\n",
       "      <td>Towns</td>\n",
       "    </tr>\n",
       "    <tr>\n",
       "      <th>15</th>\n",
       "      <td>Kelly</td>\n",
       "      <td>Oubre Jr.</td>\n",
       "    </tr>\n",
       "    <tr>\n",
       "      <th>16</th>\n",
       "      <td>Kevon</td>\n",
       "      <td>Looney</td>\n",
       "    </tr>\n",
       "    <tr>\n",
       "      <th>17</th>\n",
       "      <td>Kris</td>\n",
       "      <td>Dunn</td>\n",
       "    </tr>\n",
       "    <tr>\n",
       "      <th>18</th>\n",
       "      <td>Kyle</td>\n",
       "      <td>Kuzma</td>\n",
       "    </tr>\n",
       "    <tr>\n",
       "      <th>19</th>\n",
       "      <td>Kostas</td>\n",
       "      <td>Antetokounmpo</td>\n",
       "    </tr>\n",
       "    <tr>\n",
       "      <th>20</th>\n",
       "      <td>Keita</td>\n",
       "      <td>Bates-Diop</td>\n",
       "    </tr>\n",
       "    <tr>\n",
       "      <th>21</th>\n",
       "      <td>Kevin</td>\n",
       "      <td>Huerter</td>\n",
       "    </tr>\n",
       "    <tr>\n",
       "      <th>22</th>\n",
       "      <td>Kevin</td>\n",
       "      <td>Knox II</td>\n",
       "    </tr>\n",
       "    <tr>\n",
       "      <th>23</th>\n",
       "      <td>Kenrich</td>\n",
       "      <td>Williams</td>\n",
       "    </tr>\n",
       "    <tr>\n",
       "      <th>24</th>\n",
       "      <td>Kelan</td>\n",
       "      <td>Martin</td>\n",
       "    </tr>\n",
       "    <tr>\n",
       "      <th>25</th>\n",
       "      <td>Kendrick</td>\n",
       "      <td>Nunn</td>\n",
       "    </tr>\n",
       "    <tr>\n",
       "      <th>26</th>\n",
       "      <td>Keldon</td>\n",
       "      <td>Johnson</td>\n",
       "    </tr>\n",
       "    <tr>\n",
       "      <th>27</th>\n",
       "      <td>KZ</td>\n",
       "      <td>Okpala</td>\n",
       "    </tr>\n",
       "    <tr>\n",
       "      <th>28</th>\n",
       "      <td>Kevin</td>\n",
       "      <td>Porter Jr.</td>\n",
       "    </tr>\n",
       "    <tr>\n",
       "      <th>29</th>\n",
       "      <td>Kyle</td>\n",
       "      <td>Guy</td>\n",
       "    </tr>\n",
       "    <tr>\n",
       "      <th>30</th>\n",
       "      <td>Killian</td>\n",
       "      <td>Tillie</td>\n",
       "    </tr>\n",
       "    <tr>\n",
       "      <th>31</th>\n",
       "      <td>Keljin</td>\n",
       "      <td>Blevins</td>\n",
       "    </tr>\n",
       "    <tr>\n",
       "      <th>32</th>\n",
       "      <td>Killian</td>\n",
       "      <td>Hayes</td>\n",
       "    </tr>\n",
       "    <tr>\n",
       "      <th>33</th>\n",
       "      <td>Kira</td>\n",
       "      <td>Lewis Jr.</td>\n",
       "    </tr>\n",
       "    <tr>\n",
       "      <th>34</th>\n",
       "      <td>Karim</td>\n",
       "      <td>Mane</td>\n",
       "    </tr>\n",
       "    <tr>\n",
       "      <th>35</th>\n",
       "      <td>Kenyon</td>\n",
       "      <td>Martin Jr.</td>\n",
       "    </tr>\n",
       "  </tbody>\n",
       "</table>\n",
       "</div>"
      ],
      "text/plain": [
       "       firstName       lastName\n",
       "0           Kyle          Lowry\n",
       "1          Kevin         Durant\n",
       "2          Kevin           Love\n",
       "3          Kyrie         Irving\n",
       "4          Kemba         Walker\n",
       "5           Klay       Thompson\n",
       "6          Kawhi        Leonard\n",
       "7          Khris      Middleton\n",
       "8           Kent       Bazemore\n",
       "9          Kelly         Olynyk\n",
       "10    Kentavious  Caldwell-Pope\n",
       "11          Khem          Birch\n",
       "12          Kyle       Anderson\n",
       "13      Kristaps      Porzingis\n",
       "14  Karl-Anthony          Towns\n",
       "15         Kelly      Oubre Jr.\n",
       "16         Kevon         Looney\n",
       "17          Kris           Dunn\n",
       "18          Kyle          Kuzma\n",
       "19        Kostas  Antetokounmpo\n",
       "20         Keita     Bates-Diop\n",
       "21         Kevin        Huerter\n",
       "22         Kevin        Knox II\n",
       "23       Kenrich       Williams\n",
       "24         Kelan         Martin\n",
       "25      Kendrick           Nunn\n",
       "26        Keldon        Johnson\n",
       "27            KZ         Okpala\n",
       "28         Kevin     Porter Jr.\n",
       "29          Kyle            Guy\n",
       "30       Killian         Tillie\n",
       "31        Keljin        Blevins\n",
       "32       Killian          Hayes\n",
       "33          Kira      Lewis Jr.\n",
       "34         Karim           Mane\n",
       "35        Kenyon     Martin Jr."
      ]
     },
     "execution_count": 27,
     "metadata": {},
     "output_type": "execute_result"
    }
   ],
   "source": [
    "pd.read_sql(sql_query, conn)"
   ]
  },
  {
   "cell_type": "markdown",
   "metadata": {
    "slideshow": {
     "slide_type": "subslide"
    }
   },
   "source": [
    "## Using `LIKE` with `WHERE` and `_`"
   ]
  },
  {
   "cell_type": "code",
   "execution_count": 28,
   "metadata": {
    "slideshow": {
     "slide_type": "-"
    }
   },
   "outputs": [],
   "source": [
    "sql_query = \"\"\"\n",
    "SELECT firstName,\n",
    "       lastName\n",
    "  FROM players\n",
    " WHERE firstName LIKE 'K____';\n",
    "\"\"\""
   ]
  },
  {
   "cell_type": "code",
   "execution_count": 29,
   "metadata": {
    "slideshow": {
     "slide_type": "subslide"
    }
   },
   "outputs": [
    {
     "data": {
      "text/html": [
       "<div>\n",
       "<style scoped>\n",
       "    .dataframe tbody tr th:only-of-type {\n",
       "        vertical-align: middle;\n",
       "    }\n",
       "\n",
       "    .dataframe tbody tr th {\n",
       "        vertical-align: top;\n",
       "    }\n",
       "\n",
       "    .dataframe thead th {\n",
       "        text-align: right;\n",
       "    }\n",
       "</style>\n",
       "<table border=\"1\" class=\"dataframe\">\n",
       "  <thead>\n",
       "    <tr style=\"text-align: right;\">\n",
       "      <th></th>\n",
       "      <th>firstName</th>\n",
       "      <th>lastName</th>\n",
       "    </tr>\n",
       "  </thead>\n",
       "  <tbody>\n",
       "    <tr>\n",
       "      <th>0</th>\n",
       "      <td>Kevin</td>\n",
       "      <td>Durant</td>\n",
       "    </tr>\n",
       "    <tr>\n",
       "      <th>1</th>\n",
       "      <td>Kevin</td>\n",
       "      <td>Love</td>\n",
       "    </tr>\n",
       "    <tr>\n",
       "      <th>2</th>\n",
       "      <td>Kyrie</td>\n",
       "      <td>Irving</td>\n",
       "    </tr>\n",
       "    <tr>\n",
       "      <th>3</th>\n",
       "      <td>Kemba</td>\n",
       "      <td>Walker</td>\n",
       "    </tr>\n",
       "    <tr>\n",
       "      <th>4</th>\n",
       "      <td>Kawhi</td>\n",
       "      <td>Leonard</td>\n",
       "    </tr>\n",
       "    <tr>\n",
       "      <th>5</th>\n",
       "      <td>Khris</td>\n",
       "      <td>Middleton</td>\n",
       "    </tr>\n",
       "    <tr>\n",
       "      <th>6</th>\n",
       "      <td>Kelly</td>\n",
       "      <td>Olynyk</td>\n",
       "    </tr>\n",
       "    <tr>\n",
       "      <th>7</th>\n",
       "      <td>Kelly</td>\n",
       "      <td>Oubre Jr.</td>\n",
       "    </tr>\n",
       "    <tr>\n",
       "      <th>8</th>\n",
       "      <td>Kevon</td>\n",
       "      <td>Looney</td>\n",
       "    </tr>\n",
       "    <tr>\n",
       "      <th>9</th>\n",
       "      <td>Keita</td>\n",
       "      <td>Bates-Diop</td>\n",
       "    </tr>\n",
       "    <tr>\n",
       "      <th>10</th>\n",
       "      <td>Kevin</td>\n",
       "      <td>Huerter</td>\n",
       "    </tr>\n",
       "    <tr>\n",
       "      <th>11</th>\n",
       "      <td>Kevin</td>\n",
       "      <td>Knox II</td>\n",
       "    </tr>\n",
       "    <tr>\n",
       "      <th>12</th>\n",
       "      <td>Kelan</td>\n",
       "      <td>Martin</td>\n",
       "    </tr>\n",
       "    <tr>\n",
       "      <th>13</th>\n",
       "      <td>Kevin</td>\n",
       "      <td>Porter Jr.</td>\n",
       "    </tr>\n",
       "    <tr>\n",
       "      <th>14</th>\n",
       "      <td>Karim</td>\n",
       "      <td>Mane</td>\n",
       "    </tr>\n",
       "  </tbody>\n",
       "</table>\n",
       "</div>"
      ],
      "text/plain": [
       "   firstName    lastName\n",
       "0      Kevin      Durant\n",
       "1      Kevin        Love\n",
       "2      Kyrie      Irving\n",
       "3      Kemba      Walker\n",
       "4      Kawhi     Leonard\n",
       "5      Khris   Middleton\n",
       "6      Kelly      Olynyk\n",
       "7      Kelly   Oubre Jr.\n",
       "8      Kevon      Looney\n",
       "9      Keita  Bates-Diop\n",
       "10     Kevin     Huerter\n",
       "11     Kevin     Knox II\n",
       "12     Kelan      Martin\n",
       "13     Kevin  Porter Jr.\n",
       "14     Karim        Mane"
      ]
     },
     "execution_count": 29,
     "metadata": {},
     "output_type": "execute_result"
    }
   ],
   "source": [
    "pd.read_sql(sql_query, conn)"
   ]
  },
  {
   "cell_type": "markdown",
   "metadata": {
    "slideshow": {
     "slide_type": "subslide"
    }
   },
   "source": [
    "## Combining conditions with `AND` and `OR`\n",
    "\n",
    "Comparison operators become more useful when we combine them. To do this, we connect them using keywords `AND` and `OR`."
   ]
  },
  {
   "cell_type": "markdown",
   "metadata": {
    "slideshow": {
     "slide_type": "subslide"
    }
   },
   "source": [
    "## Combining conditions with `AND`"
   ]
  },
  {
   "cell_type": "code",
   "execution_count": 30,
   "metadata": {
    "slideshow": {
     "slide_type": "-"
    }
   },
   "outputs": [],
   "source": [
    "sql_query = \"\"\"\n",
    "SELECT firstName,\n",
    "       lastName\n",
    "  FROM players\n",
    " WHERE firstName LIKE 'K%' AND\n",
    "       lastName LIKE 'L%';\n",
    "\"\"\""
   ]
  },
  {
   "cell_type": "code",
   "execution_count": 31,
   "metadata": {
    "slideshow": {
     "slide_type": "subslide"
    }
   },
   "outputs": [
    {
     "data": {
      "text/html": [
       "<div>\n",
       "<style scoped>\n",
       "    .dataframe tbody tr th:only-of-type {\n",
       "        vertical-align: middle;\n",
       "    }\n",
       "\n",
       "    .dataframe tbody tr th {\n",
       "        vertical-align: top;\n",
       "    }\n",
       "\n",
       "    .dataframe thead th {\n",
       "        text-align: right;\n",
       "    }\n",
       "</style>\n",
       "<table border=\"1\" class=\"dataframe\">\n",
       "  <thead>\n",
       "    <tr style=\"text-align: right;\">\n",
       "      <th></th>\n",
       "      <th>firstName</th>\n",
       "      <th>lastName</th>\n",
       "    </tr>\n",
       "  </thead>\n",
       "  <tbody>\n",
       "    <tr>\n",
       "      <th>0</th>\n",
       "      <td>Kyle</td>\n",
       "      <td>Lowry</td>\n",
       "    </tr>\n",
       "    <tr>\n",
       "      <th>1</th>\n",
       "      <td>Kevin</td>\n",
       "      <td>Love</td>\n",
       "    </tr>\n",
       "    <tr>\n",
       "      <th>2</th>\n",
       "      <td>Kawhi</td>\n",
       "      <td>Leonard</td>\n",
       "    </tr>\n",
       "    <tr>\n",
       "      <th>3</th>\n",
       "      <td>Kevon</td>\n",
       "      <td>Looney</td>\n",
       "    </tr>\n",
       "    <tr>\n",
       "      <th>4</th>\n",
       "      <td>Kira</td>\n",
       "      <td>Lewis Jr.</td>\n",
       "    </tr>\n",
       "  </tbody>\n",
       "</table>\n",
       "</div>"
      ],
      "text/plain": [
       "  firstName   lastName\n",
       "0      Kyle      Lowry\n",
       "1     Kevin       Love\n",
       "2     Kawhi    Leonard\n",
       "3     Kevon     Looney\n",
       "4      Kira  Lewis Jr."
      ]
     },
     "execution_count": 31,
     "metadata": {},
     "output_type": "execute_result"
    }
   ],
   "source": [
    "pd.read_sql(sql_query, conn)"
   ]
  },
  {
   "cell_type": "markdown",
   "metadata": {
    "slideshow": {
     "slide_type": "subslide"
    }
   },
   "source": [
    "## Combining conditions with `OR`"
   ]
  },
  {
   "cell_type": "code",
   "execution_count": 32,
   "metadata": {
    "slideshow": {
     "slide_type": "skip"
    }
   },
   "outputs": [],
   "source": [
    "sql_query = \"\"\"\n",
    "SELECT firstName, lastName\n",
    "  FROM players\n",
    " WHERE firstName LIKE 'K%' OR\n",
    "       lastName LIKE 'L%';\n",
    "\"\"\""
   ]
  },
  {
   "cell_type": "code",
   "execution_count": 33,
   "metadata": {
    "slideshow": {
     "slide_type": "subslide"
    }
   },
   "outputs": [
    {
     "data": {
      "text/html": [
       "<div>\n",
       "<style scoped>\n",
       "    .dataframe tbody tr th:only-of-type {\n",
       "        vertical-align: middle;\n",
       "    }\n",
       "\n",
       "    .dataframe tbody tr th {\n",
       "        vertical-align: top;\n",
       "    }\n",
       "\n",
       "    .dataframe thead th {\n",
       "        text-align: right;\n",
       "    }\n",
       "</style>\n",
       "<table border=\"1\" class=\"dataframe\">\n",
       "  <thead>\n",
       "    <tr style=\"text-align: right;\">\n",
       "      <th></th>\n",
       "      <th>firstName</th>\n",
       "      <th>lastName</th>\n",
       "    </tr>\n",
       "  </thead>\n",
       "  <tbody>\n",
       "    <tr>\n",
       "      <th>0</th>\n",
       "      <td>Kyle</td>\n",
       "      <td>Lowry</td>\n",
       "    </tr>\n",
       "    <tr>\n",
       "      <th>1</th>\n",
       "      <td>Kevin</td>\n",
       "      <td>Durant</td>\n",
       "    </tr>\n",
       "    <tr>\n",
       "      <th>2</th>\n",
       "      <td>Kevin</td>\n",
       "      <td>Love</td>\n",
       "    </tr>\n",
       "    <tr>\n",
       "      <th>3</th>\n",
       "      <td>Brook</td>\n",
       "      <td>Lopez</td>\n",
       "    </tr>\n",
       "    <tr>\n",
       "      <th>4</th>\n",
       "      <td>Robin</td>\n",
       "      <td>Lopez</td>\n",
       "    </tr>\n",
       "    <tr>\n",
       "      <th>5</th>\n",
       "      <td>Kyrie</td>\n",
       "      <td>Irving</td>\n",
       "    </tr>\n",
       "    <tr>\n",
       "      <th>6</th>\n",
       "      <td>Kemba</td>\n",
       "      <td>Walker</td>\n",
       "    </tr>\n",
       "    <tr>\n",
       "      <th>7</th>\n",
       "      <td>Klay</td>\n",
       "      <td>Thompson</td>\n",
       "    </tr>\n",
       "    <tr>\n",
       "      <th>8</th>\n",
       "      <td>Kawhi</td>\n",
       "      <td>Leonard</td>\n",
       "    </tr>\n",
       "    <tr>\n",
       "      <th>9</th>\n",
       "      <td>Damian</td>\n",
       "      <td>Lillard</td>\n",
       "    </tr>\n",
       "    <tr>\n",
       "      <th>10</th>\n",
       "      <td>Meyers</td>\n",
       "      <td>Leonard</td>\n",
       "    </tr>\n",
       "    <tr>\n",
       "      <th>11</th>\n",
       "      <td>Jeremy</td>\n",
       "      <td>Lamb</td>\n",
       "    </tr>\n",
       "    <tr>\n",
       "      <th>12</th>\n",
       "      <td>Khris</td>\n",
       "      <td>Middleton</td>\n",
       "    </tr>\n",
       "    <tr>\n",
       "      <th>13</th>\n",
       "      <td>Kent</td>\n",
       "      <td>Bazemore</td>\n",
       "    </tr>\n",
       "    <tr>\n",
       "      <th>14</th>\n",
       "      <td>Alex</td>\n",
       "      <td>Len</td>\n",
       "    </tr>\n",
       "    <tr>\n",
       "      <th>15</th>\n",
       "      <td>Kelly</td>\n",
       "      <td>Olynyk</td>\n",
       "    </tr>\n",
       "    <tr>\n",
       "      <th>16</th>\n",
       "      <td>Kentavious</td>\n",
       "      <td>Caldwell-Pope</td>\n",
       "    </tr>\n",
       "    <tr>\n",
       "      <th>17</th>\n",
       "      <td>Zach</td>\n",
       "      <td>LaVine</td>\n",
       "    </tr>\n",
       "    <tr>\n",
       "      <th>18</th>\n",
       "      <td>Khem</td>\n",
       "      <td>Birch</td>\n",
       "    </tr>\n",
       "    <tr>\n",
       "      <th>19</th>\n",
       "      <td>Kyle</td>\n",
       "      <td>Anderson</td>\n",
       "    </tr>\n",
       "    <tr>\n",
       "      <th>20</th>\n",
       "      <td>Kristaps</td>\n",
       "      <td>Porzingis</td>\n",
       "    </tr>\n",
       "    <tr>\n",
       "      <th>21</th>\n",
       "      <td>Karl-Anthony</td>\n",
       "      <td>Towns</td>\n",
       "    </tr>\n",
       "    <tr>\n",
       "      <th>22</th>\n",
       "      <td>Kelly</td>\n",
       "      <td>Oubre Jr.</td>\n",
       "    </tr>\n",
       "    <tr>\n",
       "      <th>23</th>\n",
       "      <td>Trey</td>\n",
       "      <td>Lyles</td>\n",
       "    </tr>\n",
       "    <tr>\n",
       "      <th>24</th>\n",
       "      <td>Kevon</td>\n",
       "      <td>Looney</td>\n",
       "    </tr>\n",
       "    <tr>\n",
       "      <th>25</th>\n",
       "      <td>Kris</td>\n",
       "      <td>Dunn</td>\n",
       "    </tr>\n",
       "    <tr>\n",
       "      <th>26</th>\n",
       "      <td>Caris</td>\n",
       "      <td>LeVert</td>\n",
       "    </tr>\n",
       "    <tr>\n",
       "      <th>27</th>\n",
       "      <td>Jake</td>\n",
       "      <td>Layman</td>\n",
       "    </tr>\n",
       "    <tr>\n",
       "      <th>28</th>\n",
       "      <td>Timothe</td>\n",
       "      <td>Luwawu-Cabarrot</td>\n",
       "    </tr>\n",
       "    <tr>\n",
       "      <th>29</th>\n",
       "      <td>Damion</td>\n",
       "      <td>Lee</td>\n",
       "    </tr>\n",
       "    <tr>\n",
       "      <th>30</th>\n",
       "      <td>Kyle</td>\n",
       "      <td>Kuzma</td>\n",
       "    </tr>\n",
       "    <tr>\n",
       "      <th>31</th>\n",
       "      <td>Kostas</td>\n",
       "      <td>Antetokounmpo</td>\n",
       "    </tr>\n",
       "    <tr>\n",
       "      <th>32</th>\n",
       "      <td>Keita</td>\n",
       "      <td>Bates-Diop</td>\n",
       "    </tr>\n",
       "    <tr>\n",
       "      <th>33</th>\n",
       "      <td>Kevin</td>\n",
       "      <td>Huerter</td>\n",
       "    </tr>\n",
       "    <tr>\n",
       "      <th>34</th>\n",
       "      <td>Kevin</td>\n",
       "      <td>Knox II</td>\n",
       "    </tr>\n",
       "    <tr>\n",
       "      <th>35</th>\n",
       "      <td>Kenrich</td>\n",
       "      <td>Williams</td>\n",
       "    </tr>\n",
       "    <tr>\n",
       "      <th>36</th>\n",
       "      <td>Kelan</td>\n",
       "      <td>Martin</td>\n",
       "    </tr>\n",
       "    <tr>\n",
       "      <th>37</th>\n",
       "      <td>Kendrick</td>\n",
       "      <td>Nunn</td>\n",
       "    </tr>\n",
       "    <tr>\n",
       "      <th>38</th>\n",
       "      <td>Keldon</td>\n",
       "      <td>Johnson</td>\n",
       "    </tr>\n",
       "    <tr>\n",
       "      <th>39</th>\n",
       "      <td>Romeo</td>\n",
       "      <td>Langford</td>\n",
       "    </tr>\n",
       "    <tr>\n",
       "      <th>40</th>\n",
       "      <td>Nassir</td>\n",
       "      <td>Little</td>\n",
       "    </tr>\n",
       "    <tr>\n",
       "      <th>41</th>\n",
       "      <td>KZ</td>\n",
       "      <td>Okpala</td>\n",
       "    </tr>\n",
       "    <tr>\n",
       "      <th>42</th>\n",
       "      <td>Kevin</td>\n",
       "      <td>Porter Jr.</td>\n",
       "    </tr>\n",
       "    <tr>\n",
       "      <th>43</th>\n",
       "      <td>Kyle</td>\n",
       "      <td>Guy</td>\n",
       "    </tr>\n",
       "    <tr>\n",
       "      <th>44</th>\n",
       "      <td>Jalen</td>\n",
       "      <td>Lecque</td>\n",
       "    </tr>\n",
       "    <tr>\n",
       "      <th>45</th>\n",
       "      <td>Killian</td>\n",
       "      <td>Tillie</td>\n",
       "    </tr>\n",
       "    <tr>\n",
       "      <th>46</th>\n",
       "      <td>Keljin</td>\n",
       "      <td>Blevins</td>\n",
       "    </tr>\n",
       "    <tr>\n",
       "      <th>47</th>\n",
       "      <td>Killian</td>\n",
       "      <td>Hayes</td>\n",
       "    </tr>\n",
       "    <tr>\n",
       "      <th>48</th>\n",
       "      <td>Kira</td>\n",
       "      <td>Lewis Jr.</td>\n",
       "    </tr>\n",
       "    <tr>\n",
       "      <th>49</th>\n",
       "      <td>Karim</td>\n",
       "      <td>Mane</td>\n",
       "    </tr>\n",
       "    <tr>\n",
       "      <th>50</th>\n",
       "      <td>Kenyon</td>\n",
       "      <td>Martin Jr.</td>\n",
       "    </tr>\n",
       "    <tr>\n",
       "      <th>51</th>\n",
       "      <td>Anthony</td>\n",
       "      <td>Lamb</td>\n",
       "    </tr>\n",
       "    <tr>\n",
       "      <th>52</th>\n",
       "      <td>Saben</td>\n",
       "      <td>Lee</td>\n",
       "    </tr>\n",
       "  </tbody>\n",
       "</table>\n",
       "</div>"
      ],
      "text/plain": [
       "       firstName         lastName\n",
       "0           Kyle            Lowry\n",
       "1          Kevin           Durant\n",
       "2          Kevin             Love\n",
       "3          Brook            Lopez\n",
       "4          Robin            Lopez\n",
       "5          Kyrie           Irving\n",
       "6          Kemba           Walker\n",
       "7           Klay         Thompson\n",
       "8          Kawhi          Leonard\n",
       "9         Damian          Lillard\n",
       "10        Meyers          Leonard\n",
       "11        Jeremy             Lamb\n",
       "12         Khris        Middleton\n",
       "13          Kent         Bazemore\n",
       "14          Alex              Len\n",
       "15         Kelly           Olynyk\n",
       "16    Kentavious    Caldwell-Pope\n",
       "17          Zach           LaVine\n",
       "18          Khem            Birch\n",
       "19          Kyle         Anderson\n",
       "20      Kristaps        Porzingis\n",
       "21  Karl-Anthony            Towns\n",
       "22         Kelly        Oubre Jr.\n",
       "23          Trey            Lyles\n",
       "24         Kevon           Looney\n",
       "25          Kris             Dunn\n",
       "26         Caris           LeVert\n",
       "27          Jake           Layman\n",
       "28       Timothe  Luwawu-Cabarrot\n",
       "29        Damion              Lee\n",
       "30          Kyle            Kuzma\n",
       "31        Kostas    Antetokounmpo\n",
       "32         Keita       Bates-Diop\n",
       "33         Kevin          Huerter\n",
       "34         Kevin          Knox II\n",
       "35       Kenrich         Williams\n",
       "36         Kelan           Martin\n",
       "37      Kendrick             Nunn\n",
       "38        Keldon          Johnson\n",
       "39         Romeo         Langford\n",
       "40        Nassir           Little\n",
       "41            KZ           Okpala\n",
       "42         Kevin       Porter Jr.\n",
       "43          Kyle              Guy\n",
       "44         Jalen           Lecque\n",
       "45       Killian           Tillie\n",
       "46        Keljin          Blevins\n",
       "47       Killian            Hayes\n",
       "48          Kira        Lewis Jr.\n",
       "49         Karim             Mane\n",
       "50        Kenyon       Martin Jr.\n",
       "51       Anthony             Lamb\n",
       "52         Saben              Lee"
      ]
     },
     "execution_count": 33,
     "metadata": {},
     "output_type": "execute_result"
    }
   ],
   "source": [
    "pd.read_sql(sql_query, conn)"
   ]
  },
  {
   "cell_type": "markdown",
   "metadata": {
    "slideshow": {
     "slide_type": "subslide"
    }
   },
   "source": [
    "## Putting what we have so far all together\n",
    "\n",
    "SQL is about the order of keywords, so follow this convention:\n",
    "\n",
    "```sql\n",
    "SELECT column_name\n",
    "  FROM table_name\n",
    " WHERE condition\n",
    " ORDER BY column_name;\n",
    "```"
   ]
  }
 ],
 "metadata": {
  "celltoolbar": "Slideshow",
  "kernelspec": {
   "display_name": "Python Data Analysis",
   "language": "python",
   "name": "pyda"
  },
  "language_info": {
   "codemirror_mode": {
    "name": "ipython",
    "version": 3
   },
   "file_extension": ".py",
   "mimetype": "text/x-python",
   "name": "python",
   "nbconvert_exporter": "python",
   "pygments_lexer": "ipython3",
   "version": "3.6.8"
  }
 },
 "nbformat": 4,
 "nbformat_minor": 4
}
