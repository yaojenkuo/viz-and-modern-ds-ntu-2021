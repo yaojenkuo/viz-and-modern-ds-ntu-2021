{
 "cells": [
  {
   "cell_type": "markdown",
   "metadata": {
    "slideshow": {
     "slide_type": "slide"
    }
   },
   "source": [
    "# Visualization and Modern Data Science\n",
    "\n",
    "> Basic Queries in SQL\n",
    "\n",
    "Kuo, Yao-Jen <yaojenkuo@ntu.edu.tw> from [DATAINPOINT](https://www.datainpoint.com)"
   ]
  },
  {
   "cell_type": "code",
   "execution_count": 1,
   "metadata": {
    "slideshow": {
     "slide_type": "skip"
    }
   },
   "outputs": [],
   "source": [
    "%LOAD sqlite3 db=../datasets/nba.db timeout=2 shared_cache=true"
   ]
  },
  {
   "cell_type": "markdown",
   "metadata": {
    "slideshow": {
     "slide_type": "slide"
    }
   },
   "source": [
    "## SQL Style Guide"
   ]
  },
  {
   "cell_type": "markdown",
   "metadata": {
    "slideshow": {
     "slide_type": "subslide"
    }
   },
   "source": [
    "## What is a style guide?\n",
    "\n",
    "> Generally speaking, (programming) style guide is a written document, containing a set of rules or guidelines used when writing source code for a computer program (it could be anything from web app to desktop software). A particular programming style may be different from language to language. For example, what is considered a goood practice in SQL may not be appropriate for Python, vice versa."
   ]
  },
  {
   "cell_type": "markdown",
   "metadata": {
    "slideshow": {
     "slide_type": "subslide"
    }
   },
   "source": [
    "## Why adopting style guide?\n",
    "\n",
    "> A code deployed in production should look like it was written by a single developer, even if it was written by hundreds. Conforming to a style guide removes unnecessary guesswork and ambiguities. It also allows for a more streamlined creation of code and its maintenance, because we won’t have to think about the style or how we should name a variable - we simply follow instructions."
   ]
  },
  {
   "cell_type": "markdown",
   "metadata": {
    "slideshow": {
     "slide_type": "subslide"
    }
   },
   "source": [
    "## What if we are not satisy with the current style guide adpated by our team?\n",
    "\n",
    "> If we are new to a new team, no questions asked. We can suggest changes after a specific period time(probation or first year per se) if there is an obvious advantage, otherwise just follow the style guide."
   ]
  },
  {
   "cell_type": "markdown",
   "metadata": {
    "slideshow": {
     "slide_type": "subslide"
    }
   },
   "source": [
    "## Next, the \"common\" SQL style guide\n",
    "\n",
    "![](https://media.giphy.com/media/121em4mM0An4Pe/giphy.gif)\n",
    "\n",
    "Source: <https://giphy.com/>"
   ]
  },
  {
   "cell_type": "markdown",
   "metadata": {
    "slideshow": {
     "slide_type": "subslide"
    }
   },
   "source": [
    "## We are adapting SQL style guide by [Simon Holywell](https://www.simonholywell.com/)\n",
    "\n",
    "Source: <https://www.sqlstyle.guide/>"
   ]
  },
  {
   "cell_type": "markdown",
   "metadata": {
    "slideshow": {
     "slide_type": "subslide"
    }
   },
   "source": [
    "## Other SQL style guides\n",
    "\n",
    "- [SQL Style Guide, GitLab](https://about.gitlab.com/handbook/business-ops/data-team/platform/sql-style-guide/)\n",
    "- [SQL Style Guide, Mozilla](https://docs.telemetry.mozilla.org/concepts/sql_style.html)"
   ]
  },
  {
   "cell_type": "markdown",
   "metadata": {
    "slideshow": {
     "slide_type": "subslide"
    }
   },
   "source": [
    "## General Dos:\n",
    "\n",
    "- Make judicious use of white space and indentation to make code easier to read\n",
    "- Store ISO-8601 compliant time and date information (`YYYY-MM-DD HH:MM:SS.SSSSS`)\n",
    "- Use only standard SQL functions instead of vendor specific functions for reasons of portability\n",
    "- Include comments in SQL code where necessary\n",
    "    - Use the opening `/*` and closing `*/` for multi-line comments\n",
    "    - Use `--` for single line comment"
   ]
  },
  {
   "cell_type": "markdown",
   "metadata": {
    "slideshow": {
     "slide_type": "subslide"
    }
   },
   "source": [
    "## What is your idea of a perferct date?\n",
    "\n",
    "![Imgur](https://i.imgur.com/eBYN9Qe.png)\n",
    "\n",
    "Source: Google Search"
   ]
  },
  {
   "cell_type": "markdown",
   "metadata": {
    "slideshow": {
     "slide_type": "subslide"
    }
   },
   "source": [
    "## General naming conventions\n",
    "\n",
    "- Begin with a letter and may not end with an underscore\n",
    "- Do not use a **reserved keyword**\n",
    "- Only use letters, numbers and underscores\n",
    "- Do not use multiple consecutive underscores\n",
    "- Use abbreviations only if they are commonly understood"
   ]
  },
  {
   "cell_type": "markdown",
   "metadata": {
    "slideshow": {
     "slide_type": "subslide"
    }
   },
   "source": [
    "## Reserved keywords in SQL\n",
    "\n",
    "<https://www.w3schools.com/sql/sql_ref_keywords.asp>"
   ]
  },
  {
   "cell_type": "markdown",
   "metadata": {
    "slideshow": {
     "slide_type": "subslide"
    }
   },
   "source": [
    "## Using reserved keywords in query syntax\n",
    "\n",
    "- Always use uppercase for the reserved keywords like `SELECT` and `WHERE`\n",
    "- It is best to use the full length ones where available"
   ]
  },
  {
   "cell_type": "markdown",
   "metadata": {
    "slideshow": {
     "slide_type": "subslide"
    }
   },
   "source": [
    "## Right align `SELECT`, `FROM`, etc. in query syntax"
   ]
  },
  {
   "cell_type": "code",
   "execution_count": 2,
   "metadata": {
    "slideshow": {
     "slide_type": "-"
    }
   },
   "outputs": [
    {
     "data": {
      "text/html": [
       "<table>\n",
       "<tr>\n",
       "<th>isNBAFranchise</th>\n",
       "<th>isAllStar</th>\n",
       "<th>city</th>\n",
       "<th>altCityName</th>\n",
       "<th>fullName</th>\n",
       "<th>tricode</th>\n",
       "<th>teamId</th>\n",
       "<th>nickname</th>\n",
       "<th>urlName</th>\n",
       "<th>teamShortName</th>\n",
       "<th>confName</th>\n",
       "<th>divName</th>\n",
       "</tr>\n",
       "<tr>\n",
       "<td>1</td>\n",
       "<td>0</td>\n",
       "<td>Atlanta</td>\n",
       "<td>Atlanta</td>\n",
       "<td>Atlanta Hawks</td>\n",
       "<td>ATL</td>\n",
       "<td>1610612737</td>\n",
       "<td>Hawks</td>\n",
       "<td>hawks</td>\n",
       "<td>Atlanta</td>\n",
       "<td>East</td>\n",
       "<td>Southeast</td>\n",
       "</tr>\n",
       "<tr>\n",
       "<td>1</td>\n",
       "<td>0</td>\n",
       "<td>Boston</td>\n",
       "<td>Boston</td>\n",
       "<td>Boston Celtics</td>\n",
       "<td>BOS</td>\n",
       "<td>1610612738</td>\n",
       "<td>Celtics</td>\n",
       "<td>celtics</td>\n",
       "<td>Boston</td>\n",
       "<td>East</td>\n",
       "<td>Atlantic</td>\n",
       "</tr>\n",
       "<tr>\n",
       "<td>1</td>\n",
       "<td>0</td>\n",
       "<td>Cleveland</td>\n",
       "<td>Cleveland</td>\n",
       "<td>Cleveland Cavaliers</td>\n",
       "<td>CLE</td>\n",
       "<td>1610612739</td>\n",
       "<td>Cavaliers</td>\n",
       "<td>cavaliers</td>\n",
       "<td>Cleveland</td>\n",
       "<td>East</td>\n",
       "<td>Central</td>\n",
       "</tr>\n",
       "<tr>\n",
       "<td>1</td>\n",
       "<td>0</td>\n",
       "<td>Chicago</td>\n",
       "<td>Chicago</td>\n",
       "<td>Chicago Bulls</td>\n",
       "<td>CHI</td>\n",
       "<td>1610612741</td>\n",
       "<td>Bulls</td>\n",
       "<td>bulls</td>\n",
       "<td>Chicago</td>\n",
       "<td>East</td>\n",
       "<td>Central</td>\n",
       "</tr>\n",
       "<tr>\n",
       "<td>1</td>\n",
       "<td>0</td>\n",
       "<td>Miami</td>\n",
       "<td>Miami</td>\n",
       "<td>Miami Heat</td>\n",
       "<td>MIA</td>\n",
       "<td>1610612748</td>\n",
       "<td>Heat</td>\n",
       "<td>heat</td>\n",
       "<td>Miami</td>\n",
       "<td>East</td>\n",
       "<td>Southeast</td>\n",
       "</tr>\n",
       "</table>\n",
       "5 rows in set (0.00 sec)"
      ],
      "text/plain": [
       "+----------------+-----------+-----------+-------------+---------------------+---------+------------+-----------+-----------+---------------+----------+-----------+\n",
       "| isNBAFranchise | isAllStar | city      | altCityName | fullName            | tricode | teamId     | nickname  | urlName   | teamShortName | confName | divName   |\n",
       "+----------------+-----------+-----------+-------------+---------------------+---------+------------+-----------+-----------+---------------+----------+-----------+\n",
       "| 1              | 0         | Atlanta   | Atlanta     | Atlanta Hawks       | ATL     | 1610612737 | Hawks     | hawks     | Atlanta       | East     | Southeast |\n",
       "+----------------+-----------+-----------+-------------+---------------------+---------+------------+-----------+-----------+---------------+----------+-----------+\n",
       "| 1              | 0         | Boston    | Boston      | Boston Celtics      | BOS     | 1610612738 | Celtics   | celtics   | Boston        | East     | Atlantic  |\n",
       "+----------------+-----------+-----------+-------------+---------------------+---------+------------+-----------+-----------+---------------+----------+-----------+\n",
       "| 1              | 0         | Cleveland | Cleveland   | Cleveland Cavaliers | CLE     | 1610612739 | Cavaliers | cavaliers | Cleveland     | East     | Central   |\n",
       "+----------------+-----------+-----------+-------------+---------------------+---------+------------+-----------+-----------+---------------+----------+-----------+\n",
       "| 1              | 0         | Chicago   | Chicago     | Chicago Bulls       | CHI     | 1610612741 | Bulls     | bulls     | Chicago       | East     | Central   |\n",
       "+----------------+-----------+-----------+-------------+---------------------+---------+------------+-----------+-----------+---------------+----------+-----------+\n",
       "| 1              | 0         | Miami     | Miami       | Miami Heat          | MIA     | 1610612748 | Heat      | heat      | Miami         | East     | Southeast |\n",
       "+----------------+-----------+-----------+-------------+---------------------+---------+------------+-----------+-----------+---------------+----------+-----------+\n",
       "5 rows in set (0.00 sec)"
      ]
     },
     "execution_count": 2,
     "metadata": {},
     "output_type": "execute_result"
    }
   ],
   "source": [
    "SELECT *\n",
    "  FROM teams\n",
    " WHERE confName = 'East'\n",
    " LIMIT 5;"
   ]
  },
  {
   "cell_type": "markdown",
   "metadata": {
    "slideshow": {
     "slide_type": "subslide"
    }
   },
   "source": [
    "## Include spaces\n",
    "\n",
    "- before and after equals `=`\n",
    "- after commas `,`\n",
    "- surrounding apostrophes (`'`) where not within parentheses or with a trailing comma or semicolon"
   ]
  },
  {
   "cell_type": "code",
   "execution_count": 3,
   "metadata": {
    "slideshow": {
     "slide_type": "subslide"
    }
   },
   "outputs": [
    {
     "data": {
      "text/html": [
       "<table>\n",
       "<tr>\n",
       "<th>isNBAFranchise</th>\n",
       "<th>isAllStar</th>\n",
       "<th>city</th>\n",
       "<th>altCityName</th>\n",
       "<th>fullName</th>\n",
       "<th>tricode</th>\n",
       "<th>teamId</th>\n",
       "<th>nickname</th>\n",
       "<th>urlName</th>\n",
       "<th>teamShortName</th>\n",
       "<th>confName</th>\n",
       "<th>divName</th>\n",
       "</tr>\n",
       "<tr>\n",
       "<td>1</td>\n",
       "<td>0</td>\n",
       "<td>Atlanta</td>\n",
       "<td>Atlanta</td>\n",
       "<td>Atlanta Hawks</td>\n",
       "<td>ATL</td>\n",
       "<td>1610612737</td>\n",
       "<td>Hawks</td>\n",
       "<td>hawks</td>\n",
       "<td>Atlanta</td>\n",
       "<td>East</td>\n",
       "<td>Southeast</td>\n",
       "</tr>\n",
       "<tr>\n",
       "<td>1</td>\n",
       "<td>0</td>\n",
       "<td>Boston</td>\n",
       "<td>Boston</td>\n",
       "<td>Boston Celtics</td>\n",
       "<td>BOS</td>\n",
       "<td>1610612738</td>\n",
       "<td>Celtics</td>\n",
       "<td>celtics</td>\n",
       "<td>Boston</td>\n",
       "<td>East</td>\n",
       "<td>Atlantic</td>\n",
       "</tr>\n",
       "<tr>\n",
       "<td>1</td>\n",
       "<td>0</td>\n",
       "<td>Miami</td>\n",
       "<td>Miami</td>\n",
       "<td>Miami Heat</td>\n",
       "<td>MIA</td>\n",
       "<td>1610612748</td>\n",
       "<td>Heat</td>\n",
       "<td>heat</td>\n",
       "<td>Miami</td>\n",
       "<td>East</td>\n",
       "<td>Southeast</td>\n",
       "</tr>\n",
       "<tr>\n",
       "<td>1</td>\n",
       "<td>0</td>\n",
       "<td>Brooklyn</td>\n",
       "<td>Brooklyn</td>\n",
       "<td>Brooklyn Nets</td>\n",
       "<td>BKN</td>\n",
       "<td>1610612751</td>\n",
       "<td>Nets</td>\n",
       "<td>nets</td>\n",
       "<td>Brooklyn</td>\n",
       "<td>East</td>\n",
       "<td>Atlantic</td>\n",
       "</tr>\n",
       "<tr>\n",
       "<td>1</td>\n",
       "<td>0</td>\n",
       "<td>New York</td>\n",
       "<td>New York</td>\n",
       "<td>New York Knicks</td>\n",
       "<td>NYK</td>\n",
       "<td>1610612752</td>\n",
       "<td>Knicks</td>\n",
       "<td>knicks</td>\n",
       "<td>New York</td>\n",
       "<td>East</td>\n",
       "<td>Atlantic</td>\n",
       "</tr>\n",
       "<tr>\n",
       "<td>1</td>\n",
       "<td>0</td>\n",
       "<td>Orlando</td>\n",
       "<td>Orlando</td>\n",
       "<td>Orlando Magic</td>\n",
       "<td>ORL</td>\n",
       "<td>1610612753</td>\n",
       "<td>Magic</td>\n",
       "<td>magic</td>\n",
       "<td>Orlando</td>\n",
       "<td>East</td>\n",
       "<td>Southeast</td>\n",
       "</tr>\n",
       "<tr>\n",
       "<td>1</td>\n",
       "<td>0</td>\n",
       "<td>Philadelphia</td>\n",
       "<td>Philadelphia</td>\n",
       "<td>Philadelphia 76ers</td>\n",
       "<td>PHI</td>\n",
       "<td>1610612755</td>\n",
       "<td>76ers</td>\n",
       "<td>sixers</td>\n",
       "<td>Philadelphia</td>\n",
       "<td>East</td>\n",
       "<td>Atlantic</td>\n",
       "</tr>\n",
       "<tr>\n",
       "<td>1</td>\n",
       "<td>0</td>\n",
       "<td>Toronto</td>\n",
       "<td>Toronto</td>\n",
       "<td>Toronto Raptors</td>\n",
       "<td>TOR</td>\n",
       "<td>1610612761</td>\n",
       "<td>Raptors</td>\n",
       "<td>raptors</td>\n",
       "<td>Toronto</td>\n",
       "<td>East</td>\n",
       "<td>Atlantic</td>\n",
       "</tr>\n",
       "<tr>\n",
       "<td>1</td>\n",
       "<td>0</td>\n",
       "<td>Washington</td>\n",
       "<td>Washington</td>\n",
       "<td>Washington Wizards</td>\n",
       "<td>WAS</td>\n",
       "<td>1610612764</td>\n",
       "<td>Wizards</td>\n",
       "<td>wizards</td>\n",
       "<td>Washington</td>\n",
       "<td>East</td>\n",
       "<td>Southeast</td>\n",
       "</tr>\n",
       "<tr>\n",
       "<td>1</td>\n",
       "<td>0</td>\n",
       "<td>Charlotte</td>\n",
       "<td>Charlotte</td>\n",
       "<td>Charlotte Hornets</td>\n",
       "<td>CHA</td>\n",
       "<td>1610612766</td>\n",
       "<td>Hornets</td>\n",
       "<td>hornets</td>\n",
       "<td>Charlotte</td>\n",
       "<td>East</td>\n",
       "<td>Southeast</td>\n",
       "</tr>\n",
       "</table>\n",
       "10 rows in set (0.00 sec)"
      ],
      "text/plain": [
       "+----------------+-----------+--------------+--------------+--------------------+---------+------------+----------+---------+---------------+----------+-----------+\n",
       "| isNBAFranchise | isAllStar | city         | altCityName  | fullName           | tricode | teamId     | nickname | urlName | teamShortName | confName | divName   |\n",
       "+----------------+-----------+--------------+--------------+--------------------+---------+------------+----------+---------+---------------+----------+-----------+\n",
       "| 1              | 0         | Atlanta      | Atlanta      | Atlanta Hawks      | ATL     | 1610612737 | Hawks    | hawks   | Atlanta       | East     | Southeast |\n",
       "+----------------+-----------+--------------+--------------+--------------------+---------+------------+----------+---------+---------------+----------+-----------+\n",
       "| 1              | 0         | Boston       | Boston       | Boston Celtics     | BOS     | 1610612738 | Celtics  | celtics | Boston        | East     | Atlantic  |\n",
       "+----------------+-----------+--------------+--------------+--------------------+---------+------------+----------+---------+---------------+----------+-----------+\n",
       "| 1              | 0         | Miami        | Miami        | Miami Heat         | MIA     | 1610612748 | Heat     | heat    | Miami         | East     | Southeast |\n",
       "+----------------+-----------+--------------+--------------+--------------------+---------+------------+----------+---------+---------------+----------+-----------+\n",
       "| 1              | 0         | Brooklyn     | Brooklyn     | Brooklyn Nets      | BKN     | 1610612751 | Nets     | nets    | Brooklyn      | East     | Atlantic  |\n",
       "+----------------+-----------+--------------+--------------+--------------------+---------+------------+----------+---------+---------------+----------+-----------+\n",
       "| 1              | 0         | New York     | New York     | New York Knicks    | NYK     | 1610612752 | Knicks   | knicks  | New York      | East     | Atlantic  |\n",
       "+----------------+-----------+--------------+--------------+--------------------+---------+------------+----------+---------+---------------+----------+-----------+\n",
       "| 1              | 0         | Orlando      | Orlando      | Orlando Magic      | ORL     | 1610612753 | Magic    | magic   | Orlando       | East     | Southeast |\n",
       "+----------------+-----------+--------------+--------------+--------------------+---------+------------+----------+---------+---------------+----------+-----------+\n",
       "| 1              | 0         | Philadelphia | Philadelphia | Philadelphia 76ers | PHI     | 1610612755 | 76ers    | sixers  | Philadelphia  | East     | Atlantic  |\n",
       "+----------------+-----------+--------------+--------------+--------------------+---------+------------+----------+---------+---------------+----------+-----------+\n",
       "| 1              | 0         | Toronto      | Toronto      | Toronto Raptors    | TOR     | 1610612761 | Raptors  | raptors | Toronto       | East     | Atlantic  |\n",
       "+----------------+-----------+--------------+--------------+--------------------+---------+------------+----------+---------+---------------+----------+-----------+\n",
       "| 1              | 0         | Washington   | Washington   | Washington Wizards | WAS     | 1610612764 | Wizards  | wizards | Washington    | East     | Southeast |\n",
       "+----------------+-----------+--------------+--------------+--------------------+---------+------------+----------+---------+---------------+----------+-----------+\n",
       "| 1              | 0         | Charlotte    | Charlotte    | Charlotte Hornets  | CHA     | 1610612766 | Hornets  | hornets | Charlotte     | East     | Southeast |\n",
       "+----------------+-----------+--------------+--------------+--------------------+---------+------------+----------+---------+---------------+----------+-----------+\n",
       "10 rows in set (0.00 sec)"
      ]
     },
     "execution_count": 3,
     "metadata": {},
     "output_type": "execute_result"
    }
   ],
   "source": [
    "SELECT *\n",
    "  FROM teams\n",
    " WHERE divName IN ('Atlantic', 'Southeast');"
   ]
  },
  {
   "cell_type": "markdown",
   "metadata": {
    "slideshow": {
     "slide_type": "subslide"
    }
   },
   "source": [
    "## Other preferences\n",
    "\n",
    "- `BETWEEN` is better than multiple `AND`\n",
    "- Similarly use `IN()` instead of multiple `OR`"
   ]
  },
  {
   "cell_type": "markdown",
   "metadata": {
    "slideshow": {
     "slide_type": "subslide"
    }
   },
   "source": [
    "## Aliasing conventions\n",
    "\n",
    "- Should relate in some way to the object or expression\n",
    "- The correlation name should be the first letter of each word in the object’s name\n",
    "- If there is already a correlation with the same name then append a number\n",
    "- Always include the `AS` keyword makes it easier to read as it is explicit"
   ]
  },
  {
   "cell_type": "markdown",
   "metadata": {
    "slideshow": {
     "slide_type": "slide"
    }
   },
   "source": [
    "## Data Types"
   ]
  },
  {
   "cell_type": "markdown",
   "metadata": {
    "slideshow": {
     "slide_type": "subslide"
    }
   },
   "source": [
    "## Whenever digging into a new database, check a data dictionary(or sometimes refers to a data schema document)\n",
    "\n",
    "A document that lists each column; specifies whether it’s a number,character, or other type; and explains the definition of column values."
   ]
  },
  {
   "cell_type": "markdown",
   "metadata": {
    "slideshow": {
     "slide_type": "subslide"
    }
   },
   "source": [
    "## Well, in an ideal world...\n",
    "\n",
    "![](https://media.giphy.com/media/iJ2cRDeQkcPXZiHh53/giphy.gif)\n",
    "\n",
    "Source: <https://giphy.com/>"
   ]
  },
  {
   "cell_type": "markdown",
   "metadata": {
    "slideshow": {
     "slide_type": "subslide"
    }
   },
   "source": [
    "## Unfortunately, many organizations don’t create and maintain good documentation"
   ]
  },
  {
   "cell_type": "markdown",
   "metadata": {
    "slideshow": {
     "slide_type": "subslide"
    }
   },
   "source": [
    "## We can check data type manually via\n",
    "\n",
    "- `TYPEOF` function for a certain column\n",
    "- `PRAGMA_TABLE_INFO` function for an entire table"
   ]
  },
  {
   "cell_type": "markdown",
   "metadata": {
    "slideshow": {
     "slide_type": "subslide"
    }
   },
   "source": [
    "## `TYPEOF` function for a certain column"
   ]
  },
  {
   "cell_type": "code",
   "execution_count": 4,
   "metadata": {},
   "outputs": [
    {
     "data": {
      "text/html": [
       "<table>\n",
       "<tr>\n",
       "<th>TYPEOF(heightMeters)</th>\n",
       "<th>TYPEOF(heightFeet)</th>\n",
       "</tr>\n",
       "<tr>\n",
       "<td>real</td>\n",
       "<td>integer</td>\n",
       "</tr>\n",
       "</table>\n",
       "1 row in set (0.00 sec)"
      ],
      "text/plain": [
       "+----------------------+--------------------+\n",
       "| TYPEOF(heightMeters) | TYPEOF(heightFeet) |\n",
       "+----------------------+--------------------+\n",
       "| real                 | integer            |\n",
       "+----------------------+--------------------+\n",
       "1 row in set (0.00 sec)"
      ]
     },
     "execution_count": 4,
     "metadata": {},
     "output_type": "execute_result"
    }
   ],
   "source": [
    "SELECT TYPEOF(heightMeters),\n",
    "       TYPEOF(heightFeet)\n",
    "  FROM players\n",
    " LIMIT 1;"
   ]
  },
  {
   "cell_type": "markdown",
   "metadata": {
    "slideshow": {
     "slide_type": "subslide"
    }
   },
   "source": [
    "## `PRAGMA_TABLE_INFO` function for an entire table"
   ]
  },
  {
   "cell_type": "code",
   "execution_count": 5,
   "metadata": {
    "slideshow": {
     "slide_type": "-"
    }
   },
   "outputs": [
    {
     "data": {
      "text/html": [
       "<table>\n",
       "<tr>\n",
       "<th>cid</th>\n",
       "<th>name</th>\n",
       "<th>type</th>\n",
       "<th>notnull</th>\n",
       "<th>dflt_value</th>\n",
       "<th>pk</th>\n",
       "</tr>\n",
       "<tr>\n",
       "<td>0</td>\n",
       "<td>isNBAFranchise</td>\n",
       "<td>INTEGER</td>\n",
       "<td>0</td>\n",
       "<td>NULL</td>\n",
       "<td>0</td>\n",
       "</tr>\n",
       "<tr>\n",
       "<td>1</td>\n",
       "<td>isAllStar</td>\n",
       "<td>INTEGER</td>\n",
       "<td>0</td>\n",
       "<td>NULL</td>\n",
       "<td>0</td>\n",
       "</tr>\n",
       "<tr>\n",
       "<td>2</td>\n",
       "<td>city</td>\n",
       "<td>TEXT</td>\n",
       "<td>0</td>\n",
       "<td>NULL</td>\n",
       "<td>0</td>\n",
       "</tr>\n",
       "<tr>\n",
       "<td>3</td>\n",
       "<td>altCityName</td>\n",
       "<td>TEXT</td>\n",
       "<td>0</td>\n",
       "<td>NULL</td>\n",
       "<td>0</td>\n",
       "</tr>\n",
       "<tr>\n",
       "<td>4</td>\n",
       "<td>fullName</td>\n",
       "<td>TEXT</td>\n",
       "<td>0</td>\n",
       "<td>NULL</td>\n",
       "<td>0</td>\n",
       "</tr>\n",
       "<tr>\n",
       "<td>5</td>\n",
       "<td>tricode</td>\n",
       "<td>TEXT</td>\n",
       "<td>0</td>\n",
       "<td>NULL</td>\n",
       "<td>0</td>\n",
       "</tr>\n",
       "<tr>\n",
       "<td>6</td>\n",
       "<td>teamId</td>\n",
       "<td>INTEGER</td>\n",
       "<td>0</td>\n",
       "<td>NULL</td>\n",
       "<td>1</td>\n",
       "</tr>\n",
       "<tr>\n",
       "<td>7</td>\n",
       "<td>nickname</td>\n",
       "<td>TEXT</td>\n",
       "<td>0</td>\n",
       "<td>NULL</td>\n",
       "<td>0</td>\n",
       "</tr>\n",
       "<tr>\n",
       "<td>8</td>\n",
       "<td>urlName</td>\n",
       "<td>TEXT</td>\n",
       "<td>0</td>\n",
       "<td>NULL</td>\n",
       "<td>0</td>\n",
       "</tr>\n",
       "<tr>\n",
       "<td>9</td>\n",
       "<td>teamShortName</td>\n",
       "<td>TEXT</td>\n",
       "<td>0</td>\n",
       "<td>NULL</td>\n",
       "<td>0</td>\n",
       "</tr>\n",
       "<tr>\n",
       "<td>10</td>\n",
       "<td>confName</td>\n",
       "<td>TEXT</td>\n",
       "<td>0</td>\n",
       "<td>NULL</td>\n",
       "<td>0</td>\n",
       "</tr>\n",
       "<tr>\n",
       "<td>11</td>\n",
       "<td>divName</td>\n",
       "<td>TEXT</td>\n",
       "<td>0</td>\n",
       "<td>NULL</td>\n",
       "<td>0</td>\n",
       "</tr>\n",
       "</table>\n",
       "12 rows in set (0.00 sec)"
      ],
      "text/plain": [
       "+-----+----------------+---------+---------+------------+----+\n",
       "| cid | name           | type    | notnull | dflt_value | pk |\n",
       "+-----+----------------+---------+---------+------------+----+\n",
       "| 0   | isNBAFranchise | INTEGER | 0       | NULL       | 0  |\n",
       "+-----+----------------+---------+---------+------------+----+\n",
       "| 1   | isAllStar      | INTEGER | 0       | NULL       | 0  |\n",
       "+-----+----------------+---------+---------+------------+----+\n",
       "| 2   | city           | TEXT    | 0       | NULL       | 0  |\n",
       "+-----+----------------+---------+---------+------------+----+\n",
       "| 3   | altCityName    | TEXT    | 0       | NULL       | 0  |\n",
       "+-----+----------------+---------+---------+------------+----+\n",
       "| 4   | fullName       | TEXT    | 0       | NULL       | 0  |\n",
       "+-----+----------------+---------+---------+------------+----+\n",
       "| 5   | tricode        | TEXT    | 0       | NULL       | 0  |\n",
       "+-----+----------------+---------+---------+------------+----+\n",
       "| 6   | teamId         | INTEGER | 0       | NULL       | 1  |\n",
       "+-----+----------------+---------+---------+------------+----+\n",
       "| 7   | nickname       | TEXT    | 0       | NULL       | 0  |\n",
       "+-----+----------------+---------+---------+------------+----+\n",
       "| 8   | urlName        | TEXT    | 0       | NULL       | 0  |\n",
       "+-----+----------------+---------+---------+------------+----+\n",
       "| 9   | teamShortName  | TEXT    | 0       | NULL       | 0  |\n",
       "+-----+----------------+---------+---------+------------+----+\n",
       "| 10  | confName       | TEXT    | 0       | NULL       | 0  |\n",
       "+-----+----------------+---------+---------+------------+----+\n",
       "| 11  | divName        | TEXT    | 0       | NULL       | 0  |\n",
       "+-----+----------------+---------+---------+------------+----+\n",
       "12 rows in set (0.00 sec)"
      ]
     },
     "execution_count": 5,
     "metadata": {},
     "output_type": "execute_result"
    }
   ],
   "source": [
    "SELECT *\n",
    "  FROM PRAGMA_TABLE_INFO('teams');"
   ]
  },
  {
   "cell_type": "code",
   "execution_count": 6,
   "metadata": {
    "slideshow": {
     "slide_type": "subslide"
    }
   },
   "outputs": [
    {
     "data": {
      "text/html": [
       "<table>\n",
       "<tr>\n",
       "<th>cid</th>\n",
       "<th>name</th>\n",
       "<th>type</th>\n",
       "<th>notnull</th>\n",
       "<th>dflt_value</th>\n",
       "<th>pk</th>\n",
       "</tr>\n",
       "<tr>\n",
       "<td>0</td>\n",
       "<td>firstName</td>\n",
       "<td>TEXT</td>\n",
       "<td>0</td>\n",
       "<td>NULL</td>\n",
       "<td>0</td>\n",
       "</tr>\n",
       "<tr>\n",
       "<td>1</td>\n",
       "<td>lastName</td>\n",
       "<td>TEXT</td>\n",
       "<td>0</td>\n",
       "<td>NULL</td>\n",
       "<td>0</td>\n",
       "</tr>\n",
       "<tr>\n",
       "<td>2</td>\n",
       "<td>temporaryDisplayName</td>\n",
       "<td>TEXT</td>\n",
       "<td>0</td>\n",
       "<td>NULL</td>\n",
       "<td>0</td>\n",
       "</tr>\n",
       "<tr>\n",
       "<td>3</td>\n",
       "<td>personId</td>\n",
       "<td>INTEGER</td>\n",
       "<td>0</td>\n",
       "<td>NULL</td>\n",
       "<td>1</td>\n",
       "</tr>\n",
       "<tr>\n",
       "<td>4</td>\n",
       "<td>teamId</td>\n",
       "<td>INTEGER</td>\n",
       "<td>0</td>\n",
       "<td>NULL</td>\n",
       "<td>0</td>\n",
       "</tr>\n",
       "<tr>\n",
       "<td>5</td>\n",
       "<td>jersey</td>\n",
       "<td>INTEGER</td>\n",
       "<td>0</td>\n",
       "<td>NULL</td>\n",
       "<td>0</td>\n",
       "</tr>\n",
       "<tr>\n",
       "<td>6</td>\n",
       "<td>pos</td>\n",
       "<td>TEXT</td>\n",
       "<td>0</td>\n",
       "<td>NULL</td>\n",
       "<td>0</td>\n",
       "</tr>\n",
       "<tr>\n",
       "<td>7</td>\n",
       "<td>heightFeet</td>\n",
       "<td>INTEGER</td>\n",
       "<td>0</td>\n",
       "<td>NULL</td>\n",
       "<td>0</td>\n",
       "</tr>\n",
       "<tr>\n",
       "<td>8</td>\n",
       "<td>heightInches</td>\n",
       "<td>INTEGER</td>\n",
       "<td>0</td>\n",
       "<td>NULL</td>\n",
       "<td>0</td>\n",
       "</tr>\n",
       "<tr>\n",
       "<td>9</td>\n",
       "<td>heightMeters</td>\n",
       "<td>REAL</td>\n",
       "<td>0</td>\n",
       "<td>NULL</td>\n",
       "<td>0</td>\n",
       "</tr>\n",
       "<tr>\n",
       "<td>10</td>\n",
       "<td>weightPounds</td>\n",
       "<td>REAL</td>\n",
       "<td>0</td>\n",
       "<td>NULL</td>\n",
       "<td>0</td>\n",
       "</tr>\n",
       "<tr>\n",
       "<td>11</td>\n",
       "<td>weightKilograms</td>\n",
       "<td>REAL</td>\n",
       "<td>0</td>\n",
       "<td>NULL</td>\n",
       "<td>0</td>\n",
       "</tr>\n",
       "<tr>\n",
       "<td>12</td>\n",
       "<td>dateOfBirthUTC</td>\n",
       "<td>TEXT</td>\n",
       "<td>0</td>\n",
       "<td>NULL</td>\n",
       "<td>0</td>\n",
       "</tr>\n",
       "<tr>\n",
       "<td>13</td>\n",
       "<td>nbaDebutYear</td>\n",
       "<td>INTEGER</td>\n",
       "<td>0</td>\n",
       "<td>NULL</td>\n",
       "<td>0</td>\n",
       "</tr>\n",
       "<tr>\n",
       "<td>14</td>\n",
       "<td>yearsPro</td>\n",
       "<td>INTEGER</td>\n",
       "<td>0</td>\n",
       "<td>NULL</td>\n",
       "<td>0</td>\n",
       "</tr>\n",
       "<tr>\n",
       "<td>15</td>\n",
       "<td>collegeName</td>\n",
       "<td>TEXT</td>\n",
       "<td>0</td>\n",
       "<td>NULL</td>\n",
       "<td>0</td>\n",
       "</tr>\n",
       "<tr>\n",
       "<td>16</td>\n",
       "<td>lastAffiliation</td>\n",
       "<td>TEXT</td>\n",
       "<td>0</td>\n",
       "<td>NULL</td>\n",
       "<td>0</td>\n",
       "</tr>\n",
       "<tr>\n",
       "<td>17</td>\n",
       "<td>country</td>\n",
       "<td>TEXT</td>\n",
       "<td>0</td>\n",
       "<td>NULL</td>\n",
       "<td>0</td>\n",
       "</tr>\n",
       "</table>\n",
       "18 rows in set (0.00 sec)"
      ],
      "text/plain": [
       "+-----+----------------------+---------+---------+------------+----+\n",
       "| cid | name                 | type    | notnull | dflt_value | pk |\n",
       "+-----+----------------------+---------+---------+------------+----+\n",
       "| 0   | firstName            | TEXT    | 0       | NULL       | 0  |\n",
       "+-----+----------------------+---------+---------+------------+----+\n",
       "| 1   | lastName             | TEXT    | 0       | NULL       | 0  |\n",
       "+-----+----------------------+---------+---------+------------+----+\n",
       "| 2   | temporaryDisplayName | TEXT    | 0       | NULL       | 0  |\n",
       "+-----+----------------------+---------+---------+------------+----+\n",
       "| 3   | personId             | INTEGER | 0       | NULL       | 1  |\n",
       "+-----+----------------------+---------+---------+------------+----+\n",
       "| 4   | teamId               | INTEGER | 0       | NULL       | 0  |\n",
       "+-----+----------------------+---------+---------+------------+----+\n",
       "| 5   | jersey               | INTEGER | 0       | NULL       | 0  |\n",
       "+-----+----------------------+---------+---------+------------+----+\n",
       "| 6   | pos                  | TEXT    | 0       | NULL       | 0  |\n",
       "+-----+----------------------+---------+---------+------------+----+\n",
       "| 7   | heightFeet           | INTEGER | 0       | NULL       | 0  |\n",
       "+-----+----------------------+---------+---------+------------+----+\n",
       "| 8   | heightInches         | INTEGER | 0       | NULL       | 0  |\n",
       "+-----+----------------------+---------+---------+------------+----+\n",
       "| 9   | heightMeters         | REAL    | 0       | NULL       | 0  |\n",
       "+-----+----------------------+---------+---------+------------+----+\n",
       "| 10  | weightPounds         | REAL    | 0       | NULL       | 0  |\n",
       "+-----+----------------------+---------+---------+------------+----+\n",
       "| 11  | weightKilograms      | REAL    | 0       | NULL       | 0  |\n",
       "+-----+----------------------+---------+---------+------------+----+\n",
       "| 12  | dateOfBirthUTC       | TEXT    | 0       | NULL       | 0  |\n",
       "+-----+----------------------+---------+---------+------------+----+\n",
       "| 13  | nbaDebutYear         | INTEGER | 0       | NULL       | 0  |\n",
       "+-----+----------------------+---------+---------+------------+----+\n",
       "| 14  | yearsPro             | INTEGER | 0       | NULL       | 0  |\n",
       "+-----+----------------------+---------+---------+------------+----+\n",
       "| 15  | collegeName          | TEXT    | 0       | NULL       | 0  |\n",
       "+-----+----------------------+---------+---------+------------+----+\n",
       "| 16  | lastAffiliation      | TEXT    | 0       | NULL       | 0  |\n",
       "+-----+----------------------+---------+---------+------------+----+\n",
       "| 17  | country              | TEXT    | 0       | NULL       | 0  |\n",
       "+-----+----------------------+---------+---------+------------+----+\n",
       "18 rows in set (0.00 sec)"
      ]
     },
     "execution_count": 6,
     "metadata": {},
     "output_type": "execute_result"
    }
   ],
   "source": [
    "SELECT * \n",
    "  FROM PRAGMA_TABLE_INFO('players');"
   ]
  },
  {
   "cell_type": "code",
   "execution_count": 7,
   "metadata": {
    "slideshow": {
     "slide_type": "subslide"
    }
   },
   "outputs": [
    {
     "data": {
      "text/html": [
       "<table>\n",
       "<tr>\n",
       "<th>cid</th>\n",
       "<th>name</th>\n",
       "<th>type</th>\n",
       "<th>notnull</th>\n",
       "<th>dflt_value</th>\n",
       "<th>pk</th>\n",
       "</tr>\n",
       "<tr>\n",
       "<td>0</td>\n",
       "<td>personId</td>\n",
       "<td>INTEGER</td>\n",
       "<td>0</td>\n",
       "<td>NULL</td>\n",
       "<td>1</td>\n",
       "</tr>\n",
       "<tr>\n",
       "<td>1</td>\n",
       "<td>tpp</td>\n",
       "<td>REAL</td>\n",
       "<td>0</td>\n",
       "<td>NULL</td>\n",
       "<td>0</td>\n",
       "</tr>\n",
       "<tr>\n",
       "<td>2</td>\n",
       "<td>ftp</td>\n",
       "<td>REAL</td>\n",
       "<td>0</td>\n",
       "<td>NULL</td>\n",
       "<td>0</td>\n",
       "</tr>\n",
       "<tr>\n",
       "<td>3</td>\n",
       "<td>fgp</td>\n",
       "<td>REAL</td>\n",
       "<td>0</td>\n",
       "<td>NULL</td>\n",
       "<td>0</td>\n",
       "</tr>\n",
       "<tr>\n",
       "<td>4</td>\n",
       "<td>ppg</td>\n",
       "<td>REAL</td>\n",
       "<td>0</td>\n",
       "<td>NULL</td>\n",
       "<td>0</td>\n",
       "</tr>\n",
       "<tr>\n",
       "<td>5</td>\n",
       "<td>rpg</td>\n",
       "<td>REAL</td>\n",
       "<td>0</td>\n",
       "<td>NULL</td>\n",
       "<td>0</td>\n",
       "</tr>\n",
       "<tr>\n",
       "<td>6</td>\n",
       "<td>apg</td>\n",
       "<td>REAL</td>\n",
       "<td>0</td>\n",
       "<td>NULL</td>\n",
       "<td>0</td>\n",
       "</tr>\n",
       "<tr>\n",
       "<td>7</td>\n",
       "<td>bpg</td>\n",
       "<td>REAL</td>\n",
       "<td>0</td>\n",
       "<td>NULL</td>\n",
       "<td>0</td>\n",
       "</tr>\n",
       "<tr>\n",
       "<td>8</td>\n",
       "<td>mpg</td>\n",
       "<td>REAL</td>\n",
       "<td>0</td>\n",
       "<td>NULL</td>\n",
       "<td>0</td>\n",
       "</tr>\n",
       "<tr>\n",
       "<td>9</td>\n",
       "<td>spg</td>\n",
       "<td>REAL</td>\n",
       "<td>0</td>\n",
       "<td>NULL</td>\n",
       "<td>0</td>\n",
       "</tr>\n",
       "<tr>\n",
       "<td>10</td>\n",
       "<td>assists</td>\n",
       "<td>INTEGER</td>\n",
       "<td>0</td>\n",
       "<td>NULL</td>\n",
       "<td>0</td>\n",
       "</tr>\n",
       "<tr>\n",
       "<td>11</td>\n",
       "<td>blocks</td>\n",
       "<td>INTEGER</td>\n",
       "<td>0</td>\n",
       "<td>NULL</td>\n",
       "<td>0</td>\n",
       "</tr>\n",
       "<tr>\n",
       "<td>12</td>\n",
       "<td>steals</td>\n",
       "<td>INTEGER</td>\n",
       "<td>0</td>\n",
       "<td>NULL</td>\n",
       "<td>0</td>\n",
       "</tr>\n",
       "<tr>\n",
       "<td>13</td>\n",
       "<td>turnovers</td>\n",
       "<td>INTEGER</td>\n",
       "<td>0</td>\n",
       "<td>NULL</td>\n",
       "<td>0</td>\n",
       "</tr>\n",
       "<tr>\n",
       "<td>14</td>\n",
       "<td>offReb</td>\n",
       "<td>INTEGER</td>\n",
       "<td>0</td>\n",
       "<td>NULL</td>\n",
       "<td>0</td>\n",
       "</tr>\n",
       "<tr>\n",
       "<td>15</td>\n",
       "<td>defReb</td>\n",
       "<td>INTEGER</td>\n",
       "<td>0</td>\n",
       "<td>NULL</td>\n",
       "<td>0</td>\n",
       "</tr>\n",
       "<tr>\n",
       "<td>16</td>\n",
       "<td>totReb</td>\n",
       "<td>INTEGER</td>\n",
       "<td>0</td>\n",
       "<td>NULL</td>\n",
       "<td>0</td>\n",
       "</tr>\n",
       "<tr>\n",
       "<td>17</td>\n",
       "<td>fgm</td>\n",
       "<td>INTEGER</td>\n",
       "<td>0</td>\n",
       "<td>NULL</td>\n",
       "<td>0</td>\n",
       "</tr>\n",
       "<tr>\n",
       "<td>18</td>\n",
       "<td>fga</td>\n",
       "<td>INTEGER</td>\n",
       "<td>0</td>\n",
       "<td>NULL</td>\n",
       "<td>0</td>\n",
       "</tr>\n",
       "<tr>\n",
       "<td>19</td>\n",
       "<td>tpm</td>\n",
       "<td>INTEGER</td>\n",
       "<td>0</td>\n",
       "<td>NULL</td>\n",
       "<td>0</td>\n",
       "</tr>\n",
       "<tr>\n",
       "<td>20</td>\n",
       "<td>tpa</td>\n",
       "<td>INTEGER</td>\n",
       "<td>0</td>\n",
       "<td>NULL</td>\n",
       "<td>0</td>\n",
       "</tr>\n",
       "<tr>\n",
       "<td>21</td>\n",
       "<td>ftm</td>\n",
       "<td>INTEGER</td>\n",
       "<td>0</td>\n",
       "<td>NULL</td>\n",
       "<td>0</td>\n",
       "</tr>\n",
       "<tr>\n",
       "<td>22</td>\n",
       "<td>fta</td>\n",
       "<td>INTEGER</td>\n",
       "<td>0</td>\n",
       "<td>NULL</td>\n",
       "<td>0</td>\n",
       "</tr>\n",
       "<tr>\n",
       "<td>23</td>\n",
       "<td>pFouls</td>\n",
       "<td>INTEGER</td>\n",
       "<td>0</td>\n",
       "<td>NULL</td>\n",
       "<td>0</td>\n",
       "</tr>\n",
       "<tr>\n",
       "<td>24</td>\n",
       "<td>points</td>\n",
       "<td>INTEGER</td>\n",
       "<td>0</td>\n",
       "<td>NULL</td>\n",
       "<td>0</td>\n",
       "</tr>\n",
       "<tr>\n",
       "<td>25</td>\n",
       "<td>gamesPlayed</td>\n",
       "<td>INTEGER</td>\n",
       "<td>0</td>\n",
       "<td>NULL</td>\n",
       "<td>0</td>\n",
       "</tr>\n",
       "<tr>\n",
       "<td>26</td>\n",
       "<td>gamesStarted</td>\n",
       "<td>INTEGER</td>\n",
       "<td>0</td>\n",
       "<td>NULL</td>\n",
       "<td>0</td>\n",
       "</tr>\n",
       "<tr>\n",
       "<td>27</td>\n",
       "<td>plusMinus</td>\n",
       "<td>INTEGER</td>\n",
       "<td>0</td>\n",
       "<td>NULL</td>\n",
       "<td>0</td>\n",
       "</tr>\n",
       "<tr>\n",
       "<td>28</td>\n",
       "<td>min</td>\n",
       "<td>INTEGER</td>\n",
       "<td>0</td>\n",
       "<td>NULL</td>\n",
       "<td>0</td>\n",
       "</tr>\n",
       "<tr>\n",
       "<td>29</td>\n",
       "<td>dd2</td>\n",
       "<td>INTEGER</td>\n",
       "<td>0</td>\n",
       "<td>NULL</td>\n",
       "<td>0</td>\n",
       "</tr>\n",
       "<tr>\n",
       "<td>30</td>\n",
       "<td>td3</td>\n",
       "<td>INTEGER</td>\n",
       "<td>0</td>\n",
       "<td>NULL</td>\n",
       "<td>0</td>\n",
       "</tr>\n",
       "</table>\n",
       "31 rows in set (0.00 sec)"
      ],
      "text/plain": [
       "+-----+--------------+---------+---------+------------+----+\n",
       "| cid | name         | type    | notnull | dflt_value | pk |\n",
       "+-----+--------------+---------+---------+------------+----+\n",
       "| 0   | personId     | INTEGER | 0       | NULL       | 1  |\n",
       "+-----+--------------+---------+---------+------------+----+\n",
       "| 1   | tpp          | REAL    | 0       | NULL       | 0  |\n",
       "+-----+--------------+---------+---------+------------+----+\n",
       "| 2   | ftp          | REAL    | 0       | NULL       | 0  |\n",
       "+-----+--------------+---------+---------+------------+----+\n",
       "| 3   | fgp          | REAL    | 0       | NULL       | 0  |\n",
       "+-----+--------------+---------+---------+------------+----+\n",
       "| 4   | ppg          | REAL    | 0       | NULL       | 0  |\n",
       "+-----+--------------+---------+---------+------------+----+\n",
       "| 5   | rpg          | REAL    | 0       | NULL       | 0  |\n",
       "+-----+--------------+---------+---------+------------+----+\n",
       "| 6   | apg          | REAL    | 0       | NULL       | 0  |\n",
       "+-----+--------------+---------+---------+------------+----+\n",
       "| 7   | bpg          | REAL    | 0       | NULL       | 0  |\n",
       "+-----+--------------+---------+---------+------------+----+\n",
       "| 8   | mpg          | REAL    | 0       | NULL       | 0  |\n",
       "+-----+--------------+---------+---------+------------+----+\n",
       "| 9   | spg          | REAL    | 0       | NULL       | 0  |\n",
       "+-----+--------------+---------+---------+------------+----+\n",
       "| 10  | assists      | INTEGER | 0       | NULL       | 0  |\n",
       "+-----+--------------+---------+---------+------------+----+\n",
       "| 11  | blocks       | INTEGER | 0       | NULL       | 0  |\n",
       "+-----+--------------+---------+---------+------------+----+\n",
       "| 12  | steals       | INTEGER | 0       | NULL       | 0  |\n",
       "+-----+--------------+---------+---------+------------+----+\n",
       "| 13  | turnovers    | INTEGER | 0       | NULL       | 0  |\n",
       "+-----+--------------+---------+---------+------------+----+\n",
       "| 14  | offReb       | INTEGER | 0       | NULL       | 0  |\n",
       "+-----+--------------+---------+---------+------------+----+\n",
       "| 15  | defReb       | INTEGER | 0       | NULL       | 0  |\n",
       "+-----+--------------+---------+---------+------------+----+\n",
       "| 16  | totReb       | INTEGER | 0       | NULL       | 0  |\n",
       "+-----+--------------+---------+---------+------------+----+\n",
       "| 17  | fgm          | INTEGER | 0       | NULL       | 0  |\n",
       "+-----+--------------+---------+---------+------------+----+\n",
       "| 18  | fga          | INTEGER | 0       | NULL       | 0  |\n",
       "+-----+--------------+---------+---------+------------+----+\n",
       "| 19  | tpm          | INTEGER | 0       | NULL       | 0  |\n",
       "+-----+--------------+---------+---------+------------+----+\n",
       "| 20  | tpa          | INTEGER | 0       | NULL       | 0  |\n",
       "+-----+--------------+---------+---------+------------+----+\n",
       "| 21  | ftm          | INTEGER | 0       | NULL       | 0  |\n",
       "+-----+--------------+---------+---------+------------+----+\n",
       "| 22  | fta          | INTEGER | 0       | NULL       | 0  |\n",
       "+-----+--------------+---------+---------+------------+----+\n",
       "| 23  | pFouls       | INTEGER | 0       | NULL       | 0  |\n",
       "+-----+--------------+---------+---------+------------+----+\n",
       "| 24  | points       | INTEGER | 0       | NULL       | 0  |\n",
       "+-----+--------------+---------+---------+------------+----+\n",
       "| 25  | gamesPlayed  | INTEGER | 0       | NULL       | 0  |\n",
       "+-----+--------------+---------+---------+------------+----+\n",
       "| 26  | gamesStarted | INTEGER | 0       | NULL       | 0  |\n",
       "+-----+--------------+---------+---------+------------+----+\n",
       "| 27  | plusMinus    | INTEGER | 0       | NULL       | 0  |\n",
       "+-----+--------------+---------+---------+------------+----+\n",
       "| 28  | min          | INTEGER | 0       | NULL       | 0  |\n",
       "+-----+--------------+---------+---------+------------+----+\n",
       "| 29  | dd2          | INTEGER | 0       | NULL       | 0  |\n",
       "+-----+--------------+---------+---------+------------+----+\n",
       "| 30  | td3          | INTEGER | 0       | NULL       | 0  |\n",
       "+-----+--------------+---------+---------+------------+----+\n",
       "31 rows in set (0.00 sec)"
      ]
     },
     "execution_count": 7,
     "metadata": {},
     "output_type": "execute_result"
    }
   ],
   "source": [
    "SELECT * \n",
    "  FROM PRAGMA_TABLE_INFO('career_summaries');"
   ]
  },
  {
   "cell_type": "markdown",
   "metadata": {
    "slideshow": {
     "slide_type": "subslide"
    }
   },
   "source": [
    "## The categories we’ll encounter most\n",
    "\n",
    "- `TEXT`\n",
    "- `INTEGER`\n",
    "- `REAL`\n",
    "- Dates and times\n",
    "- Boolean"
   ]
  },
  {
   "cell_type": "markdown",
   "metadata": {
    "slideshow": {
     "slide_type": "subslide"
    }
   },
   "source": [
    "## Referring to official documentation for data types in SQLite\n",
    "\n",
    "<https://www.sqlite.org/datatypes.html>"
   ]
  },
  {
   "cell_type": "markdown",
   "metadata": {
    "slideshow": {
     "slide_type": "subslide"
    }
   },
   "source": [
    "## Using `CAST` function to convert data type for query results\n",
    "\n",
    "Before using `CAST`."
   ]
  },
  {
   "cell_type": "code",
   "execution_count": 8,
   "metadata": {
    "slideshow": {
     "slide_type": "-"
    }
   },
   "outputs": [
    {
     "data": {
      "text/html": [
       "<table>\n",
       "<tr>\n",
       "<th>heightMeters</th>\n",
       "</tr>\n",
       "<tr>\n",
       "<td>2.06</td>\n",
       "</tr>\n",
       "<tr>\n",
       "<td>2.01</td>\n",
       "</tr>\n",
       "<tr>\n",
       "<td>2.03</td>\n",
       "</tr>\n",
       "<tr>\n",
       "<td>2.08</td>\n",
       "</tr>\n",
       "<tr>\n",
       "<td>1.98</td>\n",
       "</tr>\n",
       "</table>\n",
       "5 rows in set (0.00 sec)"
      ],
      "text/plain": [
       "+--------------+\n",
       "| heightMeters |\n",
       "+--------------+\n",
       "| 2.06         |\n",
       "+--------------+\n",
       "| 2.01         |\n",
       "+--------------+\n",
       "| 2.03         |\n",
       "+--------------+\n",
       "| 2.08         |\n",
       "+--------------+\n",
       "| 1.98         |\n",
       "+--------------+\n",
       "5 rows in set (0.00 sec)"
      ]
     },
     "execution_count": 8,
     "metadata": {},
     "output_type": "execute_result"
    }
   ],
   "source": [
    "SELECT heightMeters -- heightMeters column is recorded as REAL\n",
    "  FROM players\n",
    " LIMIT 5;"
   ]
  },
  {
   "cell_type": "markdown",
   "metadata": {
    "slideshow": {
     "slide_type": "subslide"
    }
   },
   "source": [
    "## After using `CAST`"
   ]
  },
  {
   "cell_type": "code",
   "execution_count": 9,
   "metadata": {
    "slideshow": {
     "slide_type": "-"
    }
   },
   "outputs": [
    {
     "data": {
      "text/html": [
       "<table>\n",
       "<tr>\n",
       "<th>heightMetersInteger</th>\n",
       "</tr>\n",
       "<tr>\n",
       "<td>2</td>\n",
       "</tr>\n",
       "<tr>\n",
       "<td>2</td>\n",
       "</tr>\n",
       "<tr>\n",
       "<td>2</td>\n",
       "</tr>\n",
       "<tr>\n",
       "<td>2</td>\n",
       "</tr>\n",
       "<tr>\n",
       "<td>1</td>\n",
       "</tr>\n",
       "</table>\n",
       "5 rows in set (0.00 sec)"
      ],
      "text/plain": [
       "+---------------------+\n",
       "| heightMetersInteger |\n",
       "+---------------------+\n",
       "| 2                   |\n",
       "+---------------------+\n",
       "| 2                   |\n",
       "+---------------------+\n",
       "| 2                   |\n",
       "+---------------------+\n",
       "| 2                   |\n",
       "+---------------------+\n",
       "| 1                   |\n",
       "+---------------------+\n",
       "5 rows in set (0.00 sec)"
      ]
     },
     "execution_count": 9,
     "metadata": {},
     "output_type": "execute_result"
    }
   ],
   "source": [
    "SELECT CAST(heightMeters AS INTEGER) AS heightMetersInteger -- heightMeters column is now displayed as INTEGER\n",
    "  FROM players\n",
    " LIMIT 5;"
   ]
  },
  {
   "cell_type": "markdown",
   "metadata": {
    "slideshow": {
     "slide_type": "subslide"
    }
   },
   "source": [
    "## However, using `CAST` function only modifies the query result rather than the table column"
   ]
  },
  {
   "cell_type": "code",
   "execution_count": 10,
   "metadata": {},
   "outputs": [
    {
     "data": {
      "text/html": [
       "<table>\n",
       "<tr>\n",
       "<th>heightMeters</th>\n",
       "</tr>\n",
       "<tr>\n",
       "<td>2.06</td>\n",
       "</tr>\n",
       "<tr>\n",
       "<td>2.01</td>\n",
       "</tr>\n",
       "<tr>\n",
       "<td>2.03</td>\n",
       "</tr>\n",
       "<tr>\n",
       "<td>2.08</td>\n",
       "</tr>\n",
       "<tr>\n",
       "<td>1.98</td>\n",
       "</tr>\n",
       "</table>\n",
       "5 rows in set (0.00 sec)"
      ],
      "text/plain": [
       "+--------------+\n",
       "| heightMeters |\n",
       "+--------------+\n",
       "| 2.06         |\n",
       "+--------------+\n",
       "| 2.01         |\n",
       "+--------------+\n",
       "| 2.03         |\n",
       "+--------------+\n",
       "| 2.08         |\n",
       "+--------------+\n",
       "| 1.98         |\n",
       "+--------------+\n",
       "5 rows in set (0.00 sec)"
      ]
     },
     "execution_count": 10,
     "metadata": {},
     "output_type": "execute_result"
    }
   ],
   "source": [
    "SELECT heightMeters -- heightMeters column is recorded as REAL\n",
    "  FROM players\n",
    " LIMIT 5;"
   ]
  },
  {
   "cell_type": "markdown",
   "metadata": {
    "slideshow": {
     "slide_type": "slide"
    }
   },
   "source": [
    "## Basic Operators and Functions for `TEXT`"
   ]
  },
  {
   "cell_type": "markdown",
   "metadata": {
    "slideshow": {
     "slide_type": "subslide"
    }
   },
   "source": [
    "## We've met the relational operators in `WHERE` for `TEXT`\n",
    "\n",
    "- `=`: Equal to\n",
    "- `!=`: Not equal to\n",
    "- `IN`: Match one of a set of values\n",
    "- `LIKE`: Match a pattern\n",
    "- `NOT`: Negates a condition"
   ]
  },
  {
   "cell_type": "markdown",
   "metadata": {
    "slideshow": {
     "slide_type": "subslide"
    }
   },
   "source": [
    "## Filtering `confName` equals to `West` in `teams`"
   ]
  },
  {
   "cell_type": "code",
   "execution_count": 11,
   "metadata": {
    "slideshow": {
     "slide_type": "-"
    }
   },
   "outputs": [
    {
     "data": {
      "text/html": [
       "<table>\n",
       "<tr>\n",
       "<th>isNBAFranchise</th>\n",
       "<th>isAllStar</th>\n",
       "<th>city</th>\n",
       "<th>altCityName</th>\n",
       "<th>fullName</th>\n",
       "<th>tricode</th>\n",
       "<th>teamId</th>\n",
       "<th>nickname</th>\n",
       "<th>urlName</th>\n",
       "<th>teamShortName</th>\n",
       "<th>confName</th>\n",
       "<th>divName</th>\n",
       "</tr>\n",
       "<tr>\n",
       "<td>1</td>\n",
       "<td>0</td>\n",
       "<td>New Orleans</td>\n",
       "<td>New Orleans</td>\n",
       "<td>New Orleans Pelicans</td>\n",
       "<td>NOP</td>\n",
       "<td>1610612740</td>\n",
       "<td>Pelicans</td>\n",
       "<td>pelicans</td>\n",
       "<td>New Orleans</td>\n",
       "<td>West</td>\n",
       "<td>Southwest</td>\n",
       "</tr>\n",
       "<tr>\n",
       "<td>1</td>\n",
       "<td>0</td>\n",
       "<td>Dallas</td>\n",
       "<td>Dallas</td>\n",
       "<td>Dallas Mavericks</td>\n",
       "<td>DAL</td>\n",
       "<td>1610612742</td>\n",
       "<td>Mavericks</td>\n",
       "<td>mavericks</td>\n",
       "<td>Dallas</td>\n",
       "<td>West</td>\n",
       "<td>Southwest</td>\n",
       "</tr>\n",
       "<tr>\n",
       "<td>1</td>\n",
       "<td>0</td>\n",
       "<td>Denver</td>\n",
       "<td>Denver</td>\n",
       "<td>Denver Nuggets</td>\n",
       "<td>DEN</td>\n",
       "<td>1610612743</td>\n",
       "<td>Nuggets</td>\n",
       "<td>nuggets</td>\n",
       "<td>Denver</td>\n",
       "<td>West</td>\n",
       "<td>Northwest</td>\n",
       "</tr>\n",
       "<tr>\n",
       "<td>1</td>\n",
       "<td>0</td>\n",
       "<td>Golden State</td>\n",
       "<td>Golden State</td>\n",
       "<td>Golden State Warriors</td>\n",
       "<td>GSW</td>\n",
       "<td>1610612744</td>\n",
       "<td>Warriors</td>\n",
       "<td>warriors</td>\n",
       "<td>Golden State</td>\n",
       "<td>West</td>\n",
       "<td>Pacific</td>\n",
       "</tr>\n",
       "<tr>\n",
       "<td>1</td>\n",
       "<td>0</td>\n",
       "<td>Houston</td>\n",
       "<td>Houston</td>\n",
       "<td>Houston Rockets</td>\n",
       "<td>HOU</td>\n",
       "<td>1610612745</td>\n",
       "<td>Rockets</td>\n",
       "<td>rockets</td>\n",
       "<td>Houston</td>\n",
       "<td>West</td>\n",
       "<td>Southwest</td>\n",
       "</tr>\n",
       "<tr>\n",
       "<td>1</td>\n",
       "<td>0</td>\n",
       "<td>LA</td>\n",
       "<td>LA Clippers</td>\n",
       "<td>LA Clippers</td>\n",
       "<td>LAC</td>\n",
       "<td>1610612746</td>\n",
       "<td>Clippers</td>\n",
       "<td>clippers</td>\n",
       "<td>LA Clippers</td>\n",
       "<td>West</td>\n",
       "<td>Pacific</td>\n",
       "</tr>\n",
       "<tr>\n",
       "<td>1</td>\n",
       "<td>0</td>\n",
       "<td>Los Angeles</td>\n",
       "<td>Los Angeles Lakers</td>\n",
       "<td>Los Angeles Lakers</td>\n",
       "<td>LAL</td>\n",
       "<td>1610612747</td>\n",
       "<td>Lakers</td>\n",
       "<td>lakers</td>\n",
       "<td>L.A. Lakers</td>\n",
       "<td>West</td>\n",
       "<td>Pacific</td>\n",
       "</tr>\n",
       "<tr>\n",
       "<td>1</td>\n",
       "<td>0</td>\n",
       "<td>Minnesota</td>\n",
       "<td>Minnesota</td>\n",
       "<td>Minnesota Timberwolves</td>\n",
       "<td>MIN</td>\n",
       "<td>1610612750</td>\n",
       "<td>Timberwolves</td>\n",
       "<td>timberwolves</td>\n",
       "<td>Minnesota</td>\n",
       "<td>West</td>\n",
       "<td>Northwest</td>\n",
       "</tr>\n",
       "<tr>\n",
       "<td>1</td>\n",
       "<td>0</td>\n",
       "<td>Phoenix</td>\n",
       "<td>Phoenix</td>\n",
       "<td>Phoenix Suns</td>\n",
       "<td>PHX</td>\n",
       "<td>1610612756</td>\n",
       "<td>Suns</td>\n",
       "<td>suns</td>\n",
       "<td>Phoenix</td>\n",
       "<td>West</td>\n",
       "<td>Pacific</td>\n",
       "</tr>\n",
       "<tr>\n",
       "<td>1</td>\n",
       "<td>0</td>\n",
       "<td>Portland</td>\n",
       "<td>Portland</td>\n",
       "<td>Portland Trail Blazers</td>\n",
       "<td>POR</td>\n",
       "<td>1610612757</td>\n",
       "<td>Trail Blazers</td>\n",
       "<td>blazers</td>\n",
       "<td>Portland</td>\n",
       "<td>West</td>\n",
       "<td>Northwest</td>\n",
       "</tr>\n",
       "<tr>\n",
       "<td>1</td>\n",
       "<td>0</td>\n",
       "<td>Sacramento</td>\n",
       "<td>Sacramento</td>\n",
       "<td>Sacramento Kings</td>\n",
       "<td>SAC</td>\n",
       "<td>1610612758</td>\n",
       "<td>Kings</td>\n",
       "<td>kings</td>\n",
       "<td>Sacramento</td>\n",
       "<td>West</td>\n",
       "<td>Pacific</td>\n",
       "</tr>\n",
       "<tr>\n",
       "<td>1</td>\n",
       "<td>0</td>\n",
       "<td>San Antonio</td>\n",
       "<td>San Antonio</td>\n",
       "<td>San Antonio Spurs</td>\n",
       "<td>SAS</td>\n",
       "<td>1610612759</td>\n",
       "<td>Spurs</td>\n",
       "<td>spurs</td>\n",
       "<td>San Antonio</td>\n",
       "<td>West</td>\n",
       "<td>Southwest</td>\n",
       "</tr>\n",
       "<tr>\n",
       "<td>1</td>\n",
       "<td>0</td>\n",
       "<td>Oklahoma City</td>\n",
       "<td>Oklahoma City</td>\n",
       "<td>Oklahoma City Thunder</td>\n",
       "<td>OKC</td>\n",
       "<td>1610612760</td>\n",
       "<td>Thunder</td>\n",
       "<td>thunder</td>\n",
       "<td>Oklahoma City</td>\n",
       "<td>West</td>\n",
       "<td>Northwest</td>\n",
       "</tr>\n",
       "<tr>\n",
       "<td>1</td>\n",
       "<td>0</td>\n",
       "<td>Utah</td>\n",
       "<td>Utah</td>\n",
       "<td>Utah Jazz</td>\n",
       "<td>UTA</td>\n",
       "<td>1610612762</td>\n",
       "<td>Jazz</td>\n",
       "<td>jazz</td>\n",
       "<td>Utah</td>\n",
       "<td>West</td>\n",
       "<td>Northwest</td>\n",
       "</tr>\n",
       "<tr>\n",
       "<td>1</td>\n",
       "<td>0</td>\n",
       "<td>Memphis</td>\n",
       "<td>Memphis</td>\n",
       "<td>Memphis Grizzlies</td>\n",
       "<td>MEM</td>\n",
       "<td>1610612763</td>\n",
       "<td>Grizzlies</td>\n",
       "<td>grizzlies</td>\n",
       "<td>Memphis</td>\n",
       "<td>West</td>\n",
       "<td>Southwest</td>\n",
       "</tr>\n",
       "</table>\n",
       "15 rows in set (0.00 sec)"
      ],
      "text/plain": [
       "+----------------+-----------+---------------+--------------------+------------------------+---------+------------+---------------+--------------+---------------+----------+-----------+\n",
       "| isNBAFranchise | isAllStar | city          | altCityName        | fullName               | tricode | teamId     | nickname      | urlName      | teamShortName | confName | divName   |\n",
       "+----------------+-----------+---------------+--------------------+------------------------+---------+------------+---------------+--------------+---------------+----------+-----------+\n",
       "| 1              | 0         | New Orleans   | New Orleans        | New Orleans Pelicans   | NOP     | 1610612740 | Pelicans      | pelicans     | New Orleans   | West     | Southwest |\n",
       "+----------------+-----------+---------------+--------------------+------------------------+---------+------------+---------------+--------------+---------------+----------+-----------+\n",
       "| 1              | 0         | Dallas        | Dallas             | Dallas Mavericks       | DAL     | 1610612742 | Mavericks     | mavericks    | Dallas        | West     | Southwest |\n",
       "+----------------+-----------+---------------+--------------------+------------------------+---------+------------+---------------+--------------+---------------+----------+-----------+\n",
       "| 1              | 0         | Denver        | Denver             | Denver Nuggets         | DEN     | 1610612743 | Nuggets       | nuggets      | Denver        | West     | Northwest |\n",
       "+----------------+-----------+---------------+--------------------+------------------------+---------+------------+---------------+--------------+---------------+----------+-----------+\n",
       "| 1              | 0         | Golden State  | Golden State       | Golden State Warriors  | GSW     | 1610612744 | Warriors      | warriors     | Golden State  | West     | Pacific   |\n",
       "+----------------+-----------+---------------+--------------------+------------------------+---------+------------+---------------+--------------+---------------+----------+-----------+\n",
       "| 1              | 0         | Houston       | Houston            | Houston Rockets        | HOU     | 1610612745 | Rockets       | rockets      | Houston       | West     | Southwest |\n",
       "+----------------+-----------+---------------+--------------------+------------------------+---------+------------+---------------+--------------+---------------+----------+-----------+\n",
       "| 1              | 0         | LA            | LA Clippers        | LA Clippers            | LAC     | 1610612746 | Clippers      | clippers     | LA Clippers   | West     | Pacific   |\n",
       "+----------------+-----------+---------------+--------------------+------------------------+---------+------------+---------------+--------------+---------------+----------+-----------+\n",
       "| 1              | 0         | Los Angeles   | Los Angeles Lakers | Los Angeles Lakers     | LAL     | 1610612747 | Lakers        | lakers       | L.A. Lakers   | West     | Pacific   |\n",
       "+----------------+-----------+---------------+--------------------+------------------------+---------+------------+---------------+--------------+---------------+----------+-----------+\n",
       "| 1              | 0         | Minnesota     | Minnesota          | Minnesota Timberwolves | MIN     | 1610612750 | Timberwolves  | timberwolves | Minnesota     | West     | Northwest |\n",
       "+----------------+-----------+---------------+--------------------+------------------------+---------+------------+---------------+--------------+---------------+----------+-----------+\n",
       "| 1              | 0         | Phoenix       | Phoenix            | Phoenix Suns           | PHX     | 1610612756 | Suns          | suns         | Phoenix       | West     | Pacific   |\n",
       "+----------------+-----------+---------------+--------------------+------------------------+---------+------------+---------------+--------------+---------------+----------+-----------+\n",
       "| 1              | 0         | Portland      | Portland           | Portland Trail Blazers | POR     | 1610612757 | Trail Blazers | blazers      | Portland      | West     | Northwest |\n",
       "+----------------+-----------+---------------+--------------------+------------------------+---------+------------+---------------+--------------+---------------+----------+-----------+\n",
       "| 1              | 0         | Sacramento    | Sacramento         | Sacramento Kings       | SAC     | 1610612758 | Kings         | kings        | Sacramento    | West     | Pacific   |\n",
       "+----------------+-----------+---------------+--------------------+------------------------+---------+------------+---------------+--------------+---------------+----------+-----------+\n",
       "| 1              | 0         | San Antonio   | San Antonio        | San Antonio Spurs      | SAS     | 1610612759 | Spurs         | spurs        | San Antonio   | West     | Southwest |\n",
       "+----------------+-----------+---------------+--------------------+------------------------+---------+------------+---------------+--------------+---------------+----------+-----------+\n",
       "| 1              | 0         | Oklahoma City | Oklahoma City      | Oklahoma City Thunder  | OKC     | 1610612760 | Thunder       | thunder      | Oklahoma City | West     | Northwest |\n",
       "+----------------+-----------+---------------+--------------------+------------------------+---------+------------+---------------+--------------+---------------+----------+-----------+\n",
       "| 1              | 0         | Utah          | Utah               | Utah Jazz              | UTA     | 1610612762 | Jazz          | jazz         | Utah          | West     | Northwest |\n",
       "+----------------+-----------+---------------+--------------------+------------------------+---------+------------+---------------+--------------+---------------+----------+-----------+\n",
       "| 1              | 0         | Memphis       | Memphis            | Memphis Grizzlies      | MEM     | 1610612763 | Grizzlies     | grizzlies    | Memphis       | West     | Southwest |\n",
       "+----------------+-----------+---------------+--------------------+------------------------+---------+------------+---------------+--------------+---------------+----------+-----------+\n",
       "15 rows in set (0.00 sec)"
      ]
     },
     "execution_count": 11,
     "metadata": {},
     "output_type": "execute_result"
    }
   ],
   "source": [
    "SELECT *\n",
    "  FROM teams\n",
    " WHERE confName = 'West';"
   ]
  },
  {
   "cell_type": "markdown",
   "metadata": {
    "slideshow": {
     "slide_type": "subslide"
    }
   },
   "source": [
    "## Or doing the same in the opposite way"
   ]
  },
  {
   "cell_type": "code",
   "execution_count": 12,
   "metadata": {
    "slideshow": {
     "slide_type": "-"
    }
   },
   "outputs": [
    {
     "data": {
      "text/html": [
       "<table>\n",
       "<tr>\n",
       "<th>isNBAFranchise</th>\n",
       "<th>isAllStar</th>\n",
       "<th>city</th>\n",
       "<th>altCityName</th>\n",
       "<th>fullName</th>\n",
       "<th>tricode</th>\n",
       "<th>teamId</th>\n",
       "<th>nickname</th>\n",
       "<th>urlName</th>\n",
       "<th>teamShortName</th>\n",
       "<th>confName</th>\n",
       "<th>divName</th>\n",
       "</tr>\n",
       "<tr>\n",
       "<td>1</td>\n",
       "<td>0</td>\n",
       "<td>New Orleans</td>\n",
       "<td>New Orleans</td>\n",
       "<td>New Orleans Pelicans</td>\n",
       "<td>NOP</td>\n",
       "<td>1610612740</td>\n",
       "<td>Pelicans</td>\n",
       "<td>pelicans</td>\n",
       "<td>New Orleans</td>\n",
       "<td>West</td>\n",
       "<td>Southwest</td>\n",
       "</tr>\n",
       "<tr>\n",
       "<td>1</td>\n",
       "<td>0</td>\n",
       "<td>Dallas</td>\n",
       "<td>Dallas</td>\n",
       "<td>Dallas Mavericks</td>\n",
       "<td>DAL</td>\n",
       "<td>1610612742</td>\n",
       "<td>Mavericks</td>\n",
       "<td>mavericks</td>\n",
       "<td>Dallas</td>\n",
       "<td>West</td>\n",
       "<td>Southwest</td>\n",
       "</tr>\n",
       "<tr>\n",
       "<td>1</td>\n",
       "<td>0</td>\n",
       "<td>Denver</td>\n",
       "<td>Denver</td>\n",
       "<td>Denver Nuggets</td>\n",
       "<td>DEN</td>\n",
       "<td>1610612743</td>\n",
       "<td>Nuggets</td>\n",
       "<td>nuggets</td>\n",
       "<td>Denver</td>\n",
       "<td>West</td>\n",
       "<td>Northwest</td>\n",
       "</tr>\n",
       "<tr>\n",
       "<td>1</td>\n",
       "<td>0</td>\n",
       "<td>Golden State</td>\n",
       "<td>Golden State</td>\n",
       "<td>Golden State Warriors</td>\n",
       "<td>GSW</td>\n",
       "<td>1610612744</td>\n",
       "<td>Warriors</td>\n",
       "<td>warriors</td>\n",
       "<td>Golden State</td>\n",
       "<td>West</td>\n",
       "<td>Pacific</td>\n",
       "</tr>\n",
       "<tr>\n",
       "<td>1</td>\n",
       "<td>0</td>\n",
       "<td>Houston</td>\n",
       "<td>Houston</td>\n",
       "<td>Houston Rockets</td>\n",
       "<td>HOU</td>\n",
       "<td>1610612745</td>\n",
       "<td>Rockets</td>\n",
       "<td>rockets</td>\n",
       "<td>Houston</td>\n",
       "<td>West</td>\n",
       "<td>Southwest</td>\n",
       "</tr>\n",
       "<tr>\n",
       "<td>1</td>\n",
       "<td>0</td>\n",
       "<td>LA</td>\n",
       "<td>LA Clippers</td>\n",
       "<td>LA Clippers</td>\n",
       "<td>LAC</td>\n",
       "<td>1610612746</td>\n",
       "<td>Clippers</td>\n",
       "<td>clippers</td>\n",
       "<td>LA Clippers</td>\n",
       "<td>West</td>\n",
       "<td>Pacific</td>\n",
       "</tr>\n",
       "<tr>\n",
       "<td>1</td>\n",
       "<td>0</td>\n",
       "<td>Los Angeles</td>\n",
       "<td>Los Angeles Lakers</td>\n",
       "<td>Los Angeles Lakers</td>\n",
       "<td>LAL</td>\n",
       "<td>1610612747</td>\n",
       "<td>Lakers</td>\n",
       "<td>lakers</td>\n",
       "<td>L.A. Lakers</td>\n",
       "<td>West</td>\n",
       "<td>Pacific</td>\n",
       "</tr>\n",
       "<tr>\n",
       "<td>1</td>\n",
       "<td>0</td>\n",
       "<td>Minnesota</td>\n",
       "<td>Minnesota</td>\n",
       "<td>Minnesota Timberwolves</td>\n",
       "<td>MIN</td>\n",
       "<td>1610612750</td>\n",
       "<td>Timberwolves</td>\n",
       "<td>timberwolves</td>\n",
       "<td>Minnesota</td>\n",
       "<td>West</td>\n",
       "<td>Northwest</td>\n",
       "</tr>\n",
       "<tr>\n",
       "<td>1</td>\n",
       "<td>0</td>\n",
       "<td>Phoenix</td>\n",
       "<td>Phoenix</td>\n",
       "<td>Phoenix Suns</td>\n",
       "<td>PHX</td>\n",
       "<td>1610612756</td>\n",
       "<td>Suns</td>\n",
       "<td>suns</td>\n",
       "<td>Phoenix</td>\n",
       "<td>West</td>\n",
       "<td>Pacific</td>\n",
       "</tr>\n",
       "<tr>\n",
       "<td>1</td>\n",
       "<td>0</td>\n",
       "<td>Portland</td>\n",
       "<td>Portland</td>\n",
       "<td>Portland Trail Blazers</td>\n",
       "<td>POR</td>\n",
       "<td>1610612757</td>\n",
       "<td>Trail Blazers</td>\n",
       "<td>blazers</td>\n",
       "<td>Portland</td>\n",
       "<td>West</td>\n",
       "<td>Northwest</td>\n",
       "</tr>\n",
       "<tr>\n",
       "<td>1</td>\n",
       "<td>0</td>\n",
       "<td>Sacramento</td>\n",
       "<td>Sacramento</td>\n",
       "<td>Sacramento Kings</td>\n",
       "<td>SAC</td>\n",
       "<td>1610612758</td>\n",
       "<td>Kings</td>\n",
       "<td>kings</td>\n",
       "<td>Sacramento</td>\n",
       "<td>West</td>\n",
       "<td>Pacific</td>\n",
       "</tr>\n",
       "<tr>\n",
       "<td>1</td>\n",
       "<td>0</td>\n",
       "<td>San Antonio</td>\n",
       "<td>San Antonio</td>\n",
       "<td>San Antonio Spurs</td>\n",
       "<td>SAS</td>\n",
       "<td>1610612759</td>\n",
       "<td>Spurs</td>\n",
       "<td>spurs</td>\n",
       "<td>San Antonio</td>\n",
       "<td>West</td>\n",
       "<td>Southwest</td>\n",
       "</tr>\n",
       "<tr>\n",
       "<td>1</td>\n",
       "<td>0</td>\n",
       "<td>Oklahoma City</td>\n",
       "<td>Oklahoma City</td>\n",
       "<td>Oklahoma City Thunder</td>\n",
       "<td>OKC</td>\n",
       "<td>1610612760</td>\n",
       "<td>Thunder</td>\n",
       "<td>thunder</td>\n",
       "<td>Oklahoma City</td>\n",
       "<td>West</td>\n",
       "<td>Northwest</td>\n",
       "</tr>\n",
       "<tr>\n",
       "<td>1</td>\n",
       "<td>0</td>\n",
       "<td>Utah</td>\n",
       "<td>Utah</td>\n",
       "<td>Utah Jazz</td>\n",
       "<td>UTA</td>\n",
       "<td>1610612762</td>\n",
       "<td>Jazz</td>\n",
       "<td>jazz</td>\n",
       "<td>Utah</td>\n",
       "<td>West</td>\n",
       "<td>Northwest</td>\n",
       "</tr>\n",
       "<tr>\n",
       "<td>1</td>\n",
       "<td>0</td>\n",
       "<td>Memphis</td>\n",
       "<td>Memphis</td>\n",
       "<td>Memphis Grizzlies</td>\n",
       "<td>MEM</td>\n",
       "<td>1610612763</td>\n",
       "<td>Grizzlies</td>\n",
       "<td>grizzlies</td>\n",
       "<td>Memphis</td>\n",
       "<td>West</td>\n",
       "<td>Southwest</td>\n",
       "</tr>\n",
       "</table>\n",
       "15 rows in set (0.00 sec)"
      ],
      "text/plain": [
       "+----------------+-----------+---------------+--------------------+------------------------+---------+------------+---------------+--------------+---------------+----------+-----------+\n",
       "| isNBAFranchise | isAllStar | city          | altCityName        | fullName               | tricode | teamId     | nickname      | urlName      | teamShortName | confName | divName   |\n",
       "+----------------+-----------+---------------+--------------------+------------------------+---------+------------+---------------+--------------+---------------+----------+-----------+\n",
       "| 1              | 0         | New Orleans   | New Orleans        | New Orleans Pelicans   | NOP     | 1610612740 | Pelicans      | pelicans     | New Orleans   | West     | Southwest |\n",
       "+----------------+-----------+---------------+--------------------+------------------------+---------+------------+---------------+--------------+---------------+----------+-----------+\n",
       "| 1              | 0         | Dallas        | Dallas             | Dallas Mavericks       | DAL     | 1610612742 | Mavericks     | mavericks    | Dallas        | West     | Southwest |\n",
       "+----------------+-----------+---------------+--------------------+------------------------+---------+------------+---------------+--------------+---------------+----------+-----------+\n",
       "| 1              | 0         | Denver        | Denver             | Denver Nuggets         | DEN     | 1610612743 | Nuggets       | nuggets      | Denver        | West     | Northwest |\n",
       "+----------------+-----------+---------------+--------------------+------------------------+---------+------------+---------------+--------------+---------------+----------+-----------+\n",
       "| 1              | 0         | Golden State  | Golden State       | Golden State Warriors  | GSW     | 1610612744 | Warriors      | warriors     | Golden State  | West     | Pacific   |\n",
       "+----------------+-----------+---------------+--------------------+------------------------+---------+------------+---------------+--------------+---------------+----------+-----------+\n",
       "| 1              | 0         | Houston       | Houston            | Houston Rockets        | HOU     | 1610612745 | Rockets       | rockets      | Houston       | West     | Southwest |\n",
       "+----------------+-----------+---------------+--------------------+------------------------+---------+------------+---------------+--------------+---------------+----------+-----------+\n",
       "| 1              | 0         | LA            | LA Clippers        | LA Clippers            | LAC     | 1610612746 | Clippers      | clippers     | LA Clippers   | West     | Pacific   |\n",
       "+----------------+-----------+---------------+--------------------+------------------------+---------+------------+---------------+--------------+---------------+----------+-----------+\n",
       "| 1              | 0         | Los Angeles   | Los Angeles Lakers | Los Angeles Lakers     | LAL     | 1610612747 | Lakers        | lakers       | L.A. Lakers   | West     | Pacific   |\n",
       "+----------------+-----------+---------------+--------------------+------------------------+---------+------------+---------------+--------------+---------------+----------+-----------+\n",
       "| 1              | 0         | Minnesota     | Minnesota          | Minnesota Timberwolves | MIN     | 1610612750 | Timberwolves  | timberwolves | Minnesota     | West     | Northwest |\n",
       "+----------------+-----------+---------------+--------------------+------------------------+---------+------------+---------------+--------------+---------------+----------+-----------+\n",
       "| 1              | 0         | Phoenix       | Phoenix            | Phoenix Suns           | PHX     | 1610612756 | Suns          | suns         | Phoenix       | West     | Pacific   |\n",
       "+----------------+-----------+---------------+--------------------+------------------------+---------+------------+---------------+--------------+---------------+----------+-----------+\n",
       "| 1              | 0         | Portland      | Portland           | Portland Trail Blazers | POR     | 1610612757 | Trail Blazers | blazers      | Portland      | West     | Northwest |\n",
       "+----------------+-----------+---------------+--------------------+------------------------+---------+------------+---------------+--------------+---------------+----------+-----------+\n",
       "| 1              | 0         | Sacramento    | Sacramento         | Sacramento Kings       | SAC     | 1610612758 | Kings         | kings        | Sacramento    | West     | Pacific   |\n",
       "+----------------+-----------+---------------+--------------------+------------------------+---------+------------+---------------+--------------+---------------+----------+-----------+\n",
       "| 1              | 0         | San Antonio   | San Antonio        | San Antonio Spurs      | SAS     | 1610612759 | Spurs         | spurs        | San Antonio   | West     | Southwest |\n",
       "+----------------+-----------+---------------+--------------------+------------------------+---------+------------+---------------+--------------+---------------+----------+-----------+\n",
       "| 1              | 0         | Oklahoma City | Oklahoma City      | Oklahoma City Thunder  | OKC     | 1610612760 | Thunder       | thunder      | Oklahoma City | West     | Northwest |\n",
       "+----------------+-----------+---------------+--------------------+------------------------+---------+------------+---------------+--------------+---------------+----------+-----------+\n",
       "| 1              | 0         | Utah          | Utah               | Utah Jazz              | UTA     | 1610612762 | Jazz          | jazz         | Utah          | West     | Northwest |\n",
       "+----------------+-----------+---------------+--------------------+------------------------+---------+------------+---------------+--------------+---------------+----------+-----------+\n",
       "| 1              | 0         | Memphis       | Memphis            | Memphis Grizzlies      | MEM     | 1610612763 | Grizzlies     | grizzlies    | Memphis       | West     | Southwest |\n",
       "+----------------+-----------+---------------+--------------------+------------------------+---------+------------+---------------+--------------+---------------+----------+-----------+\n",
       "15 rows in set (0.00 sec)"
      ]
     },
     "execution_count": 12,
     "metadata": {},
     "output_type": "execute_result"
    }
   ],
   "source": [
    "SELECT *\n",
    "  FROM teams\n",
    " WHERE confName != 'East';"
   ]
  },
  {
   "cell_type": "markdown",
   "metadata": {
    "slideshow": {
     "slide_type": "subslide"
    }
   },
   "source": [
    "## Filtering `divName` in 'Atlantic', 'Southwest' in `teams`"
   ]
  },
  {
   "cell_type": "code",
   "execution_count": 13,
   "metadata": {
    "slideshow": {
     "slide_type": "-"
    }
   },
   "outputs": [
    {
     "data": {
      "text/html": [
       "<table>\n",
       "<tr>\n",
       "<th>isNBAFranchise</th>\n",
       "<th>isAllStar</th>\n",
       "<th>city</th>\n",
       "<th>altCityName</th>\n",
       "<th>fullName</th>\n",
       "<th>tricode</th>\n",
       "<th>teamId</th>\n",
       "<th>nickname</th>\n",
       "<th>urlName</th>\n",
       "<th>teamShortName</th>\n",
       "<th>confName</th>\n",
       "<th>divName</th>\n",
       "</tr>\n",
       "<tr>\n",
       "<td>1</td>\n",
       "<td>0</td>\n",
       "<td>Boston</td>\n",
       "<td>Boston</td>\n",
       "<td>Boston Celtics</td>\n",
       "<td>BOS</td>\n",
       "<td>1610612738</td>\n",
       "<td>Celtics</td>\n",
       "<td>celtics</td>\n",
       "<td>Boston</td>\n",
       "<td>East</td>\n",
       "<td>Atlantic</td>\n",
       "</tr>\n",
       "<tr>\n",
       "<td>1</td>\n",
       "<td>0</td>\n",
       "<td>New Orleans</td>\n",
       "<td>New Orleans</td>\n",
       "<td>New Orleans Pelicans</td>\n",
       "<td>NOP</td>\n",
       "<td>1610612740</td>\n",
       "<td>Pelicans</td>\n",
       "<td>pelicans</td>\n",
       "<td>New Orleans</td>\n",
       "<td>West</td>\n",
       "<td>Southwest</td>\n",
       "</tr>\n",
       "<tr>\n",
       "<td>1</td>\n",
       "<td>0</td>\n",
       "<td>Dallas</td>\n",
       "<td>Dallas</td>\n",
       "<td>Dallas Mavericks</td>\n",
       "<td>DAL</td>\n",
       "<td>1610612742</td>\n",
       "<td>Mavericks</td>\n",
       "<td>mavericks</td>\n",
       "<td>Dallas</td>\n",
       "<td>West</td>\n",
       "<td>Southwest</td>\n",
       "</tr>\n",
       "<tr>\n",
       "<td>1</td>\n",
       "<td>0</td>\n",
       "<td>Houston</td>\n",
       "<td>Houston</td>\n",
       "<td>Houston Rockets</td>\n",
       "<td>HOU</td>\n",
       "<td>1610612745</td>\n",
       "<td>Rockets</td>\n",
       "<td>rockets</td>\n",
       "<td>Houston</td>\n",
       "<td>West</td>\n",
       "<td>Southwest</td>\n",
       "</tr>\n",
       "<tr>\n",
       "<td>1</td>\n",
       "<td>0</td>\n",
       "<td>Brooklyn</td>\n",
       "<td>Brooklyn</td>\n",
       "<td>Brooklyn Nets</td>\n",
       "<td>BKN</td>\n",
       "<td>1610612751</td>\n",
       "<td>Nets</td>\n",
       "<td>nets</td>\n",
       "<td>Brooklyn</td>\n",
       "<td>East</td>\n",
       "<td>Atlantic</td>\n",
       "</tr>\n",
       "<tr>\n",
       "<td>1</td>\n",
       "<td>0</td>\n",
       "<td>New York</td>\n",
       "<td>New York</td>\n",
       "<td>New York Knicks</td>\n",
       "<td>NYK</td>\n",
       "<td>1610612752</td>\n",
       "<td>Knicks</td>\n",
       "<td>knicks</td>\n",
       "<td>New York</td>\n",
       "<td>East</td>\n",
       "<td>Atlantic</td>\n",
       "</tr>\n",
       "<tr>\n",
       "<td>1</td>\n",
       "<td>0</td>\n",
       "<td>Philadelphia</td>\n",
       "<td>Philadelphia</td>\n",
       "<td>Philadelphia 76ers</td>\n",
       "<td>PHI</td>\n",
       "<td>1610612755</td>\n",
       "<td>76ers</td>\n",
       "<td>sixers</td>\n",
       "<td>Philadelphia</td>\n",
       "<td>East</td>\n",
       "<td>Atlantic</td>\n",
       "</tr>\n",
       "<tr>\n",
       "<td>1</td>\n",
       "<td>0</td>\n",
       "<td>San Antonio</td>\n",
       "<td>San Antonio</td>\n",
       "<td>San Antonio Spurs</td>\n",
       "<td>SAS</td>\n",
       "<td>1610612759</td>\n",
       "<td>Spurs</td>\n",
       "<td>spurs</td>\n",
       "<td>San Antonio</td>\n",
       "<td>West</td>\n",
       "<td>Southwest</td>\n",
       "</tr>\n",
       "<tr>\n",
       "<td>1</td>\n",
       "<td>0</td>\n",
       "<td>Toronto</td>\n",
       "<td>Toronto</td>\n",
       "<td>Toronto Raptors</td>\n",
       "<td>TOR</td>\n",
       "<td>1610612761</td>\n",
       "<td>Raptors</td>\n",
       "<td>raptors</td>\n",
       "<td>Toronto</td>\n",
       "<td>East</td>\n",
       "<td>Atlantic</td>\n",
       "</tr>\n",
       "<tr>\n",
       "<td>1</td>\n",
       "<td>0</td>\n",
       "<td>Memphis</td>\n",
       "<td>Memphis</td>\n",
       "<td>Memphis Grizzlies</td>\n",
       "<td>MEM</td>\n",
       "<td>1610612763</td>\n",
       "<td>Grizzlies</td>\n",
       "<td>grizzlies</td>\n",
       "<td>Memphis</td>\n",
       "<td>West</td>\n",
       "<td>Southwest</td>\n",
       "</tr>\n",
       "</table>\n",
       "10 rows in set (0.00 sec)"
      ],
      "text/plain": [
       "+----------------+-----------+--------------+--------------+----------------------+---------+------------+-----------+-----------+---------------+----------+-----------+\n",
       "| isNBAFranchise | isAllStar | city         | altCityName  | fullName             | tricode | teamId     | nickname  | urlName   | teamShortName | confName | divName   |\n",
       "+----------------+-----------+--------------+--------------+----------------------+---------+------------+-----------+-----------+---------------+----------+-----------+\n",
       "| 1              | 0         | Boston       | Boston       | Boston Celtics       | BOS     | 1610612738 | Celtics   | celtics   | Boston        | East     | Atlantic  |\n",
       "+----------------+-----------+--------------+--------------+----------------------+---------+------------+-----------+-----------+---------------+----------+-----------+\n",
       "| 1              | 0         | New Orleans  | New Orleans  | New Orleans Pelicans | NOP     | 1610612740 | Pelicans  | pelicans  | New Orleans   | West     | Southwest |\n",
       "+----------------+-----------+--------------+--------------+----------------------+---------+------------+-----------+-----------+---------------+----------+-----------+\n",
       "| 1              | 0         | Dallas       | Dallas       | Dallas Mavericks     | DAL     | 1610612742 | Mavericks | mavericks | Dallas        | West     | Southwest |\n",
       "+----------------+-----------+--------------+--------------+----------------------+---------+------------+-----------+-----------+---------------+----------+-----------+\n",
       "| 1              | 0         | Houston      | Houston      | Houston Rockets      | HOU     | 1610612745 | Rockets   | rockets   | Houston       | West     | Southwest |\n",
       "+----------------+-----------+--------------+--------------+----------------------+---------+------------+-----------+-----------+---------------+----------+-----------+\n",
       "| 1              | 0         | Brooklyn     | Brooklyn     | Brooklyn Nets        | BKN     | 1610612751 | Nets      | nets      | Brooklyn      | East     | Atlantic  |\n",
       "+----------------+-----------+--------------+--------------+----------------------+---------+------------+-----------+-----------+---------------+----------+-----------+\n",
       "| 1              | 0         | New York     | New York     | New York Knicks      | NYK     | 1610612752 | Knicks    | knicks    | New York      | East     | Atlantic  |\n",
       "+----------------+-----------+--------------+--------------+----------------------+---------+------------+-----------+-----------+---------------+----------+-----------+\n",
       "| 1              | 0         | Philadelphia | Philadelphia | Philadelphia 76ers   | PHI     | 1610612755 | 76ers     | sixers    | Philadelphia  | East     | Atlantic  |\n",
       "+----------------+-----------+--------------+--------------+----------------------+---------+------------+-----------+-----------+---------------+----------+-----------+\n",
       "| 1              | 0         | San Antonio  | San Antonio  | San Antonio Spurs    | SAS     | 1610612759 | Spurs     | spurs     | San Antonio   | West     | Southwest |\n",
       "+----------------+-----------+--------------+--------------+----------------------+---------+------------+-----------+-----------+---------------+----------+-----------+\n",
       "| 1              | 0         | Toronto      | Toronto      | Toronto Raptors      | TOR     | 1610612761 | Raptors   | raptors   | Toronto       | East     | Atlantic  |\n",
       "+----------------+-----------+--------------+--------------+----------------------+---------+------------+-----------+-----------+---------------+----------+-----------+\n",
       "| 1              | 0         | Memphis      | Memphis      | Memphis Grizzlies    | MEM     | 1610612763 | Grizzlies | grizzlies | Memphis       | West     | Southwest |\n",
       "+----------------+-----------+--------------+--------------+----------------------+---------+------------+-----------+-----------+---------------+----------+-----------+\n",
       "10 rows in set (0.00 sec)"
      ]
     },
     "execution_count": 13,
     "metadata": {},
     "output_type": "execute_result"
    }
   ],
   "source": [
    "SELECT *\n",
    "  FROM teams\n",
    " WHERE divName IN ('Atlantic', 'Southwest');"
   ]
  },
  {
   "cell_type": "markdown",
   "metadata": {
    "slideshow": {
     "slide_type": "subslide"
    }
   },
   "source": [
    "## Filtering `divName` with `%ic` in `teams`"
   ]
  },
  {
   "cell_type": "code",
   "execution_count": 14,
   "metadata": {
    "slideshow": {
     "slide_type": "-"
    }
   },
   "outputs": [
    {
     "data": {
      "text/html": [
       "<table>\n",
       "<tr>\n",
       "<th>isNBAFranchise</th>\n",
       "<th>isAllStar</th>\n",
       "<th>city</th>\n",
       "<th>altCityName</th>\n",
       "<th>fullName</th>\n",
       "<th>tricode</th>\n",
       "<th>teamId</th>\n",
       "<th>nickname</th>\n",
       "<th>urlName</th>\n",
       "<th>teamShortName</th>\n",
       "<th>confName</th>\n",
       "<th>divName</th>\n",
       "</tr>\n",
       "<tr>\n",
       "<td>1</td>\n",
       "<td>0</td>\n",
       "<td>Boston</td>\n",
       "<td>Boston</td>\n",
       "<td>Boston Celtics</td>\n",
       "<td>BOS</td>\n",
       "<td>1610612738</td>\n",
       "<td>Celtics</td>\n",
       "<td>celtics</td>\n",
       "<td>Boston</td>\n",
       "<td>East</td>\n",
       "<td>Atlantic</td>\n",
       "</tr>\n",
       "<tr>\n",
       "<td>1</td>\n",
       "<td>0</td>\n",
       "<td>Golden State</td>\n",
       "<td>Golden State</td>\n",
       "<td>Golden State Warriors</td>\n",
       "<td>GSW</td>\n",
       "<td>1610612744</td>\n",
       "<td>Warriors</td>\n",
       "<td>warriors</td>\n",
       "<td>Golden State</td>\n",
       "<td>West</td>\n",
       "<td>Pacific</td>\n",
       "</tr>\n",
       "<tr>\n",
       "<td>1</td>\n",
       "<td>0</td>\n",
       "<td>LA</td>\n",
       "<td>LA Clippers</td>\n",
       "<td>LA Clippers</td>\n",
       "<td>LAC</td>\n",
       "<td>1610612746</td>\n",
       "<td>Clippers</td>\n",
       "<td>clippers</td>\n",
       "<td>LA Clippers</td>\n",
       "<td>West</td>\n",
       "<td>Pacific</td>\n",
       "</tr>\n",
       "<tr>\n",
       "<td>1</td>\n",
       "<td>0</td>\n",
       "<td>Los Angeles</td>\n",
       "<td>Los Angeles Lakers</td>\n",
       "<td>Los Angeles Lakers</td>\n",
       "<td>LAL</td>\n",
       "<td>1610612747</td>\n",
       "<td>Lakers</td>\n",
       "<td>lakers</td>\n",
       "<td>L.A. Lakers</td>\n",
       "<td>West</td>\n",
       "<td>Pacific</td>\n",
       "</tr>\n",
       "<tr>\n",
       "<td>1</td>\n",
       "<td>0</td>\n",
       "<td>Brooklyn</td>\n",
       "<td>Brooklyn</td>\n",
       "<td>Brooklyn Nets</td>\n",
       "<td>BKN</td>\n",
       "<td>1610612751</td>\n",
       "<td>Nets</td>\n",
       "<td>nets</td>\n",
       "<td>Brooklyn</td>\n",
       "<td>East</td>\n",
       "<td>Atlantic</td>\n",
       "</tr>\n",
       "<tr>\n",
       "<td>1</td>\n",
       "<td>0</td>\n",
       "<td>New York</td>\n",
       "<td>New York</td>\n",
       "<td>New York Knicks</td>\n",
       "<td>NYK</td>\n",
       "<td>1610612752</td>\n",
       "<td>Knicks</td>\n",
       "<td>knicks</td>\n",
       "<td>New York</td>\n",
       "<td>East</td>\n",
       "<td>Atlantic</td>\n",
       "</tr>\n",
       "<tr>\n",
       "<td>1</td>\n",
       "<td>0</td>\n",
       "<td>Philadelphia</td>\n",
       "<td>Philadelphia</td>\n",
       "<td>Philadelphia 76ers</td>\n",
       "<td>PHI</td>\n",
       "<td>1610612755</td>\n",
       "<td>76ers</td>\n",
       "<td>sixers</td>\n",
       "<td>Philadelphia</td>\n",
       "<td>East</td>\n",
       "<td>Atlantic</td>\n",
       "</tr>\n",
       "<tr>\n",
       "<td>1</td>\n",
       "<td>0</td>\n",
       "<td>Phoenix</td>\n",
       "<td>Phoenix</td>\n",
       "<td>Phoenix Suns</td>\n",
       "<td>PHX</td>\n",
       "<td>1610612756</td>\n",
       "<td>Suns</td>\n",
       "<td>suns</td>\n",
       "<td>Phoenix</td>\n",
       "<td>West</td>\n",
       "<td>Pacific</td>\n",
       "</tr>\n",
       "<tr>\n",
       "<td>1</td>\n",
       "<td>0</td>\n",
       "<td>Sacramento</td>\n",
       "<td>Sacramento</td>\n",
       "<td>Sacramento Kings</td>\n",
       "<td>SAC</td>\n",
       "<td>1610612758</td>\n",
       "<td>Kings</td>\n",
       "<td>kings</td>\n",
       "<td>Sacramento</td>\n",
       "<td>West</td>\n",
       "<td>Pacific</td>\n",
       "</tr>\n",
       "<tr>\n",
       "<td>1</td>\n",
       "<td>0</td>\n",
       "<td>Toronto</td>\n",
       "<td>Toronto</td>\n",
       "<td>Toronto Raptors</td>\n",
       "<td>TOR</td>\n",
       "<td>1610612761</td>\n",
       "<td>Raptors</td>\n",
       "<td>raptors</td>\n",
       "<td>Toronto</td>\n",
       "<td>East</td>\n",
       "<td>Atlantic</td>\n",
       "</tr>\n",
       "</table>\n",
       "10 rows in set (0.00 sec)"
      ],
      "text/plain": [
       "+----------------+-----------+--------------+--------------------+-----------------------+---------+------------+----------+----------+---------------+----------+----------+\n",
       "| isNBAFranchise | isAllStar | city         | altCityName        | fullName              | tricode | teamId     | nickname | urlName  | teamShortName | confName | divName  |\n",
       "+----------------+-----------+--------------+--------------------+-----------------------+---------+------------+----------+----------+---------------+----------+----------+\n",
       "| 1              | 0         | Boston       | Boston             | Boston Celtics        | BOS     | 1610612738 | Celtics  | celtics  | Boston        | East     | Atlantic |\n",
       "+----------------+-----------+--------------+--------------------+-----------------------+---------+------------+----------+----------+---------------+----------+----------+\n",
       "| 1              | 0         | Golden State | Golden State       | Golden State Warriors | GSW     | 1610612744 | Warriors | warriors | Golden State  | West     | Pacific  |\n",
       "+----------------+-----------+--------------+--------------------+-----------------------+---------+------------+----------+----------+---------------+----------+----------+\n",
       "| 1              | 0         | LA           | LA Clippers        | LA Clippers           | LAC     | 1610612746 | Clippers | clippers | LA Clippers   | West     | Pacific  |\n",
       "+----------------+-----------+--------------+--------------------+-----------------------+---------+------------+----------+----------+---------------+----------+----------+\n",
       "| 1              | 0         | Los Angeles  | Los Angeles Lakers | Los Angeles Lakers    | LAL     | 1610612747 | Lakers   | lakers   | L.A. Lakers   | West     | Pacific  |\n",
       "+----------------+-----------+--------------+--------------------+-----------------------+---------+------------+----------+----------+---------------+----------+----------+\n",
       "| 1              | 0         | Brooklyn     | Brooklyn           | Brooklyn Nets         | BKN     | 1610612751 | Nets     | nets     | Brooklyn      | East     | Atlantic |\n",
       "+----------------+-----------+--------------+--------------------+-----------------------+---------+------------+----------+----------+---------------+----------+----------+\n",
       "| 1              | 0         | New York     | New York           | New York Knicks       | NYK     | 1610612752 | Knicks   | knicks   | New York      | East     | Atlantic |\n",
       "+----------------+-----------+--------------+--------------------+-----------------------+---------+------------+----------+----------+---------------+----------+----------+\n",
       "| 1              | 0         | Philadelphia | Philadelphia       | Philadelphia 76ers    | PHI     | 1610612755 | 76ers    | sixers   | Philadelphia  | East     | Atlantic |\n",
       "+----------------+-----------+--------------+--------------------+-----------------------+---------+------------+----------+----------+---------------+----------+----------+\n",
       "| 1              | 0         | Phoenix      | Phoenix            | Phoenix Suns          | PHX     | 1610612756 | Suns     | suns     | Phoenix       | West     | Pacific  |\n",
       "+----------------+-----------+--------------+--------------------+-----------------------+---------+------------+----------+----------+---------------+----------+----------+\n",
       "| 1              | 0         | Sacramento   | Sacramento         | Sacramento Kings      | SAC     | 1610612758 | Kings    | kings    | Sacramento    | West     | Pacific  |\n",
       "+----------------+-----------+--------------+--------------------+-----------------------+---------+------------+----------+----------+---------------+----------+----------+\n",
       "| 1              | 0         | Toronto      | Toronto            | Toronto Raptors       | TOR     | 1610612761 | Raptors  | raptors  | Toronto       | East     | Atlantic |\n",
       "+----------------+-----------+--------------+--------------------+-----------------------+---------+------------+----------+----------+---------------+----------+----------+\n",
       "10 rows in set (0.00 sec)"
      ]
     },
     "execution_count": 14,
     "metadata": {},
     "output_type": "execute_result"
    }
   ],
   "source": [
    "SELECT *\n",
    "  FROM teams\n",
    " WHERE divName LIKE '%ic';"
   ]
  },
  {
   "cell_type": "markdown",
   "metadata": {
    "slideshow": {
     "slide_type": "subslide"
    }
   },
   "source": [
    "## Making uppercase with `UPPER`"
   ]
  },
  {
   "cell_type": "code",
   "execution_count": 15,
   "metadata": {
    "slideshow": {
     "slide_type": "-"
    }
   },
   "outputs": [
    {
     "data": {
      "text/html": [
       "<table>\n",
       "<tr>\n",
       "<th>upperFirstName</th>\n",
       "<th>upperLastName</th>\n",
       "</tr>\n",
       "<tr>\n",
       "<td>LEBRON</td>\n",
       "<td>JAMES</td>\n",
       "</tr>\n",
       "<tr>\n",
       "<td>CARMELO</td>\n",
       "<td>ANTHONY</td>\n",
       "</tr>\n",
       "<tr>\n",
       "<td>UDONIS</td>\n",
       "<td>HASLEM</td>\n",
       "</tr>\n",
       "<tr>\n",
       "<td>DWIGHT</td>\n",
       "<td>HOWARD</td>\n",
       "</tr>\n",
       "<tr>\n",
       "<td>ANDRE</td>\n",
       "<td>IGUODALA</td>\n",
       "</tr>\n",
       "</table>\n",
       "5 rows in set (0.00 sec)"
      ],
      "text/plain": [
       "+----------------+---------------+\n",
       "| upperFirstName | upperLastName |\n",
       "+----------------+---------------+\n",
       "| LEBRON         | JAMES         |\n",
       "+----------------+---------------+\n",
       "| CARMELO        | ANTHONY       |\n",
       "+----------------+---------------+\n",
       "| UDONIS         | HASLEM        |\n",
       "+----------------+---------------+\n",
       "| DWIGHT         | HOWARD        |\n",
       "+----------------+---------------+\n",
       "| ANDRE          | IGUODALA      |\n",
       "+----------------+---------------+\n",
       "5 rows in set (0.00 sec)"
      ]
     },
     "execution_count": 15,
     "metadata": {},
     "output_type": "execute_result"
    }
   ],
   "source": [
    "SELECT UPPER(firstName) AS upperFirstName,\n",
    "       UPPER(lastName) AS upperLastName\n",
    "  FROM players\n",
    " LIMIT 5;"
   ]
  },
  {
   "cell_type": "markdown",
   "metadata": {
    "slideshow": {
     "slide_type": "subslide"
    }
   },
   "source": [
    "## Concatenating with `||` operator"
   ]
  },
  {
   "cell_type": "code",
   "execution_count": 16,
   "metadata": {
    "slideshow": {
     "slide_type": "-"
    }
   },
   "outputs": [
    {
     "data": {
      "text/html": [
       "<table>\n",
       "<tr>\n",
       "<th>fullName</th>\n",
       "</tr>\n",
       "<tr>\n",
       "<td>LeBron James</td>\n",
       "</tr>\n",
       "<tr>\n",
       "<td>Carmelo Anthony</td>\n",
       "</tr>\n",
       "<tr>\n",
       "<td>Udonis Haslem</td>\n",
       "</tr>\n",
       "<tr>\n",
       "<td>Dwight Howard</td>\n",
       "</tr>\n",
       "<tr>\n",
       "<td>Andre Iguodala</td>\n",
       "</tr>\n",
       "</table>\n",
       "5 rows in set (0.00 sec)"
      ],
      "text/plain": [
       "+-----------------+\n",
       "| fullName        |\n",
       "+-----------------+\n",
       "| LeBron James    |\n",
       "+-----------------+\n",
       "| Carmelo Anthony |\n",
       "+-----------------+\n",
       "| Udonis Haslem   |\n",
       "+-----------------+\n",
       "| Dwight Howard   |\n",
       "+-----------------+\n",
       "| Andre Iguodala  |\n",
       "+-----------------+\n",
       "5 rows in set (0.00 sec)"
      ]
     },
     "execution_count": 16,
     "metadata": {},
     "output_type": "execute_result"
    }
   ],
   "source": [
    "SELECT firstName || ' ' || lastName AS fullName\n",
    "  FROM players\n",
    " LIMIT 5;"
   ]
  },
  {
   "cell_type": "markdown",
   "metadata": {
    "slideshow": {
     "slide_type": "subslide"
    }
   },
   "source": [
    "## Measuring number of strings with `LENGTH`"
   ]
  },
  {
   "cell_type": "code",
   "execution_count": 17,
   "metadata": {
    "slideshow": {
     "slide_type": "-"
    }
   },
   "outputs": [
    {
     "data": {
      "text/html": [
       "<table>\n",
       "<tr>\n",
       "<th>city</th>\n",
       "<th>number_of_strings</th>\n",
       "</tr>\n",
       "<tr>\n",
       "<td>Atlanta</td>\n",
       "<td>7</td>\n",
       "</tr>\n",
       "<tr>\n",
       "<td>Boston</td>\n",
       "<td>6</td>\n",
       "</tr>\n",
       "<tr>\n",
       "<td>Cleveland</td>\n",
       "<td>9</td>\n",
       "</tr>\n",
       "<tr>\n",
       "<td>New Orleans</td>\n",
       "<td>11</td>\n",
       "</tr>\n",
       "<tr>\n",
       "<td>Chicago</td>\n",
       "<td>7</td>\n",
       "</tr>\n",
       "</table>\n",
       "5 rows in set (0.00 sec)"
      ],
      "text/plain": [
       "+-------------+-------------------+\n",
       "| city        | number_of_strings |\n",
       "+-------------+-------------------+\n",
       "| Atlanta     | 7                 |\n",
       "+-------------+-------------------+\n",
       "| Boston      | 6                 |\n",
       "+-------------+-------------------+\n",
       "| Cleveland   | 9                 |\n",
       "+-------------+-------------------+\n",
       "| New Orleans | 11                |\n",
       "+-------------+-------------------+\n",
       "| Chicago     | 7                 |\n",
       "+-------------+-------------------+\n",
       "5 rows in set (0.00 sec)"
      ]
     },
     "execution_count": 17,
     "metadata": {},
     "output_type": "execute_result"
    }
   ],
   "source": [
    "SELECT city,\n",
    "       LENGTH(city) AS number_of_strings\n",
    "  FROM teams\n",
    " LIMIT 5;"
   ]
  },
  {
   "cell_type": "markdown",
   "metadata": {
    "slideshow": {
     "slide_type": "subslide"
    }
   },
   "source": [
    "## Common functions for `TEXT` in SQLite\n",
    "\n",
    "<https://www.sqlitetutorial.net/sqlite-string-functions/>"
   ]
  },
  {
   "cell_type": "markdown",
   "metadata": {
    "slideshow": {
     "slide_type": "slide"
    }
   },
   "source": [
    "## Basic Operators and Functions for Numeric"
   ]
  },
  {
   "cell_type": "markdown",
   "metadata": {
    "slideshow": {
     "slide_type": "subslide"
    }
   },
   "source": [
    "## Numeric operators available in SQL\n",
    "\n",
    "- `+`, `-`, `*`, `/` are straight-forward\n",
    "- `%` Modulo returns just the remainder"
   ]
  },
  {
   "cell_type": "code",
   "execution_count": 18,
   "metadata": {
    "slideshow": {
     "slide_type": "subslide"
    }
   },
   "outputs": [
    {
     "data": {
      "text/html": [
       "<table>\n",
       "<tr>\n",
       "<th>55 + 66</th>\n",
       "<th>55 - 66</th>\n",
       "<th>55 * 6</th>\n",
       "<th>55 / 66</th>\n",
       "<th>55 % 6</th>\n",
       "</tr>\n",
       "<tr>\n",
       "<td>121</td>\n",
       "<td>-11</td>\n",
       "<td>330</td>\n",
       "<td>0</td>\n",
       "<td>1</td>\n",
       "</tr>\n",
       "</table>\n",
       "1 row in set (0.00 sec)"
      ],
      "text/plain": [
       "+---------+---------+--------+---------+--------+\n",
       "| 55 + 66 | 55 - 66 | 55 * 6 | 55 / 66 | 55 % 6 |\n",
       "+---------+---------+--------+---------+--------+\n",
       "| 121     | -11     | 330    | 0       | 1      |\n",
       "+---------+---------+--------+---------+--------+\n",
       "1 row in set (0.00 sec)"
      ]
     },
     "execution_count": 18,
     "metadata": {},
     "output_type": "execute_result"
    }
   ],
   "source": [
    "SELECT 55 + 66,\n",
    "       55 - 66,\n",
    "       55 * 6,\n",
    "       55 / 66, -- as an integer\n",
    "       55 % 6;"
   ]
  },
  {
   "cell_type": "markdown",
   "metadata": {
    "slideshow": {
     "slide_type": "subslide"
    }
   },
   "source": [
    "## Mind the order of operations\n",
    "\n",
    "1. Exponents and roots\n",
    "2. Multiplication, division, modulo\n",
    "3. Addition and subtraction"
   ]
  },
  {
   "cell_type": "code",
   "execution_count": 19,
   "metadata": {
    "slideshow": {
     "slide_type": "subslide"
    }
   },
   "outputs": [
    {
     "data": {
      "text/html": [
       "<table>\n",
       "<tr>\n",
       "<th>100.0 * 9/5 + 32</th>\n",
       "<th>212.0 - 32 * 5/9</th>\n",
       "<th>(212.0 - 32) * 5/9</th>\n",
       "</tr>\n",
       "<tr>\n",
       "<td>212.0</td>\n",
       "<td>195.0</td>\n",
       "<td>100.0</td>\n",
       "</tr>\n",
       "</table>\n",
       "1 row in set (0.00 sec)"
      ],
      "text/plain": [
       "+------------------+------------------+--------------------+\n",
       "| 100.0 * 9/5 + 32 | 212.0 - 32 * 5/9 | (212.0 - 32) * 5/9 |\n",
       "+------------------+------------------+--------------------+\n",
       "| 212.0            | 195.0            | 100.0              |\n",
       "+------------------+------------------+--------------------+\n",
       "1 row in set (0.00 sec)"
      ]
     },
     "execution_count": 19,
     "metadata": {},
     "output_type": "execute_result"
    }
   ],
   "source": [
    "SELECT 100.0 * 9/5 + 32,\n",
    "       212.0 - 32 * 5/9,\n",
    "       (212.0 - 32) * 5/9;"
   ]
  },
  {
   "cell_type": "markdown",
   "metadata": {
    "slideshow": {
     "slide_type": "subslide"
    }
   },
   "source": [
    "## Getting `bmi` for each NBA player in `players`\n",
    "\n",
    "\\begin{equation}\n",
    "BMI = \\frac{weight_{kg}}{height^2_m}\n",
    "\\end{equation}"
   ]
  },
  {
   "cell_type": "code",
   "execution_count": 20,
   "metadata": {
    "slideshow": {
     "slide_type": "-"
    }
   },
   "outputs": [
    {
     "data": {
      "text/html": [
       "<table>\n",
       "<tr>\n",
       "<th>firstName</th>\n",
       "<th>lastName</th>\n",
       "<th>bmi</th>\n",
       "</tr>\n",
       "<tr>\n",
       "<td>Zion</td>\n",
       "<td>Williamson</td>\n",
       "<td>31.8803990000248</td>\n",
       "</tr>\n",
       "<tr>\n",
       "<td>Jusuf</td>\n",
       "<td>Nurkic</td>\n",
       "<td>29.5366231665955</td>\n",
       "</tr>\n",
       "<tr>\n",
       "<td>Jarrell</td>\n",
       "<td>Brantley</td>\n",
       "<td>29.5189504373178</td>\n",
       "</tr>\n",
       "<tr>\n",
       "<td>Eric</td>\n",
       "<td>Paschall</td>\n",
       "<td>29.5122946638098</td>\n",
       "</tr>\n",
       "<tr>\n",
       "<td>Udoka</td>\n",
       "<td>Azubuike</td>\n",
       "<td>29.3546597633136</td>\n",
       "</tr>\n",
       "</table>\n",
       "5 rows in set (0.01 sec)"
      ],
      "text/plain": [
       "+-----------+------------+------------------+\n",
       "| firstName | lastName   | bmi              |\n",
       "+-----------+------------+------------------+\n",
       "| Zion      | Williamson | 31.8803990000248 |\n",
       "+-----------+------------+------------------+\n",
       "| Jusuf     | Nurkic     | 29.5366231665955 |\n",
       "+-----------+------------+------------------+\n",
       "| Jarrell   | Brantley   | 29.5189504373178 |\n",
       "+-----------+------------+------------------+\n",
       "| Eric      | Paschall   | 29.5122946638098 |\n",
       "+-----------+------------+------------------+\n",
       "| Udoka     | Azubuike   | 29.3546597633136 |\n",
       "+-----------+------------+------------------+\n",
       "5 rows in set (0.01 sec)"
      ]
     },
     "execution_count": 20,
     "metadata": {},
     "output_type": "execute_result"
    }
   ],
   "source": [
    "SELECT firstName,\n",
    "       lastName,\n",
    "       weightKilograms / (heightMeters*heightMeters) AS bmi\n",
    "  FROM players\n",
    "  ORDER BY bmi DESC\n",
    "  LIMIT 5;"
   ]
  },
  {
   "cell_type": "markdown",
   "metadata": {
    "slideshow": {
     "slide_type": "subslide"
    }
   },
   "source": [
    "## Rounding `bmi` to 2 decimal places for each NBA player in `players` with `ROUND`"
   ]
  },
  {
   "cell_type": "code",
   "execution_count": 21,
   "metadata": {
    "slideshow": {
     "slide_type": "-"
    }
   },
   "outputs": [
    {
     "data": {
      "text/html": [
       "<table>\n",
       "<tr>\n",
       "<th>firstName</th>\n",
       "<th>lastName</th>\n",
       "<th>bmi</th>\n",
       "</tr>\n",
       "<tr>\n",
       "<td>Zion</td>\n",
       "<td>Williamson</td>\n",
       "<td>31.88</td>\n",
       "</tr>\n",
       "<tr>\n",
       "<td>Jusuf</td>\n",
       "<td>Nurkic</td>\n",
       "<td>29.54</td>\n",
       "</tr>\n",
       "<tr>\n",
       "<td>Jarrell</td>\n",
       "<td>Brantley</td>\n",
       "<td>29.52</td>\n",
       "</tr>\n",
       "<tr>\n",
       "<td>Eric</td>\n",
       "<td>Paschall</td>\n",
       "<td>29.51</td>\n",
       "</tr>\n",
       "<tr>\n",
       "<td>Udoka</td>\n",
       "<td>Azubuike</td>\n",
       "<td>29.35</td>\n",
       "</tr>\n",
       "</table>\n",
       "5 rows in set (0.00 sec)"
      ],
      "text/plain": [
       "+-----------+------------+-------+\n",
       "| firstName | lastName   | bmi   |\n",
       "+-----------+------------+-------+\n",
       "| Zion      | Williamson | 31.88 |\n",
       "+-----------+------------+-------+\n",
       "| Jusuf     | Nurkic     | 29.54 |\n",
       "+-----------+------------+-------+\n",
       "| Jarrell   | Brantley   | 29.52 |\n",
       "+-----------+------------+-------+\n",
       "| Eric      | Paschall   | 29.51 |\n",
       "+-----------+------------+-------+\n",
       "| Udoka     | Azubuike   | 29.35 |\n",
       "+-----------+------------+-------+\n",
       "5 rows in set (0.00 sec)"
      ]
     },
     "execution_count": 21,
     "metadata": {},
     "output_type": "execute_result"
    }
   ],
   "source": [
    "SELECT firstName,\n",
    "       lastName,\n",
    "       ROUND(weightKilograms / (heightMeters * heightMeters), 2) AS bmi\n",
    "  FROM players\n",
    " ORDER BY bmi DESC\n",
    " LIMIT 5;"
   ]
  },
  {
   "cell_type": "markdown",
   "metadata": {
    "slideshow": {
     "slide_type": "subslide"
    }
   },
   "source": [
    "## Is BMI(Body Mass Index) a good metric measuring your fitness level?\n",
    "\n",
    "![](https://media.giphy.com/media/jkZd4Z7ImNxNEWF1Z8/giphy.gif)\n",
    "\n",
    "Source: <https://giphy.com/>"
   ]
  },
  {
   "cell_type": "markdown",
   "metadata": {
    "slideshow": {
     "slide_type": "subslide"
    }
   },
   "source": [
    "## Common functions for numeric in SQLite\n",
    "\n",
    "<https://www.sqlite.org/lang_mathfunc.html>"
   ]
  },
  {
   "cell_type": "markdown",
   "metadata": {
    "slideshow": {
     "slide_type": "slide"
    }
   },
   "source": [
    "## Summarizing and Grouping"
   ]
  },
  {
   "cell_type": "markdown",
   "metadata": {
    "slideshow": {
     "slide_type": "subslide"
    }
   },
   "source": [
    "## The functions for text and numeric we've been using so far belong to a function category called \"universal functions\""
   ]
  },
  {
   "cell_type": "markdown",
   "metadata": {
    "slideshow": {
     "slide_type": "subslide"
    }
   },
   "source": [
    "## We can roughly divide the SQL function-verse into 2 sub categories\n",
    "\n",
    "1. Universal functions\n",
    "2. Aggregate functions"
   ]
  },
  {
   "cell_type": "markdown",
   "metadata": {
    "slideshow": {
     "slide_type": "subslide"
    }
   },
   "source": [
    "## What is the difference between these 2 categories?\n",
    "\n",
    "The major difference is whether if the rows of output equals to the rows of input."
   ]
  },
  {
   "cell_type": "markdown",
   "metadata": {
    "slideshow": {
     "slide_type": "subslide"
    }
   },
   "source": [
    "## What does \"rows of output equals to rows of input\" mean?\n",
    "\n",
    "Say we are using `ROUND` function for each NBA player."
   ]
  },
  {
   "cell_type": "code",
   "execution_count": 22,
   "metadata": {
    "slideshow": {
     "slide_type": "-"
    }
   },
   "outputs": [
    {
     "data": {
      "text/html": [
       "<table>\n",
       "<tr>\n",
       "<th>firstName</th>\n",
       "<th>lastName</th>\n",
       "<th>heightMeters</th>\n",
       "<th>heightMetersRounded</th>\n",
       "</tr>\n",
       "<tr>\n",
       "<td>LeBron</td>\n",
       "<td>James</td>\n",
       "<td>2.06</td>\n",
       "<td>2.0</td>\n",
       "</tr>\n",
       "<tr>\n",
       "<td>Carmelo</td>\n",
       "<td>Anthony</td>\n",
       "<td>2.01</td>\n",
       "<td>2.0</td>\n",
       "</tr>\n",
       "<tr>\n",
       "<td>Udonis</td>\n",
       "<td>Haslem</td>\n",
       "<td>2.03</td>\n",
       "<td>2.0</td>\n",
       "</tr>\n",
       "<tr>\n",
       "<td>Dwight</td>\n",
       "<td>Howard</td>\n",
       "<td>2.08</td>\n",
       "<td>2.0</td>\n",
       "</tr>\n",
       "<tr>\n",
       "<td>Andre</td>\n",
       "<td>Iguodala</td>\n",
       "<td>1.98</td>\n",
       "<td>2.0</td>\n",
       "</tr>\n",
       "</table>\n",
       "5 rows in set (0.00 sec)"
      ],
      "text/plain": [
       "+-----------+----------+--------------+---------------------+\n",
       "| firstName | lastName | heightMeters | heightMetersRounded |\n",
       "+-----------+----------+--------------+---------------------+\n",
       "| LeBron    | James    | 2.06         | 2.0                 |\n",
       "+-----------+----------+--------------+---------------------+\n",
       "| Carmelo   | Anthony  | 2.01         | 2.0                 |\n",
       "+-----------+----------+--------------+---------------------+\n",
       "| Udonis    | Haslem   | 2.03         | 2.0                 |\n",
       "+-----------+----------+--------------+---------------------+\n",
       "| Dwight    | Howard   | 2.08         | 2.0                 |\n",
       "+-----------+----------+--------------+---------------------+\n",
       "| Andre     | Iguodala | 1.98         | 2.0                 |\n",
       "+-----------+----------+--------------+---------------------+\n",
       "5 rows in set (0.00 sec)"
      ]
     },
     "execution_count": 22,
     "metadata": {},
     "output_type": "execute_result"
    }
   ],
   "source": [
    "SELECT firstName,\n",
    "       lastName,\n",
    "       heightMeters,\n",
    "       ROUND(heightMeters) AS heightMetersRounded\n",
    "  FROM players\n",
    " LIMIT 5;"
   ]
  },
  {
   "cell_type": "markdown",
   "metadata": {
    "slideshow": {
     "slide_type": "subslide"
    }
   },
   "source": [
    "## So the rows of input `heightMeters` equals to the `heightMetersRounded`, then `ROUND` is a \"universal function\"."
   ]
  },
  {
   "cell_type": "markdown",
   "metadata": {
    "slideshow": {
     "slide_type": "subslide"
    }
   },
   "source": [
    "## Aggregate functions combine values from multiple rows and return a single result based on an operation on those values\n",
    "\n",
    "Say we want to know the average height of NBA players."
   ]
  },
  {
   "cell_type": "code",
   "execution_count": 23,
   "metadata": {
    "slideshow": {
     "slide_type": "-"
    }
   },
   "outputs": [
    {
     "data": {
      "text/html": [
       "<table>\n",
       "<tr>\n",
       "<th>avgHeightMeters</th>\n",
       "</tr>\n",
       "<tr>\n",
       "<td>1.98981744421906</td>\n",
       "</tr>\n",
       "</table>\n",
       "1 row in set (0.00 sec)"
      ],
      "text/plain": [
       "+------------------+\n",
       "| avgHeightMeters  |\n",
       "+------------------+\n",
       "| 1.98981744421906 |\n",
       "+------------------+\n",
       "1 row in set (0.00 sec)"
      ]
     },
     "execution_count": 23,
     "metadata": {},
     "output_type": "execute_result"
    }
   ],
   "source": [
    "SELECT AVG(heightMeters) AS avgHeightMeters\n",
    "  FROM players;"
   ]
  },
  {
   "cell_type": "markdown",
   "metadata": {
    "slideshow": {
     "slide_type": "subslide"
    }
   },
   "source": [
    "## So the `avgHeightMeters` takes only 1 row, which does not equal to the rows of input `heightMeters`, then `AVG` is an \"aggregate function\"."
   ]
  },
  {
   "cell_type": "markdown",
   "metadata": {
    "slideshow": {
     "slide_type": "subslide"
    }
   },
   "source": [
    "## Counting rows using `COUNT(*)`\n",
    "\n",
    "Before querying, a sensible first step is to make sure the table has the expected number of rows."
   ]
  },
  {
   "cell_type": "code",
   "execution_count": 24,
   "metadata": {
    "slideshow": {
     "slide_type": "-"
    }
   },
   "outputs": [
    {
     "data": {
      "text/html": [
       "<table>\n",
       "<tr>\n",
       "<th>COUNT(*)</th>\n",
       "</tr>\n",
       "<tr>\n",
       "<td>30</td>\n",
       "</tr>\n",
       "</table>\n",
       "1 row in set (0.00 sec)"
      ],
      "text/plain": [
       "+----------+\n",
       "| COUNT(*) |\n",
       "+----------+\n",
       "| 30       |\n",
       "+----------+\n",
       "1 row in set (0.00 sec)"
      ]
     },
     "execution_count": 24,
     "metadata": {},
     "output_type": "execute_result"
    }
   ],
   "source": [
    "SELECT COUNT(*)\n",
    "  FROM teams;"
   ]
  },
  {
   "cell_type": "code",
   "execution_count": 25,
   "metadata": {
    "slideshow": {
     "slide_type": "subslide"
    }
   },
   "outputs": [
    {
     "data": {
      "text/html": [
       "<table>\n",
       "<tr>\n",
       "<th>COUNT(*)</th>\n",
       "</tr>\n",
       "<tr>\n",
       "<td>493</td>\n",
       "</tr>\n",
       "</table>\n",
       "1 row in set (0.00 sec)"
      ],
      "text/plain": [
       "+----------+\n",
       "| COUNT(*) |\n",
       "+----------+\n",
       "| 493      |\n",
       "+----------+\n",
       "1 row in set (0.00 sec)"
      ]
     },
     "execution_count": 25,
     "metadata": {},
     "output_type": "execute_result"
    }
   ],
   "source": [
    "SELECT COUNT(*)\n",
    "  FROM players;"
   ]
  },
  {
   "cell_type": "code",
   "execution_count": 26,
   "metadata": {
    "slideshow": {
     "slide_type": "-"
    }
   },
   "outputs": [
    {
     "data": {
      "text/html": [
       "<table>\n",
       "<tr>\n",
       "<th>COUNT(*)</th>\n",
       "</tr>\n",
       "<tr>\n",
       "<td>493</td>\n",
       "</tr>\n",
       "</table>\n",
       "1 row in set (0.01 sec)"
      ],
      "text/plain": [
       "+----------+\n",
       "| COUNT(*) |\n",
       "+----------+\n",
       "| 493      |\n",
       "+----------+\n",
       "1 row in set (0.01 sec)"
      ]
     },
     "execution_count": 26,
     "metadata": {},
     "output_type": "execute_result"
    }
   ],
   "source": [
    "SELECT COUNT(*)\n",
    "  FROM career_summaries;"
   ]
  },
  {
   "cell_type": "markdown",
   "metadata": {
    "slideshow": {
     "slide_type": "subslide"
    }
   },
   "source": [
    "## Counting non-null observations using `COUNT(column_name)`"
   ]
  },
  {
   "cell_type": "code",
   "execution_count": 27,
   "metadata": {},
   "outputs": [
    {
     "data": {
      "text/html": [
       "<table>\n",
       "<tr>\n",
       "<th>number_of_players_with_scoring_record</th>\n",
       "</tr>\n",
       "<tr>\n",
       "<td>490</td>\n",
       "</tr>\n",
       "</table>\n",
       "1 row in set (0.00 sec)"
      ],
      "text/plain": [
       "+---------------------------------------+\n",
       "| number_of_players_with_scoring_record |\n",
       "+---------------------------------------+\n",
       "| 490                                   |\n",
       "+---------------------------------------+\n",
       "1 row in set (0.00 sec)"
      ]
     },
     "execution_count": 27,
     "metadata": {},
     "output_type": "execute_result"
    }
   ],
   "source": [
    "SELECT COUNT(points) AS number_of_players_with_scoring_record\n",
    "  FROM career_summaries;"
   ]
  },
  {
   "cell_type": "markdown",
   "metadata": {
    "slideshow": {
     "slide_type": "subslide"
    }
   },
   "source": [
    "## How to count the number of columns of a table?"
   ]
  },
  {
   "cell_type": "markdown",
   "metadata": {
    "slideshow": {
     "slide_type": "subslide"
    }
   },
   "source": [
    "## Using metadata!"
   ]
  },
  {
   "cell_type": "code",
   "execution_count": 28,
   "metadata": {
    "slideshow": {
     "slide_type": "-"
    }
   },
   "outputs": [
    {
     "data": {
      "text/html": [
       "<table>\n",
       "<tr>\n",
       "<th>COUNT(*)</th>\n",
       "</tr>\n",
       "<tr>\n",
       "<td>12</td>\n",
       "</tr>\n",
       "</table>\n",
       "1 row in set (0.00 sec)"
      ],
      "text/plain": [
       "+----------+\n",
       "| COUNT(*) |\n",
       "+----------+\n",
       "| 12       |\n",
       "+----------+\n",
       "1 row in set (0.00 sec)"
      ]
     },
     "execution_count": 28,
     "metadata": {},
     "output_type": "execute_result"
    }
   ],
   "source": [
    "SELECT COUNT(*)\n",
    "  FROM PRAGMA_TABLE_INFO('teams');"
   ]
  },
  {
   "cell_type": "markdown",
   "metadata": {
    "slideshow": {
     "slide_type": "subslide"
    }
   },
   "source": [
    "## Finding maximum and minimum values"
   ]
  },
  {
   "cell_type": "code",
   "execution_count": 29,
   "metadata": {
    "slideshow": {
     "slide_type": "-"
    }
   },
   "outputs": [
    {
     "data": {
      "text/html": [
       "<table>\n",
       "<tr>\n",
       "<th>MAX(heightMeters)</th>\n",
       "<th>MIN(heightMeters)</th>\n",
       "</tr>\n",
       "<tr>\n",
       "<td>2.26</td>\n",
       "<td>1.78</td>\n",
       "</tr>\n",
       "</table>\n",
       "1 row in set (0.00 sec)"
      ],
      "text/plain": [
       "+-------------------+-------------------+\n",
       "| MAX(heightMeters) | MIN(heightMeters) |\n",
       "+-------------------+-------------------+\n",
       "| 2.26              | 1.78              |\n",
       "+-------------------+-------------------+\n",
       "1 row in set (0.00 sec)"
      ]
     },
     "execution_count": 29,
     "metadata": {},
     "output_type": "execute_result"
    }
   ],
   "source": [
    "SELECT MAX(heightMeters),\n",
    "       MIN(heightMeters)\n",
    "  FROM players;"
   ]
  },
  {
   "cell_type": "markdown",
   "metadata": {
    "slideshow": {
     "slide_type": "subslide"
    }
   },
   "source": [
    "## Common aggregate functions in SQLite\n",
    "\n",
    "<https://sqlite.org/lang_aggfunc.html>"
   ]
  },
  {
   "cell_type": "markdown",
   "metadata": {
    "slideshow": {
     "slide_type": "subslide"
    }
   },
   "source": [
    "## Aggregating data using `GROUP BY`\n",
    "\n",
    "`GROUP BY` on its own, eliminates duplicate values from the results, similar to the combination of `DISTINCT` and `ORDER BY`."
   ]
  },
  {
   "cell_type": "code",
   "execution_count": 30,
   "metadata": {
    "slideshow": {
     "slide_type": "subslide"
    }
   },
   "outputs": [
    {
     "data": {
      "text/html": [
       "<table>\n",
       "<tr>\n",
       "<th>confName</th>\n",
       "<th>divName</th>\n",
       "</tr>\n",
       "<tr>\n",
       "<td>East</td>\n",
       "<td>Atlantic</td>\n",
       "</tr>\n",
       "<tr>\n",
       "<td>East</td>\n",
       "<td>Central</td>\n",
       "</tr>\n",
       "<tr>\n",
       "<td>East</td>\n",
       "<td>Southeast</td>\n",
       "</tr>\n",
       "<tr>\n",
       "<td>West</td>\n",
       "<td>Northwest</td>\n",
       "</tr>\n",
       "<tr>\n",
       "<td>West</td>\n",
       "<td>Pacific</td>\n",
       "</tr>\n",
       "<tr>\n",
       "<td>West</td>\n",
       "<td>Southwest</td>\n",
       "</tr>\n",
       "</table>\n",
       "6 rows in set (0.00 sec)"
      ],
      "text/plain": [
       "+----------+-----------+\n",
       "| confName | divName   |\n",
       "+----------+-----------+\n",
       "| East     | Atlantic  |\n",
       "+----------+-----------+\n",
       "| East     | Central   |\n",
       "+----------+-----------+\n",
       "| East     | Southeast |\n",
       "+----------+-----------+\n",
       "| West     | Northwest |\n",
       "+----------+-----------+\n",
       "| West     | Pacific   |\n",
       "+----------+-----------+\n",
       "| West     | Southwest |\n",
       "+----------+-----------+\n",
       "6 rows in set (0.00 sec)"
      ]
     },
     "execution_count": 30,
     "metadata": {},
     "output_type": "execute_result"
    }
   ],
   "source": [
    "SELECT DISTINCT confName,\n",
    "       divName\n",
    "  FROM teams\n",
    " ORDER BY confName,\n",
    "          divName;"
   ]
  },
  {
   "cell_type": "code",
   "execution_count": 31,
   "metadata": {
    "slideshow": {
     "slide_type": "subslide"
    }
   },
   "outputs": [
    {
     "data": {
      "text/html": [
       "<table>\n",
       "<tr>\n",
       "<th>confName</th>\n",
       "<th>divName</th>\n",
       "</tr>\n",
       "<tr>\n",
       "<td>East</td>\n",
       "<td>Atlantic</td>\n",
       "</tr>\n",
       "<tr>\n",
       "<td>East</td>\n",
       "<td>Central</td>\n",
       "</tr>\n",
       "<tr>\n",
       "<td>East</td>\n",
       "<td>Southeast</td>\n",
       "</tr>\n",
       "<tr>\n",
       "<td>West</td>\n",
       "<td>Northwest</td>\n",
       "</tr>\n",
       "<tr>\n",
       "<td>West</td>\n",
       "<td>Pacific</td>\n",
       "</tr>\n",
       "<tr>\n",
       "<td>West</td>\n",
       "<td>Southwest</td>\n",
       "</tr>\n",
       "</table>\n",
       "6 rows in set (0.00 sec)"
      ],
      "text/plain": [
       "+----------+-----------+\n",
       "| confName | divName   |\n",
       "+----------+-----------+\n",
       "| East     | Atlantic  |\n",
       "+----------+-----------+\n",
       "| East     | Central   |\n",
       "+----------+-----------+\n",
       "| East     | Southeast |\n",
       "+----------+-----------+\n",
       "| West     | Northwest |\n",
       "+----------+-----------+\n",
       "| West     | Pacific   |\n",
       "+----------+-----------+\n",
       "| West     | Southwest |\n",
       "+----------+-----------+\n",
       "6 rows in set (0.00 sec)"
      ]
     },
     "execution_count": 31,
     "metadata": {},
     "output_type": "execute_result"
    }
   ],
   "source": [
    "SELECT confName,\n",
    "       divName\n",
    "  FROM teams\n",
    " GROUP BY confName,\n",
    "          divName;"
   ]
  },
  {
   "cell_type": "markdown",
   "metadata": {
    "slideshow": {
     "slide_type": "subslide"
    }
   },
   "source": [
    "## Combining `GROUP BY` with `COUNT`"
   ]
  },
  {
   "cell_type": "code",
   "execution_count": 32,
   "metadata": {
    "slideshow": {
     "slide_type": "-"
    }
   },
   "outputs": [
    {
     "data": {
      "text/html": [
       "<table>\n",
       "<tr>\n",
       "<th>country</th>\n",
       "<th>COUNT(*)</th>\n",
       "</tr>\n",
       "<tr>\n",
       "<td>USA</td>\n",
       "<td>377</td>\n",
       "</tr>\n",
       "<tr>\n",
       "<td>Canada</td>\n",
       "<td>18</td>\n",
       "</tr>\n",
       "<tr>\n",
       "<td>France</td>\n",
       "<td>12</td>\n",
       "</tr>\n",
       "<tr>\n",
       "<td>Australia</td>\n",
       "<td>9</td>\n",
       "</tr>\n",
       "<tr>\n",
       "<td>Serbia</td>\n",
       "<td>6</td>\n",
       "</tr>\n",
       "</table>\n",
       "5 rows in set (0.00 sec)"
      ],
      "text/plain": [
       "+-----------+----------+\n",
       "| country   | COUNT(*) |\n",
       "+-----------+----------+\n",
       "| USA       | 377      |\n",
       "+-----------+----------+\n",
       "| Canada    | 18       |\n",
       "+-----------+----------+\n",
       "| France    | 12       |\n",
       "+-----------+----------+\n",
       "| Australia | 9        |\n",
       "+-----------+----------+\n",
       "| Serbia    | 6        |\n",
       "+-----------+----------+\n",
       "5 rows in set (0.00 sec)"
      ]
     },
     "execution_count": 32,
     "metadata": {},
     "output_type": "execute_result"
    }
   ],
   "source": [
    "SELECT country,\n",
    "       COUNT(*)\n",
    "  FROM players\n",
    " GROUP BY country\n",
    " ORDER BY COUNT(*) DESC\n",
    " LIMIT 5;"
   ]
  },
  {
   "cell_type": "markdown",
   "metadata": {
    "slideshow": {
     "slide_type": "subslide"
    }
   },
   "source": [
    "## Combining `GROUP BY` with `AVG`"
   ]
  },
  {
   "cell_type": "code",
   "execution_count": 33,
   "metadata": {
    "slideshow": {
     "slide_type": "skip"
    }
   },
   "outputs": [
    {
     "data": {
      "text/html": [
       "<table>\n",
       "<tr>\n",
       "<th>pos</th>\n",
       "<th>avgHeightMeters</th>\n",
       "</tr>\n",
       "<tr>\n",
       "<td>G</td>\n",
       "<td>1.91</td>\n",
       "</tr>\n",
       "<tr>\n",
       "<td>G-F</td>\n",
       "<td>1.98</td>\n",
       "</tr>\n",
       "<tr>\n",
       "<td>F-G</td>\n",
       "<td>2.0</td>\n",
       "</tr>\n",
       "<tr>\n",
       "<td>F</td>\n",
       "<td>2.02</td>\n",
       "</tr>\n",
       "<tr>\n",
       "<td>F-C</td>\n",
       "<td>2.08</td>\n",
       "</tr>\n",
       "<tr>\n",
       "<td>C-F</td>\n",
       "<td>2.1</td>\n",
       "</tr>\n",
       "<tr>\n",
       "<td>C</td>\n",
       "<td>2.12</td>\n",
       "</tr>\n",
       "</table>\n",
       "7 rows in set (0.00 sec)"
      ],
      "text/plain": [
       "+-----+-----------------+\n",
       "| pos | avgHeightMeters |\n",
       "+-----+-----------------+\n",
       "| G   | 1.91            |\n",
       "+-----+-----------------+\n",
       "| G-F | 1.98            |\n",
       "+-----+-----------------+\n",
       "| F-G | 2.0             |\n",
       "+-----+-----------------+\n",
       "| F   | 2.02            |\n",
       "+-----+-----------------+\n",
       "| F-C | 2.08            |\n",
       "+-----+-----------------+\n",
       "| C-F | 2.1             |\n",
       "+-----+-----------------+\n",
       "| C   | 2.12            |\n",
       "+-----+-----------------+\n",
       "7 rows in set (0.00 sec)"
      ]
     },
     "execution_count": 33,
     "metadata": {},
     "output_type": "execute_result"
    }
   ],
   "source": [
    "SELECT pos,\n",
    "       ROUND(AVG(heightMeters), 2) AS avgHeightMeters\n",
    "  FROM players\n",
    " GROUP BY pos\n",
    " ORDER BY avgHeightMeters;"
   ]
  },
  {
   "cell_type": "markdown",
   "metadata": {
    "slideshow": {
     "slide_type": "subslide"
    }
   },
   "source": [
    "## Filtering an aggregate query using `HAVING`\n",
    "\n",
    "We are already familiar with using `WHERE` for filtering, but aggregate functions can’t be used within a `WHERE` clause because they operate at the row level, and aggregate functions work across rows."
   ]
  },
  {
   "cell_type": "markdown",
   "metadata": {
    "slideshow": {
     "slide_type": "subslide"
    }
   },
   "source": [
    "## Combining `GROUP BY`, `COUNT`, and `HAVING`"
   ]
  },
  {
   "cell_type": "code",
   "execution_count": 34,
   "metadata": {
    "slideshow": {
     "slide_type": "-"
    }
   },
   "outputs": [
    {
     "data": {
      "text/html": [
       "<table>\n",
       "<tr>\n",
       "<th>country</th>\n",
       "<th>COUNT(*)</th>\n",
       "</tr>\n",
       "<tr>\n",
       "<td>USA</td>\n",
       "<td>377</td>\n",
       "</tr>\n",
       "<tr>\n",
       "<td>Canada</td>\n",
       "<td>18</td>\n",
       "</tr>\n",
       "<tr>\n",
       "<td>France</td>\n",
       "<td>12</td>\n",
       "</tr>\n",
       "<tr>\n",
       "<td>Australia</td>\n",
       "<td>9</td>\n",
       "</tr>\n",
       "<tr>\n",
       "<td>Serbia</td>\n",
       "<td>6</td>\n",
       "</tr>\n",
       "<tr>\n",
       "<td>Germany</td>\n",
       "<td>6</td>\n",
       "</tr>\n",
       "<tr>\n",
       "<td>Turkey</td>\n",
       "<td>4</td>\n",
       "</tr>\n",
       "<tr>\n",
       "<td>Spain</td>\n",
       "<td>4</td>\n",
       "</tr>\n",
       "<tr>\n",
       "<td>Croatia</td>\n",
       "<td>4</td>\n",
       "</tr>\n",
       "</table>\n",
       "9 rows in set (0.00 sec)"
      ],
      "text/plain": [
       "+-----------+----------+\n",
       "| country   | COUNT(*) |\n",
       "+-----------+----------+\n",
       "| USA       | 377      |\n",
       "+-----------+----------+\n",
       "| Canada    | 18       |\n",
       "+-----------+----------+\n",
       "| France    | 12       |\n",
       "+-----------+----------+\n",
       "| Australia | 9        |\n",
       "+-----------+----------+\n",
       "| Serbia    | 6        |\n",
       "+-----------+----------+\n",
       "| Germany   | 6        |\n",
       "+-----------+----------+\n",
       "| Turkey    | 4        |\n",
       "+-----------+----------+\n",
       "| Spain     | 4        |\n",
       "+-----------+----------+\n",
       "| Croatia   | 4        |\n",
       "+-----------+----------+\n",
       "9 rows in set (0.00 sec)"
      ]
     },
     "execution_count": 34,
     "metadata": {},
     "output_type": "execute_result"
    }
   ],
   "source": [
    "SELECT country,\n",
    "       COUNT(*)\n",
    "  FROM players\n",
    " GROUP BY country\n",
    "HAVING COUNT(*) >= 4\n",
    " ORDER BY COUNT(*) DESC;"
   ]
  },
  {
   "cell_type": "markdown",
   "metadata": {
    "slideshow": {
     "slide_type": "subslide"
    }
   },
   "source": [
    "## Combining `GROUP BY`, `AVG`, and `HAVING`"
   ]
  },
  {
   "cell_type": "code",
   "execution_count": 35,
   "metadata": {
    "slideshow": {
     "slide_type": "-"
    }
   },
   "outputs": [
    {
     "data": {
      "text/html": [
       "<table>\n",
       "<tr>\n",
       "<th>pos</th>\n",
       "<th>avgHeightMeters</th>\n",
       "</tr>\n",
       "<tr>\n",
       "<td>F</td>\n",
       "<td>2.02</td>\n",
       "</tr>\n",
       "<tr>\n",
       "<td>F-C</td>\n",
       "<td>2.08</td>\n",
       "</tr>\n",
       "<tr>\n",
       "<td>C-F</td>\n",
       "<td>2.1</td>\n",
       "</tr>\n",
       "<tr>\n",
       "<td>C</td>\n",
       "<td>2.12</td>\n",
       "</tr>\n",
       "</table>\n",
       "4 rows in set (0.00 sec)"
      ],
      "text/plain": [
       "+-----+-----------------+\n",
       "| pos | avgHeightMeters |\n",
       "+-----+-----------------+\n",
       "| F   | 2.02            |\n",
       "+-----+-----------------+\n",
       "| F-C | 2.08            |\n",
       "+-----+-----------------+\n",
       "| C-F | 2.1             |\n",
       "+-----+-----------------+\n",
       "| C   | 2.12            |\n",
       "+-----+-----------------+\n",
       "4 rows in set (0.00 sec)"
      ]
     },
     "execution_count": 35,
     "metadata": {},
     "output_type": "execute_result"
    }
   ],
   "source": [
    "SELECT pos,\n",
    "       ROUND(AVG(heightMeters), 2) AS avgHeightMeters\n",
    "  FROM players\n",
    " GROUP BY pos\n",
    "HAVING ROUND(AVG(heightMeters), 2) > 2\n",
    " ORDER BY avgHeightMeters;"
   ]
  },
  {
   "cell_type": "markdown",
   "metadata": {
    "slideshow": {
     "slide_type": "subslide"
    }
   },
   "source": [
    "## Putting what we have so far all together\n",
    "\n",
    "SQL is about the order of keywords, so follow this convention:\n",
    "\n",
    "```sql\n",
    "SELECT column_names\n",
    "  FROM table_name\n",
    " WHERE conditions\n",
    " GROUP BY column_names\n",
    "HAVING aggregate conditions\n",
    " ORDER BY column_names;\n",
    "```"
   ]
  }
 ],
 "metadata": {
  "celltoolbar": "Slideshow",
  "kernelspec": {
   "display_name": "xsql",
   "language": "sqlite",
   "name": "xsql"
  },
  "language_info": {
   "codemirror_mode": "sql",
   "file_extension": "",
   "mimetype": "",
   "name": "mysql",
   "version": "0.0.8"
  }
 },
 "nbformat": 4,
 "nbformat_minor": 4
}
