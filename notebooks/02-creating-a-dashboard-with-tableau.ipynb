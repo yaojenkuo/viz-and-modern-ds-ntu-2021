{
 "cells": [
  {
   "cell_type": "markdown",
   "metadata": {
    "slideshow": {
     "slide_type": "slide"
    }
   },
   "source": [
    "# Visualization and Modern Data Science\n",
    "\n",
    "> Creating a Dashboard with Tableau\n",
    "\n",
    "Kuo, Yao-Jen <yaojenkuo@ntu.edu.tw> from [DATAINPOINT](https://www.datainpoint.com)"
   ]
  },
  {
   "cell_type": "markdown",
   "metadata": {
    "slideshow": {
     "slide_type": "slide"
    }
   },
   "source": [
    "## Creating More Plots with Tableau"
   ]
  },
  {
   "cell_type": "markdown",
   "metadata": {
    "slideshow": {
     "slide_type": "subslide"
    }
   },
   "source": [
    "## In the last chapter, we've created\n",
    "\n",
    "- Bar to explore rankings\n",
    "- Scatter explore correlations\n",
    "- Histogram to explore distributions\n",
    "- Line to explore trends\n",
    "- Treemap to explore proportions\n",
    "- Symbol map or choropleth to explore values on map"
   ]
  },
  {
   "cell_type": "markdown",
   "metadata": {
    "slideshow": {
     "slide_type": "subslide"
    }
   },
   "source": [
    "## However, there are still plenty of plots that is often used for certain purposes"
   ]
  },
  {
   "cell_type": "markdown",
   "metadata": {
    "slideshow": {
     "slide_type": "subslide"
    }
   },
   "source": [
    "## Visualization requires data\n",
    "\n",
    "<https://mybinder.org/v2/gh/yaojenkuo/viz-and-modern-ds-ntu-2021/HEAD?filepath=datasets%2Fcovid19>"
   ]
  },
  {
   "cell_type": "markdown",
   "metadata": {
    "slideshow": {
     "slide_type": "subslide"
    }
   },
   "source": [
    "## Area works like line, but it involves the information of combinations"
   ]
  },
  {
   "cell_type": "markdown",
   "metadata": {
    "slideshow": {
     "slide_type": "subslide"
    }
   },
   "source": [
    "## Using area to explore trends and combination at the same time\n",
    "\n",
    "- Create another worksheet\n",
    "- Specify `time_series` as data source\n",
    "- Dragging `Date` onto Columns\n",
    "- Dragging `Confirmed` onto Rows\n",
    "- Dragging `Country Region` onto both Filters and Color\n",
    "- Click Show Me then click **area charts(continuous)**\n",
    "- Done with an area"
   ]
  },
  {
   "cell_type": "markdown",
   "metadata": {
    "slideshow": {
     "slide_type": "subslide"
    }
   },
   "source": [
    "## What about those with a (discrete) notation?\n",
    "\n",
    "- lines(discrete)\n",
    "- area charts(discrete)"
   ]
  },
  {
   "cell_type": "markdown",
   "metadata": {
    "slideshow": {
     "slide_type": "subslide"
    }
   },
   "source": [
    "## These are designed for the date variables with YYYY-MM-DD information"
   ]
  },
  {
   "cell_type": "markdown",
   "metadata": {
    "slideshow": {
     "slide_type": "subslide"
    }
   },
   "source": [
    "## Bullet works like bar, but it involves comparison between 2 measures"
   ]
  },
  {
   "cell_type": "markdown",
   "metadata": {
    "slideshow": {
     "slide_type": "subslide"
    }
   },
   "source": [
    "## Using bullet to explore the comparison between 2 measures\n",
    "\n",
    "- Create another worksheet\n",
    "- Specify `daily_report` as data source\n",
    "- Dragging `Country Region` onto both Columns and Filters\n",
    "- Dragging `Confirmed` and `Deaths` onto Rows\n",
    "- Click Show Me then click **bullet graph**\n",
    "- Done with a bullet"
   ]
  },
  {
   "cell_type": "markdown",
   "metadata": {
    "slideshow": {
     "slide_type": "subslide"
    }
   },
   "source": [
    "## Dual combination integrates a bar and a line with dual axis"
   ]
  },
  {
   "cell_type": "markdown",
   "metadata": {
    "slideshow": {
     "slide_type": "subslide"
    }
   },
   "source": [
    "## Using dual combination to explore trends with 2 measures\n",
    "\n",
    "- Create another worksheet\n",
    "- Specify `time_series` as data source\n",
    "- Dragging `Date` onto Columns\n",
    "- Dragging `Confirmed` and `Deaths` onto Rows\n",
    "- Click Show Me then click **dual combination**\n",
    "- Done with a dual combination"
   ]
  },
  {
   "cell_type": "markdown",
   "metadata": {
    "slideshow": {
     "slide_type": "subslide"
    }
   },
   "source": [
    "## Dual plots like are especially useful when the units of 2 measures are in different scales"
   ]
  },
  {
   "cell_type": "markdown",
   "metadata": {
    "slideshow": {
     "slide_type": "subslide"
    }
   },
   "source": [
    "## Packed bubble works like bar, but it involves a hierarchy feature and shows measure with the size of bubbles"
   ]
  },
  {
   "cell_type": "markdown",
   "metadata": {
    "slideshow": {
     "slide_type": "subslide"
    }
   },
   "source": [
    "## Using packed bubble to explore ranking\n",
    "\n",
    "- Create another worksheet\n",
    "- Specify `daily_report` as data source\n",
    "- Dragging `Country_Region, Province_State` onto Columns\n",
    "- Dragging `Confirmed` onto Rows\n",
    "- Click Show Me then click **packed bubbles**\n",
    "- Drilling down by clicking the plus sign next to `Country_Region, Province_State`\n",
    "- Done with a packed bubble"
   ]
  },
  {
   "cell_type": "markdown",
   "metadata": {
    "slideshow": {
     "slide_type": "subslide"
    }
   },
   "source": [
    "## Text tables display values as numbers in a table(also called cross-tabs or pivot tables)"
   ]
  },
  {
   "cell_type": "markdown",
   "metadata": {
    "slideshow": {
     "slide_type": "subslide"
    }
   },
   "source": [
    "## Using text tables to explore summarized numbers in a table\n",
    "\n",
    "- Create another worksheet\n",
    "- Specify `daily_report` as data source\n",
    "- Dragging `Confirmed`, `Deaths`, and `Recovered` onto Columns\n",
    "- Dragging `Country_Region` and `Province_State` onto Rows\n",
    "- Click Show Me then click **text table**\n",
    "- Done with a text table"
   ]
  },
  {
   "cell_type": "markdown",
   "metadata": {
    "slideshow": {
     "slide_type": "slide"
    }
   },
   "source": [
    "## Creating Calculated Fields"
   ]
  },
  {
   "cell_type": "markdown",
   "metadata": {
    "slideshow": {
     "slide_type": "subslide"
    }
   },
   "source": [
    "## Why do we need to create calculated fields?\n",
    "\n",
    "Our underlying data may not include all of the fields we need to answer the questions."
   ]
  },
  {
   "cell_type": "markdown",
   "metadata": {
    "slideshow": {
     "slide_type": "subslide"
    }
   },
   "source": [
    "## What are calculated fields, anyway?\n",
    "\n",
    "We can create new fields in Tableau using calculations and then save them as part of the data source. These fields are called calculated fields."
   ]
  },
  {
   "cell_type": "markdown",
   "metadata": {
    "slideshow": {
     "slide_type": "subslide"
    }
   },
   "source": [
    "## When to use calculated fields?\n",
    "\n",
    "- To segment data\n",
    "- To convert the data type of a field\n",
    "- To aggregate data\n",
    "- To filter results\n",
    "- To calculate ratios\n",
    "- ...etc."
   ]
  },
  {
   "cell_type": "markdown",
   "metadata": {
    "slideshow": {
     "slide_type": "subslide"
    }
   },
   "source": [
    "## What are the types of calculations?\n",
    "\n",
    "- Basic calculations\n",
    "- Table calculations\n",
    "- Using functions"
   ]
  },
  {
   "cell_type": "markdown",
   "metadata": {
    "slideshow": {
     "slide_type": "subslide"
    }
   },
   "source": [
    "## Basic calculations allow us to transform values or members at\n",
    "\n",
    "- a row-level calculation\n",
    "- an aggregate calculation"
   ]
  },
  {
   "cell_type": "markdown",
   "metadata": {
    "slideshow": {
     "slide_type": "subslide"
    }
   },
   "source": [
    "## Let's do a quick row-level calculation\n",
    "\n",
    "- Specify `daily_report` as data source\n",
    "- Analysis > Create Calculated Field\n",
    "- Enter a name for the calculated field with `Death Ratio` and a formula\n",
    "- Edit format to display percentage\n",
    "- Done with a row-level calculation"
   ]
  },
  {
   "cell_type": "markdown",
   "metadata": {
    "slideshow": {
     "slide_type": "subslide"
    }
   },
   "source": [
    "## Let's do another quick aggregate calculation\n",
    "\n",
    "- Specify `daily_report` as data source\n",
    "- Analysis > Create Calculated Field\n",
    "- Enter a name for the calculated field with `Aggregate Death Ratio` and a formula\n",
    "- Edit format to display percentage\n",
    "- Done with an aggregate calculation"
   ]
  },
  {
   "cell_type": "markdown",
   "metadata": {
    "slideshow": {
     "slide_type": "subslide"
    }
   },
   "source": [
    "## Table calculations are calculated based on what is currently in the visualization and do not consider any measures or dimensions that are filtered out of the visualization"
   ]
  },
  {
   "cell_type": "markdown",
   "metadata": {
    "slideshow": {
     "slide_type": "subslide"
    }
   },
   "source": [
    "## Let's do a quick table calculations\n",
    "\n",
    "- Specify `daily_report` as data source\n",
    "- Dragging `Confirmed` onto Columns\n",
    "- Dragging `Country/Region` onto Rows\n",
    "- Click on `SUM(Confirmed)` > Quick Table Calculation > Percent of Total\n",
    "- Done with a quick table calculation"
   ]
  },
  {
   "cell_type": "markdown",
   "metadata": {
    "slideshow": {
     "slide_type": "subslide"
    }
   },
   "source": [
    "## The building blocks of writing formula of calculated fields\n",
    "\n",
    "- Functions\n",
    "- Fields\n",
    "- Operators\n",
    "- Constants"
   ]
  },
  {
   "cell_type": "markdown",
   "metadata": {
    "slideshow": {
     "slide_type": "subslide"
    }
   },
   "source": [
    "## Using functions when creating calculated fields helps a lot\n",
    "\n",
    "Statements used to transform the values or members in a field."
   ]
  },
  {
   "cell_type": "markdown",
   "metadata": {
    "slideshow": {
     "slide_type": "subslide"
    }
   },
   "source": [
    "## Tableau supports many functions including\n",
    "\n",
    "- Universal Functions\n",
    "    - [Number Functions](https://help.tableau.com/current/pro/desktop/en-us/functions_functions_number.htm)\n",
    "    - [String Functions](https://help.tableau.com/current/pro/desktop/en-us/functions_functions_string.htm)\n",
    "    - [Date Functions](https://help.tableau.com/current/pro/desktop/en-us/functions_functions_date.htm)\n",
    "    - [Type Conversion](https://help.tableau.com/current/pro/desktop/en-us/functions_functions_typeconversion.htm)\n",
    "    - [Logical Functions](https://help.tableau.com/current/pro/desktop/en-us/functions_functions_logical.htm)\n",
    "    - ...etc.\n",
    "- [Aggregate Functions](https://help.tableau.com/current/pro/desktop/en-us/calculations_calculatedfields_aggregate_create.htm)"
   ]
  },
  {
   "cell_type": "markdown",
   "metadata": {
    "slideshow": {
     "slide_type": "slide"
    }
   },
   "source": [
    "## The Johns Hopkins Coronavirus Dashboard"
   ]
  },
  {
   "cell_type": "markdown",
   "metadata": {
    "slideshow": {
     "slide_type": "subslide"
    }
   },
   "source": [
    "## Visual dashboards\n",
    "\n",
    "- [Desktop version](https://www.arcgis.com/apps/opsdashboard/index.html#/bda7594740fd40299423467b48e9ecf6)\n",
    "- [Mobile version](http://www.arcgis.com/apps/opsdashboard/index.html#/85320e2ea5424dfaaa75ae62e5c06e61)"
   ]
  },
  {
   "cell_type": "markdown",
   "metadata": {
    "slideshow": {
     "slide_type": "subslide"
    }
   },
   "source": [
    "## Who started the dashboard?\n",
    "\n",
    "Professor [Lauren Gardner](https://systems.jhu.edu/about/team/), a civil and systems engineering professor at Johns Hopkins University, built the dashboard with her graduate student, Ensheng Dong. It is maintained at the Center for Systems Science and Engineering at the Whiting School of Engineering, with technical support from ESRI and the Johns Hopkins University Applied Physics Laboratory."
   ]
  },
  {
   "cell_type": "markdown",
   "metadata": {
    "slideshow": {
     "slide_type": "subslide"
    }
   },
   "source": [
    "## When and why was this dashboard started?\n",
    "\n",
    "The dashboard was first shared publicly on Jan. 22. It was developed to provide researchers, public health authorities, and the general public with a user-friendly tool to track the outbreak as it unfolds. All data collected and displayed are made freely available through a [GitHub repository](https://github.com/CSSEGISandData/COVID-19)."
   ]
  },
  {
   "cell_type": "markdown",
   "metadata": {
    "slideshow": {
     "slide_type": "subslide"
    }
   },
   "source": [
    "## First thing first, let's tear it apart\n",
    "\n",
    "- [Data sources](https://github.com/CSSEGISandData/COVID-19/tree/master/csse_covid_19_data)\n",
    "    - Time series\n",
    "    - Daily reports\n",
    "- Plots\n",
    "    - Text tables\n",
    "    - Symbol map\n",
    "    - Line\n",
    "    - Bar"
   ]
  },
  {
   "cell_type": "markdown",
   "metadata": {
    "slideshow": {
     "slide_type": "subslide"
    }
   },
   "source": [
    "## Using text table to create `Total Confirmed`, `Total Recovered`, and `Total Deaths`\n",
    "\n",
    "- Create another worksheet\n",
    "- Specify `daily_report` as data source\n",
    "- Dragging `Confirmed` or `Total Recovered` or `Total Deaths` onto Columns\n",
    "- Dragging `Country_Region, Province_State` onto Rows\n",
    "- Click Show Me then click **text table**\n",
    "- Sort descendingly\n",
    "- Add `Grand Total` at the top"
   ]
  },
  {
   "cell_type": "markdown",
   "metadata": {
    "slideshow": {
     "slide_type": "subslide"
    }
   },
   "source": [
    "## Analysis > Totals, and then select Column Totals to Top\n",
    "\n",
    "![Imgur](https://i.imgur.com/J4RPKiz.png)"
   ]
  },
  {
   "cell_type": "markdown",
   "metadata": {
    "slideshow": {
     "slide_type": "subslide"
    }
   },
   "source": [
    "## Creating symbol map with latitudes and longitudes\n",
    "\n",
    "- Create another worksheet\n",
    "- Specify `daily_report` as data source\n",
    "- Convert `Lat` to geographical role `Latitude`\n",
    "- Convert `Long` to geographical role `Longitude`\n",
    "- Dragging `Long` onto Columns, `Lat` onto Rows\n",
    "- Replace `Measure` with `Dimension`\n",
    "- Dragging `Confirmed`, `Incidence Rate`, and `Case Fatality Ratio` onto Size, respectively\n",
    "- Dragging `Combined Key` onto Label\n",
    "- Adjust size slider for our preference"
   ]
  },
  {
   "cell_type": "markdown",
   "metadata": {
    "slideshow": {
     "slide_type": "subslide"
    }
   },
   "source": [
    "## Creating line with log cases\n",
    "\n",
    "- Create another worksheet\n",
    "- Specify `time_series` as data source\n",
    "- Dragging `Date` onto Columns\n",
    "- Dragging `Confirmed` onto Rows\n",
    "- Color > Adjust marker\n",
    "- Edit Axis with Logarithmic Scale"
   ]
  },
  {
   "cell_type": "markdown",
   "metadata": {
    "slideshow": {
     "slide_type": "subslide"
    }
   },
   "source": [
    "## Creating bar with daily_cases/daily_deaths\n",
    "\n",
    "- Create another worksheet\n",
    "- Specify `time_series` as data source\n",
    "- Dragging `Date` onto Columns\n",
    "- Dragging `Daily_Cases`/`Daily_Deaths` onto Rows, respectively\n",
    "- On `Marks` menu, replace `Automatic` with `Bar`"
   ]
  },
  {
   "cell_type": "markdown",
   "metadata": {
    "slideshow": {
     "slide_type": "subslide"
    }
   },
   "source": [
    "## Create a dashboard by clicking New Dashboard\n",
    "\n",
    "Adjust size for a preferred resolution."
   ]
  },
  {
   "cell_type": "markdown",
   "metadata": {
    "slideshow": {
     "slide_type": "subslide"
    }
   },
   "source": [
    "## Use containers and blanks to arrange our dashboard layout\n",
    "\n",
    "- Containers\n",
    "    - Horizontal\n",
    "    - Vertical\n",
    "- Blanks"
   ]
  },
  {
   "cell_type": "markdown",
   "metadata": {
    "slideshow": {
     "slide_type": "subslide"
    }
   },
   "source": [
    "## Dragging in sheets to make a good-looking dashboard\n",
    "\n",
    "![Imgur](https://i.imgur.com/hiz0Jpf.png?1)"
   ]
  },
  {
   "cell_type": "markdown",
   "metadata": {
    "slideshow": {
     "slide_type": "subslide"
    }
   },
   "source": [
    "## Use as Filter to add interactivity\n",
    "\n",
    "![Imgur](https://i.imgur.com/nrQBUV5.png?1)"
   ]
  },
  {
   "cell_type": "markdown",
   "metadata": {
    "slideshow": {
     "slide_type": "subslide"
    }
   },
   "source": [
    "## You can now publish your own dashboard on our site\n",
    "\n",
    "![img](https://i.imgur.com/HuKkK0p.png?1)"
   ]
  },
  {
   "cell_type": "markdown",
   "metadata": {
    "slideshow": {
     "slide_type": "subslide"
    }
   },
   "source": [
    "## Homework 1: Your own Coronavirus Dashboard\n",
    "\n",
    "- (Required)Upload your `.twb` file to [CEIBA](https://ceiba.ntu.edu.tw/) before deadline\n",
    "- (Optional)Upload your `.twb` file to our Tableau Server\n",
    "\n",
    "![img](https://i.imgur.com/lGmDJka.png?1)"
   ]
  }
 ],
 "metadata": {
  "celltoolbar": "Slideshow",
  "kernelspec": {
   "display_name": "Python 3",
   "language": "python",
   "name": "python3"
  },
  "language_info": {
   "codemirror_mode": {
    "name": "ipython",
    "version": 3
   },
   "file_extension": ".py",
   "mimetype": "text/x-python",
   "name": "python",
   "nbconvert_exporter": "python",
   "pygments_lexer": "ipython3",
   "version": "3.8.5"
  }
 },
 "nbformat": 4,
 "nbformat_minor": 4
}
