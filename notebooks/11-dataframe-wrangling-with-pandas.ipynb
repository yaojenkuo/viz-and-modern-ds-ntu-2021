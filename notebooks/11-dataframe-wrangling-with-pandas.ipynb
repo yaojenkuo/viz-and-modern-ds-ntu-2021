{
 "cells": [
  {
   "cell_type": "markdown",
   "metadata": {
    "slideshow": {
     "slide_type": "slide"
    }
   },
   "source": [
    "# Visualization and Modern Data Science\n",
    "\n",
    "> Dataframe Wrangling with Pandas\n",
    "\n",
    "Kuo, Yao-Jen <yaojenkuo@ntu.edu.tw> from [DATAINPOINT](https://www.datainpoint.com/)"
   ]
  },
  {
   "cell_type": "code",
   "execution_count": 1,
   "metadata": {
    "slideshow": {
     "slide_type": "skip"
    }
   },
   "outputs": [],
   "source": [
    "from datetime import date\n",
    "from datetime import timedelta\n",
    "from urllib.error import HTTPError"
   ]
  },
  {
   "cell_type": "markdown",
   "metadata": {
    "slideshow": {
     "slide_type": "slide"
    }
   },
   "source": [
    "## About `pandas`"
   ]
  },
  {
   "cell_type": "markdown",
   "metadata": {
    "slideshow": {
     "slide_type": "subslide"
    }
   },
   "source": [
    "## What is `pandas`?\n",
    "\n",
    "> Flexible and powerful data analysis / manipulation library for Python, providing labeled data structures similar to R data.frame objects, statistical functions, and much more.\n",
    "\n",
    "Source: <https://github.com/pandas-dev/pandas>"
   ]
  },
  {
   "cell_type": "markdown",
   "metadata": {
    "slideshow": {
     "slide_type": "subslide"
    }
   },
   "source": [
    "## Why `pandas`?\n",
    "\n",
    "Python used to have a weak spot in its analysis capability due to it did not have an appropriate structure handling the common tabular datasets. Pythonists had to switch to a more data-centric language like R or Matlab during the analysis stage until the presence of `pandas`."
   ]
  },
  {
   "cell_type": "markdown",
   "metadata": {
    "slideshow": {
     "slide_type": "subslide"
    }
   },
   "source": [
    "## Import Pandas with `import` command\n",
    "\n",
    "Pandas is officially aliased as `pd`."
   ]
  },
  {
   "cell_type": "code",
   "execution_count": 2,
   "metadata": {},
   "outputs": [],
   "source": [
    "import pandas as pd"
   ]
  },
  {
   "cell_type": "markdown",
   "metadata": {
    "slideshow": {
     "slide_type": "subslide"
    }
   },
   "source": [
    "## If Pandas is not installed, we will encounter a `ModuleNotFoundError`\n",
    "\n",
    "```\n",
    "Traceback (most recent call last):\n",
    "  File \"<stdin>\", line 1, in <module>\n",
    "ModuleNotFoundError: No module named 'pandas'\n",
    "```"
   ]
  },
  {
   "cell_type": "markdown",
   "metadata": {
    "slideshow": {
     "slide_type": "subslide"
    }
   },
   "source": [
    "## Use `pip install` at Terminal to install pandas\n",
    "\n",
    "```bash\n",
    "pip install pandas\n",
    "```"
   ]
  },
  {
   "cell_type": "markdown",
   "metadata": {
    "slideshow": {
     "slide_type": "subslide"
    }
   },
   "source": [
    "## Check version and its installation file path\n",
    "\n",
    "- `__version__` attribute\n",
    "- `__file__` attribute"
   ]
  },
  {
   "cell_type": "code",
   "execution_count": 3,
   "metadata": {},
   "outputs": [
    {
     "name": "stdout",
     "output_type": "stream",
     "text": [
      "1.1.3\n",
      "/opt/conda/lib/python3.8/site-packages/pandas/__init__.py\n"
     ]
    }
   ],
   "source": [
    "print(pd.__version__)\n",
    "print(pd.__file__)"
   ]
  },
  {
   "cell_type": "markdown",
   "metadata": {
    "slideshow": {
     "slide_type": "subslide"
    }
   },
   "source": [
    "## What does `pandas` mean?\n",
    "\n",
    "![](https://media.giphy.com/media/46Zj6ze2Z2t4k/giphy.gif)\n",
    "\n",
    "Source: <https://giphy.com/>"
   ]
  },
  {
   "cell_type": "markdown",
   "metadata": {
    "slideshow": {
     "slide_type": "subslide"
    }
   },
   "source": [
    "## Turns out its naming has nothing to do with panda the animal, it refers to three primary class customed by its author [Wes McKinney](https://wesmckinney.com/)\n",
    "\n",
    "- **Pan**el(Deprecated since version 0.20.0)\n",
    "- **Da**taFrame\n",
    "- **S**eries"
   ]
  },
  {
   "cell_type": "markdown",
   "metadata": {
    "slideshow": {
     "slide_type": "subslide"
    }
   },
   "source": [
    "## In order to master `pandas`, it is vital to understand the relationships between `Index`, `ndarray`, `Series`, and `DataFrame`\n",
    "\n",
    "- An `Index` and a `ndarray` assembles a `Series`\n",
    "- A couple of `Series` that sharing the same `Index` can then form a `DataFrame`"
   ]
  },
  {
   "cell_type": "markdown",
   "metadata": {
    "slideshow": {
     "slide_type": "subslide"
    }
   },
   "source": [
    "## `Index` from Pandas\n",
    "\n",
    "The simpliest way to create an `Index` is using `pd.Index()`."
   ]
  },
  {
   "cell_type": "code",
   "execution_count": 4,
   "metadata": {},
   "outputs": [
    {
     "name": "stdout",
     "output_type": "stream",
     "text": [
      "<class 'pandas.core.indexes.numeric.Int64Index'>\n"
     ]
    }
   ],
   "source": [
    "prime_indices = pd.Index([2, 3, 5, 7, 11, 13, 17, 19, 23, 29])\n",
    "print(type(prime_indices))"
   ]
  },
  {
   "cell_type": "markdown",
   "metadata": {
    "slideshow": {
     "slide_type": "subslide"
    }
   },
   "source": [
    "## An `Index` is like a combination of `tuple` and `set`"
   ]
  },
  {
   "cell_type": "code",
   "execution_count": 5,
   "metadata": {},
   "outputs": [
    {
     "ename": "TypeError",
     "evalue": "Index does not support mutable operations",
     "output_type": "error",
     "traceback": [
      "\u001b[0;31m---------------------------------------------------------------------------\u001b[0m",
      "\u001b[0;31mTypeError\u001b[0m                                 Traceback (most recent call last)",
      "\u001b[0;32m<ipython-input-5-10f8de95de43>\u001b[0m in \u001b[0;36m<module>\u001b[0;34m\u001b[0m\n\u001b[1;32m      1\u001b[0m \u001b[0;31m# immutable\u001b[0m\u001b[0;34m\u001b[0m\u001b[0;34m\u001b[0m\u001b[0;34m\u001b[0m\u001b[0m\n\u001b[1;32m      2\u001b[0m \u001b[0mprime_indices\u001b[0m \u001b[0;34m=\u001b[0m \u001b[0mpd\u001b[0m\u001b[0;34m.\u001b[0m\u001b[0mIndex\u001b[0m\u001b[0;34m(\u001b[0m\u001b[0;34m[\u001b[0m\u001b[0;36m2\u001b[0m\u001b[0;34m,\u001b[0m \u001b[0;36m3\u001b[0m\u001b[0;34m,\u001b[0m \u001b[0;36m5\u001b[0m\u001b[0;34m,\u001b[0m \u001b[0;36m7\u001b[0m\u001b[0;34m,\u001b[0m \u001b[0;36m11\u001b[0m\u001b[0;34m,\u001b[0m \u001b[0;36m13\u001b[0m\u001b[0;34m,\u001b[0m \u001b[0;36m17\u001b[0m\u001b[0;34m,\u001b[0m \u001b[0;36m19\u001b[0m\u001b[0;34m,\u001b[0m \u001b[0;36m23\u001b[0m\u001b[0;34m,\u001b[0m \u001b[0;36m29\u001b[0m\u001b[0;34m]\u001b[0m\u001b[0;34m)\u001b[0m\u001b[0;34m\u001b[0m\u001b[0;34m\u001b[0m\u001b[0m\n\u001b[0;32m----> 3\u001b[0;31m \u001b[0mprime_indices\u001b[0m\u001b[0;34m[\u001b[0m\u001b[0;34m-\u001b[0m\u001b[0;36m1\u001b[0m\u001b[0;34m]\u001b[0m \u001b[0;34m=\u001b[0m \u001b[0;36m31\u001b[0m\u001b[0;34m\u001b[0m\u001b[0;34m\u001b[0m\u001b[0m\n\u001b[0m",
      "\u001b[0;32m/opt/conda/lib/python3.8/site-packages/pandas/core/indexes/base.py\u001b[0m in \u001b[0;36m__setitem__\u001b[0;34m(self, key, value)\u001b[0m\n\u001b[1;32m   4079\u001b[0m \u001b[0;34m\u001b[0m\u001b[0m\n\u001b[1;32m   4080\u001b[0m     \u001b[0;32mdef\u001b[0m \u001b[0m__setitem__\u001b[0m\u001b[0;34m(\u001b[0m\u001b[0mself\u001b[0m\u001b[0;34m,\u001b[0m \u001b[0mkey\u001b[0m\u001b[0;34m,\u001b[0m \u001b[0mvalue\u001b[0m\u001b[0;34m)\u001b[0m\u001b[0;34m:\u001b[0m\u001b[0;34m\u001b[0m\u001b[0;34m\u001b[0m\u001b[0m\n\u001b[0;32m-> 4081\u001b[0;31m         \u001b[0;32mraise\u001b[0m \u001b[0mTypeError\u001b[0m\u001b[0;34m(\u001b[0m\u001b[0;34m\"Index does not support mutable operations\"\u001b[0m\u001b[0;34m)\u001b[0m\u001b[0;34m\u001b[0m\u001b[0;34m\u001b[0m\u001b[0m\n\u001b[0m\u001b[1;32m   4082\u001b[0m \u001b[0;34m\u001b[0m\u001b[0m\n\u001b[1;32m   4083\u001b[0m     \u001b[0;32mdef\u001b[0m \u001b[0m__getitem__\u001b[0m\u001b[0;34m(\u001b[0m\u001b[0mself\u001b[0m\u001b[0;34m,\u001b[0m \u001b[0mkey\u001b[0m\u001b[0;34m)\u001b[0m\u001b[0;34m:\u001b[0m\u001b[0;34m\u001b[0m\u001b[0;34m\u001b[0m\u001b[0m\n",
      "\u001b[0;31mTypeError\u001b[0m: Index does not support mutable operations"
     ]
    }
   ],
   "source": [
    "# immutable\n",
    "prime_indices = pd.Index([2, 3, 5, 7, 11, 13, 17, 19, 23, 29])\n",
    "prime_indices[-1] = 31"
   ]
  },
  {
   "cell_type": "code",
   "execution_count": 6,
   "metadata": {
    "slideshow": {
     "slide_type": "subslide"
    }
   },
   "outputs": [
    {
     "name": "stdout",
     "output_type": "stream",
     "text": [
      "Int64Index([3, 5, 7, 11, 13, 17, 19, 23, 29], dtype='int64')\n",
      "Int64Index([1, 2, 3, 5, 7, 9, 11, 13, 15, 17, 19, 21, 23, 25, 27, 29], dtype='int64')\n",
      "Int64Index([1, 2, 9, 15, 21, 25, 27], dtype='int64')\n",
      "Int64Index([2], dtype='int64')\n",
      "Int64Index([1, 9, 15, 21, 25, 27], dtype='int64')\n"
     ]
    }
   ],
   "source": [
    "# Index has the characteristics of a set\n",
    "odd_indices = pd.Index(range(1, 30, 2))\n",
    "print(prime_indices.intersection(odd_indices))         # prime_indices & odd_indices\n",
    "print(prime_indices.union(odd_indices))                # prime_indices | odd_indices\n",
    "print(prime_indices.symmetric_difference(odd_indices)) # prime_indices ^ odd_indices\n",
    "print(prime_indices.difference(odd_indices))\n",
    "print(odd_indices.difference(prime_indices))"
   ]
  },
  {
   "cell_type": "markdown",
   "metadata": {
    "slideshow": {
     "slide_type": "subslide"
    }
   },
   "source": [
    "## `Series` from Pandas\n",
    "\n",
    "The simpliest way to create an `Series` is using `pd.Series()`."
   ]
  },
  {
   "cell_type": "code",
   "execution_count": 7,
   "metadata": {},
   "outputs": [
    {
     "name": "stdout",
     "output_type": "stream",
     "text": [
      "<class 'pandas.core.series.Series'>\n"
     ]
    }
   ],
   "source": [
    "prime_series = pd.Series([2, 3, 5, 7, 11, 13, 17, 19, 23, 29])\n",
    "print(type(prime_series))"
   ]
  },
  {
   "cell_type": "markdown",
   "metadata": {
    "slideshow": {
     "slide_type": "subslide"
    }
   },
   "source": [
    "## A `Series` is a combination of `Index` and `ndarray`"
   ]
  },
  {
   "cell_type": "code",
   "execution_count": 8,
   "metadata": {},
   "outputs": [
    {
     "name": "stdout",
     "output_type": "stream",
     "text": [
      "<class 'pandas.core.indexes.range.RangeIndex'>\n",
      "<class 'numpy.ndarray'>\n"
     ]
    }
   ],
   "source": [
    "print(type(prime_series.index))\n",
    "print(type(prime_series.values))"
   ]
  },
  {
   "cell_type": "markdown",
   "metadata": {
    "slideshow": {
     "slide_type": "subslide"
    }
   },
   "source": [
    "## `DataFrame` from Pandas\n",
    "\n",
    "The simpliest way to create an `DataFrame` is using `pd.DataFrame()`."
   ]
  },
  {
   "cell_type": "code",
   "execution_count": 9,
   "metadata": {},
   "outputs": [
    {
     "name": "stdout",
     "output_type": "stream",
     "text": [
      "<class 'pandas.core.frame.DataFrame'>\n"
     ]
    }
   ],
   "source": [
    "movie_df = pd.DataFrame()\n",
    "movie_df[\"title\"] = [\"The Shawshank Redemption\", \"The Dark Knight\", \"Schindler's List\", \"Forrest Gump\", \"Inception\"]\n",
    "movie_df[\"imdb_rating\"] = [9.3, 9.0, 8.9, 8.8, 8.7]\n",
    "print(type(movie_df))"
   ]
  },
  {
   "cell_type": "markdown",
   "metadata": {
    "slideshow": {
     "slide_type": "subslide"
    }
   },
   "source": [
    "## A `DataFrame` is a combination of multiple `Series` sharing the same `Index`"
   ]
  },
  {
   "cell_type": "code",
   "execution_count": 10,
   "metadata": {},
   "outputs": [
    {
     "name": "stdout",
     "output_type": "stream",
     "text": [
      "<class 'pandas.core.indexes.range.RangeIndex'>\n",
      "<class 'pandas.core.series.Series'>\n",
      "<class 'pandas.core.series.Series'>\n"
     ]
    }
   ],
   "source": [
    "print(type(movie_df.index))\n",
    "print(type(movie_df[\"title\"]))\n",
    "print(type(movie_df[\"imdb_rating\"]))"
   ]
  },
  {
   "cell_type": "markdown",
   "metadata": {
    "slideshow": {
     "slide_type": "subslide"
    }
   },
   "source": [
    "## Review of the definition of modern data science\n",
    "\n",
    "> Modern data science is a huge field, it invovles applications and tools like importing, tidying, transformation, visualization, modeling, and communication. Surrounding all these is programming.\n",
    "\n",
    "![Imgur](https://i.imgur.com/din6Ig6.png)\n",
    "\n",
    "Source: [R for Data Science](https://r4ds.had.co.nz/)"
   ]
  },
  {
   "cell_type": "markdown",
   "metadata": {
    "slideshow": {
     "slide_type": "subslide"
    }
   },
   "source": [
    "## Key functionalities analysts rely on `pandas` are\n",
    "\n",
    "- Importing\n",
    "- Tidying\n",
    "- Transforming"
   ]
  },
  {
   "cell_type": "markdown",
   "metadata": {
    "slideshow": {
     "slide_type": "subslide"
    }
   },
   "source": [
    "## Tidying and transforming together is also known as WRANGLING\n",
    "\n",
    "![](https://media.giphy.com/media/MnlZWRFHR4xruE4N2Z/giphy.gif)\n",
    "\n",
    "Source: <https://giphy.com/>"
   ]
  },
  {
   "cell_type": "markdown",
   "metadata": {
    "slideshow": {
     "slide_type": "slide"
    }
   },
   "source": [
    "## Importing"
   ]
  },
  {
   "cell_type": "markdown",
   "metadata": {
    "slideshow": {
     "slide_type": "subslide"
    }
   },
   "source": [
    "## `pandas` has massive functions importing tabular data\n",
    "\n",
    "- Flat text file\n",
    "- Database table\n",
    "- Spreadsheet\n",
    "- JSON\n",
    "- HTML `<table></table>` tags\n",
    "- ...etc.\n",
    "\n",
    "Source: <https://pandas.pydata.org/pandas-docs/stable/user_guide/io.html>"
   ]
  },
  {
   "cell_type": "markdown",
   "metadata": {
    "slideshow": {
     "slide_type": "subslide"
    }
   },
   "source": [
    "## Using `read_csv` function for flat text files"
   ]
  },
  {
   "cell_type": "code",
   "execution_count": 11,
   "metadata": {
    "slideshow": {
     "slide_type": "-"
    }
   },
   "outputs": [],
   "source": [
    "def get_latest_daily_report():\n",
    "    today = date.today()\n",
    "    day_delta = timedelta(days=1)\n",
    "    data_date = today\n",
    "    while True:\n",
    "        data_date_str = date.strftime(data_date, '%m-%d-%Y')\n",
    "        print(\"Try importing {} data...\".format(data_date_str))\n",
    "        daily_report_url = \"https://raw.githubusercontent.com/CSSEGISandData/COVID-19/master/csse_covid_19_data/csse_covid_19_daily_reports/{}.csv\".format(data_date_str)\n",
    "        try:\n",
    "            daily_report = pd.read_csv(daily_report_url)\n",
    "            print(\"Successfully imported {} data!\".format(data_date_str))\n",
    "            break\n",
    "        except HTTPError:\n",
    "            data_date -= day_delta\n",
    "    return daily_report"
   ]
  },
  {
   "cell_type": "code",
   "execution_count": 12,
   "metadata": {
    "slideshow": {
     "slide_type": "subslide"
    }
   },
   "outputs": [
    {
     "name": "stdout",
     "output_type": "stream",
     "text": [
      "Try importing 05-05-2021 data...\n",
      "Try importing 05-04-2021 data...\n",
      "Successfully imported 05-04-2021 data!\n"
     ]
    }
   ],
   "source": [
    "daily_report = get_latest_daily_report()"
   ]
  },
  {
   "cell_type": "markdown",
   "metadata": {
    "slideshow": {
     "slide_type": "subslide"
    }
   },
   "source": [
    "## Pulling a folder of datasets in various formats\n",
    "\n",
    "[dataset-imdb-top-rated](https://lab.datainpoint.com/hub/user-redirect/git-pull?repo=https%3A%2F%2Fgithub.com%2Fdatainpoint%2Fdataset-imdb-top-rated&urlpath=tree%2Fdataset-imdb-top-rated%2F&branch=main)"
   ]
  },
  {
   "cell_type": "markdown",
   "metadata": {
    "slideshow": {
     "slide_type": "subslide"
    }
   },
   "source": [
    "## Using `read_sql` function for database tables\n",
    "\n",
    "```python\n",
    "import sqlite3\n",
    "\n",
    "conn = sqlite3.connect('YOUR_DATABASE.db')\n",
    "sql_query = \"\"\"\n",
    "SELECT * \n",
    "  FROM YOUR_TABLE\n",
    " LIMIT 10;\n",
    "\"\"\"\n",
    "pd.read_sql(sql_query, conn)\n",
    "```"
   ]
  },
  {
   "cell_type": "markdown",
   "metadata": {
    "slideshow": {
     "slide_type": "subslide"
    }
   },
   "source": [
    "## Using `read_excel` function for spreadsheets\n",
    "\n",
    "```python\n",
    "excel_file_path = \"PATH/TO/YOUR/EXCEL/FILE\"\n",
    "pd.read_excel(excel_file_path)\n",
    "```"
   ]
  },
  {
   "cell_type": "markdown",
   "metadata": {
    "slideshow": {
     "slide_type": "subslide"
    }
   },
   "source": [
    "## Using `read_json` function for JSON\n",
    "\n",
    "```python\n",
    "json_file_path = \"PATH/TO/YOUR/JSON/FILE\"\n",
    "pd.read_json(json_file_path)\n",
    "```"
   ]
  },
  {
   "cell_type": "markdown",
   "metadata": {
    "slideshow": {
     "slide_type": "subslide"
    }
   },
   "source": [
    "## What is JSON?\n",
    "\n",
    "> JSON (JavaScript Object Notation) is a lightweight data-interchange format. JSON is built on two structures:\n",
    ">\n",
    "> A collection of name/value pairs. In various languages, this is realized as an object, record, struct, dictionary, hash table, keyed list, or associative array. An ordered list of values. In most languages, this is realized as an array, vector, list, or sequence.\n",
    "\n",
    "Source: <https://www.json.org/json-en.html>"
   ]
  },
  {
   "cell_type": "markdown",
   "metadata": {
    "slideshow": {
     "slide_type": "subslide"
    }
   },
   "source": [
    "## Two flavors of tabular data\n",
    "\n",
    "- Row-based JSON.\n",
    "- Column-based JSON."
   ]
  },
  {
   "cell_type": "markdown",
   "metadata": {
    "slideshow": {
     "slide_type": "subslide"
    }
   },
   "source": [
    "## Using `read_html` function for HTML `<table></table>` tags\n",
    "\n",
    "> The `<table>` tag defines an HTML table. An HTML table consists of one `<table>` element and one or more `<tr>`, `<th>`, and `<td>` elements. The `<tr>` element defines a table row, the `<th>` element defines a table header, and the `<td>` element defines a table cell.\n",
    "\n",
    "Source: <https://www.w3schools.com/default.asp>"
   ]
  },
  {
   "cell_type": "code",
   "execution_count": 13,
   "metadata": {
    "slideshow": {
     "slide_type": "subslide"
    }
   },
   "outputs": [
    {
     "name": "stdout",
     "output_type": "stream",
     "text": [
      "<class 'list'>\n",
      "1\n"
     ]
    }
   ],
   "source": [
    "request_url = \"https://www.imdb.com/chart/top\"\n",
    "html_tables = pd.read_html(request_url)\n",
    "print(type(html_tables))\n",
    "print(len(html_tables))"
   ]
  },
  {
   "cell_type": "code",
   "execution_count": 14,
   "metadata": {
    "slideshow": {
     "slide_type": "subslide"
    }
   },
   "outputs": [
    {
     "data": {
      "text/html": [
       "<div>\n",
       "<style scoped>\n",
       "    .dataframe tbody tr th:only-of-type {\n",
       "        vertical-align: middle;\n",
       "    }\n",
       "\n",
       "    .dataframe tbody tr th {\n",
       "        vertical-align: top;\n",
       "    }\n",
       "\n",
       "    .dataframe thead th {\n",
       "        text-align: right;\n",
       "    }\n",
       "</style>\n",
       "<table border=\"1\" class=\"dataframe\">\n",
       "  <thead>\n",
       "    <tr style=\"text-align: right;\">\n",
       "      <th></th>\n",
       "      <th>Unnamed: 0</th>\n",
       "      <th>Rank &amp; Title</th>\n",
       "      <th>IMDb Rating</th>\n",
       "      <th>Your Rating</th>\n",
       "      <th>Unnamed: 4</th>\n",
       "    </tr>\n",
       "  </thead>\n",
       "  <tbody>\n",
       "    <tr>\n",
       "      <th>0</th>\n",
       "      <td>NaN</td>\n",
       "      <td>1.  刺激1995  (1994)</td>\n",
       "      <td>9.2</td>\n",
       "      <td>12345678910 NOT YET RELEASED  Seen</td>\n",
       "      <td>NaN</td>\n",
       "    </tr>\n",
       "    <tr>\n",
       "      <th>1</th>\n",
       "      <td>NaN</td>\n",
       "      <td>2.  教父  (1972)</td>\n",
       "      <td>9.1</td>\n",
       "      <td>12345678910 NOT YET RELEASED  Seen</td>\n",
       "      <td>NaN</td>\n",
       "    </tr>\n",
       "    <tr>\n",
       "      <th>2</th>\n",
       "      <td>NaN</td>\n",
       "      <td>3.  教父第二集  (1974)</td>\n",
       "      <td>9.0</td>\n",
       "      <td>12345678910 NOT YET RELEASED  Seen</td>\n",
       "      <td>NaN</td>\n",
       "    </tr>\n",
       "    <tr>\n",
       "      <th>3</th>\n",
       "      <td>NaN</td>\n",
       "      <td>4.  黑暗騎士  (2008)</td>\n",
       "      <td>9.0</td>\n",
       "      <td>12345678910 NOT YET RELEASED  Seen</td>\n",
       "      <td>NaN</td>\n",
       "    </tr>\n",
       "    <tr>\n",
       "      <th>4</th>\n",
       "      <td>NaN</td>\n",
       "      <td>5.  十二怒漢  (1957)</td>\n",
       "      <td>8.9</td>\n",
       "      <td>12345678910 NOT YET RELEASED  Seen</td>\n",
       "      <td>NaN</td>\n",
       "    </tr>\n",
       "    <tr>\n",
       "      <th>...</th>\n",
       "      <td>...</td>\n",
       "      <td>...</td>\n",
       "      <td>...</td>\n",
       "      <td>...</td>\n",
       "      <td>...</td>\n",
       "    </tr>\n",
       "    <tr>\n",
       "      <th>245</th>\n",
       "      <td>NaN</td>\n",
       "      <td>246.  電影版聲之形  (2016)</td>\n",
       "      <td>8.0</td>\n",
       "      <td>12345678910 NOT YET RELEASED  Seen</td>\n",
       "      <td>NaN</td>\n",
       "    </tr>\n",
       "    <tr>\n",
       "      <th>246</th>\n",
       "      <td>NaN</td>\n",
       "      <td>247.  阿爾及爾之戰  (1966)</td>\n",
       "      <td>8.0</td>\n",
       "      <td>12345678910 NOT YET RELEASED  Seen</td>\n",
       "      <td>NaN</td>\n",
       "    </tr>\n",
       "    <tr>\n",
       "      <th>247</th>\n",
       "      <td>NaN</td>\n",
       "      <td>248.  7號房的禮物  (2019)</td>\n",
       "      <td>8.0</td>\n",
       "      <td>12345678910 NOT YET RELEASED  Seen</td>\n",
       "      <td>NaN</td>\n",
       "    </tr>\n",
       "    <tr>\n",
       "      <th>248</th>\n",
       "      <td>NaN</td>\n",
       "      <td>249.  新世紀福音戰士：AIR/真心為你  (1997)</td>\n",
       "      <td>8.0</td>\n",
       "      <td>12345678910 NOT YET RELEASED  Seen</td>\n",
       "      <td>NaN</td>\n",
       "    </tr>\n",
       "    <tr>\n",
       "      <th>249</th>\n",
       "      <td>NaN</td>\n",
       "      <td>250.  紅色情深  (1994)</td>\n",
       "      <td>8.0</td>\n",
       "      <td>12345678910 NOT YET RELEASED  Seen</td>\n",
       "      <td>NaN</td>\n",
       "    </tr>\n",
       "  </tbody>\n",
       "</table>\n",
       "<p>250 rows × 5 columns</p>\n",
       "</div>"
      ],
      "text/plain": [
       "     Unnamed: 0                    Rank & Title  IMDb Rating  \\\n",
       "0           NaN              1.  刺激1995  (1994)          9.2   \n",
       "1           NaN                  2.  教父  (1972)          9.1   \n",
       "2           NaN               3.  教父第二集  (1974)          9.0   \n",
       "3           NaN                4.  黑暗騎士  (2008)          9.0   \n",
       "4           NaN                5.  十二怒漢  (1957)          8.9   \n",
       "..          ...                             ...          ...   \n",
       "245         NaN            246.  電影版聲之形  (2016)          8.0   \n",
       "246         NaN            247.  阿爾及爾之戰  (1966)          8.0   \n",
       "247         NaN            248.  7號房的禮物  (2019)          8.0   \n",
       "248         NaN  249.  新世紀福音戰士：AIR/真心為你  (1997)          8.0   \n",
       "249         NaN              250.  紅色情深  (1994)          8.0   \n",
       "\n",
       "                            Your Rating  Unnamed: 4  \n",
       "0    12345678910 NOT YET RELEASED  Seen         NaN  \n",
       "1    12345678910 NOT YET RELEASED  Seen         NaN  \n",
       "2    12345678910 NOT YET RELEASED  Seen         NaN  \n",
       "3    12345678910 NOT YET RELEASED  Seen         NaN  \n",
       "4    12345678910 NOT YET RELEASED  Seen         NaN  \n",
       "..                                  ...         ...  \n",
       "245  12345678910 NOT YET RELEASED  Seen         NaN  \n",
       "246  12345678910 NOT YET RELEASED  Seen         NaN  \n",
       "247  12345678910 NOT YET RELEASED  Seen         NaN  \n",
       "248  12345678910 NOT YET RELEASED  Seen         NaN  \n",
       "249  12345678910 NOT YET RELEASED  Seen         NaN  \n",
       "\n",
       "[250 rows x 5 columns]"
      ]
     },
     "execution_count": 14,
     "metadata": {},
     "output_type": "execute_result"
    }
   ],
   "source": [
    "html_tables[0]"
   ]
  },
  {
   "cell_type": "markdown",
   "metadata": {
    "slideshow": {
     "slide_type": "slide"
    }
   },
   "source": [
    "## Basic attributes and methods"
   ]
  },
  {
   "cell_type": "markdown",
   "metadata": {
    "slideshow": {
     "slide_type": "subslide"
    }
   },
   "source": [
    "## Basic attributes of a `DataFrame` object\n",
    "\n",
    "- `shape`\n",
    "- `dtypes`\n",
    "- `index`\n",
    "- `columns`"
   ]
  },
  {
   "cell_type": "code",
   "execution_count": 15,
   "metadata": {
    "slideshow": {
     "slide_type": "subslide"
    }
   },
   "outputs": [
    {
     "name": "stdout",
     "output_type": "stream",
     "text": [
      "(3983, 14)\n",
      "FIPS                   float64\n",
      "Admin2                  object\n",
      "Province_State          object\n",
      "Country_Region          object\n",
      "Last_Update             object\n",
      "Lat                    float64\n",
      "Long_                  float64\n",
      "Confirmed                int64\n",
      "Deaths                   int64\n",
      "Recovered              float64\n",
      "Active                 float64\n",
      "Combined_Key            object\n",
      "Incident_Rate          float64\n",
      "Case_Fatality_Ratio    float64\n",
      "dtype: object\n",
      "RangeIndex(start=0, stop=3983, step=1)\n",
      "Index(['FIPS', 'Admin2', 'Province_State', 'Country_Region', 'Last_Update',\n",
      "       'Lat', 'Long_', 'Confirmed', 'Deaths', 'Recovered', 'Active',\n",
      "       'Combined_Key', 'Incident_Rate', 'Case_Fatality_Ratio'],\n",
      "      dtype='object')\n"
     ]
    }
   ],
   "source": [
    "print(daily_report.shape)\n",
    "print(daily_report.dtypes)\n",
    "print(daily_report.index)\n",
    "print(daily_report.columns)"
   ]
  },
  {
   "cell_type": "markdown",
   "metadata": {
    "slideshow": {
     "slide_type": "subslide"
    }
   },
   "source": [
    "## Basic methods of a `DataFrame` object\n",
    "\n",
    "- `head(n)`\n",
    "- `tail(n)`\n",
    "- `describe`\n",
    "- `info`\n",
    "- `set_index`\n",
    "- `reset_index`"
   ]
  },
  {
   "cell_type": "markdown",
   "metadata": {
    "slideshow": {
     "slide_type": "subslide"
    }
   },
   "source": [
    "## `head(n)` returns the top n observations with header"
   ]
  },
  {
   "cell_type": "code",
   "execution_count": 16,
   "metadata": {
    "slideshow": {
     "slide_type": "-"
    }
   },
   "outputs": [
    {
     "data": {
      "text/html": [
       "<div>\n",
       "<style scoped>\n",
       "    .dataframe tbody tr th:only-of-type {\n",
       "        vertical-align: middle;\n",
       "    }\n",
       "\n",
       "    .dataframe tbody tr th {\n",
       "        vertical-align: top;\n",
       "    }\n",
       "\n",
       "    .dataframe thead th {\n",
       "        text-align: right;\n",
       "    }\n",
       "</style>\n",
       "<table border=\"1\" class=\"dataframe\">\n",
       "  <thead>\n",
       "    <tr style=\"text-align: right;\">\n",
       "      <th></th>\n",
       "      <th>FIPS</th>\n",
       "      <th>Admin2</th>\n",
       "      <th>Province_State</th>\n",
       "      <th>Country_Region</th>\n",
       "      <th>Last_Update</th>\n",
       "      <th>Lat</th>\n",
       "      <th>Long_</th>\n",
       "      <th>Confirmed</th>\n",
       "      <th>Deaths</th>\n",
       "      <th>Recovered</th>\n",
       "      <th>Active</th>\n",
       "      <th>Combined_Key</th>\n",
       "      <th>Incident_Rate</th>\n",
       "      <th>Case_Fatality_Ratio</th>\n",
       "    </tr>\n",
       "  </thead>\n",
       "  <tbody>\n",
       "    <tr>\n",
       "      <th>0</th>\n",
       "      <td>NaN</td>\n",
       "      <td>NaN</td>\n",
       "      <td>NaN</td>\n",
       "      <td>Afghanistan</td>\n",
       "      <td>2021-05-05 04:20:43</td>\n",
       "      <td>33.93911</td>\n",
       "      <td>67.709953</td>\n",
       "      <td>60563</td>\n",
       "      <td>2648</td>\n",
       "      <td>53694.0</td>\n",
       "      <td>4221.0</td>\n",
       "      <td>Afghanistan</td>\n",
       "      <td>155.575600</td>\n",
       "      <td>4.372307</td>\n",
       "    </tr>\n",
       "    <tr>\n",
       "      <th>1</th>\n",
       "      <td>NaN</td>\n",
       "      <td>NaN</td>\n",
       "      <td>NaN</td>\n",
       "      <td>Albania</td>\n",
       "      <td>2021-05-05 04:20:43</td>\n",
       "      <td>41.15330</td>\n",
       "      <td>20.168300</td>\n",
       "      <td>131327</td>\n",
       "      <td>2402</td>\n",
       "      <td>112626.0</td>\n",
       "      <td>16299.0</td>\n",
       "      <td>Albania</td>\n",
       "      <td>4563.451247</td>\n",
       "      <td>1.829022</td>\n",
       "    </tr>\n",
       "    <tr>\n",
       "      <th>2</th>\n",
       "      <td>NaN</td>\n",
       "      <td>NaN</td>\n",
       "      <td>NaN</td>\n",
       "      <td>Algeria</td>\n",
       "      <td>2021-05-05 04:20:43</td>\n",
       "      <td>28.03390</td>\n",
       "      <td>1.659600</td>\n",
       "      <td>122999</td>\n",
       "      <td>3289</td>\n",
       "      <td>85693.0</td>\n",
       "      <td>34017.0</td>\n",
       "      <td>Algeria</td>\n",
       "      <td>280.492758</td>\n",
       "      <td>2.674005</td>\n",
       "    </tr>\n",
       "    <tr>\n",
       "      <th>3</th>\n",
       "      <td>NaN</td>\n",
       "      <td>NaN</td>\n",
       "      <td>NaN</td>\n",
       "      <td>Andorra</td>\n",
       "      <td>2021-05-05 04:20:43</td>\n",
       "      <td>42.50630</td>\n",
       "      <td>1.521800</td>\n",
       "      <td>13316</td>\n",
       "      <td>127</td>\n",
       "      <td>12818.0</td>\n",
       "      <td>371.0</td>\n",
       "      <td>Andorra</td>\n",
       "      <td>17234.194008</td>\n",
       "      <td>0.953740</td>\n",
       "    </tr>\n",
       "    <tr>\n",
       "      <th>4</th>\n",
       "      <td>NaN</td>\n",
       "      <td>NaN</td>\n",
       "      <td>NaN</td>\n",
       "      <td>Angola</td>\n",
       "      <td>2021-05-05 04:20:43</td>\n",
       "      <td>-11.20270</td>\n",
       "      <td>17.873900</td>\n",
       "      <td>27284</td>\n",
       "      <td>609</td>\n",
       "      <td>24190.0</td>\n",
       "      <td>2485.0</td>\n",
       "      <td>Angola</td>\n",
       "      <td>83.015206</td>\n",
       "      <td>2.232077</td>\n",
       "    </tr>\n",
       "  </tbody>\n",
       "</table>\n",
       "</div>"
      ],
      "text/plain": [
       "   FIPS Admin2 Province_State Country_Region          Last_Update       Lat  \\\n",
       "0   NaN    NaN            NaN    Afghanistan  2021-05-05 04:20:43  33.93911   \n",
       "1   NaN    NaN            NaN        Albania  2021-05-05 04:20:43  41.15330   \n",
       "2   NaN    NaN            NaN        Algeria  2021-05-05 04:20:43  28.03390   \n",
       "3   NaN    NaN            NaN        Andorra  2021-05-05 04:20:43  42.50630   \n",
       "4   NaN    NaN            NaN         Angola  2021-05-05 04:20:43 -11.20270   \n",
       "\n",
       "       Long_  Confirmed  Deaths  Recovered   Active Combined_Key  \\\n",
       "0  67.709953      60563    2648    53694.0   4221.0  Afghanistan   \n",
       "1  20.168300     131327    2402   112626.0  16299.0      Albania   \n",
       "2   1.659600     122999    3289    85693.0  34017.0      Algeria   \n",
       "3   1.521800      13316     127    12818.0    371.0      Andorra   \n",
       "4  17.873900      27284     609    24190.0   2485.0       Angola   \n",
       "\n",
       "   Incident_Rate  Case_Fatality_Ratio  \n",
       "0     155.575600             4.372307  \n",
       "1    4563.451247             1.829022  \n",
       "2     280.492758             2.674005  \n",
       "3   17234.194008             0.953740  \n",
       "4      83.015206             2.232077  "
      ]
     },
     "execution_count": 16,
     "metadata": {},
     "output_type": "execute_result"
    }
   ],
   "source": [
    "daily_report.head() # n is default to 5"
   ]
  },
  {
   "cell_type": "markdown",
   "metadata": {
    "slideshow": {
     "slide_type": "subslide"
    }
   },
   "source": [
    "## `tail(n)` returns the bottom n observations with header"
   ]
  },
  {
   "cell_type": "code",
   "execution_count": 17,
   "metadata": {},
   "outputs": [
    {
     "data": {
      "text/html": [
       "<div>\n",
       "<style scoped>\n",
       "    .dataframe tbody tr th:only-of-type {\n",
       "        vertical-align: middle;\n",
       "    }\n",
       "\n",
       "    .dataframe tbody tr th {\n",
       "        vertical-align: top;\n",
       "    }\n",
       "\n",
       "    .dataframe thead th {\n",
       "        text-align: right;\n",
       "    }\n",
       "</style>\n",
       "<table border=\"1\" class=\"dataframe\">\n",
       "  <thead>\n",
       "    <tr style=\"text-align: right;\">\n",
       "      <th></th>\n",
       "      <th>FIPS</th>\n",
       "      <th>Admin2</th>\n",
       "      <th>Province_State</th>\n",
       "      <th>Country_Region</th>\n",
       "      <th>Last_Update</th>\n",
       "      <th>Lat</th>\n",
       "      <th>Long_</th>\n",
       "      <th>Confirmed</th>\n",
       "      <th>Deaths</th>\n",
       "      <th>Recovered</th>\n",
       "      <th>Active</th>\n",
       "      <th>Combined_Key</th>\n",
       "      <th>Incident_Rate</th>\n",
       "      <th>Case_Fatality_Ratio</th>\n",
       "    </tr>\n",
       "  </thead>\n",
       "  <tbody>\n",
       "    <tr>\n",
       "      <th>3980</th>\n",
       "      <td>NaN</td>\n",
       "      <td>NaN</td>\n",
       "      <td>NaN</td>\n",
       "      <td>Yemen</td>\n",
       "      <td>2021-05-05 04:20:43</td>\n",
       "      <td>15.552727</td>\n",
       "      <td>48.516388</td>\n",
       "      <td>6390</td>\n",
       "      <td>1240</td>\n",
       "      <td>2948.0</td>\n",
       "      <td>2202.0</td>\n",
       "      <td>Yemen</td>\n",
       "      <td>21.424284</td>\n",
       "      <td>19.405321</td>\n",
       "    </tr>\n",
       "    <tr>\n",
       "      <th>3981</th>\n",
       "      <td>NaN</td>\n",
       "      <td>NaN</td>\n",
       "      <td>NaN</td>\n",
       "      <td>Zambia</td>\n",
       "      <td>2021-05-05 04:20:43</td>\n",
       "      <td>-13.133897</td>\n",
       "      <td>27.849332</td>\n",
       "      <td>91804</td>\n",
       "      <td>1254</td>\n",
       "      <td>90166.0</td>\n",
       "      <td>384.0</td>\n",
       "      <td>Zambia</td>\n",
       "      <td>499.370212</td>\n",
       "      <td>1.365954</td>\n",
       "    </tr>\n",
       "    <tr>\n",
       "      <th>3982</th>\n",
       "      <td>NaN</td>\n",
       "      <td>NaN</td>\n",
       "      <td>NaN</td>\n",
       "      <td>Zimbabwe</td>\n",
       "      <td>2021-05-05 04:20:43</td>\n",
       "      <td>-19.015438</td>\n",
       "      <td>29.154857</td>\n",
       "      <td>38327</td>\n",
       "      <td>1574</td>\n",
       "      <td>35775.0</td>\n",
       "      <td>978.0</td>\n",
       "      <td>Zimbabwe</td>\n",
       "      <td>257.869799</td>\n",
       "      <td>4.106765</td>\n",
       "    </tr>\n",
       "  </tbody>\n",
       "</table>\n",
       "</div>"
      ],
      "text/plain": [
       "      FIPS Admin2 Province_State Country_Region          Last_Update  \\\n",
       "3980   NaN    NaN            NaN          Yemen  2021-05-05 04:20:43   \n",
       "3981   NaN    NaN            NaN         Zambia  2021-05-05 04:20:43   \n",
       "3982   NaN    NaN            NaN       Zimbabwe  2021-05-05 04:20:43   \n",
       "\n",
       "            Lat      Long_  Confirmed  Deaths  Recovered  Active Combined_Key  \\\n",
       "3980  15.552727  48.516388       6390    1240     2948.0  2202.0        Yemen   \n",
       "3981 -13.133897  27.849332      91804    1254    90166.0   384.0       Zambia   \n",
       "3982 -19.015438  29.154857      38327    1574    35775.0   978.0     Zimbabwe   \n",
       "\n",
       "      Incident_Rate  Case_Fatality_Ratio  \n",
       "3980      21.424284            19.405321  \n",
       "3981     499.370212             1.365954  \n",
       "3982     257.869799             4.106765  "
      ]
     },
     "execution_count": 17,
     "metadata": {},
     "output_type": "execute_result"
    }
   ],
   "source": [
    "daily_report.tail(3)"
   ]
  },
  {
   "cell_type": "markdown",
   "metadata": {
    "slideshow": {
     "slide_type": "subslide"
    }
   },
   "source": [
    "## `describe` returns the descriptive summary for numeric columns"
   ]
  },
  {
   "cell_type": "code",
   "execution_count": 18,
   "metadata": {
    "slideshow": {
     "slide_type": "-"
    }
   },
   "outputs": [
    {
     "data": {
      "text/html": [
       "<div>\n",
       "<style scoped>\n",
       "    .dataframe tbody tr th:only-of-type {\n",
       "        vertical-align: middle;\n",
       "    }\n",
       "\n",
       "    .dataframe tbody tr th {\n",
       "        vertical-align: top;\n",
       "    }\n",
       "\n",
       "    .dataframe thead th {\n",
       "        text-align: right;\n",
       "    }\n",
       "</style>\n",
       "<table border=\"1\" class=\"dataframe\">\n",
       "  <thead>\n",
       "    <tr style=\"text-align: right;\">\n",
       "      <th></th>\n",
       "      <th>FIPS</th>\n",
       "      <th>Lat</th>\n",
       "      <th>Long_</th>\n",
       "      <th>Confirmed</th>\n",
       "      <th>Deaths</th>\n",
       "      <th>Recovered</th>\n",
       "      <th>Active</th>\n",
       "      <th>Incident_Rate</th>\n",
       "      <th>Case_Fatality_Ratio</th>\n",
       "    </tr>\n",
       "  </thead>\n",
       "  <tbody>\n",
       "    <tr>\n",
       "      <th>count</th>\n",
       "      <td>3266.000000</td>\n",
       "      <td>3895.000000</td>\n",
       "      <td>3895.000000</td>\n",
       "      <td>3.983000e+03</td>\n",
       "      <td>3983.000000</td>\n",
       "      <td>7.060000e+02</td>\n",
       "      <td>7.050000e+02</td>\n",
       "      <td>3895.000000</td>\n",
       "      <td>3941.000000</td>\n",
       "    </tr>\n",
       "    <tr>\n",
       "      <th>mean</th>\n",
       "      <td>32401.272811</td>\n",
       "      <td>35.985508</td>\n",
       "      <td>-72.035523</td>\n",
       "      <td>3.875459e+04</td>\n",
       "      <td>810.343460</td>\n",
       "      <td>1.287717e+05</td>\n",
       "      <td>4.012008e+04</td>\n",
       "      <td>8688.456742</td>\n",
       "      <td>2.042321</td>\n",
       "    </tr>\n",
       "    <tr>\n",
       "      <th>std</th>\n",
       "      <td>18033.806874</td>\n",
       "      <td>13.024749</td>\n",
       "      <td>53.660228</td>\n",
       "      <td>2.128008e+05</td>\n",
       "      <td>4556.102364</td>\n",
       "      <td>3.700620e+05</td>\n",
       "      <td>2.731482e+05</td>\n",
       "      <td>3916.697250</td>\n",
       "      <td>2.781862</td>\n",
       "    </tr>\n",
       "    <tr>\n",
       "      <th>min</th>\n",
       "      <td>66.000000</td>\n",
       "      <td>-52.368000</td>\n",
       "      <td>-178.116500</td>\n",
       "      <td>0.000000e+00</td>\n",
       "      <td>0.000000</td>\n",
       "      <td>0.000000e+00</td>\n",
       "      <td>-1.875211e+06</td>\n",
       "      <td>0.000000</td>\n",
       "      <td>0.000000</td>\n",
       "    </tr>\n",
       "    <tr>\n",
       "      <th>25%</th>\n",
       "      <td>19049.500000</td>\n",
       "      <td>33.269320</td>\n",
       "      <td>-96.616603</td>\n",
       "      <td>1.112000e+03</td>\n",
       "      <td>19.000000</td>\n",
       "      <td>6.952500e+02</td>\n",
       "      <td>3.770000e+02</td>\n",
       "      <td>6627.862221</td>\n",
       "      <td>1.211187</td>\n",
       "    </tr>\n",
       "    <tr>\n",
       "      <th>50%</th>\n",
       "      <td>30068.000000</td>\n",
       "      <td>37.952303</td>\n",
       "      <td>-86.854759</td>\n",
       "      <td>3.083000e+03</td>\n",
       "      <td>56.000000</td>\n",
       "      <td>1.769100e+04</td>\n",
       "      <td>3.321000e+03</td>\n",
       "      <td>9277.807064</td>\n",
       "      <td>1.766382</td>\n",
       "    </tr>\n",
       "    <tr>\n",
       "      <th>75%</th>\n",
       "      <td>47040.500000</td>\n",
       "      <td>42.224242</td>\n",
       "      <td>-77.493446</td>\n",
       "      <td>1.265050e+04</td>\n",
       "      <td>194.000000</td>\n",
       "      <td>7.881175e+04</td>\n",
       "      <td>2.673100e+04</td>\n",
       "      <td>11178.134275</td>\n",
       "      <td>2.486481</td>\n",
       "    </tr>\n",
       "    <tr>\n",
       "      <th>max</th>\n",
       "      <td>99999.000000</td>\n",
       "      <td>71.706900</td>\n",
       "      <td>178.065000</td>\n",
       "      <td>5.633509e+06</td>\n",
       "      <td>112186.000000</td>\n",
       "      <td>4.554037e+06</td>\n",
       "      <td>5.219733e+06</td>\n",
       "      <td>36141.927203</td>\n",
       "      <td>128.139462</td>\n",
       "    </tr>\n",
       "  </tbody>\n",
       "</table>\n",
       "</div>"
      ],
      "text/plain": [
       "               FIPS          Lat        Long_     Confirmed         Deaths  \\\n",
       "count   3266.000000  3895.000000  3895.000000  3.983000e+03    3983.000000   \n",
       "mean   32401.272811    35.985508   -72.035523  3.875459e+04     810.343460   \n",
       "std    18033.806874    13.024749    53.660228  2.128008e+05    4556.102364   \n",
       "min       66.000000   -52.368000  -178.116500  0.000000e+00       0.000000   \n",
       "25%    19049.500000    33.269320   -96.616603  1.112000e+03      19.000000   \n",
       "50%    30068.000000    37.952303   -86.854759  3.083000e+03      56.000000   \n",
       "75%    47040.500000    42.224242   -77.493446  1.265050e+04     194.000000   \n",
       "max    99999.000000    71.706900   178.065000  5.633509e+06  112186.000000   \n",
       "\n",
       "          Recovered        Active  Incident_Rate  Case_Fatality_Ratio  \n",
       "count  7.060000e+02  7.050000e+02    3895.000000          3941.000000  \n",
       "mean   1.287717e+05  4.012008e+04    8688.456742             2.042321  \n",
       "std    3.700620e+05  2.731482e+05    3916.697250             2.781862  \n",
       "min    0.000000e+00 -1.875211e+06       0.000000             0.000000  \n",
       "25%    6.952500e+02  3.770000e+02    6627.862221             1.211187  \n",
       "50%    1.769100e+04  3.321000e+03    9277.807064             1.766382  \n",
       "75%    7.881175e+04  2.673100e+04   11178.134275             2.486481  \n",
       "max    4.554037e+06  5.219733e+06   36141.927203           128.139462  "
      ]
     },
     "execution_count": 18,
     "metadata": {},
     "output_type": "execute_result"
    }
   ],
   "source": [
    "daily_report.describe()"
   ]
  },
  {
   "cell_type": "markdown",
   "metadata": {
    "slideshow": {
     "slide_type": "subslide"
    }
   },
   "source": [
    "## `info` returns the concise information of the dataframe"
   ]
  },
  {
   "cell_type": "code",
   "execution_count": 19,
   "metadata": {
    "slideshow": {
     "slide_type": "-"
    }
   },
   "outputs": [
    {
     "name": "stdout",
     "output_type": "stream",
     "text": [
      "<class 'pandas.core.frame.DataFrame'>\n",
      "RangeIndex: 3983 entries, 0 to 3982\n",
      "Data columns (total 14 columns):\n",
      " #   Column               Non-Null Count  Dtype  \n",
      "---  ------               --------------  -----  \n",
      " 0   FIPS                 3266 non-null   float64\n",
      " 1   Admin2               3271 non-null   object \n",
      " 2   Province_State       3812 non-null   object \n",
      " 3   Country_Region       3983 non-null   object \n",
      " 4   Last_Update          3983 non-null   object \n",
      " 5   Lat                  3895 non-null   float64\n",
      " 6   Long_                3895 non-null   float64\n",
      " 7   Confirmed            3983 non-null   int64  \n",
      " 8   Deaths               3983 non-null   int64  \n",
      " 9   Recovered            706 non-null    float64\n",
      " 10  Active               705 non-null    float64\n",
      " 11  Combined_Key         3983 non-null   object \n",
      " 12  Incident_Rate        3895 non-null   float64\n",
      " 13  Case_Fatality_Ratio  3941 non-null   float64\n",
      "dtypes: float64(7), int64(2), object(5)\n",
      "memory usage: 435.8+ KB\n"
     ]
    }
   ],
   "source": [
    "daily_report.info()"
   ]
  },
  {
   "cell_type": "markdown",
   "metadata": {
    "slideshow": {
     "slide_type": "subslide"
    }
   },
   "source": [
    "## `set_index` replaces current `Index` with a specific variable"
   ]
  },
  {
   "cell_type": "code",
   "execution_count": 20,
   "metadata": {},
   "outputs": [
    {
     "data": {
      "text/html": [
       "<div>\n",
       "<style scoped>\n",
       "    .dataframe tbody tr th:only-of-type {\n",
       "        vertical-align: middle;\n",
       "    }\n",
       "\n",
       "    .dataframe tbody tr th {\n",
       "        vertical-align: top;\n",
       "    }\n",
       "\n",
       "    .dataframe thead th {\n",
       "        text-align: right;\n",
       "    }\n",
       "</style>\n",
       "<table border=\"1\" class=\"dataframe\">\n",
       "  <thead>\n",
       "    <tr style=\"text-align: right;\">\n",
       "      <th></th>\n",
       "      <th>FIPS</th>\n",
       "      <th>Admin2</th>\n",
       "      <th>Province_State</th>\n",
       "      <th>Country_Region</th>\n",
       "      <th>Last_Update</th>\n",
       "      <th>Lat</th>\n",
       "      <th>Long_</th>\n",
       "      <th>Confirmed</th>\n",
       "      <th>Deaths</th>\n",
       "      <th>Recovered</th>\n",
       "      <th>Active</th>\n",
       "      <th>Incident_Rate</th>\n",
       "      <th>Case_Fatality_Ratio</th>\n",
       "    </tr>\n",
       "    <tr>\n",
       "      <th>Combined_Key</th>\n",
       "      <th></th>\n",
       "      <th></th>\n",
       "      <th></th>\n",
       "      <th></th>\n",
       "      <th></th>\n",
       "      <th></th>\n",
       "      <th></th>\n",
       "      <th></th>\n",
       "      <th></th>\n",
       "      <th></th>\n",
       "      <th></th>\n",
       "      <th></th>\n",
       "      <th></th>\n",
       "    </tr>\n",
       "  </thead>\n",
       "  <tbody>\n",
       "    <tr>\n",
       "      <th>Afghanistan</th>\n",
       "      <td>NaN</td>\n",
       "      <td>NaN</td>\n",
       "      <td>NaN</td>\n",
       "      <td>Afghanistan</td>\n",
       "      <td>2021-05-05 04:20:43</td>\n",
       "      <td>33.939110</td>\n",
       "      <td>67.709953</td>\n",
       "      <td>60563</td>\n",
       "      <td>2648</td>\n",
       "      <td>53694.0</td>\n",
       "      <td>4221.0</td>\n",
       "      <td>155.575600</td>\n",
       "      <td>4.372307</td>\n",
       "    </tr>\n",
       "    <tr>\n",
       "      <th>Albania</th>\n",
       "      <td>NaN</td>\n",
       "      <td>NaN</td>\n",
       "      <td>NaN</td>\n",
       "      <td>Albania</td>\n",
       "      <td>2021-05-05 04:20:43</td>\n",
       "      <td>41.153300</td>\n",
       "      <td>20.168300</td>\n",
       "      <td>131327</td>\n",
       "      <td>2402</td>\n",
       "      <td>112626.0</td>\n",
       "      <td>16299.0</td>\n",
       "      <td>4563.451247</td>\n",
       "      <td>1.829022</td>\n",
       "    </tr>\n",
       "    <tr>\n",
       "      <th>Algeria</th>\n",
       "      <td>NaN</td>\n",
       "      <td>NaN</td>\n",
       "      <td>NaN</td>\n",
       "      <td>Algeria</td>\n",
       "      <td>2021-05-05 04:20:43</td>\n",
       "      <td>28.033900</td>\n",
       "      <td>1.659600</td>\n",
       "      <td>122999</td>\n",
       "      <td>3289</td>\n",
       "      <td>85693.0</td>\n",
       "      <td>34017.0</td>\n",
       "      <td>280.492758</td>\n",
       "      <td>2.674005</td>\n",
       "    </tr>\n",
       "    <tr>\n",
       "      <th>Andorra</th>\n",
       "      <td>NaN</td>\n",
       "      <td>NaN</td>\n",
       "      <td>NaN</td>\n",
       "      <td>Andorra</td>\n",
       "      <td>2021-05-05 04:20:43</td>\n",
       "      <td>42.506300</td>\n",
       "      <td>1.521800</td>\n",
       "      <td>13316</td>\n",
       "      <td>127</td>\n",
       "      <td>12818.0</td>\n",
       "      <td>371.0</td>\n",
       "      <td>17234.194008</td>\n",
       "      <td>0.953740</td>\n",
       "    </tr>\n",
       "    <tr>\n",
       "      <th>Angola</th>\n",
       "      <td>NaN</td>\n",
       "      <td>NaN</td>\n",
       "      <td>NaN</td>\n",
       "      <td>Angola</td>\n",
       "      <td>2021-05-05 04:20:43</td>\n",
       "      <td>-11.202700</td>\n",
       "      <td>17.873900</td>\n",
       "      <td>27284</td>\n",
       "      <td>609</td>\n",
       "      <td>24190.0</td>\n",
       "      <td>2485.0</td>\n",
       "      <td>83.015206</td>\n",
       "      <td>2.232077</td>\n",
       "    </tr>\n",
       "    <tr>\n",
       "      <th>...</th>\n",
       "      <td>...</td>\n",
       "      <td>...</td>\n",
       "      <td>...</td>\n",
       "      <td>...</td>\n",
       "      <td>...</td>\n",
       "      <td>...</td>\n",
       "      <td>...</td>\n",
       "      <td>...</td>\n",
       "      <td>...</td>\n",
       "      <td>...</td>\n",
       "      <td>...</td>\n",
       "      <td>...</td>\n",
       "      <td>...</td>\n",
       "    </tr>\n",
       "    <tr>\n",
       "      <th>Vietnam</th>\n",
       "      <td>NaN</td>\n",
       "      <td>NaN</td>\n",
       "      <td>NaN</td>\n",
       "      <td>Vietnam</td>\n",
       "      <td>2021-05-05 04:20:43</td>\n",
       "      <td>14.058324</td>\n",
       "      <td>108.277199</td>\n",
       "      <td>2995</td>\n",
       "      <td>35</td>\n",
       "      <td>2560.0</td>\n",
       "      <td>400.0</td>\n",
       "      <td>3.076889</td>\n",
       "      <td>1.168614</td>\n",
       "    </tr>\n",
       "    <tr>\n",
       "      <th>West Bank and Gaza</th>\n",
       "      <td>NaN</td>\n",
       "      <td>NaN</td>\n",
       "      <td>NaN</td>\n",
       "      <td>West Bank and Gaza</td>\n",
       "      <td>2021-05-05 04:20:43</td>\n",
       "      <td>31.952200</td>\n",
       "      <td>35.233200</td>\n",
       "      <td>298921</td>\n",
       "      <td>3296</td>\n",
       "      <td>277673.0</td>\n",
       "      <td>17952.0</td>\n",
       "      <td>5859.569186</td>\n",
       "      <td>1.102632</td>\n",
       "    </tr>\n",
       "    <tr>\n",
       "      <th>Yemen</th>\n",
       "      <td>NaN</td>\n",
       "      <td>NaN</td>\n",
       "      <td>NaN</td>\n",
       "      <td>Yemen</td>\n",
       "      <td>2021-05-05 04:20:43</td>\n",
       "      <td>15.552727</td>\n",
       "      <td>48.516388</td>\n",
       "      <td>6390</td>\n",
       "      <td>1240</td>\n",
       "      <td>2948.0</td>\n",
       "      <td>2202.0</td>\n",
       "      <td>21.424284</td>\n",
       "      <td>19.405321</td>\n",
       "    </tr>\n",
       "    <tr>\n",
       "      <th>Zambia</th>\n",
       "      <td>NaN</td>\n",
       "      <td>NaN</td>\n",
       "      <td>NaN</td>\n",
       "      <td>Zambia</td>\n",
       "      <td>2021-05-05 04:20:43</td>\n",
       "      <td>-13.133897</td>\n",
       "      <td>27.849332</td>\n",
       "      <td>91804</td>\n",
       "      <td>1254</td>\n",
       "      <td>90166.0</td>\n",
       "      <td>384.0</td>\n",
       "      <td>499.370212</td>\n",
       "      <td>1.365954</td>\n",
       "    </tr>\n",
       "    <tr>\n",
       "      <th>Zimbabwe</th>\n",
       "      <td>NaN</td>\n",
       "      <td>NaN</td>\n",
       "      <td>NaN</td>\n",
       "      <td>Zimbabwe</td>\n",
       "      <td>2021-05-05 04:20:43</td>\n",
       "      <td>-19.015438</td>\n",
       "      <td>29.154857</td>\n",
       "      <td>38327</td>\n",
       "      <td>1574</td>\n",
       "      <td>35775.0</td>\n",
       "      <td>978.0</td>\n",
       "      <td>257.869799</td>\n",
       "      <td>4.106765</td>\n",
       "    </tr>\n",
       "  </tbody>\n",
       "</table>\n",
       "<p>3983 rows × 13 columns</p>\n",
       "</div>"
      ],
      "text/plain": [
       "                    FIPS Admin2 Province_State      Country_Region  \\\n",
       "Combined_Key                                                         \n",
       "Afghanistan          NaN    NaN            NaN         Afghanistan   \n",
       "Albania              NaN    NaN            NaN             Albania   \n",
       "Algeria              NaN    NaN            NaN             Algeria   \n",
       "Andorra              NaN    NaN            NaN             Andorra   \n",
       "Angola               NaN    NaN            NaN              Angola   \n",
       "...                  ...    ...            ...                 ...   \n",
       "Vietnam              NaN    NaN            NaN             Vietnam   \n",
       "West Bank and Gaza   NaN    NaN            NaN  West Bank and Gaza   \n",
       "Yemen                NaN    NaN            NaN               Yemen   \n",
       "Zambia               NaN    NaN            NaN              Zambia   \n",
       "Zimbabwe             NaN    NaN            NaN            Zimbabwe   \n",
       "\n",
       "                            Last_Update        Lat       Long_  Confirmed  \\\n",
       "Combined_Key                                                                \n",
       "Afghanistan         2021-05-05 04:20:43  33.939110   67.709953      60563   \n",
       "Albania             2021-05-05 04:20:43  41.153300   20.168300     131327   \n",
       "Algeria             2021-05-05 04:20:43  28.033900    1.659600     122999   \n",
       "Andorra             2021-05-05 04:20:43  42.506300    1.521800      13316   \n",
       "Angola              2021-05-05 04:20:43 -11.202700   17.873900      27284   \n",
       "...                                 ...        ...         ...        ...   \n",
       "Vietnam             2021-05-05 04:20:43  14.058324  108.277199       2995   \n",
       "West Bank and Gaza  2021-05-05 04:20:43  31.952200   35.233200     298921   \n",
       "Yemen               2021-05-05 04:20:43  15.552727   48.516388       6390   \n",
       "Zambia              2021-05-05 04:20:43 -13.133897   27.849332      91804   \n",
       "Zimbabwe            2021-05-05 04:20:43 -19.015438   29.154857      38327   \n",
       "\n",
       "                    Deaths  Recovered   Active  Incident_Rate  \\\n",
       "Combined_Key                                                    \n",
       "Afghanistan           2648    53694.0   4221.0     155.575600   \n",
       "Albania               2402   112626.0  16299.0    4563.451247   \n",
       "Algeria               3289    85693.0  34017.0     280.492758   \n",
       "Andorra                127    12818.0    371.0   17234.194008   \n",
       "Angola                 609    24190.0   2485.0      83.015206   \n",
       "...                    ...        ...      ...            ...   \n",
       "Vietnam                 35     2560.0    400.0       3.076889   \n",
       "West Bank and Gaza    3296   277673.0  17952.0    5859.569186   \n",
       "Yemen                 1240     2948.0   2202.0      21.424284   \n",
       "Zambia                1254    90166.0    384.0     499.370212   \n",
       "Zimbabwe              1574    35775.0    978.0     257.869799   \n",
       "\n",
       "                    Case_Fatality_Ratio  \n",
       "Combined_Key                             \n",
       "Afghanistan                    4.372307  \n",
       "Albania                        1.829022  \n",
       "Algeria                        2.674005  \n",
       "Andorra                        0.953740  \n",
       "Angola                         2.232077  \n",
       "...                                 ...  \n",
       "Vietnam                        1.168614  \n",
       "West Bank and Gaza             1.102632  \n",
       "Yemen                         19.405321  \n",
       "Zambia                         1.365954  \n",
       "Zimbabwe                       4.106765  \n",
       "\n",
       "[3983 rows x 13 columns]"
      ]
     },
     "execution_count": 20,
     "metadata": {},
     "output_type": "execute_result"
    }
   ],
   "source": [
    "daily_report.set_index('Combined_Key')"
   ]
  },
  {
   "cell_type": "markdown",
   "metadata": {
    "slideshow": {
     "slide_type": "subslide"
    }
   },
   "source": [
    "## `reset_index` resets current `Index` with default `RangeIndex` "
   ]
  },
  {
   "cell_type": "code",
   "execution_count": 21,
   "metadata": {},
   "outputs": [
    {
     "data": {
      "text/html": [
       "<div>\n",
       "<style scoped>\n",
       "    .dataframe tbody tr th:only-of-type {\n",
       "        vertical-align: middle;\n",
       "    }\n",
       "\n",
       "    .dataframe tbody tr th {\n",
       "        vertical-align: top;\n",
       "    }\n",
       "\n",
       "    .dataframe thead th {\n",
       "        text-align: right;\n",
       "    }\n",
       "</style>\n",
       "<table border=\"1\" class=\"dataframe\">\n",
       "  <thead>\n",
       "    <tr style=\"text-align: right;\">\n",
       "      <th></th>\n",
       "      <th>Combined_Key</th>\n",
       "      <th>FIPS</th>\n",
       "      <th>Admin2</th>\n",
       "      <th>Province_State</th>\n",
       "      <th>Country_Region</th>\n",
       "      <th>Last_Update</th>\n",
       "      <th>Lat</th>\n",
       "      <th>Long_</th>\n",
       "      <th>Confirmed</th>\n",
       "      <th>Deaths</th>\n",
       "      <th>Recovered</th>\n",
       "      <th>Active</th>\n",
       "      <th>Incident_Rate</th>\n",
       "      <th>Case_Fatality_Ratio</th>\n",
       "    </tr>\n",
       "  </thead>\n",
       "  <tbody>\n",
       "    <tr>\n",
       "      <th>0</th>\n",
       "      <td>Afghanistan</td>\n",
       "      <td>NaN</td>\n",
       "      <td>NaN</td>\n",
       "      <td>NaN</td>\n",
       "      <td>Afghanistan</td>\n",
       "      <td>2021-05-05 04:20:43</td>\n",
       "      <td>33.939110</td>\n",
       "      <td>67.709953</td>\n",
       "      <td>60563</td>\n",
       "      <td>2648</td>\n",
       "      <td>53694.0</td>\n",
       "      <td>4221.0</td>\n",
       "      <td>155.575600</td>\n",
       "      <td>4.372307</td>\n",
       "    </tr>\n",
       "    <tr>\n",
       "      <th>1</th>\n",
       "      <td>Albania</td>\n",
       "      <td>NaN</td>\n",
       "      <td>NaN</td>\n",
       "      <td>NaN</td>\n",
       "      <td>Albania</td>\n",
       "      <td>2021-05-05 04:20:43</td>\n",
       "      <td>41.153300</td>\n",
       "      <td>20.168300</td>\n",
       "      <td>131327</td>\n",
       "      <td>2402</td>\n",
       "      <td>112626.0</td>\n",
       "      <td>16299.0</td>\n",
       "      <td>4563.451247</td>\n",
       "      <td>1.829022</td>\n",
       "    </tr>\n",
       "    <tr>\n",
       "      <th>2</th>\n",
       "      <td>Algeria</td>\n",
       "      <td>NaN</td>\n",
       "      <td>NaN</td>\n",
       "      <td>NaN</td>\n",
       "      <td>Algeria</td>\n",
       "      <td>2021-05-05 04:20:43</td>\n",
       "      <td>28.033900</td>\n",
       "      <td>1.659600</td>\n",
       "      <td>122999</td>\n",
       "      <td>3289</td>\n",
       "      <td>85693.0</td>\n",
       "      <td>34017.0</td>\n",
       "      <td>280.492758</td>\n",
       "      <td>2.674005</td>\n",
       "    </tr>\n",
       "    <tr>\n",
       "      <th>3</th>\n",
       "      <td>Andorra</td>\n",
       "      <td>NaN</td>\n",
       "      <td>NaN</td>\n",
       "      <td>NaN</td>\n",
       "      <td>Andorra</td>\n",
       "      <td>2021-05-05 04:20:43</td>\n",
       "      <td>42.506300</td>\n",
       "      <td>1.521800</td>\n",
       "      <td>13316</td>\n",
       "      <td>127</td>\n",
       "      <td>12818.0</td>\n",
       "      <td>371.0</td>\n",
       "      <td>17234.194008</td>\n",
       "      <td>0.953740</td>\n",
       "    </tr>\n",
       "    <tr>\n",
       "      <th>4</th>\n",
       "      <td>Angola</td>\n",
       "      <td>NaN</td>\n",
       "      <td>NaN</td>\n",
       "      <td>NaN</td>\n",
       "      <td>Angola</td>\n",
       "      <td>2021-05-05 04:20:43</td>\n",
       "      <td>-11.202700</td>\n",
       "      <td>17.873900</td>\n",
       "      <td>27284</td>\n",
       "      <td>609</td>\n",
       "      <td>24190.0</td>\n",
       "      <td>2485.0</td>\n",
       "      <td>83.015206</td>\n",
       "      <td>2.232077</td>\n",
       "    </tr>\n",
       "    <tr>\n",
       "      <th>...</th>\n",
       "      <td>...</td>\n",
       "      <td>...</td>\n",
       "      <td>...</td>\n",
       "      <td>...</td>\n",
       "      <td>...</td>\n",
       "      <td>...</td>\n",
       "      <td>...</td>\n",
       "      <td>...</td>\n",
       "      <td>...</td>\n",
       "      <td>...</td>\n",
       "      <td>...</td>\n",
       "      <td>...</td>\n",
       "      <td>...</td>\n",
       "      <td>...</td>\n",
       "    </tr>\n",
       "    <tr>\n",
       "      <th>3978</th>\n",
       "      <td>Vietnam</td>\n",
       "      <td>NaN</td>\n",
       "      <td>NaN</td>\n",
       "      <td>NaN</td>\n",
       "      <td>Vietnam</td>\n",
       "      <td>2021-05-05 04:20:43</td>\n",
       "      <td>14.058324</td>\n",
       "      <td>108.277199</td>\n",
       "      <td>2995</td>\n",
       "      <td>35</td>\n",
       "      <td>2560.0</td>\n",
       "      <td>400.0</td>\n",
       "      <td>3.076889</td>\n",
       "      <td>1.168614</td>\n",
       "    </tr>\n",
       "    <tr>\n",
       "      <th>3979</th>\n",
       "      <td>West Bank and Gaza</td>\n",
       "      <td>NaN</td>\n",
       "      <td>NaN</td>\n",
       "      <td>NaN</td>\n",
       "      <td>West Bank and Gaza</td>\n",
       "      <td>2021-05-05 04:20:43</td>\n",
       "      <td>31.952200</td>\n",
       "      <td>35.233200</td>\n",
       "      <td>298921</td>\n",
       "      <td>3296</td>\n",
       "      <td>277673.0</td>\n",
       "      <td>17952.0</td>\n",
       "      <td>5859.569186</td>\n",
       "      <td>1.102632</td>\n",
       "    </tr>\n",
       "    <tr>\n",
       "      <th>3980</th>\n",
       "      <td>Yemen</td>\n",
       "      <td>NaN</td>\n",
       "      <td>NaN</td>\n",
       "      <td>NaN</td>\n",
       "      <td>Yemen</td>\n",
       "      <td>2021-05-05 04:20:43</td>\n",
       "      <td>15.552727</td>\n",
       "      <td>48.516388</td>\n",
       "      <td>6390</td>\n",
       "      <td>1240</td>\n",
       "      <td>2948.0</td>\n",
       "      <td>2202.0</td>\n",
       "      <td>21.424284</td>\n",
       "      <td>19.405321</td>\n",
       "    </tr>\n",
       "    <tr>\n",
       "      <th>3981</th>\n",
       "      <td>Zambia</td>\n",
       "      <td>NaN</td>\n",
       "      <td>NaN</td>\n",
       "      <td>NaN</td>\n",
       "      <td>Zambia</td>\n",
       "      <td>2021-05-05 04:20:43</td>\n",
       "      <td>-13.133897</td>\n",
       "      <td>27.849332</td>\n",
       "      <td>91804</td>\n",
       "      <td>1254</td>\n",
       "      <td>90166.0</td>\n",
       "      <td>384.0</td>\n",
       "      <td>499.370212</td>\n",
       "      <td>1.365954</td>\n",
       "    </tr>\n",
       "    <tr>\n",
       "      <th>3982</th>\n",
       "      <td>Zimbabwe</td>\n",
       "      <td>NaN</td>\n",
       "      <td>NaN</td>\n",
       "      <td>NaN</td>\n",
       "      <td>Zimbabwe</td>\n",
       "      <td>2021-05-05 04:20:43</td>\n",
       "      <td>-19.015438</td>\n",
       "      <td>29.154857</td>\n",
       "      <td>38327</td>\n",
       "      <td>1574</td>\n",
       "      <td>35775.0</td>\n",
       "      <td>978.0</td>\n",
       "      <td>257.869799</td>\n",
       "      <td>4.106765</td>\n",
       "    </tr>\n",
       "  </tbody>\n",
       "</table>\n",
       "<p>3983 rows × 14 columns</p>\n",
       "</div>"
      ],
      "text/plain": [
       "            Combined_Key  FIPS Admin2 Province_State      Country_Region  \\\n",
       "0            Afghanistan   NaN    NaN            NaN         Afghanistan   \n",
       "1                Albania   NaN    NaN            NaN             Albania   \n",
       "2                Algeria   NaN    NaN            NaN             Algeria   \n",
       "3                Andorra   NaN    NaN            NaN             Andorra   \n",
       "4                 Angola   NaN    NaN            NaN              Angola   \n",
       "...                  ...   ...    ...            ...                 ...   \n",
       "3978             Vietnam   NaN    NaN            NaN             Vietnam   \n",
       "3979  West Bank and Gaza   NaN    NaN            NaN  West Bank and Gaza   \n",
       "3980               Yemen   NaN    NaN            NaN               Yemen   \n",
       "3981              Zambia   NaN    NaN            NaN              Zambia   \n",
       "3982            Zimbabwe   NaN    NaN            NaN            Zimbabwe   \n",
       "\n",
       "              Last_Update        Lat       Long_  Confirmed  Deaths  \\\n",
       "0     2021-05-05 04:20:43  33.939110   67.709953      60563    2648   \n",
       "1     2021-05-05 04:20:43  41.153300   20.168300     131327    2402   \n",
       "2     2021-05-05 04:20:43  28.033900    1.659600     122999    3289   \n",
       "3     2021-05-05 04:20:43  42.506300    1.521800      13316     127   \n",
       "4     2021-05-05 04:20:43 -11.202700   17.873900      27284     609   \n",
       "...                   ...        ...         ...        ...     ...   \n",
       "3978  2021-05-05 04:20:43  14.058324  108.277199       2995      35   \n",
       "3979  2021-05-05 04:20:43  31.952200   35.233200     298921    3296   \n",
       "3980  2021-05-05 04:20:43  15.552727   48.516388       6390    1240   \n",
       "3981  2021-05-05 04:20:43 -13.133897   27.849332      91804    1254   \n",
       "3982  2021-05-05 04:20:43 -19.015438   29.154857      38327    1574   \n",
       "\n",
       "      Recovered   Active  Incident_Rate  Case_Fatality_Ratio  \n",
       "0       53694.0   4221.0     155.575600             4.372307  \n",
       "1      112626.0  16299.0    4563.451247             1.829022  \n",
       "2       85693.0  34017.0     280.492758             2.674005  \n",
       "3       12818.0    371.0   17234.194008             0.953740  \n",
       "4       24190.0   2485.0      83.015206             2.232077  \n",
       "...         ...      ...            ...                  ...  \n",
       "3978     2560.0    400.0       3.076889             1.168614  \n",
       "3979   277673.0  17952.0    5859.569186             1.102632  \n",
       "3980     2948.0   2202.0      21.424284            19.405321  \n",
       "3981    90166.0    384.0     499.370212             1.365954  \n",
       "3982    35775.0    978.0     257.869799             4.106765  \n",
       "\n",
       "[3983 rows x 14 columns]"
      ]
     },
     "execution_count": 21,
     "metadata": {},
     "output_type": "execute_result"
    }
   ],
   "source": [
    "daily_report.set_index('Combined_Key').reset_index()"
   ]
  },
  {
   "cell_type": "markdown",
   "metadata": {
    "slideshow": {
     "slide_type": "slide"
    }
   },
   "source": [
    "## Basic Wrangling"
   ]
  },
  {
   "cell_type": "markdown",
   "metadata": {
    "slideshow": {
     "slide_type": "subslide"
    }
   },
   "source": [
    "## Basic wrangling is like writing SQL queries\n",
    "\n",
    "- Selecting: `SELECT FROM`\n",
    "- Filtering: `WHERE`\n",
    "- Subset: `SELECT FROM WHERE`"
   ]
  },
  {
   "cell_type": "markdown",
   "metadata": {
    "slideshow": {
     "slide_type": "subslide"
    }
   },
   "source": [
    "## Basic wrangling is like writing SQL queries(cont'd)\n",
    "\n",
    "- Indexing\n",
    "- Sorting: `ORDER BY`\n",
    "- Deriving\n",
    "- Summarizing\n",
    "- Summarizing and Grouping: `GROUP BY`"
   ]
  },
  {
   "cell_type": "markdown",
   "metadata": {
    "slideshow": {
     "slide_type": "subslide"
    }
   },
   "source": [
    "## Selecting a column as `Series`"
   ]
  },
  {
   "cell_type": "code",
   "execution_count": 22,
   "metadata": {},
   "outputs": [
    {
     "name": "stdout",
     "output_type": "stream",
     "text": [
      "0              Afghanistan\n",
      "1                  Albania\n",
      "2                  Algeria\n",
      "3                  Andorra\n",
      "4                   Angola\n",
      "               ...        \n",
      "3978               Vietnam\n",
      "3979    West Bank and Gaza\n",
      "3980                 Yemen\n",
      "3981                Zambia\n",
      "3982              Zimbabwe\n",
      "Name: Country_Region, Length: 3983, dtype: object\n",
      "<class 'pandas.core.series.Series'>\n"
     ]
    }
   ],
   "source": [
    "print(daily_report['Country_Region'])\n",
    "print(type(daily_report['Country_Region']))"
   ]
  },
  {
   "cell_type": "markdown",
   "metadata": {
    "slideshow": {
     "slide_type": "subslide"
    }
   },
   "source": [
    "## Selecting a column as `DataFrame`"
   ]
  },
  {
   "cell_type": "code",
   "execution_count": 23,
   "metadata": {},
   "outputs": [
    {
     "name": "stdout",
     "output_type": "stream",
     "text": [
      "<class 'pandas.core.frame.DataFrame'>\n"
     ]
    },
    {
     "data": {
      "text/html": [
       "<div>\n",
       "<style scoped>\n",
       "    .dataframe tbody tr th:only-of-type {\n",
       "        vertical-align: middle;\n",
       "    }\n",
       "\n",
       "    .dataframe tbody tr th {\n",
       "        vertical-align: top;\n",
       "    }\n",
       "\n",
       "    .dataframe thead th {\n",
       "        text-align: right;\n",
       "    }\n",
       "</style>\n",
       "<table border=\"1\" class=\"dataframe\">\n",
       "  <thead>\n",
       "    <tr style=\"text-align: right;\">\n",
       "      <th></th>\n",
       "      <th>Country_Region</th>\n",
       "    </tr>\n",
       "  </thead>\n",
       "  <tbody>\n",
       "    <tr>\n",
       "      <th>0</th>\n",
       "      <td>Afghanistan</td>\n",
       "    </tr>\n",
       "    <tr>\n",
       "      <th>1</th>\n",
       "      <td>Albania</td>\n",
       "    </tr>\n",
       "    <tr>\n",
       "      <th>2</th>\n",
       "      <td>Algeria</td>\n",
       "    </tr>\n",
       "    <tr>\n",
       "      <th>3</th>\n",
       "      <td>Andorra</td>\n",
       "    </tr>\n",
       "    <tr>\n",
       "      <th>4</th>\n",
       "      <td>Angola</td>\n",
       "    </tr>\n",
       "    <tr>\n",
       "      <th>...</th>\n",
       "      <td>...</td>\n",
       "    </tr>\n",
       "    <tr>\n",
       "      <th>3978</th>\n",
       "      <td>Vietnam</td>\n",
       "    </tr>\n",
       "    <tr>\n",
       "      <th>3979</th>\n",
       "      <td>West Bank and Gaza</td>\n",
       "    </tr>\n",
       "    <tr>\n",
       "      <th>3980</th>\n",
       "      <td>Yemen</td>\n",
       "    </tr>\n",
       "    <tr>\n",
       "      <th>3981</th>\n",
       "      <td>Zambia</td>\n",
       "    </tr>\n",
       "    <tr>\n",
       "      <th>3982</th>\n",
       "      <td>Zimbabwe</td>\n",
       "    </tr>\n",
       "  </tbody>\n",
       "</table>\n",
       "<p>3983 rows × 1 columns</p>\n",
       "</div>"
      ],
      "text/plain": [
       "          Country_Region\n",
       "0            Afghanistan\n",
       "1                Albania\n",
       "2                Algeria\n",
       "3                Andorra\n",
       "4                 Angola\n",
       "...                  ...\n",
       "3978             Vietnam\n",
       "3979  West Bank and Gaza\n",
       "3980               Yemen\n",
       "3981              Zambia\n",
       "3982            Zimbabwe\n",
       "\n",
       "[3983 rows x 1 columns]"
      ]
     },
     "execution_count": 23,
     "metadata": {},
     "output_type": "execute_result"
    }
   ],
   "source": [
    "print(type(daily_report[['Country_Region']]))\n",
    "daily_report[['Country_Region']]"
   ]
  },
  {
   "cell_type": "markdown",
   "metadata": {
    "slideshow": {
     "slide_type": "subslide"
    }
   },
   "source": [
    "## Selecting multiple columns as `DataFrame`, for sure"
   ]
  },
  {
   "cell_type": "code",
   "execution_count": 24,
   "metadata": {},
   "outputs": [
    {
     "data": {
      "text/html": [
       "<div>\n",
       "<style scoped>\n",
       "    .dataframe tbody tr th:only-of-type {\n",
       "        vertical-align: middle;\n",
       "    }\n",
       "\n",
       "    .dataframe tbody tr th {\n",
       "        vertical-align: top;\n",
       "    }\n",
       "\n",
       "    .dataframe thead th {\n",
       "        text-align: right;\n",
       "    }\n",
       "</style>\n",
       "<table border=\"1\" class=\"dataframe\">\n",
       "  <thead>\n",
       "    <tr style=\"text-align: right;\">\n",
       "      <th></th>\n",
       "      <th>Country_Region</th>\n",
       "      <th>Province_State</th>\n",
       "    </tr>\n",
       "  </thead>\n",
       "  <tbody>\n",
       "    <tr>\n",
       "      <th>0</th>\n",
       "      <td>Afghanistan</td>\n",
       "      <td>NaN</td>\n",
       "    </tr>\n",
       "    <tr>\n",
       "      <th>1</th>\n",
       "      <td>Albania</td>\n",
       "      <td>NaN</td>\n",
       "    </tr>\n",
       "    <tr>\n",
       "      <th>2</th>\n",
       "      <td>Algeria</td>\n",
       "      <td>NaN</td>\n",
       "    </tr>\n",
       "    <tr>\n",
       "      <th>3</th>\n",
       "      <td>Andorra</td>\n",
       "      <td>NaN</td>\n",
       "    </tr>\n",
       "    <tr>\n",
       "      <th>4</th>\n",
       "      <td>Angola</td>\n",
       "      <td>NaN</td>\n",
       "    </tr>\n",
       "    <tr>\n",
       "      <th>...</th>\n",
       "      <td>...</td>\n",
       "      <td>...</td>\n",
       "    </tr>\n",
       "    <tr>\n",
       "      <th>3978</th>\n",
       "      <td>Vietnam</td>\n",
       "      <td>NaN</td>\n",
       "    </tr>\n",
       "    <tr>\n",
       "      <th>3979</th>\n",
       "      <td>West Bank and Gaza</td>\n",
       "      <td>NaN</td>\n",
       "    </tr>\n",
       "    <tr>\n",
       "      <th>3980</th>\n",
       "      <td>Yemen</td>\n",
       "      <td>NaN</td>\n",
       "    </tr>\n",
       "    <tr>\n",
       "      <th>3981</th>\n",
       "      <td>Zambia</td>\n",
       "      <td>NaN</td>\n",
       "    </tr>\n",
       "    <tr>\n",
       "      <th>3982</th>\n",
       "      <td>Zimbabwe</td>\n",
       "      <td>NaN</td>\n",
       "    </tr>\n",
       "  </tbody>\n",
       "</table>\n",
       "<p>3983 rows × 2 columns</p>\n",
       "</div>"
      ],
      "text/plain": [
       "          Country_Region Province_State\n",
       "0            Afghanistan            NaN\n",
       "1                Albania            NaN\n",
       "2                Algeria            NaN\n",
       "3                Andorra            NaN\n",
       "4                 Angola            NaN\n",
       "...                  ...            ...\n",
       "3978             Vietnam            NaN\n",
       "3979  West Bank and Gaza            NaN\n",
       "3980               Yemen            NaN\n",
       "3981              Zambia            NaN\n",
       "3982            Zimbabwe            NaN\n",
       "\n",
       "[3983 rows x 2 columns]"
      ]
     },
     "execution_count": 24,
     "metadata": {},
     "output_type": "execute_result"
    }
   ],
   "source": [
    "cols = ['Country_Region', 'Province_State']\n",
    "daily_report[cols]"
   ]
  },
  {
   "cell_type": "markdown",
   "metadata": {
    "slideshow": {
     "slide_type": "subslide"
    }
   },
   "source": [
    "## Filtering rows with conditional statements"
   ]
  },
  {
   "cell_type": "code",
   "execution_count": 25,
   "metadata": {},
   "outputs": [
    {
     "data": {
      "text/html": [
       "<div>\n",
       "<style scoped>\n",
       "    .dataframe tbody tr th:only-of-type {\n",
       "        vertical-align: middle;\n",
       "    }\n",
       "\n",
       "    .dataframe tbody tr th {\n",
       "        vertical-align: top;\n",
       "    }\n",
       "\n",
       "    .dataframe thead th {\n",
       "        text-align: right;\n",
       "    }\n",
       "</style>\n",
       "<table border=\"1\" class=\"dataframe\">\n",
       "  <thead>\n",
       "    <tr style=\"text-align: right;\">\n",
       "      <th></th>\n",
       "      <th>FIPS</th>\n",
       "      <th>Admin2</th>\n",
       "      <th>Province_State</th>\n",
       "      <th>Country_Region</th>\n",
       "      <th>Last_Update</th>\n",
       "      <th>Lat</th>\n",
       "      <th>Long_</th>\n",
       "      <th>Confirmed</th>\n",
       "      <th>Deaths</th>\n",
       "      <th>Recovered</th>\n",
       "      <th>Active</th>\n",
       "      <th>Combined_Key</th>\n",
       "      <th>Incident_Rate</th>\n",
       "      <th>Case_Fatality_Ratio</th>\n",
       "    </tr>\n",
       "  </thead>\n",
       "  <tbody>\n",
       "    <tr>\n",
       "      <th>643</th>\n",
       "      <td>NaN</td>\n",
       "      <td>NaN</td>\n",
       "      <td>NaN</td>\n",
       "      <td>Taiwan*</td>\n",
       "      <td>2021-05-05 04:20:43</td>\n",
       "      <td>23.7</td>\n",
       "      <td>121.0</td>\n",
       "      <td>1153</td>\n",
       "      <td>12</td>\n",
       "      <td>1067.0</td>\n",
       "      <td>74.0</td>\n",
       "      <td>Taiwan*</td>\n",
       "      <td>4.841126</td>\n",
       "      <td>1.040763</td>\n",
       "    </tr>\n",
       "  </tbody>\n",
       "</table>\n",
       "</div>"
      ],
      "text/plain": [
       "     FIPS Admin2 Province_State Country_Region          Last_Update   Lat  \\\n",
       "643   NaN    NaN            NaN        Taiwan*  2021-05-05 04:20:43  23.7   \n",
       "\n",
       "     Long_  Confirmed  Deaths  Recovered  Active Combined_Key  Incident_Rate  \\\n",
       "643  121.0       1153      12     1067.0    74.0      Taiwan*       4.841126   \n",
       "\n",
       "     Case_Fatality_Ratio  \n",
       "643             1.040763  "
      ]
     },
     "execution_count": 25,
     "metadata": {},
     "output_type": "execute_result"
    }
   ],
   "source": [
    "is_taiwan = daily_report['Country_Region'] == 'Taiwan*'\n",
    "daily_report[is_taiwan]"
   ]
  },
  {
   "cell_type": "markdown",
   "metadata": {
    "slideshow": {
     "slide_type": "subslide"
    }
   },
   "source": [
    "## Subsetting columns and rows simultaneously"
   ]
  },
  {
   "cell_type": "code",
   "execution_count": 26,
   "metadata": {},
   "outputs": [
    {
     "data": {
      "text/html": [
       "<div>\n",
       "<style scoped>\n",
       "    .dataframe tbody tr th:only-of-type {\n",
       "        vertical-align: middle;\n",
       "    }\n",
       "\n",
       "    .dataframe tbody tr th {\n",
       "        vertical-align: top;\n",
       "    }\n",
       "\n",
       "    .dataframe thead th {\n",
       "        text-align: right;\n",
       "    }\n",
       "</style>\n",
       "<table border=\"1\" class=\"dataframe\">\n",
       "  <thead>\n",
       "    <tr style=\"text-align: right;\">\n",
       "      <th></th>\n",
       "      <th>Country_Region</th>\n",
       "      <th>Confirmed</th>\n",
       "    </tr>\n",
       "  </thead>\n",
       "  <tbody>\n",
       "    <tr>\n",
       "      <th>643</th>\n",
       "      <td>Taiwan*</td>\n",
       "      <td>1153</td>\n",
       "    </tr>\n",
       "  </tbody>\n",
       "</table>\n",
       "</div>"
      ],
      "text/plain": [
       "    Country_Region  Confirmed\n",
       "643        Taiwan*       1153"
      ]
     },
     "execution_count": 26,
     "metadata": {},
     "output_type": "execute_result"
    }
   ],
   "source": [
    "cols_to_select = ['Country_Region', 'Confirmed']\n",
    "rows_to_filter = daily_report['Country_Region'] == 'Taiwan*'\n",
    "daily_report[rows_to_filter][cols_to_select]"
   ]
  },
  {
   "cell_type": "markdown",
   "metadata": {
    "slideshow": {
     "slide_type": "subslide"
    }
   },
   "source": [
    "## Indexing `DataFrame` with\n",
    "\n",
    "- `loc[]`\n",
    "- `iloc[]`"
   ]
  },
  {
   "cell_type": "markdown",
   "metadata": {
    "slideshow": {
     "slide_type": "subslide"
    }
   },
   "source": [
    "## `loc[]` is indexing `DataFrame` with `Index` "
   ]
  },
  {
   "cell_type": "code",
   "execution_count": 27,
   "metadata": {},
   "outputs": [
    {
     "name": "stdout",
     "output_type": "stream",
     "text": [
      "Country_Region    Taiwan*\n",
      "Confirmed            1153\n",
      "Name: 643, dtype: object\n"
     ]
    },
    {
     "data": {
      "text/html": [
       "<div>\n",
       "<style scoped>\n",
       "    .dataframe tbody tr th:only-of-type {\n",
       "        vertical-align: middle;\n",
       "    }\n",
       "\n",
       "    .dataframe tbody tr th {\n",
       "        vertical-align: top;\n",
       "    }\n",
       "\n",
       "    .dataframe thead th {\n",
       "        text-align: right;\n",
       "    }\n",
       "</style>\n",
       "<table border=\"1\" class=\"dataframe\">\n",
       "  <thead>\n",
       "    <tr style=\"text-align: right;\">\n",
       "      <th></th>\n",
       "      <th>Country_Region</th>\n",
       "      <th>Confirmed</th>\n",
       "    </tr>\n",
       "  </thead>\n",
       "  <tbody>\n",
       "    <tr>\n",
       "      <th>643</th>\n",
       "      <td>Taiwan*</td>\n",
       "      <td>1153</td>\n",
       "    </tr>\n",
       "  </tbody>\n",
       "</table>\n",
       "</div>"
      ],
      "text/plain": [
       "    Country_Region  Confirmed\n",
       "643        Taiwan*       1153"
      ]
     },
     "execution_count": 27,
     "metadata": {},
     "output_type": "execute_result"
    }
   ],
   "source": [
    "taiwan_row_index = daily_report[is_taiwan].index[0]\n",
    "print(daily_report.loc[taiwan_row_index, ['Country_Region', 'Confirmed']]) # as Series\n",
    "daily_report.loc[[taiwan_row_index], ['Country_Region', 'Confirmed']] # as DataFrame"
   ]
  },
  {
   "cell_type": "markdown",
   "metadata": {
    "slideshow": {
     "slide_type": "subslide"
    }
   },
   "source": [
    "## `iloc[]` is indexing `DataFrame` with absolute position"
   ]
  },
  {
   "cell_type": "code",
   "execution_count": 28,
   "metadata": {},
   "outputs": [
    {
     "name": "stdout",
     "output_type": "stream",
     "text": [
      "Country_Region    Taiwan*\n",
      "Confirmed            1153\n",
      "Name: 643, dtype: object\n"
     ]
    },
    {
     "data": {
      "text/html": [
       "<div>\n",
       "<style scoped>\n",
       "    .dataframe tbody tr th:only-of-type {\n",
       "        vertical-align: middle;\n",
       "    }\n",
       "\n",
       "    .dataframe tbody tr th {\n",
       "        vertical-align: top;\n",
       "    }\n",
       "\n",
       "    .dataframe thead th {\n",
       "        text-align: right;\n",
       "    }\n",
       "</style>\n",
       "<table border=\"1\" class=\"dataframe\">\n",
       "  <thead>\n",
       "    <tr style=\"text-align: right;\">\n",
       "      <th></th>\n",
       "      <th>Country_Region</th>\n",
       "      <th>Confirmed</th>\n",
       "    </tr>\n",
       "  </thead>\n",
       "  <tbody>\n",
       "    <tr>\n",
       "      <th>643</th>\n",
       "      <td>Taiwan*</td>\n",
       "      <td>1153</td>\n",
       "    </tr>\n",
       "  </tbody>\n",
       "</table>\n",
       "</div>"
      ],
      "text/plain": [
       "    Country_Region  Confirmed\n",
       "643        Taiwan*       1153"
      ]
     },
     "execution_count": 28,
     "metadata": {},
     "output_type": "execute_result"
    }
   ],
   "source": [
    "print(daily_report.iloc[taiwan_row_index, [3, 7]]) # as Series\n",
    "daily_report.iloc[[taiwan_row_index], [3, 7]] # as DataFrame"
   ]
  },
  {
   "cell_type": "markdown",
   "metadata": {
    "slideshow": {
     "slide_type": "subslide"
    }
   },
   "source": [
    "## Sorting `DataFrame` with\n",
    "\n",
    "- `sort_values`\n",
    "- `sort_index`"
   ]
  },
  {
   "cell_type": "markdown",
   "metadata": {
    "slideshow": {
     "slide_type": "subslide"
    }
   },
   "source": [
    "## `sort_values` sorts `DataFrame` with specific columns"
   ]
  },
  {
   "cell_type": "code",
   "execution_count": 29,
   "metadata": {},
   "outputs": [
    {
     "data": {
      "text/html": [
       "<div>\n",
       "<style scoped>\n",
       "    .dataframe tbody tr th:only-of-type {\n",
       "        vertical-align: middle;\n",
       "    }\n",
       "\n",
       "    .dataframe tbody tr th {\n",
       "        vertical-align: top;\n",
       "    }\n",
       "\n",
       "    .dataframe thead th {\n",
       "        text-align: right;\n",
       "    }\n",
       "</style>\n",
       "<table border=\"1\" class=\"dataframe\">\n",
       "  <thead>\n",
       "    <tr style=\"text-align: right;\">\n",
       "      <th></th>\n",
       "      <th>FIPS</th>\n",
       "      <th>Admin2</th>\n",
       "      <th>Province_State</th>\n",
       "      <th>Country_Region</th>\n",
       "      <th>Last_Update</th>\n",
       "      <th>Lat</th>\n",
       "      <th>Long_</th>\n",
       "      <th>Confirmed</th>\n",
       "      <th>Deaths</th>\n",
       "      <th>Recovered</th>\n",
       "      <th>Active</th>\n",
       "      <th>Combined_Key</th>\n",
       "      <th>Incident_Rate</th>\n",
       "      <th>Case_Fatality_Ratio</th>\n",
       "    </tr>\n",
       "  </thead>\n",
       "  <tbody>\n",
       "    <tr>\n",
       "      <th>0</th>\n",
       "      <td>NaN</td>\n",
       "      <td>NaN</td>\n",
       "      <td>NaN</td>\n",
       "      <td>Afghanistan</td>\n",
       "      <td>2021-05-05 04:20:43</td>\n",
       "      <td>33.939110</td>\n",
       "      <td>67.709953</td>\n",
       "      <td>60563</td>\n",
       "      <td>2648</td>\n",
       "      <td>53694.0</td>\n",
       "      <td>4221.0</td>\n",
       "      <td>Afghanistan</td>\n",
       "      <td>155.575600</td>\n",
       "      <td>4.372307</td>\n",
       "    </tr>\n",
       "    <tr>\n",
       "      <th>1</th>\n",
       "      <td>NaN</td>\n",
       "      <td>NaN</td>\n",
       "      <td>NaN</td>\n",
       "      <td>Albania</td>\n",
       "      <td>2021-05-05 04:20:43</td>\n",
       "      <td>41.153300</td>\n",
       "      <td>20.168300</td>\n",
       "      <td>131327</td>\n",
       "      <td>2402</td>\n",
       "      <td>112626.0</td>\n",
       "      <td>16299.0</td>\n",
       "      <td>Albania</td>\n",
       "      <td>4563.451247</td>\n",
       "      <td>1.829022</td>\n",
       "    </tr>\n",
       "    <tr>\n",
       "      <th>2</th>\n",
       "      <td>NaN</td>\n",
       "      <td>NaN</td>\n",
       "      <td>NaN</td>\n",
       "      <td>Algeria</td>\n",
       "      <td>2021-05-05 04:20:43</td>\n",
       "      <td>28.033900</td>\n",
       "      <td>1.659600</td>\n",
       "      <td>122999</td>\n",
       "      <td>3289</td>\n",
       "      <td>85693.0</td>\n",
       "      <td>34017.0</td>\n",
       "      <td>Algeria</td>\n",
       "      <td>280.492758</td>\n",
       "      <td>2.674005</td>\n",
       "    </tr>\n",
       "    <tr>\n",
       "      <th>3</th>\n",
       "      <td>NaN</td>\n",
       "      <td>NaN</td>\n",
       "      <td>NaN</td>\n",
       "      <td>Andorra</td>\n",
       "      <td>2021-05-05 04:20:43</td>\n",
       "      <td>42.506300</td>\n",
       "      <td>1.521800</td>\n",
       "      <td>13316</td>\n",
       "      <td>127</td>\n",
       "      <td>12818.0</td>\n",
       "      <td>371.0</td>\n",
       "      <td>Andorra</td>\n",
       "      <td>17234.194008</td>\n",
       "      <td>0.953740</td>\n",
       "    </tr>\n",
       "    <tr>\n",
       "      <th>4</th>\n",
       "      <td>NaN</td>\n",
       "      <td>NaN</td>\n",
       "      <td>NaN</td>\n",
       "      <td>Angola</td>\n",
       "      <td>2021-05-05 04:20:43</td>\n",
       "      <td>-11.202700</td>\n",
       "      <td>17.873900</td>\n",
       "      <td>27284</td>\n",
       "      <td>609</td>\n",
       "      <td>24190.0</td>\n",
       "      <td>2485.0</td>\n",
       "      <td>Angola</td>\n",
       "      <td>83.015206</td>\n",
       "      <td>2.232077</td>\n",
       "    </tr>\n",
       "    <tr>\n",
       "      <th>...</th>\n",
       "      <td>...</td>\n",
       "      <td>...</td>\n",
       "      <td>...</td>\n",
       "      <td>...</td>\n",
       "      <td>...</td>\n",
       "      <td>...</td>\n",
       "      <td>...</td>\n",
       "      <td>...</td>\n",
       "      <td>...</td>\n",
       "      <td>...</td>\n",
       "      <td>...</td>\n",
       "      <td>...</td>\n",
       "      <td>...</td>\n",
       "      <td>...</td>\n",
       "    </tr>\n",
       "    <tr>\n",
       "      <th>3978</th>\n",
       "      <td>NaN</td>\n",
       "      <td>NaN</td>\n",
       "      <td>NaN</td>\n",
       "      <td>Vietnam</td>\n",
       "      <td>2021-05-05 04:20:43</td>\n",
       "      <td>14.058324</td>\n",
       "      <td>108.277199</td>\n",
       "      <td>2995</td>\n",
       "      <td>35</td>\n",
       "      <td>2560.0</td>\n",
       "      <td>400.0</td>\n",
       "      <td>Vietnam</td>\n",
       "      <td>3.076889</td>\n",
       "      <td>1.168614</td>\n",
       "    </tr>\n",
       "    <tr>\n",
       "      <th>3979</th>\n",
       "      <td>NaN</td>\n",
       "      <td>NaN</td>\n",
       "      <td>NaN</td>\n",
       "      <td>West Bank and Gaza</td>\n",
       "      <td>2021-05-05 04:20:43</td>\n",
       "      <td>31.952200</td>\n",
       "      <td>35.233200</td>\n",
       "      <td>298921</td>\n",
       "      <td>3296</td>\n",
       "      <td>277673.0</td>\n",
       "      <td>17952.0</td>\n",
       "      <td>West Bank and Gaza</td>\n",
       "      <td>5859.569186</td>\n",
       "      <td>1.102632</td>\n",
       "    </tr>\n",
       "    <tr>\n",
       "      <th>3980</th>\n",
       "      <td>NaN</td>\n",
       "      <td>NaN</td>\n",
       "      <td>NaN</td>\n",
       "      <td>Yemen</td>\n",
       "      <td>2021-05-05 04:20:43</td>\n",
       "      <td>15.552727</td>\n",
       "      <td>48.516388</td>\n",
       "      <td>6390</td>\n",
       "      <td>1240</td>\n",
       "      <td>2948.0</td>\n",
       "      <td>2202.0</td>\n",
       "      <td>Yemen</td>\n",
       "      <td>21.424284</td>\n",
       "      <td>19.405321</td>\n",
       "    </tr>\n",
       "    <tr>\n",
       "      <th>3981</th>\n",
       "      <td>NaN</td>\n",
       "      <td>NaN</td>\n",
       "      <td>NaN</td>\n",
       "      <td>Zambia</td>\n",
       "      <td>2021-05-05 04:20:43</td>\n",
       "      <td>-13.133897</td>\n",
       "      <td>27.849332</td>\n",
       "      <td>91804</td>\n",
       "      <td>1254</td>\n",
       "      <td>90166.0</td>\n",
       "      <td>384.0</td>\n",
       "      <td>Zambia</td>\n",
       "      <td>499.370212</td>\n",
       "      <td>1.365954</td>\n",
       "    </tr>\n",
       "    <tr>\n",
       "      <th>3982</th>\n",
       "      <td>NaN</td>\n",
       "      <td>NaN</td>\n",
       "      <td>NaN</td>\n",
       "      <td>Zimbabwe</td>\n",
       "      <td>2021-05-05 04:20:43</td>\n",
       "      <td>-19.015438</td>\n",
       "      <td>29.154857</td>\n",
       "      <td>38327</td>\n",
       "      <td>1574</td>\n",
       "      <td>35775.0</td>\n",
       "      <td>978.0</td>\n",
       "      <td>Zimbabwe</td>\n",
       "      <td>257.869799</td>\n",
       "      <td>4.106765</td>\n",
       "    </tr>\n",
       "  </tbody>\n",
       "</table>\n",
       "<p>3983 rows × 14 columns</p>\n",
       "</div>"
      ],
      "text/plain": [
       "      FIPS Admin2 Province_State      Country_Region          Last_Update  \\\n",
       "0      NaN    NaN            NaN         Afghanistan  2021-05-05 04:20:43   \n",
       "1      NaN    NaN            NaN             Albania  2021-05-05 04:20:43   \n",
       "2      NaN    NaN            NaN             Algeria  2021-05-05 04:20:43   \n",
       "3      NaN    NaN            NaN             Andorra  2021-05-05 04:20:43   \n",
       "4      NaN    NaN            NaN              Angola  2021-05-05 04:20:43   \n",
       "...    ...    ...            ...                 ...                  ...   \n",
       "3978   NaN    NaN            NaN             Vietnam  2021-05-05 04:20:43   \n",
       "3979   NaN    NaN            NaN  West Bank and Gaza  2021-05-05 04:20:43   \n",
       "3980   NaN    NaN            NaN               Yemen  2021-05-05 04:20:43   \n",
       "3981   NaN    NaN            NaN              Zambia  2021-05-05 04:20:43   \n",
       "3982   NaN    NaN            NaN            Zimbabwe  2021-05-05 04:20:43   \n",
       "\n",
       "            Lat       Long_  Confirmed  Deaths  Recovered   Active  \\\n",
       "0     33.939110   67.709953      60563    2648    53694.0   4221.0   \n",
       "1     41.153300   20.168300     131327    2402   112626.0  16299.0   \n",
       "2     28.033900    1.659600     122999    3289    85693.0  34017.0   \n",
       "3     42.506300    1.521800      13316     127    12818.0    371.0   \n",
       "4    -11.202700   17.873900      27284     609    24190.0   2485.0   \n",
       "...         ...         ...        ...     ...        ...      ...   \n",
       "3978  14.058324  108.277199       2995      35     2560.0    400.0   \n",
       "3979  31.952200   35.233200     298921    3296   277673.0  17952.0   \n",
       "3980  15.552727   48.516388       6390    1240     2948.0   2202.0   \n",
       "3981 -13.133897   27.849332      91804    1254    90166.0    384.0   \n",
       "3982 -19.015438   29.154857      38327    1574    35775.0    978.0   \n",
       "\n",
       "            Combined_Key  Incident_Rate  Case_Fatality_Ratio  \n",
       "0            Afghanistan     155.575600             4.372307  \n",
       "1                Albania    4563.451247             1.829022  \n",
       "2                Algeria     280.492758             2.674005  \n",
       "3                Andorra   17234.194008             0.953740  \n",
       "4                 Angola      83.015206             2.232077  \n",
       "...                  ...            ...                  ...  \n",
       "3978             Vietnam       3.076889             1.168614  \n",
       "3979  West Bank and Gaza    5859.569186             1.102632  \n",
       "3980               Yemen      21.424284            19.405321  \n",
       "3981              Zambia     499.370212             1.365954  \n",
       "3982            Zimbabwe     257.869799             4.106765  \n",
       "\n",
       "[3983 rows x 14 columns]"
      ]
     },
     "execution_count": 29,
     "metadata": {},
     "output_type": "execute_result"
    }
   ],
   "source": [
    "daily_report.sort_values(['Country_Region', 'Confirmed'])"
   ]
  },
  {
   "cell_type": "markdown",
   "metadata": {
    "slideshow": {
     "slide_type": "subslide"
    }
   },
   "source": [
    "## `sort_index` sorts `DataFrame` with the `Index` of `DataFrame`"
   ]
  },
  {
   "cell_type": "code",
   "execution_count": 30,
   "metadata": {},
   "outputs": [
    {
     "data": {
      "text/html": [
       "<div>\n",
       "<style scoped>\n",
       "    .dataframe tbody tr th:only-of-type {\n",
       "        vertical-align: middle;\n",
       "    }\n",
       "\n",
       "    .dataframe tbody tr th {\n",
       "        vertical-align: top;\n",
       "    }\n",
       "\n",
       "    .dataframe thead th {\n",
       "        text-align: right;\n",
       "    }\n",
       "</style>\n",
       "<table border=\"1\" class=\"dataframe\">\n",
       "  <thead>\n",
       "    <tr style=\"text-align: right;\">\n",
       "      <th></th>\n",
       "      <th>FIPS</th>\n",
       "      <th>Admin2</th>\n",
       "      <th>Province_State</th>\n",
       "      <th>Country_Region</th>\n",
       "      <th>Last_Update</th>\n",
       "      <th>Lat</th>\n",
       "      <th>Long_</th>\n",
       "      <th>Confirmed</th>\n",
       "      <th>Deaths</th>\n",
       "      <th>Recovered</th>\n",
       "      <th>Active</th>\n",
       "      <th>Combined_Key</th>\n",
       "      <th>Incident_Rate</th>\n",
       "      <th>Case_Fatality_Ratio</th>\n",
       "    </tr>\n",
       "  </thead>\n",
       "  <tbody>\n",
       "    <tr>\n",
       "      <th>3982</th>\n",
       "      <td>NaN</td>\n",
       "      <td>NaN</td>\n",
       "      <td>NaN</td>\n",
       "      <td>Zimbabwe</td>\n",
       "      <td>2021-05-05 04:20:43</td>\n",
       "      <td>-19.015438</td>\n",
       "      <td>29.154857</td>\n",
       "      <td>38327</td>\n",
       "      <td>1574</td>\n",
       "      <td>35775.0</td>\n",
       "      <td>978.0</td>\n",
       "      <td>Zimbabwe</td>\n",
       "      <td>257.869799</td>\n",
       "      <td>4.106765</td>\n",
       "    </tr>\n",
       "    <tr>\n",
       "      <th>3981</th>\n",
       "      <td>NaN</td>\n",
       "      <td>NaN</td>\n",
       "      <td>NaN</td>\n",
       "      <td>Zambia</td>\n",
       "      <td>2021-05-05 04:20:43</td>\n",
       "      <td>-13.133897</td>\n",
       "      <td>27.849332</td>\n",
       "      <td>91804</td>\n",
       "      <td>1254</td>\n",
       "      <td>90166.0</td>\n",
       "      <td>384.0</td>\n",
       "      <td>Zambia</td>\n",
       "      <td>499.370212</td>\n",
       "      <td>1.365954</td>\n",
       "    </tr>\n",
       "    <tr>\n",
       "      <th>3980</th>\n",
       "      <td>NaN</td>\n",
       "      <td>NaN</td>\n",
       "      <td>NaN</td>\n",
       "      <td>Yemen</td>\n",
       "      <td>2021-05-05 04:20:43</td>\n",
       "      <td>15.552727</td>\n",
       "      <td>48.516388</td>\n",
       "      <td>6390</td>\n",
       "      <td>1240</td>\n",
       "      <td>2948.0</td>\n",
       "      <td>2202.0</td>\n",
       "      <td>Yemen</td>\n",
       "      <td>21.424284</td>\n",
       "      <td>19.405321</td>\n",
       "    </tr>\n",
       "    <tr>\n",
       "      <th>3979</th>\n",
       "      <td>NaN</td>\n",
       "      <td>NaN</td>\n",
       "      <td>NaN</td>\n",
       "      <td>West Bank and Gaza</td>\n",
       "      <td>2021-05-05 04:20:43</td>\n",
       "      <td>31.952200</td>\n",
       "      <td>35.233200</td>\n",
       "      <td>298921</td>\n",
       "      <td>3296</td>\n",
       "      <td>277673.0</td>\n",
       "      <td>17952.0</td>\n",
       "      <td>West Bank and Gaza</td>\n",
       "      <td>5859.569186</td>\n",
       "      <td>1.102632</td>\n",
       "    </tr>\n",
       "    <tr>\n",
       "      <th>3978</th>\n",
       "      <td>NaN</td>\n",
       "      <td>NaN</td>\n",
       "      <td>NaN</td>\n",
       "      <td>Vietnam</td>\n",
       "      <td>2021-05-05 04:20:43</td>\n",
       "      <td>14.058324</td>\n",
       "      <td>108.277199</td>\n",
       "      <td>2995</td>\n",
       "      <td>35</td>\n",
       "      <td>2560.0</td>\n",
       "      <td>400.0</td>\n",
       "      <td>Vietnam</td>\n",
       "      <td>3.076889</td>\n",
       "      <td>1.168614</td>\n",
       "    </tr>\n",
       "    <tr>\n",
       "      <th>...</th>\n",
       "      <td>...</td>\n",
       "      <td>...</td>\n",
       "      <td>...</td>\n",
       "      <td>...</td>\n",
       "      <td>...</td>\n",
       "      <td>...</td>\n",
       "      <td>...</td>\n",
       "      <td>...</td>\n",
       "      <td>...</td>\n",
       "      <td>...</td>\n",
       "      <td>...</td>\n",
       "      <td>...</td>\n",
       "      <td>...</td>\n",
       "      <td>...</td>\n",
       "    </tr>\n",
       "    <tr>\n",
       "      <th>4</th>\n",
       "      <td>NaN</td>\n",
       "      <td>NaN</td>\n",
       "      <td>NaN</td>\n",
       "      <td>Angola</td>\n",
       "      <td>2021-05-05 04:20:43</td>\n",
       "      <td>-11.202700</td>\n",
       "      <td>17.873900</td>\n",
       "      <td>27284</td>\n",
       "      <td>609</td>\n",
       "      <td>24190.0</td>\n",
       "      <td>2485.0</td>\n",
       "      <td>Angola</td>\n",
       "      <td>83.015206</td>\n",
       "      <td>2.232077</td>\n",
       "    </tr>\n",
       "    <tr>\n",
       "      <th>3</th>\n",
       "      <td>NaN</td>\n",
       "      <td>NaN</td>\n",
       "      <td>NaN</td>\n",
       "      <td>Andorra</td>\n",
       "      <td>2021-05-05 04:20:43</td>\n",
       "      <td>42.506300</td>\n",
       "      <td>1.521800</td>\n",
       "      <td>13316</td>\n",
       "      <td>127</td>\n",
       "      <td>12818.0</td>\n",
       "      <td>371.0</td>\n",
       "      <td>Andorra</td>\n",
       "      <td>17234.194008</td>\n",
       "      <td>0.953740</td>\n",
       "    </tr>\n",
       "    <tr>\n",
       "      <th>2</th>\n",
       "      <td>NaN</td>\n",
       "      <td>NaN</td>\n",
       "      <td>NaN</td>\n",
       "      <td>Algeria</td>\n",
       "      <td>2021-05-05 04:20:43</td>\n",
       "      <td>28.033900</td>\n",
       "      <td>1.659600</td>\n",
       "      <td>122999</td>\n",
       "      <td>3289</td>\n",
       "      <td>85693.0</td>\n",
       "      <td>34017.0</td>\n",
       "      <td>Algeria</td>\n",
       "      <td>280.492758</td>\n",
       "      <td>2.674005</td>\n",
       "    </tr>\n",
       "    <tr>\n",
       "      <th>1</th>\n",
       "      <td>NaN</td>\n",
       "      <td>NaN</td>\n",
       "      <td>NaN</td>\n",
       "      <td>Albania</td>\n",
       "      <td>2021-05-05 04:20:43</td>\n",
       "      <td>41.153300</td>\n",
       "      <td>20.168300</td>\n",
       "      <td>131327</td>\n",
       "      <td>2402</td>\n",
       "      <td>112626.0</td>\n",
       "      <td>16299.0</td>\n",
       "      <td>Albania</td>\n",
       "      <td>4563.451247</td>\n",
       "      <td>1.829022</td>\n",
       "    </tr>\n",
       "    <tr>\n",
       "      <th>0</th>\n",
       "      <td>NaN</td>\n",
       "      <td>NaN</td>\n",
       "      <td>NaN</td>\n",
       "      <td>Afghanistan</td>\n",
       "      <td>2021-05-05 04:20:43</td>\n",
       "      <td>33.939110</td>\n",
       "      <td>67.709953</td>\n",
       "      <td>60563</td>\n",
       "      <td>2648</td>\n",
       "      <td>53694.0</td>\n",
       "      <td>4221.0</td>\n",
       "      <td>Afghanistan</td>\n",
       "      <td>155.575600</td>\n",
       "      <td>4.372307</td>\n",
       "    </tr>\n",
       "  </tbody>\n",
       "</table>\n",
       "<p>3983 rows × 14 columns</p>\n",
       "</div>"
      ],
      "text/plain": [
       "      FIPS Admin2 Province_State      Country_Region          Last_Update  \\\n",
       "3982   NaN    NaN            NaN            Zimbabwe  2021-05-05 04:20:43   \n",
       "3981   NaN    NaN            NaN              Zambia  2021-05-05 04:20:43   \n",
       "3980   NaN    NaN            NaN               Yemen  2021-05-05 04:20:43   \n",
       "3979   NaN    NaN            NaN  West Bank and Gaza  2021-05-05 04:20:43   \n",
       "3978   NaN    NaN            NaN             Vietnam  2021-05-05 04:20:43   \n",
       "...    ...    ...            ...                 ...                  ...   \n",
       "4      NaN    NaN            NaN              Angola  2021-05-05 04:20:43   \n",
       "3      NaN    NaN            NaN             Andorra  2021-05-05 04:20:43   \n",
       "2      NaN    NaN            NaN             Algeria  2021-05-05 04:20:43   \n",
       "1      NaN    NaN            NaN             Albania  2021-05-05 04:20:43   \n",
       "0      NaN    NaN            NaN         Afghanistan  2021-05-05 04:20:43   \n",
       "\n",
       "            Lat       Long_  Confirmed  Deaths  Recovered   Active  \\\n",
       "3982 -19.015438   29.154857      38327    1574    35775.0    978.0   \n",
       "3981 -13.133897   27.849332      91804    1254    90166.0    384.0   \n",
       "3980  15.552727   48.516388       6390    1240     2948.0   2202.0   \n",
       "3979  31.952200   35.233200     298921    3296   277673.0  17952.0   \n",
       "3978  14.058324  108.277199       2995      35     2560.0    400.0   \n",
       "...         ...         ...        ...     ...        ...      ...   \n",
       "4    -11.202700   17.873900      27284     609    24190.0   2485.0   \n",
       "3     42.506300    1.521800      13316     127    12818.0    371.0   \n",
       "2     28.033900    1.659600     122999    3289    85693.0  34017.0   \n",
       "1     41.153300   20.168300     131327    2402   112626.0  16299.0   \n",
       "0     33.939110   67.709953      60563    2648    53694.0   4221.0   \n",
       "\n",
       "            Combined_Key  Incident_Rate  Case_Fatality_Ratio  \n",
       "3982            Zimbabwe     257.869799             4.106765  \n",
       "3981              Zambia     499.370212             1.365954  \n",
       "3980               Yemen      21.424284            19.405321  \n",
       "3979  West Bank and Gaza    5859.569186             1.102632  \n",
       "3978             Vietnam       3.076889             1.168614  \n",
       "...                  ...            ...                  ...  \n",
       "4                 Angola      83.015206             2.232077  \n",
       "3                Andorra   17234.194008             0.953740  \n",
       "2                Algeria     280.492758             2.674005  \n",
       "1                Albania    4563.451247             1.829022  \n",
       "0            Afghanistan     155.575600             4.372307  \n",
       "\n",
       "[3983 rows x 14 columns]"
      ]
     },
     "execution_count": 30,
     "metadata": {},
     "output_type": "execute_result"
    }
   ],
   "source": [
    "daily_report.sort_index(ascending=False)"
   ]
  },
  {
   "cell_type": "markdown",
   "metadata": {
    "slideshow": {
     "slide_type": "subslide"
    }
   },
   "source": [
    "## Deriving new variables from `DataFrame`\n",
    "\n",
    "- Simple operations\n",
    "- `pd.cut`\n",
    "- `map` with a `dict`\n",
    "- `map` with a function(or a lambda expression)"
   ]
  },
  {
   "cell_type": "markdown",
   "metadata": {
    "slideshow": {
     "slide_type": "subslide"
    }
   },
   "source": [
    "## Deriving new variable with simple operations"
   ]
  },
  {
   "cell_type": "code",
   "execution_count": 31,
   "metadata": {},
   "outputs": [
    {
     "name": "stdout",
     "output_type": "stream",
     "text": [
      "0        4221.0\n",
      "1       16299.0\n",
      "2       34017.0\n",
      "3         371.0\n",
      "4        2485.0\n",
      "         ...   \n",
      "3978      400.0\n",
      "3979    17952.0\n",
      "3980     2202.0\n",
      "3981      384.0\n",
      "3982      978.0\n",
      "Length: 3983, dtype: float64\n"
     ]
    }
   ],
   "source": [
    "active = daily_report['Confirmed'] - daily_report['Deaths'] - daily_report['Recovered']\n",
    "print(active)"
   ]
  },
  {
   "cell_type": "markdown",
   "metadata": {
    "slideshow": {
     "slide_type": "subslide"
    }
   },
   "source": [
    "## Deriving categorical from numerical with `pd.cut`"
   ]
  },
  {
   "cell_type": "code",
   "execution_count": 32,
   "metadata": {},
   "outputs": [
    {
     "name": "stdout",
     "output_type": "stream",
     "text": [
      "0       Between 10000 and 100000\n",
      "1                   Above 100000\n",
      "2                   Above 100000\n",
      "3       Between 10000 and 100000\n",
      "4       Between 10000 and 100000\n",
      "                  ...           \n",
      "3978      Between 1000 and 10000\n",
      "3979                Above 100000\n",
      "3980      Between 1000 and 10000\n",
      "3981    Between 10000 and 100000\n",
      "3982    Between 10000 and 100000\n",
      "Name: Confirmed, Length: 3983, dtype: category\n",
      "Categories (4, object): ['Less than 1000' < 'Between 1000 and 10000' < 'Between 10000 and 100000' < 'Above 100000']\n"
     ]
    }
   ],
   "source": [
    "import numpy as np\n",
    "\n",
    "cut_bins = [0, 1000, 10000, 100000, np.Inf]\n",
    "cut_labels = ['Less than 1000', 'Between 1000 and 10000', 'Between 10000 and 100000', 'Above 100000']\n",
    "confirmed_categorical = pd.cut(daily_report['Confirmed'], bins=cut_bins, labels=cut_labels, right=False)\n",
    "print(confirmed_categorical)"
   ]
  },
  {
   "cell_type": "markdown",
   "metadata": {
    "slideshow": {
     "slide_type": "subslide"
    }
   },
   "source": [
    "## Deriving categorical from categorical with `map`\n",
    "\n",
    "- Passing a `dict`\n",
    "- Passing a function(or lambda expression)"
   ]
  },
  {
   "cell_type": "code",
   "execution_count": 33,
   "metadata": {
    "slideshow": {
     "slide_type": "subslide"
    }
   },
   "outputs": [
    {
     "data": {
      "text/plain": [
       "643    Taiwan\n",
       "Name: Country_Region, dtype: object"
      ]
     },
     "execution_count": 33,
     "metadata": {},
     "output_type": "execute_result"
    }
   ],
   "source": [
    "# Passing a dict\n",
    "country_name = {\n",
    "    'Taiwan*': 'Taiwan'\n",
    "}\n",
    "daily_report_tw = daily_report[is_taiwan]\n",
    "daily_report_tw['Country_Region'].map(country_name)"
   ]
  },
  {
   "cell_type": "code",
   "execution_count": 34,
   "metadata": {
    "slideshow": {
     "slide_type": "subslide"
    }
   },
   "outputs": [
    {
     "data": {
      "text/plain": [
       "0       Not US\n",
       "1       Not US\n",
       "2       Not US\n",
       "3       Not US\n",
       "4       Not US\n",
       "         ...  \n",
       "3978    Not US\n",
       "3979    Not US\n",
       "3980    Not US\n",
       "3981    Not US\n",
       "3982    Not US\n",
       "Name: Country_Region, Length: 3983, dtype: object"
      ]
     },
     "execution_count": 34,
     "metadata": {},
     "output_type": "execute_result"
    }
   ],
   "source": [
    "# Passing a function\n",
    "def is_us(x):\n",
    "    if x == 'US':\n",
    "        return 'US'\n",
    "    else:\n",
    "        return 'Not US'\n",
    "daily_report['Country_Region'].map(is_us)"
   ]
  },
  {
   "cell_type": "code",
   "execution_count": 35,
   "metadata": {
    "slideshow": {
     "slide_type": "subslide"
    }
   },
   "outputs": [
    {
     "data": {
      "text/plain": [
       "0       Not US\n",
       "1       Not US\n",
       "2       Not US\n",
       "3       Not US\n",
       "4       Not US\n",
       "         ...  \n",
       "3978    Not US\n",
       "3979    Not US\n",
       "3980    Not US\n",
       "3981    Not US\n",
       "3982    Not US\n",
       "Name: Country_Region, Length: 3983, dtype: object"
      ]
     },
     "execution_count": 35,
     "metadata": {},
     "output_type": "execute_result"
    }
   ],
   "source": [
    "# Passing a lambda expression)\n",
    "daily_report['Country_Region'].map(lambda x: 'US' if x == 'US' else 'Not US')"
   ]
  },
  {
   "cell_type": "markdown",
   "metadata": {
    "slideshow": {
     "slide_type": "subslide"
    }
   },
   "source": [
    "## Summarizing `DataFrame` with aggregate methods"
   ]
  },
  {
   "cell_type": "code",
   "execution_count": 36,
   "metadata": {},
   "outputs": [
    {
     "data": {
      "text/plain": [
       "154359533"
      ]
     },
     "execution_count": 36,
     "metadata": {},
     "output_type": "execute_result"
    }
   ],
   "source": [
    "daily_report['Confirmed'].sum()"
   ]
  },
  {
   "cell_type": "markdown",
   "metadata": {
    "slideshow": {
     "slide_type": "subslide"
    }
   },
   "source": [
    "## Summarizing and grouping `DataFrame` with aggregate methods"
   ]
  },
  {
   "cell_type": "code",
   "execution_count": 37,
   "metadata": {},
   "outputs": [
    {
     "data": {
      "text/plain": [
       "Country_Region\n",
       "Afghanistan            60563\n",
       "Albania               131327\n",
       "Algeria               122999\n",
       "Andorra                13316\n",
       "Angola                 27284\n",
       "                       ...  \n",
       "Vietnam                 2995\n",
       "West Bank and Gaza    298921\n",
       "Yemen                   6390\n",
       "Zambia                 91804\n",
       "Zimbabwe               38327\n",
       "Name: Confirmed, Length: 192, dtype: int64"
      ]
     },
     "execution_count": 37,
     "metadata": {},
     "output_type": "execute_result"
    }
   ],
   "source": [
    "daily_report.groupby('Country_Region')['Confirmed'].sum()"
   ]
  },
  {
   "cell_type": "markdown",
   "metadata": {
    "slideshow": {
     "slide_type": "slide"
    }
   },
   "source": [
    "## Advanced Wrangling"
   ]
  },
  {
   "cell_type": "markdown",
   "metadata": {
    "slideshow": {
     "slide_type": "subslide"
    }
   },
   "source": [
    "## Other common wranglings including\n",
    "\n",
    "- Dealing with missing values\n",
    "- Dealing with text values\n",
    "- Reshaping dataframes\n",
    "- Merging and joining dataframes"
   ]
  },
  {
   "cell_type": "markdown",
   "metadata": {
    "slideshow": {
     "slide_type": "subslide"
    }
   },
   "source": [
    "## Dealing with missing values\n",
    "\n",
    "- Using `isnull` or `notnull` to check if `np.NaN` exists\n",
    "- Using `dropna` to drop rows with `np.NaN`\n",
    "- Using `fillna` to fill `np.NaN` with specific values"
   ]
  },
  {
   "cell_type": "code",
   "execution_count": 38,
   "metadata": {
    "slideshow": {
     "slide_type": "subslide"
    }
   },
   "outputs": [
    {
     "name": "stdout",
     "output_type": "stream",
     "text": [
      "3983\n",
      "171\n",
      "3812\n"
     ]
    }
   ],
   "source": [
    "print(daily_report['Province_State'].size)\n",
    "print(daily_report['Province_State'].isnull().sum())\n",
    "print(daily_report['Province_State'].notnull().sum())"
   ]
  },
  {
   "cell_type": "code",
   "execution_count": 39,
   "metadata": {
    "slideshow": {
     "slide_type": "subslide"
    }
   },
   "outputs": [
    {
     "name": "stdout",
     "output_type": "stream",
     "text": [
      "(0, 14)\n",
      "0       0.0\n",
      "1       0.0\n",
      "2       0.0\n",
      "3       0.0\n",
      "4       0.0\n",
      "       ... \n",
      "3978    0.0\n",
      "3979    0.0\n",
      "3980    0.0\n",
      "3981    0.0\n",
      "3982    0.0\n",
      "Name: FIPS, Length: 3983, dtype: float64\n"
     ]
    }
   ],
   "source": [
    "print(daily_report.dropna().shape)\n",
    "print(daily_report['FIPS'].fillna(0))"
   ]
  },
  {
   "cell_type": "markdown",
   "metadata": {
    "slideshow": {
     "slide_type": "subslide"
    }
   },
   "source": [
    "## Summarizing text columns\n",
    "\n",
    "- `unique`\n",
    "- `nunique`\n",
    "- `value_counts`"
   ]
  },
  {
   "cell_type": "code",
   "execution_count": 40,
   "metadata": {
    "slideshow": {
     "slide_type": "subslide"
    }
   },
   "outputs": [
    {
     "name": "stdout",
     "output_type": "stream",
     "text": [
      "192\n",
      "['Afghanistan' 'Albania' 'Algeria' 'Andorra' 'Angola'\n",
      " 'Antigua and Barbuda' 'Argentina' 'Armenia' 'Australia' 'Austria'\n",
      " 'Azerbaijan' 'Bahamas' 'Bahrain' 'Bangladesh' 'Barbados' 'Belarus'\n",
      " 'Belgium' 'Belize' 'Benin' 'Bhutan' 'Bolivia' 'Bosnia and Herzegovina'\n",
      " 'Botswana' 'Brazil' 'Brunei' 'Bulgaria' 'Burkina Faso' 'Burma' 'Burundi'\n",
      " 'Cabo Verde' 'Cambodia' 'Cameroon' 'Canada' 'Central African Republic'\n",
      " 'Chad' 'Chile' 'China' 'Colombia' 'Comoros' 'Congo (Brazzaville)'\n",
      " 'Congo (Kinshasa)' 'Costa Rica' \"Cote d'Ivoire\" 'Croatia' 'Cuba' 'Cyprus'\n",
      " 'Czechia' 'Denmark' 'Diamond Princess' 'Djibouti' 'Dominica'\n",
      " 'Dominican Republic' 'Ecuador' 'Egypt' 'El Salvador' 'Equatorial Guinea'\n",
      " 'Eritrea' 'Estonia' 'Eswatini' 'Ethiopia' 'Fiji' 'Finland' 'France'\n",
      " 'Gabon' 'Gambia' 'Georgia' 'Germany' 'Ghana' 'Greece' 'Grenada'\n",
      " 'Guatemala' 'Guinea' 'Guinea-Bissau' 'Guyana' 'Haiti' 'Holy See'\n",
      " 'Honduras' 'Hungary' 'Iceland' 'India' 'Indonesia' 'Iran' 'Iraq'\n",
      " 'Ireland' 'Israel' 'Italy' 'Jamaica' 'Japan' 'Jordan' 'Kazakhstan'\n",
      " 'Kenya' 'Korea, South' 'Kosovo' 'Kuwait' 'Kyrgyzstan' 'Laos' 'Latvia'\n",
      " 'Lebanon' 'Lesotho' 'Liberia' 'Libya' 'Liechtenstein' 'Lithuania'\n",
      " 'Luxembourg' 'MS Zaandam' 'Madagascar' 'Malawi' 'Malaysia' 'Maldives'\n",
      " 'Mali' 'Malta' 'Marshall Islands' 'Mauritania' 'Mauritius' 'Mexico'\n",
      " 'Micronesia' 'Moldova' 'Monaco' 'Mongolia' 'Montenegro' 'Morocco'\n",
      " 'Mozambique' 'Namibia' 'Nepal' 'Netherlands' 'New Zealand' 'Nicaragua'\n",
      " 'Niger' 'Nigeria' 'North Macedonia' 'Norway' 'Oman' 'Pakistan' 'Panama'\n",
      " 'Papua New Guinea' 'Paraguay' 'Peru' 'Philippines' 'Poland' 'Portugal'\n",
      " 'Qatar' 'Romania' 'Russia' 'Rwanda' 'Saint Kitts and Nevis' 'Saint Lucia'\n",
      " 'Saint Vincent and the Grenadines' 'Samoa' 'San Marino'\n",
      " 'Sao Tome and Principe' 'Saudi Arabia' 'Senegal' 'Serbia' 'Seychelles'\n",
      " 'Sierra Leone' 'Singapore' 'Slovakia' 'Slovenia' 'Solomon Islands'\n",
      " 'Somalia' 'South Africa' 'South Sudan' 'Spain' 'Sri Lanka' 'Sudan'\n",
      " 'Suriname' 'Sweden' 'Switzerland' 'Syria' 'Taiwan*' 'Tajikistan'\n",
      " 'Tanzania' 'Thailand' 'Timor-Leste' 'Togo' 'Trinidad and Tobago'\n",
      " 'Tunisia' 'Turkey' 'US' 'Uganda' 'Ukraine' 'United Arab Emirates'\n",
      " 'United Kingdom' 'Uruguay' 'Uzbekistan' 'Vanuatu' 'Venezuela' 'Vietnam'\n",
      " 'West Bank and Gaza' 'Yemen' 'Zambia' 'Zimbabwe']\n"
     ]
    }
   ],
   "source": [
    "print(daily_report['Country_Region'].nunique())\n",
    "print(daily_report['Country_Region'].unique())"
   ]
  },
  {
   "cell_type": "code",
   "execution_count": 41,
   "metadata": {
    "slideshow": {
     "slide_type": "subslide"
    }
   },
   "outputs": [
    {
     "data": {
      "text/plain": [
       "US                    3277\n",
       "Russia                  83\n",
       "Japan                   49\n",
       "India                   37\n",
       "China                   34\n",
       "                      ... \n",
       "Bahamas                  1\n",
       "Mozambique               1\n",
       "Dominican Republic       1\n",
       "Bolivia                  1\n",
       "Iceland                  1\n",
       "Name: Country_Region, Length: 192, dtype: int64"
      ]
     },
     "execution_count": 41,
     "metadata": {},
     "output_type": "execute_result"
    }
   ],
   "source": [
    "daily_report['Country_Region'].value_counts().sort_values(ascending=False)"
   ]
  },
  {
   "cell_type": "markdown",
   "metadata": {
    "slideshow": {
     "slide_type": "subslide"
    }
   },
   "source": [
    "## Splitting strings with `str.split` as a `Series`"
   ]
  },
  {
   "cell_type": "code",
   "execution_count": 42,
   "metadata": {},
   "outputs": [
    {
     "data": {
      "text/html": [
       "<div>\n",
       "<style scoped>\n",
       "    .dataframe tbody tr th:only-of-type {\n",
       "        vertical-align: middle;\n",
       "    }\n",
       "\n",
       "    .dataframe tbody tr th {\n",
       "        vertical-align: top;\n",
       "    }\n",
       "\n",
       "    .dataframe thead th {\n",
       "        text-align: right;\n",
       "    }\n",
       "</style>\n",
       "<table border=\"1\" class=\"dataframe\">\n",
       "  <thead>\n",
       "    <tr style=\"text-align: right;\">\n",
       "      <th></th>\n",
       "      <th>Unnamed: 0</th>\n",
       "      <th>Rank &amp; Title</th>\n",
       "      <th>IMDb Rating</th>\n",
       "      <th>Your Rating</th>\n",
       "      <th>Unnamed: 4</th>\n",
       "    </tr>\n",
       "  </thead>\n",
       "  <tbody>\n",
       "    <tr>\n",
       "      <th>0</th>\n",
       "      <td>NaN</td>\n",
       "      <td>1.  刺激1995  (1994)</td>\n",
       "      <td>9.2</td>\n",
       "      <td>12345678910 NOT YET RELEASED  Seen</td>\n",
       "      <td>NaN</td>\n",
       "    </tr>\n",
       "    <tr>\n",
       "      <th>1</th>\n",
       "      <td>NaN</td>\n",
       "      <td>2.  教父  (1972)</td>\n",
       "      <td>9.1</td>\n",
       "      <td>12345678910 NOT YET RELEASED  Seen</td>\n",
       "      <td>NaN</td>\n",
       "    </tr>\n",
       "    <tr>\n",
       "      <th>2</th>\n",
       "      <td>NaN</td>\n",
       "      <td>3.  教父第二集  (1974)</td>\n",
       "      <td>9.0</td>\n",
       "      <td>12345678910 NOT YET RELEASED  Seen</td>\n",
       "      <td>NaN</td>\n",
       "    </tr>\n",
       "    <tr>\n",
       "      <th>3</th>\n",
       "      <td>NaN</td>\n",
       "      <td>4.  黑暗騎士  (2008)</td>\n",
       "      <td>9.0</td>\n",
       "      <td>12345678910 NOT YET RELEASED  Seen</td>\n",
       "      <td>NaN</td>\n",
       "    </tr>\n",
       "    <tr>\n",
       "      <th>4</th>\n",
       "      <td>NaN</td>\n",
       "      <td>5.  十二怒漢  (1957)</td>\n",
       "      <td>8.9</td>\n",
       "      <td>12345678910 NOT YET RELEASED  Seen</td>\n",
       "      <td>NaN</td>\n",
       "    </tr>\n",
       "  </tbody>\n",
       "</table>\n",
       "</div>"
      ],
      "text/plain": [
       "   Unnamed: 0        Rank & Title  IMDb Rating  \\\n",
       "0         NaN  1.  刺激1995  (1994)          9.2   \n",
       "1         NaN      2.  教父  (1972)          9.1   \n",
       "2         NaN   3.  教父第二集  (1974)          9.0   \n",
       "3         NaN    4.  黑暗騎士  (2008)          9.0   \n",
       "4         NaN    5.  十二怒漢  (1957)          8.9   \n",
       "\n",
       "                          Your Rating  Unnamed: 4  \n",
       "0  12345678910 NOT YET RELEASED  Seen         NaN  \n",
       "1  12345678910 NOT YET RELEASED  Seen         NaN  \n",
       "2  12345678910 NOT YET RELEASED  Seen         NaN  \n",
       "3  12345678910 NOT YET RELEASED  Seen         NaN  \n",
       "4  12345678910 NOT YET RELEASED  Seen         NaN  "
      ]
     },
     "execution_count": 42,
     "metadata": {},
     "output_type": "execute_result"
    }
   ],
   "source": [
    "request_url = \"https://www.imdb.com/chart/top\"\n",
    "html_tables = pd.read_html(request_url)\n",
    "html_table = html_tables[0]\n",
    "html_table.head()"
   ]
  },
  {
   "cell_type": "code",
   "execution_count": 43,
   "metadata": {
    "slideshow": {
     "slide_type": "subslide"
    }
   },
   "outputs": [
    {
     "data": {
      "text/plain": [
       "0                  [1., 刺激1995, (1994)]\n",
       "1                      [2., 教父, (1972)]\n",
       "2                   [3., 教父第二集, (1974)]\n",
       "3                    [4., 黑暗騎士, (2008)]\n",
       "4                    [5., 十二怒漢, (1957)]\n",
       "                     ...               \n",
       "245              [246., 電影版聲之形, (2016)]\n",
       "246              [247., 阿爾及爾之戰, (1966)]\n",
       "247              [248., 7號房的禮物, (2019)]\n",
       "248    [249., 新世紀福音戰士：AIR/真心為你, (1997)]\n",
       "249                [250., 紅色情深, (1994)]\n",
       "Name: Rank & Title, Length: 250, dtype: object"
      ]
     },
     "execution_count": 43,
     "metadata": {},
     "output_type": "execute_result"
    }
   ],
   "source": [
    "html_table['Rank & Title'].str.split()"
   ]
  },
  {
   "cell_type": "markdown",
   "metadata": {
    "slideshow": {
     "slide_type": "subslide"
    }
   },
   "source": [
    "## Splitting strings with `str.split` as a `DataFrame`"
   ]
  },
  {
   "cell_type": "code",
   "execution_count": 44,
   "metadata": {
    "slideshow": {
     "slide_type": "-"
    }
   },
   "outputs": [
    {
     "data": {
      "text/html": [
       "<div>\n",
       "<style scoped>\n",
       "    .dataframe tbody tr th:only-of-type {\n",
       "        vertical-align: middle;\n",
       "    }\n",
       "\n",
       "    .dataframe tbody tr th {\n",
       "        vertical-align: top;\n",
       "    }\n",
       "\n",
       "    .dataframe thead th {\n",
       "        text-align: right;\n",
       "    }\n",
       "</style>\n",
       "<table border=\"1\" class=\"dataframe\">\n",
       "  <thead>\n",
       "    <tr style=\"text-align: right;\">\n",
       "      <th></th>\n",
       "      <th>0</th>\n",
       "      <th>1</th>\n",
       "      <th>2</th>\n",
       "    </tr>\n",
       "  </thead>\n",
       "  <tbody>\n",
       "    <tr>\n",
       "      <th>0</th>\n",
       "      <td>1.</td>\n",
       "      <td>刺激1995</td>\n",
       "      <td>(1994)</td>\n",
       "    </tr>\n",
       "    <tr>\n",
       "      <th>1</th>\n",
       "      <td>2.</td>\n",
       "      <td>教父</td>\n",
       "      <td>(1972)</td>\n",
       "    </tr>\n",
       "    <tr>\n",
       "      <th>2</th>\n",
       "      <td>3.</td>\n",
       "      <td>教父第二集</td>\n",
       "      <td>(1974)</td>\n",
       "    </tr>\n",
       "    <tr>\n",
       "      <th>3</th>\n",
       "      <td>4.</td>\n",
       "      <td>黑暗騎士</td>\n",
       "      <td>(2008)</td>\n",
       "    </tr>\n",
       "    <tr>\n",
       "      <th>4</th>\n",
       "      <td>5.</td>\n",
       "      <td>十二怒漢</td>\n",
       "      <td>(1957)</td>\n",
       "    </tr>\n",
       "    <tr>\n",
       "      <th>...</th>\n",
       "      <td>...</td>\n",
       "      <td>...</td>\n",
       "      <td>...</td>\n",
       "    </tr>\n",
       "    <tr>\n",
       "      <th>245</th>\n",
       "      <td>246.</td>\n",
       "      <td>電影版聲之形</td>\n",
       "      <td>(2016)</td>\n",
       "    </tr>\n",
       "    <tr>\n",
       "      <th>246</th>\n",
       "      <td>247.</td>\n",
       "      <td>阿爾及爾之戰</td>\n",
       "      <td>(1966)</td>\n",
       "    </tr>\n",
       "    <tr>\n",
       "      <th>247</th>\n",
       "      <td>248.</td>\n",
       "      <td>7號房的禮物</td>\n",
       "      <td>(2019)</td>\n",
       "    </tr>\n",
       "    <tr>\n",
       "      <th>248</th>\n",
       "      <td>249.</td>\n",
       "      <td>新世紀福音戰士：AIR/真心為你</td>\n",
       "      <td>(1997)</td>\n",
       "    </tr>\n",
       "    <tr>\n",
       "      <th>249</th>\n",
       "      <td>250.</td>\n",
       "      <td>紅色情深</td>\n",
       "      <td>(1994)</td>\n",
       "    </tr>\n",
       "  </tbody>\n",
       "</table>\n",
       "<p>250 rows × 3 columns</p>\n",
       "</div>"
      ],
      "text/plain": [
       "        0                 1       2\n",
       "0      1.            刺激1995  (1994)\n",
       "1      2.                教父  (1972)\n",
       "2      3.             教父第二集  (1974)\n",
       "3      4.              黑暗騎士  (2008)\n",
       "4      5.              十二怒漢  (1957)\n",
       "..    ...               ...     ...\n",
       "245  246.            電影版聲之形  (2016)\n",
       "246  247.            阿爾及爾之戰  (1966)\n",
       "247  248.            7號房的禮物  (2019)\n",
       "248  249.  新世紀福音戰士：AIR/真心為你  (1997)\n",
       "249  250.              紅色情深  (1994)\n",
       "\n",
       "[250 rows x 3 columns]"
      ]
     },
     "execution_count": 44,
     "metadata": {},
     "output_type": "execute_result"
    }
   ],
   "source": [
    "html_table['Rank & Title'].str.split(expand=True)"
   ]
  },
  {
   "cell_type": "markdown",
   "metadata": {
    "slideshow": {
     "slide_type": "subslide"
    }
   },
   "source": [
    "## Replacing strings with `str.replace`"
   ]
  },
  {
   "cell_type": "code",
   "execution_count": 45,
   "metadata": {},
   "outputs": [
    {
     "data": {
      "text/plain": [
       "0        1\n",
       "1        2\n",
       "2        3\n",
       "3        4\n",
       "4        5\n",
       "      ... \n",
       "245    246\n",
       "246    247\n",
       "247    248\n",
       "248    249\n",
       "249    250\n",
       "Name: 0, Length: 250, dtype: object"
      ]
     },
     "execution_count": 45,
     "metadata": {},
     "output_type": "execute_result"
    }
   ],
   "source": [
    "split_dataframe = html_table['Rank & Title'].str.split(expand=True)\n",
    "ranks = split_dataframe[0].str.replace(\".\", '')\n",
    "ranks"
   ]
  },
  {
   "cell_type": "code",
   "execution_count": 46,
   "metadata": {
    "slideshow": {
     "slide_type": "subslide"
    }
   },
   "outputs": [
    {
     "data": {
      "text/plain": [
       "0      1994\n",
       "1      1972\n",
       "2      1974\n",
       "3      2008\n",
       "4      1957\n",
       "       ... \n",
       "245    2016\n",
       "246    1966\n",
       "247    2019\n",
       "248    1997\n",
       "249    1994\n",
       "Name: 2, Length: 250, dtype: object"
      ]
     },
     "execution_count": 46,
     "metadata": {},
     "output_type": "execute_result"
    }
   ],
   "source": [
    "split_dataframe = html_table['Rank & Title'].str.split(expand=True)\n",
    "years = split_dataframe[2].str.replace(\"\\(|\\)\", '')\n",
    "years"
   ]
  },
  {
   "cell_type": "markdown",
   "metadata": {
    "slideshow": {
     "slide_type": "subslide"
    }
   },
   "source": [
    "## Testing for strings that match or contain a pattern with `str.contains`"
   ]
  },
  {
   "cell_type": "code",
   "execution_count": 47,
   "metadata": {},
   "outputs": [
    {
     "name": "stdout",
     "output_type": "stream",
     "text": [
      "26\n"
     ]
    },
    {
     "data": {
      "text/html": [
       "<div>\n",
       "<style scoped>\n",
       "    .dataframe tbody tr th:only-of-type {\n",
       "        vertical-align: middle;\n",
       "    }\n",
       "\n",
       "    .dataframe tbody tr th {\n",
       "        vertical-align: top;\n",
       "    }\n",
       "\n",
       "    .dataframe thead th {\n",
       "        text-align: right;\n",
       "    }\n",
       "</style>\n",
       "<table border=\"1\" class=\"dataframe\">\n",
       "  <thead>\n",
       "    <tr style=\"text-align: right;\">\n",
       "      <th></th>\n",
       "      <th>FIPS</th>\n",
       "      <th>Admin2</th>\n",
       "      <th>Province_State</th>\n",
       "      <th>Country_Region</th>\n",
       "      <th>Last_Update</th>\n",
       "      <th>Lat</th>\n",
       "      <th>Long_</th>\n",
       "      <th>Confirmed</th>\n",
       "      <th>Deaths</th>\n",
       "      <th>Recovered</th>\n",
       "      <th>Active</th>\n",
       "      <th>Combined_Key</th>\n",
       "      <th>Incident_Rate</th>\n",
       "      <th>Case_Fatality_Ratio</th>\n",
       "    </tr>\n",
       "  </thead>\n",
       "  <tbody>\n",
       "    <tr>\n",
       "      <th>204</th>\n",
       "      <td>NaN</td>\n",
       "      <td>NaN</td>\n",
       "      <td>NaN</td>\n",
       "      <td>Finland</td>\n",
       "      <td>2021-05-05 04:20:43</td>\n",
       "      <td>61.924110</td>\n",
       "      <td>25.748151</td>\n",
       "      <td>87529</td>\n",
       "      <td>916</td>\n",
       "      <td>46000.0</td>\n",
       "      <td>40613.0</td>\n",
       "      <td>Finland</td>\n",
       "      <td>1579.741109</td>\n",
       "      <td>1.046510</td>\n",
       "    </tr>\n",
       "    <tr>\n",
       "      <th>248</th>\n",
       "      <td>NaN</td>\n",
       "      <td>NaN</td>\n",
       "      <td>NaN</td>\n",
       "      <td>Iceland</td>\n",
       "      <td>2021-05-05 04:20:43</td>\n",
       "      <td>64.963100</td>\n",
       "      <td>-19.020800</td>\n",
       "      <td>6491</td>\n",
       "      <td>29</td>\n",
       "      <td>6295.0</td>\n",
       "      <td>167.0</td>\n",
       "      <td>Iceland</td>\n",
       "      <td>1902.124542</td>\n",
       "      <td>0.446772</td>\n",
       "    </tr>\n",
       "    <tr>\n",
       "      <th>289</th>\n",
       "      <td>NaN</td>\n",
       "      <td>NaN</td>\n",
       "      <td>NaN</td>\n",
       "      <td>Ireland</td>\n",
       "      <td>2021-05-05 04:20:43</td>\n",
       "      <td>53.142400</td>\n",
       "      <td>-7.692100</td>\n",
       "      <td>250672</td>\n",
       "      <td>4908</td>\n",
       "      <td>23364.0</td>\n",
       "      <td>222400.0</td>\n",
       "      <td>Ireland</td>\n",
       "      <td>5076.596927</td>\n",
       "      <td>1.957937</td>\n",
       "    </tr>\n",
       "    <tr>\n",
       "      <th>385</th>\n",
       "      <td>NaN</td>\n",
       "      <td>NaN</td>\n",
       "      <td>NaN</td>\n",
       "      <td>Marshall Islands</td>\n",
       "      <td>2021-05-05 04:20:43</td>\n",
       "      <td>7.131500</td>\n",
       "      <td>171.184500</td>\n",
       "      <td>4</td>\n",
       "      <td>0</td>\n",
       "      <td>4.0</td>\n",
       "      <td>0.0</td>\n",
       "      <td>Marshall Islands</td>\n",
       "      <td>6.847791</td>\n",
       "      <td>0.000000</td>\n",
       "    </tr>\n",
       "    <tr>\n",
       "      <th>430</th>\n",
       "      <td>NaN</td>\n",
       "      <td>NaN</td>\n",
       "      <td>Aruba</td>\n",
       "      <td>Netherlands</td>\n",
       "      <td>2021-05-05 04:20:43</td>\n",
       "      <td>12.521100</td>\n",
       "      <td>-69.968300</td>\n",
       "      <td>10704</td>\n",
       "      <td>100</td>\n",
       "      <td>10467.0</td>\n",
       "      <td>137.0</td>\n",
       "      <td>Aruba, Netherlands</td>\n",
       "      <td>10025.663601</td>\n",
       "      <td>0.934230</td>\n",
       "    </tr>\n",
       "    <tr>\n",
       "      <th>431</th>\n",
       "      <td>NaN</td>\n",
       "      <td>NaN</td>\n",
       "      <td>Bonaire, Sint Eustatius and Saba</td>\n",
       "      <td>Netherlands</td>\n",
       "      <td>2021-05-05 04:20:43</td>\n",
       "      <td>12.178400</td>\n",
       "      <td>-68.238500</td>\n",
       "      <td>1560</td>\n",
       "      <td>16</td>\n",
       "      <td>1532.0</td>\n",
       "      <td>12.0</td>\n",
       "      <td>Bonaire, Sint Eustatius and Saba, Netherlands</td>\n",
       "      <td>5949.429846</td>\n",
       "      <td>1.025641</td>\n",
       "    </tr>\n",
       "    <tr>\n",
       "      <th>432</th>\n",
       "      <td>NaN</td>\n",
       "      <td>NaN</td>\n",
       "      <td>Curacao</td>\n",
       "      <td>Netherlands</td>\n",
       "      <td>2021-05-05 04:20:43</td>\n",
       "      <td>12.169600</td>\n",
       "      <td>-68.990000</td>\n",
       "      <td>12217</td>\n",
       "      <td>111</td>\n",
       "      <td>11816.0</td>\n",
       "      <td>290.0</td>\n",
       "      <td>Curacao, Netherlands</td>\n",
       "      <td>7444.850701</td>\n",
       "      <td>0.908570</td>\n",
       "    </tr>\n",
       "    <tr>\n",
       "      <th>433</th>\n",
       "      <td>NaN</td>\n",
       "      <td>NaN</td>\n",
       "      <td>Drenthe</td>\n",
       "      <td>Netherlands</td>\n",
       "      <td>2021-05-05 04:20:43</td>\n",
       "      <td>52.862485</td>\n",
       "      <td>6.618435</td>\n",
       "      <td>31225</td>\n",
       "      <td>345</td>\n",
       "      <td>0.0</td>\n",
       "      <td>30880.0</td>\n",
       "      <td>Drenthe, Netherlands</td>\n",
       "      <td>6324.921711</td>\n",
       "      <td>1.104884</td>\n",
       "    </tr>\n",
       "    <tr>\n",
       "      <th>434</th>\n",
       "      <td>NaN</td>\n",
       "      <td>NaN</td>\n",
       "      <td>Flevoland</td>\n",
       "      <td>Netherlands</td>\n",
       "      <td>2021-05-05 04:20:43</td>\n",
       "      <td>52.550383</td>\n",
       "      <td>5.515162</td>\n",
       "      <td>33986</td>\n",
       "      <td>234</td>\n",
       "      <td>0.0</td>\n",
       "      <td>33752.0</td>\n",
       "      <td>Flevoland, Netherlands</td>\n",
       "      <td>8034.116510</td>\n",
       "      <td>0.688519</td>\n",
       "    </tr>\n",
       "    <tr>\n",
       "      <th>435</th>\n",
       "      <td>NaN</td>\n",
       "      <td>NaN</td>\n",
       "      <td>Friesland</td>\n",
       "      <td>Netherlands</td>\n",
       "      <td>2021-05-05 04:20:43</td>\n",
       "      <td>53.087337</td>\n",
       "      <td>5.792500</td>\n",
       "      <td>39715</td>\n",
       "      <td>466</td>\n",
       "      <td>0.0</td>\n",
       "      <td>39249.0</td>\n",
       "      <td>Friesland, Netherlands</td>\n",
       "      <td>6110.404227</td>\n",
       "      <td>1.173360</td>\n",
       "    </tr>\n",
       "    <tr>\n",
       "      <th>436</th>\n",
       "      <td>NaN</td>\n",
       "      <td>NaN</td>\n",
       "      <td>Gelderland</td>\n",
       "      <td>Netherlands</td>\n",
       "      <td>2021-05-05 04:20:43</td>\n",
       "      <td>52.061738</td>\n",
       "      <td>5.939114</td>\n",
       "      <td>169957</td>\n",
       "      <td>1979</td>\n",
       "      <td>0.0</td>\n",
       "      <td>167978.0</td>\n",
       "      <td>Gelderland, Netherlands</td>\n",
       "      <td>8147.694674</td>\n",
       "      <td>1.164412</td>\n",
       "    </tr>\n",
       "    <tr>\n",
       "      <th>437</th>\n",
       "      <td>NaN</td>\n",
       "      <td>NaN</td>\n",
       "      <td>Groningen</td>\n",
       "      <td>Netherlands</td>\n",
       "      <td>2021-05-05 04:20:43</td>\n",
       "      <td>53.217922</td>\n",
       "      <td>6.741514</td>\n",
       "      <td>35861</td>\n",
       "      <td>254</td>\n",
       "      <td>0.0</td>\n",
       "      <td>35607.0</td>\n",
       "      <td>Groningen, Netherlands</td>\n",
       "      <td>6121.024262</td>\n",
       "      <td>0.708290</td>\n",
       "    </tr>\n",
       "    <tr>\n",
       "      <th>438</th>\n",
       "      <td>NaN</td>\n",
       "      <td>NaN</td>\n",
       "      <td>Limburg</td>\n",
       "      <td>Netherlands</td>\n",
       "      <td>2021-05-05 04:20:43</td>\n",
       "      <td>51.209227</td>\n",
       "      <td>5.933870</td>\n",
       "      <td>103408</td>\n",
       "      <td>1589</td>\n",
       "      <td>0.0</td>\n",
       "      <td>101819.0</td>\n",
       "      <td>Limburg, Netherlands</td>\n",
       "      <td>9255.988851</td>\n",
       "      <td>1.536632</td>\n",
       "    </tr>\n",
       "    <tr>\n",
       "      <th>439</th>\n",
       "      <td>NaN</td>\n",
       "      <td>NaN</td>\n",
       "      <td>Noord-Brabant</td>\n",
       "      <td>Netherlands</td>\n",
       "      <td>2021-05-05 04:20:43</td>\n",
       "      <td>51.561174</td>\n",
       "      <td>5.184942</td>\n",
       "      <td>244649</td>\n",
       "      <td>3078</td>\n",
       "      <td>0.0</td>\n",
       "      <td>241571.0</td>\n",
       "      <td>Noord-Brabant, Netherlands</td>\n",
       "      <td>9545.583126</td>\n",
       "      <td>1.258129</td>\n",
       "    </tr>\n",
       "    <tr>\n",
       "      <th>440</th>\n",
       "      <td>NaN</td>\n",
       "      <td>NaN</td>\n",
       "      <td>Noord-Holland</td>\n",
       "      <td>Netherlands</td>\n",
       "      <td>2021-05-05 04:20:43</td>\n",
       "      <td>52.600906</td>\n",
       "      <td>4.918688</td>\n",
       "      <td>256265</td>\n",
       "      <td>2518</td>\n",
       "      <td>0.0</td>\n",
       "      <td>253747.0</td>\n",
       "      <td>Noord-Holland, Netherlands</td>\n",
       "      <td>8899.551906</td>\n",
       "      <td>0.982577</td>\n",
       "    </tr>\n",
       "    <tr>\n",
       "      <th>441</th>\n",
       "      <td>NaN</td>\n",
       "      <td>NaN</td>\n",
       "      <td>Overijssel</td>\n",
       "      <td>Netherlands</td>\n",
       "      <td>2021-05-05 04:20:43</td>\n",
       "      <td>52.444558</td>\n",
       "      <td>6.441722</td>\n",
       "      <td>98883</td>\n",
       "      <td>1109</td>\n",
       "      <td>0.0</td>\n",
       "      <td>97774.0</td>\n",
       "      <td>Overijssel, Netherlands</td>\n",
       "      <td>8506.752374</td>\n",
       "      <td>1.121527</td>\n",
       "    </tr>\n",
       "    <tr>\n",
       "      <th>442</th>\n",
       "      <td>NaN</td>\n",
       "      <td>NaN</td>\n",
       "      <td>Sint Maarten</td>\n",
       "      <td>Netherlands</td>\n",
       "      <td>2021-05-05 04:20:43</td>\n",
       "      <td>18.042500</td>\n",
       "      <td>-63.054800</td>\n",
       "      <td>2240</td>\n",
       "      <td>27</td>\n",
       "      <td>2189.0</td>\n",
       "      <td>24.0</td>\n",
       "      <td>Sint Maarten, Netherlands</td>\n",
       "      <td>5223.636957</td>\n",
       "      <td>1.205357</td>\n",
       "    </tr>\n",
       "    <tr>\n",
       "      <th>443</th>\n",
       "      <td>NaN</td>\n",
       "      <td>NaN</td>\n",
       "      <td>Unknown</td>\n",
       "      <td>Netherlands</td>\n",
       "      <td>2021-05-05 04:20:43</td>\n",
       "      <td>NaN</td>\n",
       "      <td>NaN</td>\n",
       "      <td>3690</td>\n",
       "      <td>14</td>\n",
       "      <td>0.0</td>\n",
       "      <td>3676.0</td>\n",
       "      <td>Unknown, Netherlands</td>\n",
       "      <td>NaN</td>\n",
       "      <td>0.379404</td>\n",
       "    </tr>\n",
       "    <tr>\n",
       "      <th>444</th>\n",
       "      <td>NaN</td>\n",
       "      <td>NaN</td>\n",
       "      <td>Utrecht</td>\n",
       "      <td>Netherlands</td>\n",
       "      <td>2021-05-05 04:20:43</td>\n",
       "      <td>52.084251</td>\n",
       "      <td>5.163824</td>\n",
       "      <td>117110</td>\n",
       "      <td>1250</td>\n",
       "      <td>0.0</td>\n",
       "      <td>115860.0</td>\n",
       "      <td>Utrecht, Netherlands</td>\n",
       "      <td>8643.863381</td>\n",
       "      <td>1.067373</td>\n",
       "    </tr>\n",
       "    <tr>\n",
       "      <th>445</th>\n",
       "      <td>NaN</td>\n",
       "      <td>NaN</td>\n",
       "      <td>Zeeland</td>\n",
       "      <td>Netherlands</td>\n",
       "      <td>2021-05-05 04:20:43</td>\n",
       "      <td>51.479360</td>\n",
       "      <td>3.861559</td>\n",
       "      <td>26330</td>\n",
       "      <td>234</td>\n",
       "      <td>0.0</td>\n",
       "      <td>26096.0</td>\n",
       "      <td>Zeeland, Netherlands</td>\n",
       "      <td>6865.925401</td>\n",
       "      <td>0.888720</td>\n",
       "    </tr>\n",
       "    <tr>\n",
       "      <th>446</th>\n",
       "      <td>NaN</td>\n",
       "      <td>NaN</td>\n",
       "      <td>Zuid-Holland</td>\n",
       "      <td>Netherlands</td>\n",
       "      <td>2021-05-05 04:20:43</td>\n",
       "      <td>51.937835</td>\n",
       "      <td>4.462114</td>\n",
       "      <td>363448</td>\n",
       "      <td>4151</td>\n",
       "      <td>0.0</td>\n",
       "      <td>359297.0</td>\n",
       "      <td>Zuid-Holland, Netherlands</td>\n",
       "      <td>9799.886537</td>\n",
       "      <td>1.142117</td>\n",
       "    </tr>\n",
       "    <tr>\n",
       "      <th>447</th>\n",
       "      <td>NaN</td>\n",
       "      <td>NaN</td>\n",
       "      <td>NaN</td>\n",
       "      <td>New Zealand</td>\n",
       "      <td>2021-05-05 04:20:43</td>\n",
       "      <td>-40.900600</td>\n",
       "      <td>174.886000</td>\n",
       "      <td>2629</td>\n",
       "      <td>26</td>\n",
       "      <td>2578.0</td>\n",
       "      <td>25.0</td>\n",
       "      <td>New Zealand</td>\n",
       "      <td>54.518311</td>\n",
       "      <td>0.988969</td>\n",
       "    </tr>\n",
       "    <tr>\n",
       "      <th>491</th>\n",
       "      <td>NaN</td>\n",
       "      <td>NaN</td>\n",
       "      <td>NaN</td>\n",
       "      <td>Poland</td>\n",
       "      <td>2021-05-05 04:20:43</td>\n",
       "      <td>51.919400</td>\n",
       "      <td>19.145100</td>\n",
       "      <td>2808052</td>\n",
       "      <td>68133</td>\n",
       "      <td>2536931.0</td>\n",
       "      <td>202988.0</td>\n",
       "      <td>Poland</td>\n",
       "      <td>7419.561147</td>\n",
       "      <td>2.426344</td>\n",
       "    </tr>\n",
       "    <tr>\n",
       "      <th>593</th>\n",
       "      <td>NaN</td>\n",
       "      <td>NaN</td>\n",
       "      <td>NaN</td>\n",
       "      <td>Solomon Islands</td>\n",
       "      <td>2021-05-05 04:20:43</td>\n",
       "      <td>-9.645700</td>\n",
       "      <td>160.156200</td>\n",
       "      <td>20</td>\n",
       "      <td>0</td>\n",
       "      <td>20.0</td>\n",
       "      <td>0.0</td>\n",
       "      <td>Solomon Islands</td>\n",
       "      <td>3.063453</td>\n",
       "      <td>0.000000</td>\n",
       "    </tr>\n",
       "    <tr>\n",
       "      <th>641</th>\n",
       "      <td>NaN</td>\n",
       "      <td>NaN</td>\n",
       "      <td>NaN</td>\n",
       "      <td>Switzerland</td>\n",
       "      <td>2021-05-05 04:20:43</td>\n",
       "      <td>46.818200</td>\n",
       "      <td>8.227500</td>\n",
       "      <td>665585</td>\n",
       "      <td>10667</td>\n",
       "      <td>317600.0</td>\n",
       "      <td>337318.0</td>\n",
       "      <td>Switzerland</td>\n",
       "      <td>7690.518519</td>\n",
       "      <td>1.602650</td>\n",
       "    </tr>\n",
       "    <tr>\n",
       "      <th>646</th>\n",
       "      <td>NaN</td>\n",
       "      <td>NaN</td>\n",
       "      <td>NaN</td>\n",
       "      <td>Thailand</td>\n",
       "      <td>2021-05-05 04:20:43</td>\n",
       "      <td>15.870032</td>\n",
       "      <td>100.992541</td>\n",
       "      <td>72788</td>\n",
       "      <td>303</td>\n",
       "      <td>26873.0</td>\n",
       "      <td>45612.0</td>\n",
       "      <td>Thailand</td>\n",
       "      <td>104.280835</td>\n",
       "      <td>0.416277</td>\n",
       "    </tr>\n",
       "  </tbody>\n",
       "</table>\n",
       "</div>"
      ],
      "text/plain": [
       "     FIPS Admin2                    Province_State    Country_Region  \\\n",
       "204   NaN    NaN                               NaN           Finland   \n",
       "248   NaN    NaN                               NaN           Iceland   \n",
       "289   NaN    NaN                               NaN           Ireland   \n",
       "385   NaN    NaN                               NaN  Marshall Islands   \n",
       "430   NaN    NaN                             Aruba       Netherlands   \n",
       "431   NaN    NaN  Bonaire, Sint Eustatius and Saba       Netherlands   \n",
       "432   NaN    NaN                           Curacao       Netherlands   \n",
       "433   NaN    NaN                           Drenthe       Netherlands   \n",
       "434   NaN    NaN                         Flevoland       Netherlands   \n",
       "435   NaN    NaN                         Friesland       Netherlands   \n",
       "436   NaN    NaN                        Gelderland       Netherlands   \n",
       "437   NaN    NaN                         Groningen       Netherlands   \n",
       "438   NaN    NaN                           Limburg       Netherlands   \n",
       "439   NaN    NaN                     Noord-Brabant       Netherlands   \n",
       "440   NaN    NaN                     Noord-Holland       Netherlands   \n",
       "441   NaN    NaN                        Overijssel       Netherlands   \n",
       "442   NaN    NaN                      Sint Maarten       Netherlands   \n",
       "443   NaN    NaN                           Unknown       Netherlands   \n",
       "444   NaN    NaN                           Utrecht       Netherlands   \n",
       "445   NaN    NaN                           Zeeland       Netherlands   \n",
       "446   NaN    NaN                      Zuid-Holland       Netherlands   \n",
       "447   NaN    NaN                               NaN       New Zealand   \n",
       "491   NaN    NaN                               NaN            Poland   \n",
       "593   NaN    NaN                               NaN   Solomon Islands   \n",
       "641   NaN    NaN                               NaN       Switzerland   \n",
       "646   NaN    NaN                               NaN          Thailand   \n",
       "\n",
       "             Last_Update        Lat       Long_  Confirmed  Deaths  Recovered  \\\n",
       "204  2021-05-05 04:20:43  61.924110   25.748151      87529     916    46000.0   \n",
       "248  2021-05-05 04:20:43  64.963100  -19.020800       6491      29     6295.0   \n",
       "289  2021-05-05 04:20:43  53.142400   -7.692100     250672    4908    23364.0   \n",
       "385  2021-05-05 04:20:43   7.131500  171.184500          4       0        4.0   \n",
       "430  2021-05-05 04:20:43  12.521100  -69.968300      10704     100    10467.0   \n",
       "431  2021-05-05 04:20:43  12.178400  -68.238500       1560      16     1532.0   \n",
       "432  2021-05-05 04:20:43  12.169600  -68.990000      12217     111    11816.0   \n",
       "433  2021-05-05 04:20:43  52.862485    6.618435      31225     345        0.0   \n",
       "434  2021-05-05 04:20:43  52.550383    5.515162      33986     234        0.0   \n",
       "435  2021-05-05 04:20:43  53.087337    5.792500      39715     466        0.0   \n",
       "436  2021-05-05 04:20:43  52.061738    5.939114     169957    1979        0.0   \n",
       "437  2021-05-05 04:20:43  53.217922    6.741514      35861     254        0.0   \n",
       "438  2021-05-05 04:20:43  51.209227    5.933870     103408    1589        0.0   \n",
       "439  2021-05-05 04:20:43  51.561174    5.184942     244649    3078        0.0   \n",
       "440  2021-05-05 04:20:43  52.600906    4.918688     256265    2518        0.0   \n",
       "441  2021-05-05 04:20:43  52.444558    6.441722      98883    1109        0.0   \n",
       "442  2021-05-05 04:20:43  18.042500  -63.054800       2240      27     2189.0   \n",
       "443  2021-05-05 04:20:43        NaN         NaN       3690      14        0.0   \n",
       "444  2021-05-05 04:20:43  52.084251    5.163824     117110    1250        0.0   \n",
       "445  2021-05-05 04:20:43  51.479360    3.861559      26330     234        0.0   \n",
       "446  2021-05-05 04:20:43  51.937835    4.462114     363448    4151        0.0   \n",
       "447  2021-05-05 04:20:43 -40.900600  174.886000       2629      26     2578.0   \n",
       "491  2021-05-05 04:20:43  51.919400   19.145100    2808052   68133  2536931.0   \n",
       "593  2021-05-05 04:20:43  -9.645700  160.156200         20       0       20.0   \n",
       "641  2021-05-05 04:20:43  46.818200    8.227500     665585   10667   317600.0   \n",
       "646  2021-05-05 04:20:43  15.870032  100.992541      72788     303    26873.0   \n",
       "\n",
       "       Active                                   Combined_Key  Incident_Rate  \\\n",
       "204   40613.0                                        Finland    1579.741109   \n",
       "248     167.0                                        Iceland    1902.124542   \n",
       "289  222400.0                                        Ireland    5076.596927   \n",
       "385       0.0                               Marshall Islands       6.847791   \n",
       "430     137.0                             Aruba, Netherlands   10025.663601   \n",
       "431      12.0  Bonaire, Sint Eustatius and Saba, Netherlands    5949.429846   \n",
       "432     290.0                           Curacao, Netherlands    7444.850701   \n",
       "433   30880.0                           Drenthe, Netherlands    6324.921711   \n",
       "434   33752.0                         Flevoland, Netherlands    8034.116510   \n",
       "435   39249.0                         Friesland, Netherlands    6110.404227   \n",
       "436  167978.0                        Gelderland, Netherlands    8147.694674   \n",
       "437   35607.0                         Groningen, Netherlands    6121.024262   \n",
       "438  101819.0                           Limburg, Netherlands    9255.988851   \n",
       "439  241571.0                     Noord-Brabant, Netherlands    9545.583126   \n",
       "440  253747.0                     Noord-Holland, Netherlands    8899.551906   \n",
       "441   97774.0                        Overijssel, Netherlands    8506.752374   \n",
       "442      24.0                      Sint Maarten, Netherlands    5223.636957   \n",
       "443    3676.0                           Unknown, Netherlands            NaN   \n",
       "444  115860.0                           Utrecht, Netherlands    8643.863381   \n",
       "445   26096.0                           Zeeland, Netherlands    6865.925401   \n",
       "446  359297.0                      Zuid-Holland, Netherlands    9799.886537   \n",
       "447      25.0                                    New Zealand      54.518311   \n",
       "491  202988.0                                         Poland    7419.561147   \n",
       "593       0.0                                Solomon Islands       3.063453   \n",
       "641  337318.0                                    Switzerland    7690.518519   \n",
       "646   45612.0                                       Thailand     104.280835   \n",
       "\n",
       "     Case_Fatality_Ratio  \n",
       "204             1.046510  \n",
       "248             0.446772  \n",
       "289             1.957937  \n",
       "385             0.000000  \n",
       "430             0.934230  \n",
       "431             1.025641  \n",
       "432             0.908570  \n",
       "433             1.104884  \n",
       "434             0.688519  \n",
       "435             1.173360  \n",
       "436             1.164412  \n",
       "437             0.708290  \n",
       "438             1.536632  \n",
       "439             1.258129  \n",
       "440             0.982577  \n",
       "441             1.121527  \n",
       "442             1.205357  \n",
       "443             0.379404  \n",
       "444             1.067373  \n",
       "445             0.888720  \n",
       "446             1.142117  \n",
       "447             0.988969  \n",
       "491             2.426344  \n",
       "593             0.000000  \n",
       "641             1.602650  \n",
       "646             0.416277  "
      ]
     },
     "execution_count": 47,
     "metadata": {},
     "output_type": "execute_result"
    }
   ],
   "source": [
    "print(daily_report['Country_Region'].str.contains('land').sum())\n",
    "daily_report[daily_report['Country_Region'].str.contains('land')]"
   ]
  },
  {
   "cell_type": "markdown",
   "metadata": {
    "slideshow": {
     "slide_type": "subslide"
    }
   },
   "source": [
    "## Reshaping dataframes from wide to long format with `pd.melt`\n",
    "\n",
    "A common problem is that a dataset where some of the column names are not names of variables, but values of a variable."
   ]
  },
  {
   "cell_type": "code",
   "execution_count": 48,
   "metadata": {},
   "outputs": [
    {
     "data": {
      "text/html": [
       "<div>\n",
       "<style scoped>\n",
       "    .dataframe tbody tr th:only-of-type {\n",
       "        vertical-align: middle;\n",
       "    }\n",
       "\n",
       "    .dataframe tbody tr th {\n",
       "        vertical-align: top;\n",
       "    }\n",
       "\n",
       "    .dataframe thead th {\n",
       "        text-align: right;\n",
       "    }\n",
       "</style>\n",
       "<table border=\"1\" class=\"dataframe\">\n",
       "  <thead>\n",
       "    <tr style=\"text-align: right;\">\n",
       "      <th></th>\n",
       "      <th>Province/State</th>\n",
       "      <th>Country/Region</th>\n",
       "      <th>Lat</th>\n",
       "      <th>Long</th>\n",
       "      <th>1/22/20</th>\n",
       "      <th>1/23/20</th>\n",
       "      <th>1/24/20</th>\n",
       "      <th>1/25/20</th>\n",
       "      <th>1/26/20</th>\n",
       "      <th>1/27/20</th>\n",
       "      <th>...</th>\n",
       "      <th>4/25/21</th>\n",
       "      <th>4/26/21</th>\n",
       "      <th>4/27/21</th>\n",
       "      <th>4/28/21</th>\n",
       "      <th>4/29/21</th>\n",
       "      <th>4/30/21</th>\n",
       "      <th>5/1/21</th>\n",
       "      <th>5/2/21</th>\n",
       "      <th>5/3/21</th>\n",
       "      <th>5/4/21</th>\n",
       "    </tr>\n",
       "  </thead>\n",
       "  <tbody>\n",
       "    <tr>\n",
       "      <th>0</th>\n",
       "      <td>NaN</td>\n",
       "      <td>Afghanistan</td>\n",
       "      <td>33.939110</td>\n",
       "      <td>67.709953</td>\n",
       "      <td>0</td>\n",
       "      <td>0</td>\n",
       "      <td>0</td>\n",
       "      <td>0</td>\n",
       "      <td>0</td>\n",
       "      <td>0</td>\n",
       "      <td>...</td>\n",
       "      <td>58843</td>\n",
       "      <td>59015</td>\n",
       "      <td>59225</td>\n",
       "      <td>59370</td>\n",
       "      <td>59576</td>\n",
       "      <td>59745</td>\n",
       "      <td>59939</td>\n",
       "      <td>60122</td>\n",
       "      <td>60300</td>\n",
       "      <td>60563</td>\n",
       "    </tr>\n",
       "    <tr>\n",
       "      <th>1</th>\n",
       "      <td>NaN</td>\n",
       "      <td>Albania</td>\n",
       "      <td>41.153300</td>\n",
       "      <td>20.168300</td>\n",
       "      <td>0</td>\n",
       "      <td>0</td>\n",
       "      <td>0</td>\n",
       "      <td>0</td>\n",
       "      <td>0</td>\n",
       "      <td>0</td>\n",
       "      <td>...</td>\n",
       "      <td>130537</td>\n",
       "      <td>130606</td>\n",
       "      <td>130736</td>\n",
       "      <td>130859</td>\n",
       "      <td>130977</td>\n",
       "      <td>131085</td>\n",
       "      <td>131185</td>\n",
       "      <td>131238</td>\n",
       "      <td>131276</td>\n",
       "      <td>131327</td>\n",
       "    </tr>\n",
       "    <tr>\n",
       "      <th>2</th>\n",
       "      <td>NaN</td>\n",
       "      <td>Algeria</td>\n",
       "      <td>28.033900</td>\n",
       "      <td>1.659600</td>\n",
       "      <td>0</td>\n",
       "      <td>0</td>\n",
       "      <td>0</td>\n",
       "      <td>0</td>\n",
       "      <td>0</td>\n",
       "      <td>0</td>\n",
       "      <td>...</td>\n",
       "      <td>120922</td>\n",
       "      <td>121112</td>\n",
       "      <td>121344</td>\n",
       "      <td>121580</td>\n",
       "      <td>121866</td>\n",
       "      <td>122108</td>\n",
       "      <td>122311</td>\n",
       "      <td>122522</td>\n",
       "      <td>122717</td>\n",
       "      <td>122999</td>\n",
       "    </tr>\n",
       "    <tr>\n",
       "      <th>3</th>\n",
       "      <td>NaN</td>\n",
       "      <td>Andorra</td>\n",
       "      <td>42.506300</td>\n",
       "      <td>1.521800</td>\n",
       "      <td>0</td>\n",
       "      <td>0</td>\n",
       "      <td>0</td>\n",
       "      <td>0</td>\n",
       "      <td>0</td>\n",
       "      <td>0</td>\n",
       "      <td>...</td>\n",
       "      <td>13060</td>\n",
       "      <td>13083</td>\n",
       "      <td>13121</td>\n",
       "      <td>13148</td>\n",
       "      <td>13198</td>\n",
       "      <td>13232</td>\n",
       "      <td>13232</td>\n",
       "      <td>13282</td>\n",
       "      <td>13295</td>\n",
       "      <td>13316</td>\n",
       "    </tr>\n",
       "    <tr>\n",
       "      <th>4</th>\n",
       "      <td>NaN</td>\n",
       "      <td>Angola</td>\n",
       "      <td>-11.202700</td>\n",
       "      <td>17.873900</td>\n",
       "      <td>0</td>\n",
       "      <td>0</td>\n",
       "      <td>0</td>\n",
       "      <td>0</td>\n",
       "      <td>0</td>\n",
       "      <td>0</td>\n",
       "      <td>...</td>\n",
       "      <td>25609</td>\n",
       "      <td>25710</td>\n",
       "      <td>25942</td>\n",
       "      <td>26168</td>\n",
       "      <td>26431</td>\n",
       "      <td>26652</td>\n",
       "      <td>26815</td>\n",
       "      <td>26993</td>\n",
       "      <td>27133</td>\n",
       "      <td>27284</td>\n",
       "    </tr>\n",
       "    <tr>\n",
       "      <th>...</th>\n",
       "      <td>...</td>\n",
       "      <td>...</td>\n",
       "      <td>...</td>\n",
       "      <td>...</td>\n",
       "      <td>...</td>\n",
       "      <td>...</td>\n",
       "      <td>...</td>\n",
       "      <td>...</td>\n",
       "      <td>...</td>\n",
       "      <td>...</td>\n",
       "      <td>...</td>\n",
       "      <td>...</td>\n",
       "      <td>...</td>\n",
       "      <td>...</td>\n",
       "      <td>...</td>\n",
       "      <td>...</td>\n",
       "      <td>...</td>\n",
       "      <td>...</td>\n",
       "      <td>...</td>\n",
       "      <td>...</td>\n",
       "      <td>...</td>\n",
       "    </tr>\n",
       "    <tr>\n",
       "      <th>270</th>\n",
       "      <td>NaN</td>\n",
       "      <td>Vietnam</td>\n",
       "      <td>14.058324</td>\n",
       "      <td>108.277199</td>\n",
       "      <td>0</td>\n",
       "      <td>2</td>\n",
       "      <td>2</td>\n",
       "      <td>2</td>\n",
       "      <td>2</td>\n",
       "      <td>2</td>\n",
       "      <td>...</td>\n",
       "      <td>2843</td>\n",
       "      <td>2852</td>\n",
       "      <td>2857</td>\n",
       "      <td>2865</td>\n",
       "      <td>2910</td>\n",
       "      <td>2928</td>\n",
       "      <td>2942</td>\n",
       "      <td>2962</td>\n",
       "      <td>2985</td>\n",
       "      <td>2995</td>\n",
       "    </tr>\n",
       "    <tr>\n",
       "      <th>271</th>\n",
       "      <td>NaN</td>\n",
       "      <td>West Bank and Gaza</td>\n",
       "      <td>31.952200</td>\n",
       "      <td>35.233200</td>\n",
       "      <td>0</td>\n",
       "      <td>0</td>\n",
       "      <td>0</td>\n",
       "      <td>0</td>\n",
       "      <td>0</td>\n",
       "      <td>0</td>\n",
       "      <td>...</td>\n",
       "      <td>290972</td>\n",
       "      <td>292052</td>\n",
       "      <td>293466</td>\n",
       "      <td>294550</td>\n",
       "      <td>295601</td>\n",
       "      <td>296462</td>\n",
       "      <td>296462</td>\n",
       "      <td>297638</td>\n",
       "      <td>298203</td>\n",
       "      <td>298921</td>\n",
       "    </tr>\n",
       "    <tr>\n",
       "      <th>272</th>\n",
       "      <td>NaN</td>\n",
       "      <td>Yemen</td>\n",
       "      <td>15.552727</td>\n",
       "      <td>48.516388</td>\n",
       "      <td>0</td>\n",
       "      <td>0</td>\n",
       "      <td>0</td>\n",
       "      <td>0</td>\n",
       "      <td>0</td>\n",
       "      <td>0</td>\n",
       "      <td>...</td>\n",
       "      <td>6137</td>\n",
       "      <td>6183</td>\n",
       "      <td>6220</td>\n",
       "      <td>6263</td>\n",
       "      <td>6294</td>\n",
       "      <td>6317</td>\n",
       "      <td>6325</td>\n",
       "      <td>6341</td>\n",
       "      <td>6363</td>\n",
       "      <td>6390</td>\n",
       "    </tr>\n",
       "    <tr>\n",
       "      <th>273</th>\n",
       "      <td>NaN</td>\n",
       "      <td>Zambia</td>\n",
       "      <td>-13.133897</td>\n",
       "      <td>27.849332</td>\n",
       "      <td>0</td>\n",
       "      <td>0</td>\n",
       "      <td>0</td>\n",
       "      <td>0</td>\n",
       "      <td>0</td>\n",
       "      <td>0</td>\n",
       "      <td>...</td>\n",
       "      <td>91358</td>\n",
       "      <td>91378</td>\n",
       "      <td>91418</td>\n",
       "      <td>91484</td>\n",
       "      <td>91533</td>\n",
       "      <td>91586</td>\n",
       "      <td>91670</td>\n",
       "      <td>91693</td>\n",
       "      <td>91722</td>\n",
       "      <td>91804</td>\n",
       "    </tr>\n",
       "    <tr>\n",
       "      <th>274</th>\n",
       "      <td>NaN</td>\n",
       "      <td>Zimbabwe</td>\n",
       "      <td>-19.015438</td>\n",
       "      <td>29.154857</td>\n",
       "      <td>0</td>\n",
       "      <td>0</td>\n",
       "      <td>0</td>\n",
       "      <td>0</td>\n",
       "      <td>0</td>\n",
       "      <td>0</td>\n",
       "      <td>...</td>\n",
       "      <td>38086</td>\n",
       "      <td>38102</td>\n",
       "      <td>38164</td>\n",
       "      <td>38191</td>\n",
       "      <td>38235</td>\n",
       "      <td>38257</td>\n",
       "      <td>38260</td>\n",
       "      <td>38281</td>\n",
       "      <td>38293</td>\n",
       "      <td>38327</td>\n",
       "    </tr>\n",
       "  </tbody>\n",
       "</table>\n",
       "<p>275 rows × 473 columns</p>\n",
       "</div>"
      ],
      "text/plain": [
       "    Province/State      Country/Region        Lat        Long  1/22/20  \\\n",
       "0              NaN         Afghanistan  33.939110   67.709953        0   \n",
       "1              NaN             Albania  41.153300   20.168300        0   \n",
       "2              NaN             Algeria  28.033900    1.659600        0   \n",
       "3              NaN             Andorra  42.506300    1.521800        0   \n",
       "4              NaN              Angola -11.202700   17.873900        0   \n",
       "..             ...                 ...        ...         ...      ...   \n",
       "270            NaN             Vietnam  14.058324  108.277199        0   \n",
       "271            NaN  West Bank and Gaza  31.952200   35.233200        0   \n",
       "272            NaN               Yemen  15.552727   48.516388        0   \n",
       "273            NaN              Zambia -13.133897   27.849332        0   \n",
       "274            NaN            Zimbabwe -19.015438   29.154857        0   \n",
       "\n",
       "     1/23/20  1/24/20  1/25/20  1/26/20  1/27/20  ...  4/25/21  4/26/21  \\\n",
       "0          0        0        0        0        0  ...    58843    59015   \n",
       "1          0        0        0        0        0  ...   130537   130606   \n",
       "2          0        0        0        0        0  ...   120922   121112   \n",
       "3          0        0        0        0        0  ...    13060    13083   \n",
       "4          0        0        0        0        0  ...    25609    25710   \n",
       "..       ...      ...      ...      ...      ...  ...      ...      ...   \n",
       "270        2        2        2        2        2  ...     2843     2852   \n",
       "271        0        0        0        0        0  ...   290972   292052   \n",
       "272        0        0        0        0        0  ...     6137     6183   \n",
       "273        0        0        0        0        0  ...    91358    91378   \n",
       "274        0        0        0        0        0  ...    38086    38102   \n",
       "\n",
       "     4/27/21  4/28/21  4/29/21  4/30/21  5/1/21  5/2/21  5/3/21  5/4/21  \n",
       "0      59225    59370    59576    59745   59939   60122   60300   60563  \n",
       "1     130736   130859   130977   131085  131185  131238  131276  131327  \n",
       "2     121344   121580   121866   122108  122311  122522  122717  122999  \n",
       "3      13121    13148    13198    13232   13232   13282   13295   13316  \n",
       "4      25942    26168    26431    26652   26815   26993   27133   27284  \n",
       "..       ...      ...      ...      ...     ...     ...     ...     ...  \n",
       "270     2857     2865     2910     2928    2942    2962    2985    2995  \n",
       "271   293466   294550   295601   296462  296462  297638  298203  298921  \n",
       "272     6220     6263     6294     6317    6325    6341    6363    6390  \n",
       "273    91418    91484    91533    91586   91670   91693   91722   91804  \n",
       "274    38164    38191    38235    38257   38260   38281   38293   38327  \n",
       "\n",
       "[275 rows x 473 columns]"
      ]
     },
     "execution_count": 48,
     "metadata": {},
     "output_type": "execute_result"
    }
   ],
   "source": [
    "ts_confirmed_global_url = \"https://raw.githubusercontent.com/CSSEGISandData/COVID-19/master/csse_covid_19_data/csse_covid_19_time_series/time_series_covid19_confirmed_global.csv\"\n",
    "ts_confirmed_global = pd.read_csv(ts_confirmed_global_url)\n",
    "ts_confirmed_global"
   ]
  },
  {
   "cell_type": "markdown",
   "metadata": {
    "slideshow": {
     "slide_type": "subslide"
    }
   },
   "source": [
    "## We can pivot the columns into a new pair of variables\n",
    "\n",
    "To describe that operation we need four parameters:\n",
    "\n",
    "- The set of columns whose names are not values\n",
    "- The set of columns whose names are values\n",
    "- The name of the variable to move the column names to\n",
    "- The name of the variable to move the column values to"
   ]
  },
  {
   "cell_type": "markdown",
   "metadata": {
    "slideshow": {
     "slide_type": "subslide"
    }
   },
   "source": [
    "## In this example, the four parameters are\n",
    "\n",
    "- `id_vars`: `['Province/State', 'Country/Region', 'Lat', 'Long']`\n",
    "- `value_vars`: The columns from `1/22/20` to the last column\n",
    "- `var_name`: Let's name it `Date`\n",
    "- `value_name`: Let's name it `Confirmed`"
   ]
  },
  {
   "cell_type": "code",
   "execution_count": 49,
   "metadata": {
    "slideshow": {
     "slide_type": "subslide"
    }
   },
   "outputs": [
    {
     "data": {
      "text/html": [
       "<div>\n",
       "<style scoped>\n",
       "    .dataframe tbody tr th:only-of-type {\n",
       "        vertical-align: middle;\n",
       "    }\n",
       "\n",
       "    .dataframe tbody tr th {\n",
       "        vertical-align: top;\n",
       "    }\n",
       "\n",
       "    .dataframe thead th {\n",
       "        text-align: right;\n",
       "    }\n",
       "</style>\n",
       "<table border=\"1\" class=\"dataframe\">\n",
       "  <thead>\n",
       "    <tr style=\"text-align: right;\">\n",
       "      <th></th>\n",
       "      <th>Province/State</th>\n",
       "      <th>Country/Region</th>\n",
       "      <th>Lat</th>\n",
       "      <th>Long</th>\n",
       "      <th>Date</th>\n",
       "      <th>Confirmed</th>\n",
       "    </tr>\n",
       "  </thead>\n",
       "  <tbody>\n",
       "    <tr>\n",
       "      <th>0</th>\n",
       "      <td>NaN</td>\n",
       "      <td>Afghanistan</td>\n",
       "      <td>33.939110</td>\n",
       "      <td>67.709953</td>\n",
       "      <td>1/22/20</td>\n",
       "      <td>0</td>\n",
       "    </tr>\n",
       "    <tr>\n",
       "      <th>1</th>\n",
       "      <td>NaN</td>\n",
       "      <td>Albania</td>\n",
       "      <td>41.153300</td>\n",
       "      <td>20.168300</td>\n",
       "      <td>1/22/20</td>\n",
       "      <td>0</td>\n",
       "    </tr>\n",
       "    <tr>\n",
       "      <th>2</th>\n",
       "      <td>NaN</td>\n",
       "      <td>Algeria</td>\n",
       "      <td>28.033900</td>\n",
       "      <td>1.659600</td>\n",
       "      <td>1/22/20</td>\n",
       "      <td>0</td>\n",
       "    </tr>\n",
       "    <tr>\n",
       "      <th>3</th>\n",
       "      <td>NaN</td>\n",
       "      <td>Andorra</td>\n",
       "      <td>42.506300</td>\n",
       "      <td>1.521800</td>\n",
       "      <td>1/22/20</td>\n",
       "      <td>0</td>\n",
       "    </tr>\n",
       "    <tr>\n",
       "      <th>4</th>\n",
       "      <td>NaN</td>\n",
       "      <td>Angola</td>\n",
       "      <td>-11.202700</td>\n",
       "      <td>17.873900</td>\n",
       "      <td>1/22/20</td>\n",
       "      <td>0</td>\n",
       "    </tr>\n",
       "    <tr>\n",
       "      <th>...</th>\n",
       "      <td>...</td>\n",
       "      <td>...</td>\n",
       "      <td>...</td>\n",
       "      <td>...</td>\n",
       "      <td>...</td>\n",
       "      <td>...</td>\n",
       "    </tr>\n",
       "    <tr>\n",
       "      <th>128970</th>\n",
       "      <td>NaN</td>\n",
       "      <td>Vietnam</td>\n",
       "      <td>14.058324</td>\n",
       "      <td>108.277199</td>\n",
       "      <td>5/4/21</td>\n",
       "      <td>2995</td>\n",
       "    </tr>\n",
       "    <tr>\n",
       "      <th>128971</th>\n",
       "      <td>NaN</td>\n",
       "      <td>West Bank and Gaza</td>\n",
       "      <td>31.952200</td>\n",
       "      <td>35.233200</td>\n",
       "      <td>5/4/21</td>\n",
       "      <td>298921</td>\n",
       "    </tr>\n",
       "    <tr>\n",
       "      <th>128972</th>\n",
       "      <td>NaN</td>\n",
       "      <td>Yemen</td>\n",
       "      <td>15.552727</td>\n",
       "      <td>48.516388</td>\n",
       "      <td>5/4/21</td>\n",
       "      <td>6390</td>\n",
       "    </tr>\n",
       "    <tr>\n",
       "      <th>128973</th>\n",
       "      <td>NaN</td>\n",
       "      <td>Zambia</td>\n",
       "      <td>-13.133897</td>\n",
       "      <td>27.849332</td>\n",
       "      <td>5/4/21</td>\n",
       "      <td>91804</td>\n",
       "    </tr>\n",
       "    <tr>\n",
       "      <th>128974</th>\n",
       "      <td>NaN</td>\n",
       "      <td>Zimbabwe</td>\n",
       "      <td>-19.015438</td>\n",
       "      <td>29.154857</td>\n",
       "      <td>5/4/21</td>\n",
       "      <td>38327</td>\n",
       "    </tr>\n",
       "  </tbody>\n",
       "</table>\n",
       "<p>128975 rows × 6 columns</p>\n",
       "</div>"
      ],
      "text/plain": [
       "       Province/State      Country/Region        Lat        Long     Date  \\\n",
       "0                 NaN         Afghanistan  33.939110   67.709953  1/22/20   \n",
       "1                 NaN             Albania  41.153300   20.168300  1/22/20   \n",
       "2                 NaN             Algeria  28.033900    1.659600  1/22/20   \n",
       "3                 NaN             Andorra  42.506300    1.521800  1/22/20   \n",
       "4                 NaN              Angola -11.202700   17.873900  1/22/20   \n",
       "...               ...                 ...        ...         ...      ...   \n",
       "128970            NaN             Vietnam  14.058324  108.277199   5/4/21   \n",
       "128971            NaN  West Bank and Gaza  31.952200   35.233200   5/4/21   \n",
       "128972            NaN               Yemen  15.552727   48.516388   5/4/21   \n",
       "128973            NaN              Zambia -13.133897   27.849332   5/4/21   \n",
       "128974            NaN            Zimbabwe -19.015438   29.154857   5/4/21   \n",
       "\n",
       "        Confirmed  \n",
       "0               0  \n",
       "1               0  \n",
       "2               0  \n",
       "3               0  \n",
       "4               0  \n",
       "...           ...  \n",
       "128970       2995  \n",
       "128971     298921  \n",
       "128972       6390  \n",
       "128973      91804  \n",
       "128974      38327  \n",
       "\n",
       "[128975 rows x 6 columns]"
      ]
     },
     "execution_count": 49,
     "metadata": {},
     "output_type": "execute_result"
    }
   ],
   "source": [
    "idVars = ['Province/State', 'Country/Region', 'Lat', 'Long']\n",
    "ts_confirmed_global_long = pd.melt(ts_confirmed_global,\n",
    "                                   id_vars=idVars,\n",
    "                                   var_name='Date',\n",
    "                                   value_name='Confirmed')\n",
    "ts_confirmed_global_long"
   ]
  },
  {
   "cell_type": "markdown",
   "metadata": {
    "slideshow": {
     "slide_type": "subslide"
    }
   },
   "source": [
    "## Merging and joining dataframes\n",
    "\n",
    "- `merge` on column names\n",
    "- `join` on index"
   ]
  },
  {
   "cell_type": "code",
   "execution_count": 50,
   "metadata": {
    "slideshow": {
     "slide_type": "subslide"
    }
   },
   "outputs": [],
   "source": [
    "def get_top_rated_movies():\n",
    "    request_url = \"https://www.imdb.com/chart/top\"\n",
    "    html_tables = pd.read_html(request_url)\n",
    "    html_table = html_tables[0]\n",
    "    split_dataframe = html_table['Rank & Title'].str.split(expand=True)\n",
    "    ranks = split_dataframe[0].str.replace(\".\", '').values\n",
    "    years = split_dataframe[2].str.replace(\"\\(|\\)\", '').values\n",
    "    titles = split_dataframe[1].values\n",
    "    ratings = html_table['IMDb Rating'].values\n",
    "    out = pd.DataFrame()\n",
    "    out['rank'] = ranks\n",
    "    out['title'] = titles\n",
    "    out['year'] = years\n",
    "    out['rating'] = ratings\n",
    "    return out\n",
    "\n",
    "top_rated_movies = get_top_rated_movies()"
   ]
  },
  {
   "cell_type": "code",
   "execution_count": 51,
   "metadata": {
    "slideshow": {
     "slide_type": "subslide"
    }
   },
   "outputs": [
    {
     "data": {
      "text/html": [
       "<div>\n",
       "<style scoped>\n",
       "    .dataframe tbody tr th:only-of-type {\n",
       "        vertical-align: middle;\n",
       "    }\n",
       "\n",
       "    .dataframe tbody tr th {\n",
       "        vertical-align: top;\n",
       "    }\n",
       "\n",
       "    .dataframe thead th {\n",
       "        text-align: right;\n",
       "    }\n",
       "</style>\n",
       "<table border=\"1\" class=\"dataframe\">\n",
       "  <thead>\n",
       "    <tr style=\"text-align: right;\">\n",
       "      <th></th>\n",
       "      <th>title</th>\n",
       "      <th>year</th>\n",
       "    </tr>\n",
       "  </thead>\n",
       "  <tbody>\n",
       "    <tr>\n",
       "      <th>0</th>\n",
       "      <td>刺激1995</td>\n",
       "      <td>1994</td>\n",
       "    </tr>\n",
       "    <tr>\n",
       "      <th>1</th>\n",
       "      <td>教父</td>\n",
       "      <td>1972</td>\n",
       "    </tr>\n",
       "    <tr>\n",
       "      <th>2</th>\n",
       "      <td>教父第二集</td>\n",
       "      <td>1974</td>\n",
       "    </tr>\n",
       "    <tr>\n",
       "      <th>3</th>\n",
       "      <td>黑暗騎士</td>\n",
       "      <td>2008</td>\n",
       "    </tr>\n",
       "    <tr>\n",
       "      <th>4</th>\n",
       "      <td>十二怒漢</td>\n",
       "      <td>1957</td>\n",
       "    </tr>\n",
       "    <tr>\n",
       "      <th>5</th>\n",
       "      <td>辛德勒的名單</td>\n",
       "      <td>1993</td>\n",
       "    </tr>\n",
       "    <tr>\n",
       "      <th>6</th>\n",
       "      <td>魔戒三部曲：王者再臨</td>\n",
       "      <td>2003</td>\n",
       "    </tr>\n",
       "    <tr>\n",
       "      <th>7</th>\n",
       "      <td>黑色追緝令</td>\n",
       "      <td>1994</td>\n",
       "    </tr>\n",
       "    <tr>\n",
       "      <th>8</th>\n",
       "      <td>黃昏三鏢客</td>\n",
       "      <td>1966</td>\n",
       "    </tr>\n",
       "    <tr>\n",
       "      <th>9</th>\n",
       "      <td>魔戒首部曲：魔戒現身</td>\n",
       "      <td>2001</td>\n",
       "    </tr>\n",
       "  </tbody>\n",
       "</table>\n",
       "</div>"
      ],
      "text/plain": [
       "        title  year\n",
       "0      刺激1995  1994\n",
       "1          教父  1972\n",
       "2       教父第二集  1974\n",
       "3        黑暗騎士  2008\n",
       "4        十二怒漢  1957\n",
       "5      辛德勒的名單  1993\n",
       "6  魔戒三部曲：王者再臨  2003\n",
       "7       黑色追緝令  1994\n",
       "8       黃昏三鏢客  1966\n",
       "9  魔戒首部曲：魔戒現身  2001"
      ]
     },
     "execution_count": 51,
     "metadata": {},
     "output_type": "execute_result"
    }
   ],
   "source": [
    "left_df = top_rated_movies.loc[:9, ['title', 'year']]\n",
    "right_df = top_rated_movies[top_rated_movies['title'].str.contains('魔戒')][['title', 'rating']].reset_index(drop=True)\n",
    "left_df"
   ]
  },
  {
   "cell_type": "code",
   "execution_count": 52,
   "metadata": {
    "slideshow": {
     "slide_type": "subslide"
    }
   },
   "outputs": [
    {
     "data": {
      "text/html": [
       "<div>\n",
       "<style scoped>\n",
       "    .dataframe tbody tr th:only-of-type {\n",
       "        vertical-align: middle;\n",
       "    }\n",
       "\n",
       "    .dataframe tbody tr th {\n",
       "        vertical-align: top;\n",
       "    }\n",
       "\n",
       "    .dataframe thead th {\n",
       "        text-align: right;\n",
       "    }\n",
       "</style>\n",
       "<table border=\"1\" class=\"dataframe\">\n",
       "  <thead>\n",
       "    <tr style=\"text-align: right;\">\n",
       "      <th></th>\n",
       "      <th>title</th>\n",
       "      <th>rating</th>\n",
       "    </tr>\n",
       "  </thead>\n",
       "  <tbody>\n",
       "    <tr>\n",
       "      <th>0</th>\n",
       "      <td>魔戒三部曲：王者再臨</td>\n",
       "      <td>8.9</td>\n",
       "    </tr>\n",
       "    <tr>\n",
       "      <th>1</th>\n",
       "      <td>魔戒首部曲：魔戒現身</td>\n",
       "      <td>8.8</td>\n",
       "    </tr>\n",
       "    <tr>\n",
       "      <th>2</th>\n",
       "      <td>魔戒二部曲：雙城奇謀</td>\n",
       "      <td>8.7</td>\n",
       "    </tr>\n",
       "  </tbody>\n",
       "</table>\n",
       "</div>"
      ],
      "text/plain": [
       "        title  rating\n",
       "0  魔戒三部曲：王者再臨     8.9\n",
       "1  魔戒首部曲：魔戒現身     8.8\n",
       "2  魔戒二部曲：雙城奇謀     8.7"
      ]
     },
     "execution_count": 52,
     "metadata": {},
     "output_type": "execute_result"
    }
   ],
   "source": [
    "right_df"
   ]
  },
  {
   "cell_type": "markdown",
   "metadata": {
    "slideshow": {
     "slide_type": "subslide"
    }
   },
   "source": [
    "## Using `merge` function to join dataframes on columns"
   ]
  },
  {
   "cell_type": "code",
   "execution_count": 53,
   "metadata": {},
   "outputs": [
    {
     "data": {
      "text/html": [
       "<div>\n",
       "<style scoped>\n",
       "    .dataframe tbody tr th:only-of-type {\n",
       "        vertical-align: middle;\n",
       "    }\n",
       "\n",
       "    .dataframe tbody tr th {\n",
       "        vertical-align: top;\n",
       "    }\n",
       "\n",
       "    .dataframe thead th {\n",
       "        text-align: right;\n",
       "    }\n",
       "</style>\n",
       "<table border=\"1\" class=\"dataframe\">\n",
       "  <thead>\n",
       "    <tr style=\"text-align: right;\">\n",
       "      <th></th>\n",
       "      <th>title</th>\n",
       "      <th>year</th>\n",
       "      <th>rating</th>\n",
       "    </tr>\n",
       "  </thead>\n",
       "  <tbody>\n",
       "    <tr>\n",
       "      <th>0</th>\n",
       "      <td>魔戒三部曲：王者再臨</td>\n",
       "      <td>2003</td>\n",
       "      <td>8.9</td>\n",
       "    </tr>\n",
       "    <tr>\n",
       "      <th>1</th>\n",
       "      <td>魔戒首部曲：魔戒現身</td>\n",
       "      <td>2001</td>\n",
       "      <td>8.8</td>\n",
       "    </tr>\n",
       "  </tbody>\n",
       "</table>\n",
       "</div>"
      ],
      "text/plain": [
       "        title  year  rating\n",
       "0  魔戒三部曲：王者再臨  2003     8.9\n",
       "1  魔戒首部曲：魔戒現身  2001     8.8"
      ]
     },
     "execution_count": 53,
     "metadata": {},
     "output_type": "execute_result"
    }
   ],
   "source": [
    "# default: inner join\n",
    "pd.merge(left_df, right_df)"
   ]
  },
  {
   "cell_type": "code",
   "execution_count": 54,
   "metadata": {
    "slideshow": {
     "slide_type": "subslide"
    }
   },
   "outputs": [
    {
     "data": {
      "text/html": [
       "<div>\n",
       "<style scoped>\n",
       "    .dataframe tbody tr th:only-of-type {\n",
       "        vertical-align: middle;\n",
       "    }\n",
       "\n",
       "    .dataframe tbody tr th {\n",
       "        vertical-align: top;\n",
       "    }\n",
       "\n",
       "    .dataframe thead th {\n",
       "        text-align: right;\n",
       "    }\n",
       "</style>\n",
       "<table border=\"1\" class=\"dataframe\">\n",
       "  <thead>\n",
       "    <tr style=\"text-align: right;\">\n",
       "      <th></th>\n",
       "      <th>title</th>\n",
       "      <th>year</th>\n",
       "      <th>rating</th>\n",
       "    </tr>\n",
       "  </thead>\n",
       "  <tbody>\n",
       "    <tr>\n",
       "      <th>0</th>\n",
       "      <td>刺激1995</td>\n",
       "      <td>1994</td>\n",
       "      <td>NaN</td>\n",
       "    </tr>\n",
       "    <tr>\n",
       "      <th>1</th>\n",
       "      <td>教父</td>\n",
       "      <td>1972</td>\n",
       "      <td>NaN</td>\n",
       "    </tr>\n",
       "    <tr>\n",
       "      <th>2</th>\n",
       "      <td>教父第二集</td>\n",
       "      <td>1974</td>\n",
       "      <td>NaN</td>\n",
       "    </tr>\n",
       "    <tr>\n",
       "      <th>3</th>\n",
       "      <td>黑暗騎士</td>\n",
       "      <td>2008</td>\n",
       "      <td>NaN</td>\n",
       "    </tr>\n",
       "    <tr>\n",
       "      <th>4</th>\n",
       "      <td>十二怒漢</td>\n",
       "      <td>1957</td>\n",
       "      <td>NaN</td>\n",
       "    </tr>\n",
       "    <tr>\n",
       "      <th>5</th>\n",
       "      <td>辛德勒的名單</td>\n",
       "      <td>1993</td>\n",
       "      <td>NaN</td>\n",
       "    </tr>\n",
       "    <tr>\n",
       "      <th>6</th>\n",
       "      <td>魔戒三部曲：王者再臨</td>\n",
       "      <td>2003</td>\n",
       "      <td>8.9</td>\n",
       "    </tr>\n",
       "    <tr>\n",
       "      <th>7</th>\n",
       "      <td>黑色追緝令</td>\n",
       "      <td>1994</td>\n",
       "      <td>NaN</td>\n",
       "    </tr>\n",
       "    <tr>\n",
       "      <th>8</th>\n",
       "      <td>黃昏三鏢客</td>\n",
       "      <td>1966</td>\n",
       "      <td>NaN</td>\n",
       "    </tr>\n",
       "    <tr>\n",
       "      <th>9</th>\n",
       "      <td>魔戒首部曲：魔戒現身</td>\n",
       "      <td>2001</td>\n",
       "      <td>8.8</td>\n",
       "    </tr>\n",
       "  </tbody>\n",
       "</table>\n",
       "</div>"
      ],
      "text/plain": [
       "        title  year  rating\n",
       "0      刺激1995  1994     NaN\n",
       "1          教父  1972     NaN\n",
       "2       教父第二集  1974     NaN\n",
       "3        黑暗騎士  2008     NaN\n",
       "4        十二怒漢  1957     NaN\n",
       "5      辛德勒的名單  1993     NaN\n",
       "6  魔戒三部曲：王者再臨  2003     8.9\n",
       "7       黑色追緝令  1994     NaN\n",
       "8       黃昏三鏢客  1966     NaN\n",
       "9  魔戒首部曲：魔戒現身  2001     8.8"
      ]
     },
     "execution_count": 54,
     "metadata": {},
     "output_type": "execute_result"
    }
   ],
   "source": [
    "# left join\n",
    "pd.merge(left_df, right_df, how='left')"
   ]
  },
  {
   "cell_type": "code",
   "execution_count": 55,
   "metadata": {
    "slideshow": {
     "slide_type": "subslide"
    }
   },
   "outputs": [
    {
     "data": {
      "text/html": [
       "<div>\n",
       "<style scoped>\n",
       "    .dataframe tbody tr th:only-of-type {\n",
       "        vertical-align: middle;\n",
       "    }\n",
       "\n",
       "    .dataframe tbody tr th {\n",
       "        vertical-align: top;\n",
       "    }\n",
       "\n",
       "    .dataframe thead th {\n",
       "        text-align: right;\n",
       "    }\n",
       "</style>\n",
       "<table border=\"1\" class=\"dataframe\">\n",
       "  <thead>\n",
       "    <tr style=\"text-align: right;\">\n",
       "      <th></th>\n",
       "      <th>title</th>\n",
       "      <th>year</th>\n",
       "      <th>rating</th>\n",
       "    </tr>\n",
       "  </thead>\n",
       "  <tbody>\n",
       "    <tr>\n",
       "      <th>0</th>\n",
       "      <td>魔戒三部曲：王者再臨</td>\n",
       "      <td>2003</td>\n",
       "      <td>8.9</td>\n",
       "    </tr>\n",
       "    <tr>\n",
       "      <th>1</th>\n",
       "      <td>魔戒首部曲：魔戒現身</td>\n",
       "      <td>2001</td>\n",
       "      <td>8.8</td>\n",
       "    </tr>\n",
       "    <tr>\n",
       "      <th>2</th>\n",
       "      <td>魔戒二部曲：雙城奇謀</td>\n",
       "      <td>NaN</td>\n",
       "      <td>8.7</td>\n",
       "    </tr>\n",
       "  </tbody>\n",
       "</table>\n",
       "</div>"
      ],
      "text/plain": [
       "        title  year  rating\n",
       "0  魔戒三部曲：王者再臨  2003     8.9\n",
       "1  魔戒首部曲：魔戒現身  2001     8.8\n",
       "2  魔戒二部曲：雙城奇謀   NaN     8.7"
      ]
     },
     "execution_count": 55,
     "metadata": {},
     "output_type": "execute_result"
    }
   ],
   "source": [
    "# right join\n",
    "pd.merge(left_df, right_df, how='right')"
   ]
  },
  {
   "cell_type": "markdown",
   "metadata": {
    "slideshow": {
     "slide_type": "subslide"
    }
   },
   "source": [
    "## Using `join` method to join dataframes on index"
   ]
  },
  {
   "cell_type": "code",
   "execution_count": 56,
   "metadata": {
    "slideshow": {
     "slide_type": "-"
    }
   },
   "outputs": [
    {
     "data": {
      "text/html": [
       "<div>\n",
       "<style scoped>\n",
       "    .dataframe tbody tr th:only-of-type {\n",
       "        vertical-align: middle;\n",
       "    }\n",
       "\n",
       "    .dataframe tbody tr th {\n",
       "        vertical-align: top;\n",
       "    }\n",
       "\n",
       "    .dataframe thead th {\n",
       "        text-align: right;\n",
       "    }\n",
       "</style>\n",
       "<table border=\"1\" class=\"dataframe\">\n",
       "  <thead>\n",
       "    <tr style=\"text-align: right;\">\n",
       "      <th></th>\n",
       "      <th>title_x</th>\n",
       "      <th>year</th>\n",
       "      <th>title_y</th>\n",
       "      <th>rating</th>\n",
       "    </tr>\n",
       "  </thead>\n",
       "  <tbody>\n",
       "    <tr>\n",
       "      <th>0</th>\n",
       "      <td>刺激1995</td>\n",
       "      <td>1994</td>\n",
       "      <td>魔戒三部曲：王者再臨</td>\n",
       "      <td>8.9</td>\n",
       "    </tr>\n",
       "    <tr>\n",
       "      <th>1</th>\n",
       "      <td>教父</td>\n",
       "      <td>1972</td>\n",
       "      <td>魔戒首部曲：魔戒現身</td>\n",
       "      <td>8.8</td>\n",
       "    </tr>\n",
       "    <tr>\n",
       "      <th>2</th>\n",
       "      <td>教父第二集</td>\n",
       "      <td>1974</td>\n",
       "      <td>魔戒二部曲：雙城奇謀</td>\n",
       "      <td>8.7</td>\n",
       "    </tr>\n",
       "    <tr>\n",
       "      <th>3</th>\n",
       "      <td>黑暗騎士</td>\n",
       "      <td>2008</td>\n",
       "      <td>NaN</td>\n",
       "      <td>NaN</td>\n",
       "    </tr>\n",
       "    <tr>\n",
       "      <th>4</th>\n",
       "      <td>十二怒漢</td>\n",
       "      <td>1957</td>\n",
       "      <td>NaN</td>\n",
       "      <td>NaN</td>\n",
       "    </tr>\n",
       "    <tr>\n",
       "      <th>5</th>\n",
       "      <td>辛德勒的名單</td>\n",
       "      <td>1993</td>\n",
       "      <td>NaN</td>\n",
       "      <td>NaN</td>\n",
       "    </tr>\n",
       "    <tr>\n",
       "      <th>6</th>\n",
       "      <td>魔戒三部曲：王者再臨</td>\n",
       "      <td>2003</td>\n",
       "      <td>NaN</td>\n",
       "      <td>NaN</td>\n",
       "    </tr>\n",
       "    <tr>\n",
       "      <th>7</th>\n",
       "      <td>黑色追緝令</td>\n",
       "      <td>1994</td>\n",
       "      <td>NaN</td>\n",
       "      <td>NaN</td>\n",
       "    </tr>\n",
       "    <tr>\n",
       "      <th>8</th>\n",
       "      <td>黃昏三鏢客</td>\n",
       "      <td>1966</td>\n",
       "      <td>NaN</td>\n",
       "      <td>NaN</td>\n",
       "    </tr>\n",
       "    <tr>\n",
       "      <th>9</th>\n",
       "      <td>魔戒首部曲：魔戒現身</td>\n",
       "      <td>2001</td>\n",
       "      <td>NaN</td>\n",
       "      <td>NaN</td>\n",
       "    </tr>\n",
       "  </tbody>\n",
       "</table>\n",
       "</div>"
      ],
      "text/plain": [
       "      title_x  year     title_y  rating\n",
       "0      刺激1995  1994  魔戒三部曲：王者再臨     8.9\n",
       "1          教父  1972  魔戒首部曲：魔戒現身     8.8\n",
       "2       教父第二集  1974  魔戒二部曲：雙城奇謀     8.7\n",
       "3        黑暗騎士  2008         NaN     NaN\n",
       "4        十二怒漢  1957         NaN     NaN\n",
       "5      辛德勒的名單  1993         NaN     NaN\n",
       "6  魔戒三部曲：王者再臨  2003         NaN     NaN\n",
       "7       黑色追緝令  1994         NaN     NaN\n",
       "8       黃昏三鏢客  1966         NaN     NaN\n",
       "9  魔戒首部曲：魔戒現身  2001         NaN     NaN"
      ]
     },
     "execution_count": 56,
     "metadata": {},
     "output_type": "execute_result"
    }
   ],
   "source": [
    "# join dataframes on index\n",
    "left_df.join(right_df, lsuffix='_x', rsuffix='_y')"
   ]
  },
  {
   "cell_type": "code",
   "execution_count": 57,
   "metadata": {
    "slideshow": {
     "slide_type": "-"
    }
   },
   "outputs": [
    {
     "data": {
      "text/html": [
       "<div>\n",
       "<style scoped>\n",
       "    .dataframe tbody tr th:only-of-type {\n",
       "        vertical-align: middle;\n",
       "    }\n",
       "\n",
       "    .dataframe tbody tr th {\n",
       "        vertical-align: top;\n",
       "    }\n",
       "\n",
       "    .dataframe thead th {\n",
       "        text-align: right;\n",
       "    }\n",
       "</style>\n",
       "<table border=\"1\" class=\"dataframe\">\n",
       "  <thead>\n",
       "    <tr style=\"text-align: right;\">\n",
       "      <th></th>\n",
       "      <th>year</th>\n",
       "      <th>rating</th>\n",
       "    </tr>\n",
       "    <tr>\n",
       "      <th>title</th>\n",
       "      <th></th>\n",
       "      <th></th>\n",
       "    </tr>\n",
       "  </thead>\n",
       "  <tbody>\n",
       "    <tr>\n",
       "      <th>刺激1995</th>\n",
       "      <td>1994</td>\n",
       "      <td>NaN</td>\n",
       "    </tr>\n",
       "    <tr>\n",
       "      <th>教父</th>\n",
       "      <td>1972</td>\n",
       "      <td>NaN</td>\n",
       "    </tr>\n",
       "    <tr>\n",
       "      <th>教父第二集</th>\n",
       "      <td>1974</td>\n",
       "      <td>NaN</td>\n",
       "    </tr>\n",
       "    <tr>\n",
       "      <th>黑暗騎士</th>\n",
       "      <td>2008</td>\n",
       "      <td>NaN</td>\n",
       "    </tr>\n",
       "    <tr>\n",
       "      <th>十二怒漢</th>\n",
       "      <td>1957</td>\n",
       "      <td>NaN</td>\n",
       "    </tr>\n",
       "    <tr>\n",
       "      <th>辛德勒的名單</th>\n",
       "      <td>1993</td>\n",
       "      <td>NaN</td>\n",
       "    </tr>\n",
       "    <tr>\n",
       "      <th>魔戒三部曲：王者再臨</th>\n",
       "      <td>2003</td>\n",
       "      <td>8.9</td>\n",
       "    </tr>\n",
       "    <tr>\n",
       "      <th>黑色追緝令</th>\n",
       "      <td>1994</td>\n",
       "      <td>NaN</td>\n",
       "    </tr>\n",
       "    <tr>\n",
       "      <th>黃昏三鏢客</th>\n",
       "      <td>1966</td>\n",
       "      <td>NaN</td>\n",
       "    </tr>\n",
       "    <tr>\n",
       "      <th>魔戒首部曲：魔戒現身</th>\n",
       "      <td>2001</td>\n",
       "      <td>8.8</td>\n",
       "    </tr>\n",
       "  </tbody>\n",
       "</table>\n",
       "</div>"
      ],
      "text/plain": [
       "            year  rating\n",
       "title                   \n",
       "刺激1995      1994     NaN\n",
       "教父          1972     NaN\n",
       "教父第二集       1974     NaN\n",
       "黑暗騎士        2008     NaN\n",
       "十二怒漢        1957     NaN\n",
       "辛德勒的名單      1993     NaN\n",
       "魔戒三部曲：王者再臨  2003     8.9\n",
       "黑色追緝令       1994     NaN\n",
       "黃昏三鏢客       1966     NaN\n",
       "魔戒首部曲：魔戒現身  2001     8.8"
      ]
     },
     "execution_count": 57,
     "metadata": {},
     "output_type": "execute_result"
    }
   ],
   "source": [
    "left_df = left_df.set_index('title')\n",
    "right_df = right_df.set_index('title')\n",
    "# default: left join\n",
    "left_df.join(right_df)"
   ]
  },
  {
   "cell_type": "code",
   "execution_count": 58,
   "metadata": {
    "slideshow": {
     "slide_type": "subslide"
    }
   },
   "outputs": [
    {
     "data": {
      "text/html": [
       "<div>\n",
       "<style scoped>\n",
       "    .dataframe tbody tr th:only-of-type {\n",
       "        vertical-align: middle;\n",
       "    }\n",
       "\n",
       "    .dataframe tbody tr th {\n",
       "        vertical-align: top;\n",
       "    }\n",
       "\n",
       "    .dataframe thead th {\n",
       "        text-align: right;\n",
       "    }\n",
       "</style>\n",
       "<table border=\"1\" class=\"dataframe\">\n",
       "  <thead>\n",
       "    <tr style=\"text-align: right;\">\n",
       "      <th></th>\n",
       "      <th>year</th>\n",
       "      <th>rating</th>\n",
       "    </tr>\n",
       "    <tr>\n",
       "      <th>title</th>\n",
       "      <th></th>\n",
       "      <th></th>\n",
       "    </tr>\n",
       "  </thead>\n",
       "  <tbody>\n",
       "    <tr>\n",
       "      <th>魔戒三部曲：王者再臨</th>\n",
       "      <td>2003</td>\n",
       "      <td>8.9</td>\n",
       "    </tr>\n",
       "    <tr>\n",
       "      <th>魔戒首部曲：魔戒現身</th>\n",
       "      <td>2001</td>\n",
       "      <td>8.8</td>\n",
       "    </tr>\n",
       "  </tbody>\n",
       "</table>\n",
       "</div>"
      ],
      "text/plain": [
       "            year  rating\n",
       "title                   \n",
       "魔戒三部曲：王者再臨  2003     8.9\n",
       "魔戒首部曲：魔戒現身  2001     8.8"
      ]
     },
     "execution_count": 58,
     "metadata": {},
     "output_type": "execute_result"
    }
   ],
   "source": [
    "# inner join\n",
    "left_df.join(right_df, how='inner')"
   ]
  },
  {
   "cell_type": "code",
   "execution_count": 59,
   "metadata": {
    "slideshow": {
     "slide_type": "subslide"
    }
   },
   "outputs": [
    {
     "data": {
      "text/html": [
       "<div>\n",
       "<style scoped>\n",
       "    .dataframe tbody tr th:only-of-type {\n",
       "        vertical-align: middle;\n",
       "    }\n",
       "\n",
       "    .dataframe tbody tr th {\n",
       "        vertical-align: top;\n",
       "    }\n",
       "\n",
       "    .dataframe thead th {\n",
       "        text-align: right;\n",
       "    }\n",
       "</style>\n",
       "<table border=\"1\" class=\"dataframe\">\n",
       "  <thead>\n",
       "    <tr style=\"text-align: right;\">\n",
       "      <th></th>\n",
       "      <th>year</th>\n",
       "      <th>rating</th>\n",
       "    </tr>\n",
       "    <tr>\n",
       "      <th>title</th>\n",
       "      <th></th>\n",
       "      <th></th>\n",
       "    </tr>\n",
       "  </thead>\n",
       "  <tbody>\n",
       "    <tr>\n",
       "      <th>魔戒三部曲：王者再臨</th>\n",
       "      <td>2003</td>\n",
       "      <td>8.9</td>\n",
       "    </tr>\n",
       "    <tr>\n",
       "      <th>魔戒首部曲：魔戒現身</th>\n",
       "      <td>2001</td>\n",
       "      <td>8.8</td>\n",
       "    </tr>\n",
       "    <tr>\n",
       "      <th>魔戒二部曲：雙城奇謀</th>\n",
       "      <td>NaN</td>\n",
       "      <td>8.7</td>\n",
       "    </tr>\n",
       "  </tbody>\n",
       "</table>\n",
       "</div>"
      ],
      "text/plain": [
       "            year  rating\n",
       "title                   \n",
       "魔戒三部曲：王者再臨  2003     8.9\n",
       "魔戒首部曲：魔戒現身  2001     8.8\n",
       "魔戒二部曲：雙城奇謀   NaN     8.7"
      ]
     },
     "execution_count": 59,
     "metadata": {},
     "output_type": "execute_result"
    }
   ],
   "source": [
    "# right join\n",
    "left_df.join(right_df, how='right')"
   ]
  }
 ],
 "metadata": {
  "celltoolbar": "Slideshow",
  "kernelspec": {
   "display_name": "Python 3",
   "language": "python",
   "name": "python3"
  },
  "language_info": {
   "codemirror_mode": {
    "name": "ipython",
    "version": 3
   },
   "file_extension": ".py",
   "mimetype": "text/x-python",
   "name": "python",
   "nbconvert_exporter": "python",
   "pygments_lexer": "ipython3",
   "version": "3.8.5"
  }
 },
 "nbformat": 4,
 "nbformat_minor": 4
}
